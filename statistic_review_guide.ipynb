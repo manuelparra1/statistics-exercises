{
 "cells": [
  {
   "cell_type": "markdown",
   "id": "9c9381fa",
   "metadata": {},
   "source": [
    "# Test Statistics\n",
    "\n",
    "### $\\chi^2$ Chi Square\n",
    "\n",
    "$\\chi^2 = \\sum{\\frac{(O - E)^2}{E}} $"
   ]
  },
  {
   "cell_type": "code",
   "execution_count": null,
   "id": "3fc4ad0f",
   "metadata": {},
   "outputs": [],
   "source": []
  },
  {
   "cell_type": "markdown",
   "id": "56743740",
   "metadata": {},
   "source": [
    "# 1-Tailed vs Independent/Dependent"
   ]
  },
  {
   "cell_type": "code",
   "execution_count": 2,
   "id": "930f44e6",
   "metadata": {},
   "outputs": [
    {
     "data": {
      "text/html": [
       "<style>\n",
       "table {float:left}\n",
       "</style>\n"
      ],
      "text/plain": [
       "<IPython.core.display.HTML object>"
      ]
     },
     "metadata": {},
     "output_type": "display_data"
    }
   ],
   "source": [
    "%%html\n",
    "<style>\n",
    "table {float:left}\n",
    "</style>"
   ]
  },
  {
   "cell_type": "markdown",
   "id": "f85682f7",
   "metadata": {},
   "source": [
    "| Scales of Measurement|                                                                                  |\n",
    "| ------------------- | ----------------------- | ------------------------------------------------------ |\n",
    "|Nominal scale\t      |Ordinal scale\t        | Interval scale                                         |"
   ]
  },
  {
   "cell_type": "markdown",
   "id": "240eed03",
   "metadata": {},
   "source": [
    "| Header 1  | Header 2 | Header 3 |\n",
    "| --- | --- | --- |\n",
    "| Some data | \n",
    "| data | Some long data here | more data | "
   ]
  },
  {
   "cell_type": "markdown",
   "id": "d183cd0c",
   "metadata": {},
   "source": [
    "| Syntax      | Description |\n",
    "| ----------- | ----------- |\n",
    "| Header      | Title       |\n",
    "| Paragraph   | Text        |"
   ]
  },
  {
   "cell_type": "markdown",
   "id": "4045f8c6",
   "metadata": {},
   "source": [
    "|Scales of Measurement                                                                                   |\n",
    "|---------------------|-------------------------|--------------------------------------------------------|\n",
    "|Nominal scale\t      |Ordinal scale\t        | Interval scale                                         |\n",
    "\n",
    "|One sample                                                                                              |\n",
    "|--------------------------------------------------------------------------------------------------------|\n",
    "|Binominal Test \t  | t-test for one sample                                                            |\n",
    "\n",
    "|Two samples                                                                                             |\n",
    "\n",
    "|independent\t      | Chi-square test\t           | Median test\t| t-test for homogeneous variances   |\n",
    "|Mann-Whitney U Test  |\tt test for heterogeneous variances                                               |\n",
    "|dependent\t          | McNemar-Test\t           | Wilcoxon-Test  | Paired t test                      |\n",
    "\n",
    "|'>' two samples\t                                                                                     |\n",
    "\n",
    "|independent\t      | kxm-Felder-Chi-Square Test | H-Test Kruskal & Wallis           | ANOVA           |\n",
    "|dependent\t          | Cochran-Test\t           | Friedman-Test      | ANOVA for repeated measurements|"
   ]
  },
  {
   "cell_type": "markdown",
   "id": "323c3b99",
   "metadata": {},
   "source": [
    "If the p-value of the hypothesis test is less than some significance level (e.g. α = .05), then we can reject the null hypothesis and conclude that we have sufficient evidence to say that the alternative hypothesis is true."
   ]
  },
  {
   "cell_type": "markdown",
   "id": "f3670324",
   "metadata": {},
   "source": [
    "# Standard Deviation = σ"
   ]
  },
  {
   "cell_type": "markdown",
   "id": "51501305",
   "metadata": {},
   "source": [
    "# Mean = $\\mu$"
   ]
  },
  {
   "cell_type": "markdown",
   "id": "3cf84696",
   "metadata": {},
   "source": [
    "## 1 Sample T-Test"
   ]
  },
  {
   "cell_type": "markdown",
   "id": "ebf1fd05",
   "metadata": {},
   "source": [
    "## Data:\n",
    "### average, standard deviation and sample size"
   ]
  },
  {
   "cell_type": "markdown",
   "id": "110f23a9",
   "metadata": {},
   "source": [
    "## Assumptions:"
   ]
  },
  {
   "cell_type": "markdown",
   "id": "af4b813f",
   "metadata": {},
   "source": [
    "### "
   ]
  },
  {
   "cell_type": "markdown",
   "id": "25604165",
   "metadata": {},
   "source": [
    "$H_{0}: Y_{1}-Y_{2} = 0$\n",
    "\n",
    "``` # No Difference ```\n",
    "\n",
    "$H_{A}: Y_{1}-Y_{2} >= 0$\n",
    "\n",
    "``` # Significant Difference ```"
   ]
  },
  {
   "cell_type": "markdown",
   "id": "b9fbbcf0",
   "metadata": {},
   "source": [
    "31 energy bars=population\n",
    "\n",
    "each bar contains 20 grams of protein."
   ]
  },
  {
   "cell_type": "markdown",
   "id": "5e2de339",
   "metadata": {},
   "source": [
    "# #Last"
   ]
  },
  {
   "cell_type": "markdown",
   "id": "d3d104da",
   "metadata": {},
   "source": [
    "Assume that the time it takes to order and eat the burger special at the Esquire is normally distributed with a mean of 40 minutes and a standard deviation of 15 minutes. If it takes 5 minutes to walk from Codeup to the restaurant, what is the likelihood that you can go eat at The Esquire during your lunch hour and not be late back to class?"
   ]
  },
  {
   "cell_type": "markdown",
   "id": "90bee7c4",
   "metadata": {},
   "source": [
    "### Multiple Probabilities\n",
    "##### Normal Distribution"
   ]
  },
  {
   "cell_type": "code",
   "execution_count": 30,
   "id": "24cdc5a8",
   "metadata": {},
   "outputs": [],
   "source": [
    "import matplotlib.pyplot as plt\n",
    "import numpy as np\n",
    "import pandas as pd\n",
    "from scipy import stats\n",
    "import viz # curriculum viz example code\n",
    "\n",
    "import env\n",
    "\n",
    "np.random.seed(123)\n",
    "trip = 5\n",
    "round_trip = trip*2\n",
    "mean = 40\n",
    "stddev = 15\n",
    "diff = (60-round_trip)"
   ]
  },
  {
   "cell_type": "code",
   "execution_count": 31,
   "id": "90c57f71",
   "metadata": {},
   "outputs": [],
   "source": [
    "lunch_line_people = stats.norm(mean,stddev)"
   ]
  },
  {
   "cell_type": "code",
   "execution_count": 32,
   "id": "d4fe3d0c",
   "metadata": {},
   "outputs": [],
   "source": [
    "test = stats.norm(mean, stddev)"
   ]
  },
  {
   "cell_type": "code",
   "execution_count": 33,
   "id": "90abca9d",
   "metadata": {
    "scrolled": false
   },
   "outputs": [
    {
     "data": {
      "text/plain": [
       "0.7475074624530771"
      ]
     },
     "execution_count": 33,
     "metadata": {},
     "output_type": "execute_result"
    }
   ],
   "source": [
    "stats.norm(mean, stddev).cdf(diff)"
   ]
  },
  {
   "cell_type": "code",
   "execution_count": 34,
   "id": "0fc26b67",
   "metadata": {
    "scrolled": false
   },
   "outputs": [
    {
     "data": {
      "text/plain": [
       "0.7475074624530771"
      ]
     },
     "execution_count": 34,
     "metadata": {},
     "output_type": "execute_result"
    }
   ],
   "source": [
    "1-stats.norm(mean, stddev).sf(diff)"
   ]
  },
  {
   "cell_type": "markdown",
   "id": "16e3f30e",
   "metadata": {},
   "source": [
    "# #1\n",
    "### Only 2 Probabilities"
   ]
  },
  {
   "cell_type": "code",
   "execution_count": null,
   "id": "83426128",
   "metadata": {},
   "outputs": [],
   "source": [
    "Independent of "
   ]
  },
  {
   "cell_type": "code",
   "execution_count": 22,
   "id": "720e8aa2",
   "metadata": {
    "scrolled": true
   },
   "outputs": [
    {
     "data": {
      "text/plain": [
       "0.1228196933987875"
      ]
     },
     "execution_count": 22,
     "metadata": {},
     "output_type": "execute_result"
    }
   ],
   "source": [
    "stats.binom(618, .10).sf(70)"
   ]
  },
  {
   "cell_type": "code",
   "execution_count": null,
   "id": "63aca70d",
   "metadata": {},
   "outputs": [],
   "source": [
    "# \"Independent of class\"\n",
    "\n",
    "# = Null Hypothesis\n",
    "\n",
    "# Type II - Error\n",
    "# False Negative"
   ]
  },
  {
   "cell_type": "markdown",
   "id": "eaa0a90f",
   "metadata": {},
   "source": [
    "Type I = False \"P\" - Draw a P with a I"
   ]
  },
  {
   "cell_type": "markdown",
   "id": "9ef4307a",
   "metadata": {},
   "source": [
    "Type II = False \"N\" - Draw an N with a II"
   ]
  }
 ],
 "metadata": {
  "kernelspec": {
   "display_name": "Python 3 (ipykernel)",
   "language": "python",
   "name": "python3"
  },
  "language_info": {
   "codemirror_mode": {
    "name": "ipython",
    "version": 3
   },
   "file_extension": ".py",
   "mimetype": "text/x-python",
   "name": "python",
   "nbconvert_exporter": "python",
   "pygments_lexer": "ipython3",
   "version": "3.9.13"
  }
 },
 "nbformat": 4,
 "nbformat_minor": 5
}
