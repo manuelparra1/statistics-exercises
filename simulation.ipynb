{
 "cells": [
  {
   "cell_type": "code",
   "execution_count": 3,
   "id": "6e2cd2bf",
   "metadata": {},
   "outputs": [],
   "source": [
    "import numpy as np\n",
    "import pandas as pd\n",
    "\n",
    "np.random.seed(87)\n",
    "\n",
    "%matplotlib inline"
   ]
  },
  {
   "cell_type": "markdown",
   "id": "cdd29150",
   "metadata": {},
   "source": [
    "# 1. How likely is it that you roll doubles when rolling two dice?"
   ]
  },
  {
   "cell_type": "code",
   "execution_count": 4,
   "id": "bea2e642",
   "metadata": {},
   "outputs": [
    {
     "data": {
      "text/plain": [
       "0.027777777777777776"
      ]
     },
     "execution_count": 4,
     "metadata": {},
     "output_type": "execute_result"
    }
   ],
   "source": [
    "sides=6\n",
    "p_1side = 1/6\n",
    "p_1side**2"
   ]
  },
  {
   "cell_type": "code",
   "execution_count": 5,
   "id": "54186c52",
   "metadata": {},
   "outputs": [
    {
     "data": {
      "text/plain": [
       "0.16666666666666666"
      ]
     },
     "execution_count": 5,
     "metadata": {},
     "output_type": "execute_result"
    }
   ],
   "source": [
    "6/36"
   ]
  },
  {
   "cell_type": "code",
   "execution_count": 9,
   "id": "71f5c927",
   "metadata": {},
   "outputs": [
    {
     "data": {
      "text/html": [
       "<div>\n",
       "<style scoped>\n",
       "    .dataframe tbody tr th:only-of-type {\n",
       "        vertical-align: middle;\n",
       "    }\n",
       "\n",
       "    .dataframe tbody tr th {\n",
       "        vertical-align: top;\n",
       "    }\n",
       "\n",
       "    .dataframe thead th {\n",
       "        text-align: right;\n",
       "    }\n",
       "</style>\n",
       "<table border=\"1\" class=\"dataframe\">\n",
       "  <thead>\n",
       "    <tr style=\"text-align: right;\">\n",
       "      <th></th>\n",
       "      <th>0</th>\n",
       "      <th>1</th>\n",
       "    </tr>\n",
       "  </thead>\n",
       "  <tbody>\n",
       "    <tr>\n",
       "      <th>0</th>\n",
       "      <td>2</td>\n",
       "      <td>6</td>\n",
       "    </tr>\n",
       "    <tr>\n",
       "      <th>1</th>\n",
       "      <td>2</td>\n",
       "      <td>5</td>\n",
       "    </tr>\n",
       "    <tr>\n",
       "      <th>2</th>\n",
       "      <td>4</td>\n",
       "      <td>4</td>\n",
       "    </tr>\n",
       "    <tr>\n",
       "      <th>3</th>\n",
       "      <td>4</td>\n",
       "      <td>3</td>\n",
       "    </tr>\n",
       "    <tr>\n",
       "      <th>4</th>\n",
       "      <td>6</td>\n",
       "      <td>3</td>\n",
       "    </tr>\n",
       "    <tr>\n",
       "      <th>5</th>\n",
       "      <td>6</td>\n",
       "      <td>1</td>\n",
       "    </tr>\n",
       "    <tr>\n",
       "      <th>6</th>\n",
       "      <td>4</td>\n",
       "      <td>3</td>\n",
       "    </tr>\n",
       "    <tr>\n",
       "      <th>7</th>\n",
       "      <td>4</td>\n",
       "      <td>6</td>\n",
       "    </tr>\n",
       "  </tbody>\n",
       "</table>\n",
       "</div>"
      ],
      "text/plain": [
       "   0  1\n",
       "0  2  6\n",
       "1  2  5\n",
       "2  4  4\n",
       "3  4  3\n",
       "4  6  3\n",
       "5  6  1\n",
       "6  4  3\n",
       "7  4  6"
      ]
     },
     "execution_count": 9,
     "metadata": {},
     "output_type": "execute_result"
    }
   ],
   "source": [
    "trial_count = 10_000\n",
    "dice_count = 2\n",
    "outcomes = [1,2,3,4,5,6]\n",
    "\n",
    "# rules setup\n",
    "dice_rolls_2 = np.random.choice(outcomes, (trial_count, dice_count))\n",
    "\n",
    "# convert to pandas dataframe\n",
    "dice_rolls_2 = pd.DataFrame(dice_rolls_2)\n",
    "\n",
    "dice_rolls_2.head(8)"
   ]
  },
  {
   "cell_type": "code",
   "execution_count": 10,
   "id": "1d659248",
   "metadata": {},
   "outputs": [
    {
     "name": "stdout",
     "output_type": "stream",
     "text": [
      "1701\n"
     ]
    }
   ],
   "source": [
    "# doubles rolls @ 10,000 try's\n",
    "doubles_count = dice_rolls_2.apply(lambda row: row[0] == row[1], axis=1).sum()\n",
    "print(doubles_count)"
   ]
  },
  {
   "cell_type": "code",
   "execution_count": 14,
   "id": "a3cc5a71",
   "metadata": {},
   "outputs": [
    {
     "data": {
      "text/plain": [
       "0       False\n",
       "1       False\n",
       "2        True\n",
       "3       False\n",
       "4       False\n",
       "        ...  \n",
       "9995    False\n",
       "9996    False\n",
       "9997    False\n",
       "9998     True\n",
       "9999    False\n",
       "Length: 10000, dtype: bool"
      ]
     },
     "execution_count": 14,
     "metadata": {},
     "output_type": "execute_result"
    }
   ],
   "source": [
    "(dice_rolls_2[0] == dice_rolls_2[1])"
   ]
  },
  {
   "cell_type": "code",
   "execution_count": 258,
   "id": "42edc7d6",
   "metadata": {},
   "outputs": [
    {
     "name": "stdout",
     "output_type": "stream",
     "text": [
      "0.1689\n"
     ]
    },
    {
     "data": {
      "text/plain": [
       "0.1689"
      ]
     },
     "execution_count": 258,
     "metadata": {},
     "output_type": "execute_result"
    }
   ],
   "source": [
    "# probability notation\n",
    "doubles_probability = doubles_count/len(dice_rolls_2)\n",
    "print(doubles_probability)\n",
    "doubles_probability.mean()"
   ]
  },
  {
   "cell_type": "markdown",
   "id": "8dbd4462",
   "metadata": {},
   "source": [
    "# 2. If you flip 8 coins, what is the probability of getting exactly 3 heads? What is the probability of getting more than 3 heads?"
   ]
  },
  {
   "cell_type": "code",
   "execution_count": 270,
   "id": "e08f3954",
   "metadata": {},
   "outputs": [],
   "source": [
    "n_sims = 100_000\n",
    "n_coins = 8\n",
    "outcomes = ['h','t']\n",
    "coinflips = np.random.choice(outcomes,size=(n_sims, n_coins))"
   ]
  },
  {
   "cell_type": "code",
   "execution_count": 271,
   "id": "df746548",
   "metadata": {},
   "outputs": [
    {
     "data": {
      "text/plain": [
       "array([4, 5, 7, ..., 3, 0, 5])"
      ]
     },
     "execution_count": 271,
     "metadata": {},
     "output_type": "execute_result"
    }
   ],
   "source": [
    "flips_sim = (coinflips == 'h').sum(axis=1)\n",
    "flips_sim"
   ]
  },
  {
   "cell_type": "code",
   "execution_count": 272,
   "id": "0b1b87bc",
   "metadata": {},
   "outputs": [
    {
     "data": {
      "text/plain": [
       "0.63535"
      ]
     },
     "execution_count": 272,
     "metadata": {},
     "output_type": "execute_result"
    }
   ],
   "source": [
    "(flips_sim>3).mean()"
   ]
  },
  {
   "cell_type": "code",
   "execution_count": 273,
   "id": "13c93c47",
   "metadata": {},
   "outputs": [
    {
     "data": {
      "text/plain": [
       "0.21885"
      ]
     },
     "execution_count": 273,
     "metadata": {},
     "output_type": "execute_result"
    }
   ],
   "source": [
    "(flips_sim == 3).mean()"
   ]
  },
  {
   "cell_type": "markdown",
   "id": "2fe1cb9d",
   "metadata": {},
   "source": [
    "#### SETUP\n",
    "\n",
    "1/2 * 1/2 * 1/2\n",
    "1/8"
   ]
  },
  {
   "cell_type": "code",
   "execution_count": 71,
   "id": "260dc99b",
   "metadata": {},
   "outputs": [],
   "source": [
    "trial_count = 10_000\n",
    "coin_count = 8\n",
    "\n",
    "flips = np.random.choice([\"head\",\"tail\"], (trial_count, coin_count))\n",
    "flips = pd.DataFrame(flips)"
   ]
  },
  {
   "cell_type": "markdown",
   "id": "d0dedde1",
   "metadata": {},
   "source": [
    "#### TESTING"
   ]
  },
  {
   "cell_type": "code",
   "execution_count": 72,
   "id": "6c24ebff",
   "metadata": {},
   "outputs": [
    {
     "data": {
      "text/html": [
       "<div>\n",
       "<style scoped>\n",
       "    .dataframe tbody tr th:only-of-type {\n",
       "        vertical-align: middle;\n",
       "    }\n",
       "\n",
       "    .dataframe tbody tr th {\n",
       "        vertical-align: top;\n",
       "    }\n",
       "\n",
       "    .dataframe thead th {\n",
       "        text-align: right;\n",
       "    }\n",
       "</style>\n",
       "<table border=\"1\" class=\"dataframe\">\n",
       "  <thead>\n",
       "    <tr style=\"text-align: right;\">\n",
       "      <th></th>\n",
       "      <th>0</th>\n",
       "      <th>1</th>\n",
       "      <th>2</th>\n",
       "      <th>3</th>\n",
       "      <th>4</th>\n",
       "      <th>5</th>\n",
       "      <th>6</th>\n",
       "      <th>7</th>\n",
       "    </tr>\n",
       "  </thead>\n",
       "  <tbody>\n",
       "    <tr>\n",
       "      <th>0</th>\n",
       "      <td>head</td>\n",
       "      <td>tail</td>\n",
       "      <td>tail</td>\n",
       "      <td>tail</td>\n",
       "      <td>tail</td>\n",
       "      <td>tail</td>\n",
       "      <td>tail</td>\n",
       "      <td>head</td>\n",
       "    </tr>\n",
       "    <tr>\n",
       "      <th>1</th>\n",
       "      <td>head</td>\n",
       "      <td>head</td>\n",
       "      <td>tail</td>\n",
       "      <td>head</td>\n",
       "      <td>head</td>\n",
       "      <td>head</td>\n",
       "      <td>head</td>\n",
       "      <td>tail</td>\n",
       "    </tr>\n",
       "  </tbody>\n",
       "</table>\n",
       "</div>"
      ],
      "text/plain": [
       "      0     1     2     3     4     5     6     7\n",
       "0  head  tail  tail  tail  tail  tail  tail  head\n",
       "1  head  head  tail  head  head  head  head  tail"
      ]
     },
     "execution_count": 72,
     "metadata": {},
     "output_type": "execute_result"
    }
   ],
   "source": [
    "flips.head(2)"
   ]
  },
  {
   "cell_type": "code",
   "execution_count": 73,
   "id": "67bbef94",
   "metadata": {},
   "outputs": [],
   "source": [
    "def count_heads(row):\n",
    "    heads_count = 0\n",
    "    for cell in row:\n",
    "        if cell == \"head\":\n",
    "            heads_count += 1\n",
    "    return heads_count"
   ]
  },
  {
   "cell_type": "code",
   "execution_count": 80,
   "id": "629fa997",
   "metadata": {
    "scrolled": true
   },
   "outputs": [
    {
     "name": "stdout",
     "output_type": "stream",
     "text": [
      "0    2\n",
      "1    6\n",
      "2    5\n",
      "dtype: int64\n"
     ]
    }
   ],
   "source": [
    "count_heads_test = flips.apply(count_heads,axis=1)\n",
    "print(count_heads_test.head(3))"
   ]
  },
  {
   "cell_type": "code",
   "execution_count": 84,
   "id": "ec0308f8",
   "metadata": {},
   "outputs": [
    {
     "name": "stdout",
     "output_type": "stream",
     "text": [
      "2264\n"
     ]
    }
   ],
   "source": [
    "count_all_heads_test = count_heads_test.apply(lambda row: row == 3).sum()\n",
    "print(count_all_heads_test)"
   ]
  },
  {
   "cell_type": "markdown",
   "id": "a37b511b",
   "metadata": {},
   "source": [
    "#### ANSWERS"
   ]
  },
  {
   "cell_type": "code",
   "execution_count": 76,
   "id": "b4d87372",
   "metadata": {},
   "outputs": [
    {
     "name": "stdout",
     "output_type": "stream",
     "text": [
      "2264\n",
      "0.2264\n"
     ]
    }
   ],
   "source": [
    "# Exactly 3 heads\n",
    "three_heads_count = flips.apply(count_heads,axis=1).apply(lambda row: row == 3).sum()\n",
    "print(three_heads_count)\n",
    "\n",
    "# probability notation\n",
    "three_heads_probability = three_heads_count = flips.apply(count_heads,axis=1).apply(lambda row: row == 3).mean()\n",
    "print(three_heads_probability)"
   ]
  },
  {
   "cell_type": "code",
   "execution_count": null,
   "id": "8ae2297f",
   "metadata": {},
   "outputs": [],
   "source": [
    "# More than 3 heads\n",
    "p_more_than_three_heads = flips.apply(count_heads,axis=1).apply(lambda row: row > 3).mean()"
   ]
  },
  {
   "cell_type": "code",
   "execution_count": null,
   "id": "3e0c67d7",
   "metadata": {},
   "outputs": [],
   "source": [
    "# 3 Heads in a row?????"
   ]
  },
  {
   "cell_type": "markdown",
   "id": "0895018f",
   "metadata": {},
   "source": [
    "# 3. There are approximitely 3 web development cohorts for every 1 data science cohort at Codeup. Assuming that Codeup randomly selects an alumni to put on a billboard, what are the odds that the two billboards I drive past both have data science students on them?"
   ]
  },
  {
   "cell_type": "markdown",
   "id": "9e92750a",
   "metadata": {},
   "source": [
    "### Class answer"
   ]
  },
  {
   "cell_type": "code",
   "execution_count": 278,
   "id": "0b09c638",
   "metadata": {},
   "outputs": [],
   "source": [
    "n_sims = 100_000\n",
    "outcomes = ['wd','wd','wd','ds']\n",
    "n_billboards = 2\n",
    "billboards = np.random.choice(outcomes, size=(n_sims,n_billboards))"
   ]
  },
  {
   "cell_type": "code",
   "execution_count": 279,
   "id": "832761d2",
   "metadata": {},
   "outputs": [
    {
     "data": {
      "text/plain": [
       "array([['wd', 'ds'],\n",
       "       ['wd', 'ds'],\n",
       "       ['wd', 'ds'],\n",
       "       ...,\n",
       "       ['wd', 'ds'],\n",
       "       ['wd', 'ds'],\n",
       "       ['wd', 'wd']], dtype='<U2')"
      ]
     },
     "execution_count": 279,
     "metadata": {},
     "output_type": "execute_result"
    }
   ],
   "source": [
    "billboards"
   ]
  },
  {
   "cell_type": "code",
   "execution_count": 280,
   "id": "0bf70087",
   "metadata": {},
   "outputs": [],
   "source": [
    "outcomes = ['wd','ds']"
   ]
  },
  {
   "cell_type": "code",
   "execution_count": 281,
   "id": "a3de4b58",
   "metadata": {},
   "outputs": [],
   "source": [
    "billboards2 = np.random.choice(outcomes,size=(n_sims, n_billboards),p=[.75,.25])"
   ]
  },
  {
   "cell_type": "code",
   "execution_count": 282,
   "id": "e04408d5",
   "metadata": {},
   "outputs": [
    {
     "data": {
      "text/plain": [
       "array([['wd', 'wd'],\n",
       "       ['wd', 'wd'],\n",
       "       ['wd', 'ds'],\n",
       "       ...,\n",
       "       ['wd', 'wd'],\n",
       "       ['wd', 'ds'],\n",
       "       ['wd', 'wd']], dtype='<U2')"
      ]
     },
     "execution_count": 282,
     "metadata": {},
     "output_type": "execute_result"
    }
   ],
   "source": [
    "billboards2"
   ]
  },
  {
   "cell_type": "code",
   "execution_count": null,
   "id": "de1b3494",
   "metadata": {},
   "outputs": [],
   "source": [
    "(billboards2 == 'ds').sum(axis=1)"
   ]
  },
  {
   "cell_type": "code",
   "execution_count": 283,
   "id": "af0ea743",
   "metadata": {},
   "outputs": [],
   "source": [
    "prob = ((billboards=='ds').sum(axis=1)==2).mean()"
   ]
  },
  {
   "cell_type": "code",
   "execution_count": 284,
   "id": "8255611b",
   "metadata": {},
   "outputs": [
    {
     "data": {
      "text/plain": [
       "0.0604"
      ]
     },
     "execution_count": 284,
     "metadata": {},
     "output_type": "execute_result"
    }
   ],
   "source": [
    "prob"
   ]
  },
  {
   "cell_type": "code",
   "execution_count": 50,
   "id": "77b6106f",
   "metadata": {},
   "outputs": [
    {
     "data": {
      "text/plain": [
       "0.06153"
      ]
     },
     "execution_count": 50,
     "metadata": {},
     "output_type": "execute_result"
    }
   ],
   "source": [
    "data_science = 1\n",
    "web_dev = 3\n",
    "\n",
    "total_cohorts = data_science+web_dev\n",
    "data_science_percent = 1/total_cohorts\n",
    "\n",
    "n_times = 100_000\n",
    "n_billboards = 2\n",
    "\n",
    "weighted_sim_ds = np.random.random((n_times,n_billboards)) <= data_science_percent\n",
    "weighted_sim_ds_df = pd.DataFrame(weighted_sim_ds)\n",
    "\n",
    "weighted_sim_ds_df\n",
    "\n",
    "ds_billboard_twice = weighted_sim_ds_df.apply(lambda row: row[0] and row[1] == True, axis=1).mean()\n",
    "ds_billboard_twice"
   ]
  },
  {
   "cell_type": "markdown",
   "id": "3952c3fe",
   "metadata": {},
   "source": [
    "# 4. Codeup students buy, on average, 3 poptart packages with a standard deviation of 1.5 a day from the snack vending machine. \n",
    "# If on monday the machine is restocked with 17 poptart packages, how likely is it that I will be able to buy some poptarts on Friday afternoon? \n",
    "# (Remember, if you have mean and standard deviation, use the np.random.normal) You'll need to make a judgement call on how to handle some of your values"
   ]
  },
  {
   "cell_type": "markdown",
   "id": "3241784d",
   "metadata": {},
   "source": [
    "### Class Answer"
   ]
  },
  {
   "cell_type": "code",
   "execution_count": 286,
   "id": "b2cf8597",
   "metadata": {},
   "outputs": [],
   "source": [
    "mean = 3\n",
    "sd = 1.5\n",
    "n_days = 5"
   ]
  },
  {
   "cell_type": "code",
   "execution_count": 287,
   "id": "6a1b483c",
   "metadata": {},
   "outputs": [],
   "source": [
    "pop_per_day = np.random.normal(mean,sd,size=(n_sims, n_days))"
   ]
  },
  {
   "cell_type": "code",
   "execution_count": 288,
   "id": "fd937b42",
   "metadata": {},
   "outputs": [
    {
     "data": {
      "text/plain": [
       "array([[ 1.86351839,  3.268102  ,  3.06196311,  5.95849747,  2.6280841 ],\n",
       "       [ 2.53787674, -1.49883463,  5.62882676,  1.9275391 ,  2.23976596],\n",
       "       [ 5.39904631,  2.18105271,  0.50428401,  2.76613587,  5.58264171],\n",
       "       ...,\n",
       "       [ 6.43683029,  1.45889876,  2.13800444,  2.61931571,  0.31538865],\n",
       "       [ 2.72416529,  5.0085216 ,  2.16290558,  2.36468096,  5.0221426 ],\n",
       "       [ 3.3884267 ,  3.00231281,  1.88576339,  3.05095113,  3.49276565]])"
      ]
     },
     "execution_count": 288,
     "metadata": {},
     "output_type": "execute_result"
    }
   ],
   "source": [
    "pop_per_day"
   ]
  },
  {
   "cell_type": "code",
   "execution_count": 291,
   "id": "4eed3572",
   "metadata": {},
   "outputs": [],
   "source": [
    "pop_per_day=pd.DataFrame(pop_per_day)"
   ]
  },
  {
   "cell_type": "code",
   "execution_count": 296,
   "id": "6330ec3f",
   "metadata": {},
   "outputs": [
    {
     "data": {
      "text/plain": [
       "array([[<AxesSubplot:title={'center':'0'}>,\n",
       "        <AxesSubplot:title={'center':'1'}>],\n",
       "       [<AxesSubplot:title={'center':'2'}>,\n",
       "        <AxesSubplot:title={'center':'3'}>],\n",
       "       [<AxesSubplot:title={'center':'4'}>, <AxesSubplot:>]], dtype=object)"
      ]
     },
     "execution_count": 296,
     "metadata": {},
     "output_type": "execute_result"
    },
    {
     "data": {
      "image/png": "[encoded data removed]",
      "text/plain": [
       "<Figure size 900x600 with 6 Axes>"
      ]
     },
     "metadata": {},
     "output_type": "display_data"
    }
   ],
   "source": [
    "pop_per_day.hist()"
   ]
  },
  {
   "cell_type": "code",
   "execution_count": 298,
   "id": "be33497b",
   "metadata": {},
   "outputs": [
    {
     "data": {
      "text/plain": [
       "0        16.780165\n",
       "1        10.835174\n",
       "2        16.433161\n",
       "3        16.910532\n",
       "4        10.747147\n",
       "           ...    \n",
       "99995    13.822405\n",
       "99996    18.277693\n",
       "99997    12.968438\n",
       "99998    17.282416\n",
       "99999    14.820220\n",
       "Length: 100000, dtype: float64"
      ]
     },
     "execution_count": 298,
     "metadata": {},
     "output_type": "execute_result"
    }
   ],
   "source": [
    "(pop_per_week)=pop_per_day.sum(axis=1)\n",
    "pop_per_week"
   ]
  },
  {
   "cell_type": "code",
   "execution_count": 299,
   "id": "a704e1b2",
   "metadata": {},
   "outputs": [
    {
     "data": {
      "text/plain": [
       "0.72376"
      ]
     },
     "execution_count": 299,
     "metadata": {},
     "output_type": "execute_result"
    }
   ],
   "source": [
    "(pop_per_week < 17).mean()"
   ]
  },
  {
   "cell_type": "markdown",
   "id": "77917480",
   "metadata": {},
   "source": [
    "# Mine"
   ]
  },
  {
   "cell_type": "code",
   "execution_count": 127,
   "id": "53109137",
   "metadata": {},
   "outputs": [],
   "source": [
    "n_instance = 10_000\n",
    "stock = 17"
   ]
  },
  {
   "cell_type": "code",
   "execution_count": null,
   "id": "ed452a6b",
   "metadata": {},
   "outputs": [],
   "source": [
    "daily_consuption = np.random.normal()"
   ]
  },
  {
   "cell_type": "code",
   "execution_count": 128,
   "id": "4c1e30d3",
   "metadata": {},
   "outputs": [
    {
     "data": {
      "text/plain": [
       "0.835"
      ]
     },
     "execution_count": 128,
     "metadata": {},
     "output_type": "execute_result"
    }
   ],
   "source": [
    "daily_consumption = np.random.uniform(1.5,4.5,n_instance)\n",
    "\n",
    "p_week_consumption = np.random.choice(daily_consumption,(n_instance,5))\n",
    "p_week_consumption = pd.DataFrame(p_week_consumption)\n",
    "p_of_within_stock = p_week_consumption.apply(lambda row: row.sum() <= 17, axis=1).mean()\n",
    "\n",
    "p_of_within_stock"
   ]
  },
  {
   "cell_type": "markdown",
   "id": "db4a6ad7",
   "metadata": {},
   "source": [
    "# 5. Compare Heights\n",
    "- #### Men have an average height of 178 cm and standard deviation of 8cm.\n",
    "- #### Women have a mean of 170, sd = 6cm.\n",
    "- #### Since you have means and standard deviations, you can use np.random.normal to generate observations.\n",
    "- #### If a man and woman are chosen at random, what is the likelihood the woman is taller than the man?"
   ]
  },
  {
   "cell_type": "code",
   "execution_count": 300,
   "id": "e52226b0",
   "metadata": {},
   "outputs": [
    {
     "data": {
      "text/plain": [
       "array([185.53198412, 183.88173719, 180.6294554 , ..., 193.74605224,\n",
       "       177.49739383, 179.88389063])"
      ]
     },
     "execution_count": 300,
     "metadata": {},
     "output_type": "execute_result"
    }
   ],
   "source": [
    "n_sims = 100_000\n",
    "men_avg = 178\n",
    "men_std = 8\n",
    "women_avg = 170\n",
    "women_std = 6\n",
    "\n",
    "height_men = np.random.normal(men_avg,men_std,n_sims)\n",
    "height_men"
   ]
  },
  {
   "cell_type": "code",
   "execution_count": 301,
   "id": "651af62c",
   "metadata": {},
   "outputs": [
    {
     "data": {
      "text/plain": [
       "array([171.90076752, 172.62617705, 165.95004556, ..., 175.69051744,\n",
       "       166.32148854, 179.29564601])"
      ]
     },
     "execution_count": 301,
     "metadata": {},
     "output_type": "execute_result"
    }
   ],
   "source": [
    "height_women = np.random.normal(women_avg,women_std,n_sims)\n",
    "height_women"
   ]
  },
  {
   "cell_type": "code",
   "execution_count": 303,
   "id": "2c005309",
   "metadata": {},
   "outputs": [
    {
     "data": {
      "text/plain": [
       "0.2092"
      ]
     },
     "execution_count": 303,
     "metadata": {},
     "output_type": "execute_result"
    }
   ],
   "source": [
    "(height_women>height_men).mean()"
   ]
  },
  {
   "cell_type": "markdown",
   "id": "9e904e4c",
   "metadata": {},
   "source": [
    "# Mine"
   ]
  },
  {
   "cell_type": "code",
   "execution_count": 48,
   "id": "1ce6ce5c",
   "metadata": {},
   "outputs": [],
   "source": [
    "n_choices = 10_000\n",
    "\n",
    "men_height = np.random.normal(178,8,n_choices)\n",
    "women_height = np.random.normal(170,6,n_choices)\n",
    "\n",
    "random_height = pd.DataFrame({\"men\":men_height, \"women\":women_height})\n",
    "\n",
    "p_of_taller_woman = random_height.apply(lambda row: row[1] > row[0], axis=1).mean()"
   ]
  },
  {
   "cell_type": "markdown",
   "id": "bdb9b000",
   "metadata": {},
   "source": [
    "# 6. When installing anaconda on a student's computer, there's a 1 in 250 chance that the download is corrupted and the installation fails. What are the odds that after having 50 students download anaconda, no one has an installation issue? 100 students?\n",
    "- #### What is the probability that we observe an installation issue within the first 150 students that download anaconda?"
   ]
  },
  {
   "cell_type": "code",
   "execution_count": 304,
   "id": "54d44c87",
   "metadata": {},
   "outputs": [],
   "source": [
    "n_sims = 100_000\n",
    "outcomes = ['s','f']\n",
    "n_students = 50"
   ]
  },
  {
   "cell_type": "code",
   "execution_count": null,
   "id": "c222be92",
   "metadata": {},
   "outputs": [],
   "source": [
    "downloads = np.random.choice(outcomes,size=(n_sims, n_students),p=[]\n",
    "downloads"
   ]
  },
  {
   "cell_type": "code",
   "execution_count": null,
   "id": "bb5f5f8b",
   "metadata": {},
   "outputs": [],
   "source": [
    "(downloads == 's').sum(axis=1)"
   ]
  },
  {
   "cell_type": "code",
   "execution_count": null,
   "id": "c523f182",
   "metadata": {},
   "outputs": [],
   "source": [
    "((downloads == 's').sum(axis=1) == n_students).mean()"
   ]
  },
  {
   "cell_type": "markdown",
   "id": "4b0fee46",
   "metadata": {},
   "source": [
    "# Mine"
   ]
  },
  {
   "cell_type": "code",
   "execution_count": 322,
   "id": "d273e05b",
   "metadata": {},
   "outputs": [
    {
     "data": {
      "text/plain": [
       "0.0"
      ]
     },
     "execution_count": 322,
     "metadata": {},
     "output_type": "execute_result"
    }
   ],
   "source": [
    "failure = 1/250\n",
    "n_downloads = 50\n",
    "\n",
    "weighted_sim_dl = np.random.random(n_downloads) < failure\n",
    "\n",
    "weighted_sim_dl.mean() \n",
    "\n",
    "failure = 1/250\n",
    "n_downloads = 100\n",
    "\n",
    "weighted_sim_dl = np.random.random(n_downloads) < failure\n",
    "\n",
    "weighted_sim_dl.mean() "
   ]
  },
  {
   "cell_type": "markdown",
   "id": "01843ddb",
   "metadata": {},
   "source": [
    "- #### What is the probability that we observe an installation issue within the first 150 students that download anaconda?"
   ]
  },
  {
   "cell_type": "code",
   "execution_count": 308,
   "id": "b25e0b77",
   "metadata": {},
   "outputs": [
    {
     "data": {
      "text/plain": [
       "0.006666666666666667"
      ]
     },
     "execution_count": 308,
     "metadata": {},
     "output_type": "execute_result"
    }
   ],
   "source": [
    "failure = 1/250\n",
    "n_downloads = 150\n",
    "\n",
    "weighted_sim_dl = np.random.random(n_downloads) < failure\n",
    "\n",
    "weighted_sim_dl.mean() "
   ]
  },
  {
   "cell_type": "markdown",
   "id": "29252523",
   "metadata": {},
   "source": [
    "- #### How likely is it that 450 students all download anaconda without an issue?\n"
   ]
  },
  {
   "cell_type": "code",
   "execution_count": 51,
   "id": "117bae9e",
   "metadata": {},
   "outputs": [
    {
     "data": {
      "text/plain": [
       "0.0"
      ]
     },
     "execution_count": 51,
     "metadata": {},
     "output_type": "execute_result"
    }
   ],
   "source": [
    "failure = 1/250\n",
    "n_downloads = 150\n",
    "\n",
    "weighted_sim_dl = np.random.random(n_downloads) <= failure\n",
    "\n",
    "weighted_sim_dl.mean() "
   ]
  },
  {
   "cell_type": "markdown",
   "id": "01e29da1",
   "metadata": {},
   "source": [
    "# 7. There's a 70% chance on any given day that there will be at least one food truck at Travis Park. However, you haven't seen a food truck there in 3 days. How unlikely is this?"
   ]
  },
  {
   "cell_type": "code",
   "execution_count": null,
   "id": "37dd6e7f",
   "metadata": {},
   "outputs": [],
   "source": [
    "[],size=(n_sims,n_days),p=[.3,.7])"
   ]
  },
  {
   "cell_type": "code",
   "execution_count": null,
   "id": "2e341320",
   "metadata": {},
   "outputs": [],
   "source": [
    "(trucks.sum(axis=1)==0).mean()"
   ]
  },
  {
   "cell_type": "code",
   "execution_count": null,
   "id": "dfddfa97",
   "metadata": {},
   "outputs": [],
   "source": [
    "(trucks.sum(axis=1)>=1).mean()"
   ]
  },
  {
   "cell_type": "markdown",
   "id": "bd747b48",
   "metadata": {},
   "source": [
    "# MINE"
   ]
  },
  {
   "cell_type": "code",
   "execution_count": 323,
   "id": "bddc8c49",
   "metadata": {},
   "outputs": [],
   "source": [
    "food_truck = .70\n",
    "n_days = 365"
   ]
  },
  {
   "cell_type": "code",
   "execution_count": 324,
   "id": "d68e6e1d",
   "metadata": {},
   "outputs": [],
   "source": [
    "no_truck_days = np.random.random(n_days) < food_truck\n",
    "no_truck_days = pd.DataFrame(no_truck_days)"
   ]
  },
  {
   "cell_type": "code",
   "execution_count": 325,
   "id": "55a3176c",
   "metadata": {},
   "outputs": [
    {
     "name": "stdout",
     "output_type": "stream",
     "text": [
      "0    0.69863\n",
      "dtype: float64\n"
     ]
    }
   ],
   "source": [
    "no_truck_probability = (no_truck_days.sum()/n_days)\n",
    "print(no_truck_probability)"
   ]
  },
  {
   "cell_type": "markdown",
   "id": "9d1ff02c",
   "metadata": {},
   "source": [
    "- #### How likely is it that a food truck will show up sometime this week?"
   ]
  },
  {
   "cell_type": "code",
   "execution_count": 326,
   "id": "7d65dd58",
   "metadata": {},
   "outputs": [
    {
     "name": "stdout",
     "output_type": "stream",
     "text": [
      "0    0.013435\n",
      "dtype: float64\n"
     ]
    }
   ],
   "source": [
    "truck_days = np.random.random(n_days) > food_truck\n",
    "truck_days = pd.DataFrame(no_truck_days)\n",
    "week_truck_probability = ((no_truck_days.sum()/365)/52)\n",
    "print(week_truck_probability)"
   ]
  },
  {
   "cell_type": "markdown",
   "id": "09b5ad13",
   "metadata": {},
   "source": [
    "# 8. If 23 people are in the same room, what are the odds that two of them share a birthday? What if it's 20 people? 40?"
   ]
  },
  {
   "cell_type": "markdown",
   "id": "e3f73c6a",
   "metadata": {},
   "source": [
    "#### Rules Setup"
   ]
  },
  {
   "cell_type": "code",
   "execution_count": 88,
   "id": "9b3d72fc",
   "metadata": {},
   "outputs": [],
   "source": [
    "trial_count = 10_000\n",
    "people = 23\n",
    "birthdays = 365"
   ]
  },
  {
   "cell_type": "code",
   "execution_count": 199,
   "id": "5322c1d9",
   "metadata": {},
   "outputs": [],
   "source": [
    "room_birthdays = birthdays_array = np.random.choice(birthdays, (trial_count, people))"
   ]
  },
  {
   "cell_type": "code",
   "execution_count": 200,
   "id": "e1a219fd",
   "metadata": {},
   "outputs": [
    {
     "data": {
      "text/plain": [
       "numpy.ndarray"
      ]
     },
     "execution_count": 200,
     "metadata": {},
     "output_type": "execute_result"
    }
   ],
   "source": [
    "type(birthdays_array)"
   ]
  },
  {
   "cell_type": "code",
   "execution_count": 201,
   "id": "b93bf4b4",
   "metadata": {},
   "outputs": [
    {
     "name": "stdout",
     "output_type": "stream",
     "text": [
      "[[347 180 208 ... 174  25 221]\n",
      " [217 327   8 ... 353 333  13]\n",
      " [ 62 142 211 ... 281 315 109]\n",
      " ...\n",
      " [195  50 156 ... 150 110 208]\n",
      " [164 158 245 ... 200  51 101]\n",
      " [ 72 133  92 ... 258 254 230]]\n"
     ]
    }
   ],
   "source": [
    "print(room_birthdays)"
   ]
  },
  {
   "cell_type": "code",
   "execution_count": 202,
   "id": "ef137459",
   "metadata": {},
   "outputs": [],
   "source": [
    "# convert to pandas dataframe\n",
    "room_birthdays = pd.DataFrame(room_birthdays)"
   ]
  },
  {
   "cell_type": "code",
   "execution_count": 203,
   "id": "e10cc4ab",
   "metadata": {},
   "outputs": [
    {
     "data": {
      "text/plain": [
       "pandas.core.frame.DataFrame"
      ]
     },
     "execution_count": 203,
     "metadata": {},
     "output_type": "execute_result"
    }
   ],
   "source": []
  },
  {
   "cell_type": "code",
   "execution_count": 204,
   "id": "cbad1cf3",
   "metadata": {},
   "outputs": [],
   "source": [
    "a=(room_birthdays.nunique(axis=1) < 23)"
   ]
  },
  {
   "cell_type": "code",
   "execution_count": 205,
   "id": "a79bd274",
   "metadata": {},
   "outputs": [
    {
     "data": {
      "text/plain": [
       "pandas.core.series.Series"
      ]
     },
     "execution_count": 205,
     "metadata": {},
     "output_type": "execute_result"
    }
   ],
   "source": [
    "type(a)"
   ]
  },
  {
   "cell_type": "code",
   "execution_count": 206,
   "id": "ac253af9",
   "metadata": {},
   "outputs": [
    {
     "data": {
      "text/plain": [
       "0.5025"
      ]
     },
     "execution_count": 206,
     "metadata": {},
     "output_type": "execute_result"
    }
   ],
   "source": [
    "(room_birthdays.nunique(axis=1) < 23).mean()"
   ]
  },
  {
   "cell_type": "code",
   "execution_count": 207,
   "id": "b3af66c0",
   "metadata": {},
   "outputs": [
    {
     "data": {
      "text/html": [
       "<div>\n",
       "<style scoped>\n",
       "    .dataframe tbody tr th:only-of-type {\n",
       "        vertical-align: middle;\n",
       "    }\n",
       "\n",
       "    .dataframe tbody tr th {\n",
       "        vertical-align: top;\n",
       "    }\n",
       "\n",
       "    .dataframe thead th {\n",
       "        text-align: right;\n",
       "    }\n",
       "</style>\n",
       "<table border=\"1\" class=\"dataframe\">\n",
       "  <thead>\n",
       "    <tr style=\"text-align: right;\">\n",
       "      <th></th>\n",
       "      <th>0</th>\n",
       "      <th>1</th>\n",
       "      <th>2</th>\n",
       "      <th>3</th>\n",
       "      <th>4</th>\n",
       "      <th>5</th>\n",
       "      <th>6</th>\n",
       "      <th>7</th>\n",
       "      <th>8</th>\n",
       "      <th>9</th>\n",
       "      <th>...</th>\n",
       "      <th>13</th>\n",
       "      <th>14</th>\n",
       "      <th>15</th>\n",
       "      <th>16</th>\n",
       "      <th>17</th>\n",
       "      <th>18</th>\n",
       "      <th>19</th>\n",
       "      <th>20</th>\n",
       "      <th>21</th>\n",
       "      <th>22</th>\n",
       "    </tr>\n",
       "  </thead>\n",
       "  <tbody>\n",
       "    <tr>\n",
       "      <th>0</th>\n",
       "      <td>347</td>\n",
       "      <td>180</td>\n",
       "      <td>208</td>\n",
       "      <td>28</td>\n",
       "      <td>235</td>\n",
       "      <td>64</td>\n",
       "      <td>35</td>\n",
       "      <td>17</td>\n",
       "      <td>227</td>\n",
       "      <td>337</td>\n",
       "      <td>...</td>\n",
       "      <td>307</td>\n",
       "      <td>164</td>\n",
       "      <td>103</td>\n",
       "      <td>302</td>\n",
       "      <td>319</td>\n",
       "      <td>329</td>\n",
       "      <td>78</td>\n",
       "      <td>174</td>\n",
       "      <td>25</td>\n",
       "      <td>221</td>\n",
       "    </tr>\n",
       "    <tr>\n",
       "      <th>1</th>\n",
       "      <td>217</td>\n",
       "      <td>327</td>\n",
       "      <td>8</td>\n",
       "      <td>261</td>\n",
       "      <td>252</td>\n",
       "      <td>122</td>\n",
       "      <td>145</td>\n",
       "      <td>282</td>\n",
       "      <td>248</td>\n",
       "      <td>89</td>\n",
       "      <td>...</td>\n",
       "      <td>191</td>\n",
       "      <td>86</td>\n",
       "      <td>111</td>\n",
       "      <td>199</td>\n",
       "      <td>286</td>\n",
       "      <td>268</td>\n",
       "      <td>48</td>\n",
       "      <td>353</td>\n",
       "      <td>333</td>\n",
       "      <td>13</td>\n",
       "    </tr>\n",
       "    <tr>\n",
       "      <th>2</th>\n",
       "      <td>62</td>\n",
       "      <td>142</td>\n",
       "      <td>211</td>\n",
       "      <td>122</td>\n",
       "      <td>191</td>\n",
       "      <td>218</td>\n",
       "      <td>177</td>\n",
       "      <td>326</td>\n",
       "      <td>143</td>\n",
       "      <td>256</td>\n",
       "      <td>...</td>\n",
       "      <td>93</td>\n",
       "      <td>333</td>\n",
       "      <td>39</td>\n",
       "      <td>72</td>\n",
       "      <td>265</td>\n",
       "      <td>356</td>\n",
       "      <td>68</td>\n",
       "      <td>281</td>\n",
       "      <td>315</td>\n",
       "      <td>109</td>\n",
       "    </tr>\n",
       "  </tbody>\n",
       "</table>\n",
       "<p>3 rows × 23 columns</p>\n",
       "</div>"
      ],
      "text/plain": [
       "    0    1    2    3    4    5    6    7    8    9   ...   13   14   15   16  \\\n",
       "0  347  180  208   28  235   64   35   17  227  337  ...  307  164  103  302   \n",
       "1  217  327    8  261  252  122  145  282  248   89  ...  191   86  111  199   \n",
       "2   62  142  211  122  191  218  177  326  143  256  ...   93  333   39   72   \n",
       "\n",
       "    17   18  19   20   21   22  \n",
       "0  319  329  78  174   25  221  \n",
       "1  286  268  48  353  333   13  \n",
       "2  265  356  68  281  315  109  \n",
       "\n",
       "[3 rows x 23 columns]"
      ]
     },
     "execution_count": 207,
     "metadata": {},
     "output_type": "execute_result"
    }
   ],
   "source": [
    "room_birthdays.head(3)"
   ]
  },
  {
   "cell_type": "code",
   "execution_count": null,
   "id": "e03451fe",
   "metadata": {},
   "outputs": [],
   "source": [
    "# 10TH ROW\n",
    "# [0] & [16]"
   ]
  },
  {
   "cell_type": "code",
   "execution_count": 210,
   "id": "b6fbbbe6",
   "metadata": {},
   "outputs": [
    {
     "data": {
      "text/plain": [
       "0     344\n",
       "1     150\n",
       "2      48\n",
       "3      52\n",
       "4      68\n",
       "5     201\n",
       "6     353\n",
       "7      77\n",
       "8     272\n",
       "9      60\n",
       "10    313\n",
       "11    237\n",
       "12    312\n",
       "13    192\n",
       "14    218\n",
       "15    333\n",
       "16      2\n",
       "17    300\n",
       "18     82\n",
       "19     23\n",
       "20     65\n",
       "21    329\n",
       "22    333\n",
       "Name: 10, dtype: int64"
      ]
     },
     "execution_count": 210,
     "metadata": {},
     "output_type": "execute_result"
    }
   ],
   "source": [
    "room_birthdays.iloc[10]"
   ]
  },
  {
   "cell_type": "code",
   "execution_count": 211,
   "id": "436e76c7",
   "metadata": {},
   "outputs": [
    {
     "name": "stdout",
     "output_type": "stream",
     "text": [
      "2\n",
      "344\n"
     ]
    }
   ],
   "source": [
    "print(room_birthdays[16].iloc[10])\n",
    "print(room_birthdays[0].iloc[10])"
   ]
  },
  {
   "cell_type": "code",
   "execution_count": 212,
   "id": "d06c2cd0",
   "metadata": {},
   "outputs": [],
   "source": [
    "def count_rows(row):\n",
    "    match_count = 0\n",
    "    for cell in row:\n",
    "        if cell == row[0]:\n",
    "            match_count += 1\n",
    "    match_count-=1\n",
    "    return match_count"
   ]
  },
  {
   "cell_type": "code",
   "execution_count": 213,
   "id": "a86647b5",
   "metadata": {
    "scrolled": true
   },
   "outputs": [
    {
     "data": {
      "text/plain": [
       "583"
      ]
     },
     "execution_count": 213,
     "metadata": {},
     "output_type": "execute_result"
    }
   ],
   "source": [
    "count_rows_test = room_birthdays.apply(count_rows,axis=1)\n",
    "count_rows_test.sum()"
   ]
  },
  {
   "cell_type": "code",
   "execution_count": 214,
   "id": "b6b5537a",
   "metadata": {},
   "outputs": [],
   "source": [
    "# COMPARE FUNCTION PANDAS DOCS\n",
    "# ELITE CODE\n",
    "\n",
    "# TOOLS\n",
    "# Time it\n",
    "\n",
    "# [8,2,3,4,3,3,2,6]\n",
    "# FILTER DOWN"
   ]
  },
  {
   "cell_type": "code",
   "execution_count": 215,
   "id": "e1166405",
   "metadata": {},
   "outputs": [
    {
     "data": {
      "text/plain": [
       "0     0\n",
       "1     0\n",
       "2     0\n",
       "3     0\n",
       "4     0\n",
       "5     0\n",
       "6     0\n",
       "7     0\n",
       "8     0\n",
       "9     0\n",
       "10    0\n",
       "dtype: int64"
      ]
     },
     "execution_count": 215,
     "metadata": {},
     "output_type": "execute_result"
    }
   ],
   "source": [
    "count_rows_test.head(11)"
   ]
  },
  {
   "cell_type": "code",
   "execution_count": 216,
   "id": "5d9ff918",
   "metadata": {},
   "outputs": [],
   "source": [
    "birthday_matches = count_rows_test.apply(lambda row: row > 0)"
   ]
  },
  {
   "cell_type": "code",
   "execution_count": 217,
   "id": "a1a18a3e",
   "metadata": {},
   "outputs": [
    {
     "data": {
      "text/plain": [
       "569"
      ]
     },
     "execution_count": 217,
     "metadata": {},
     "output_type": "execute_result"
    }
   ],
   "source": [
    "birthday_matches.sum()"
   ]
  },
  {
   "cell_type": "code",
   "execution_count": 218,
   "id": "047b799f",
   "metadata": {
    "scrolled": true
   },
   "outputs": [
    {
     "data": {
      "text/plain": [
       "10000"
      ]
     },
     "execution_count": 218,
     "metadata": {},
     "output_type": "execute_result"
    }
   ],
   "source": [
    "len(count_rows_test)"
   ]
  },
  {
   "cell_type": "code",
   "execution_count": 219,
   "id": "0c933964",
   "metadata": {
    "scrolled": true
   },
   "outputs": [],
   "source": [
    "more_than_2_matches = count_rows_test.apply(lambda row: row > 1)"
   ]
  },
  {
   "cell_type": "code",
   "execution_count": 220,
   "id": "6cefdeda",
   "metadata": {},
   "outputs": [
    {
     "data": {
      "text/plain": [
       "13"
      ]
     },
     "execution_count": 220,
     "metadata": {},
     "output_type": "execute_result"
    }
   ],
   "source": [
    "more_than_2_matches.sum()"
   ]
  },
  {
   "cell_type": "code",
   "execution_count": 221,
   "id": "12e661d1",
   "metadata": {},
   "outputs": [
    {
     "name": "stdout",
     "output_type": "stream",
     "text": [
      "174\n",
      "312\n",
      "1987\n",
      "2277\n",
      "2735\n",
      "2996\n",
      "4813\n",
      "5328\n",
      "6032\n",
      "7568\n",
      "7986\n",
      "9911\n",
      "9959\n"
     ]
    }
   ],
   "source": [
    "for x,y in enumerate(more_than_2_matches):\n",
    "    if y == True:\n",
    "        print(x)"
   ]
  },
  {
   "cell_type": "code",
   "execution_count": 222,
   "id": "157988c1",
   "metadata": {},
   "outputs": [
    {
     "data": {
      "text/plain": [
       "0     113\n",
       "1     194\n",
       "2     275\n",
       "3     207\n",
       "4      87\n",
       "5      59\n",
       "6     139\n",
       "7     108\n",
       "8     143\n",
       "9     251\n",
       "10      3\n",
       "11    214\n",
       "12    170\n",
       "13    290\n",
       "14    106\n",
       "15    130\n",
       "16     31\n",
       "17    135\n",
       "18     12\n",
       "19     94\n",
       "20     29\n",
       "21    177\n",
       "22    310\n",
       "Name: 601, dtype: int64"
      ]
     },
     "execution_count": 222,
     "metadata": {},
     "output_type": "execute_result"
    }
   ],
   "source": [
    "room_birthdays.iloc[601]"
   ]
  },
  {
   "cell_type": "code",
   "execution_count": 223,
   "id": "9cb0cf2c",
   "metadata": {},
   "outputs": [
    {
     "data": {
      "text/plain": [
       "13"
      ]
     },
     "execution_count": 223,
     "metadata": {},
     "output_type": "execute_result"
    }
   ],
   "source": [
    "more_than_2_matches.sum()"
   ]
  },
  {
   "cell_type": "markdown",
   "id": "f69d0c69",
   "metadata": {},
   "source": [
    "# ANSWER"
   ]
  },
  {
   "cell_type": "code",
   "execution_count": 336,
   "id": "7ef37d61",
   "metadata": {
    "scrolled": true
   },
   "outputs": [
    {
     "data": {
      "text/plain": [
       "0.0583"
      ]
     },
     "execution_count": 336,
     "metadata": {},
     "output_type": "execute_result"
    }
   ],
   "source": [
    "count_rows_test = room_birthdays.apply(count_rows,axis=1)\n",
    "count_rows_test.mean()"
   ]
  },
  {
   "cell_type": "markdown",
   "id": "2ec7b59a",
   "metadata": {},
   "source": [
    "# CLASS ANSWER"
   ]
  },
  {
   "cell_type": "code",
   "execution_count": 343,
   "id": "d4ffa5a4",
   "metadata": {},
   "outputs": [
    {
     "data": {
      "text/plain": [
       "array([[302, 169, 245, ..., 204, 190, 135],\n",
       "       [ 35, 275, 364, ..., 126, 326, 166],\n",
       "       [172, 308, 137, ..., 342, 200,  30],\n",
       "       ...,\n",
       "       [189, 228, 323, ..., 260, 312,  35],\n",
       "       [223, 268,  39, ..., 135, 282,  46],\n",
       "       [326, 141,  57, ...,  99, 176,  89]])"
      ]
     },
     "execution_count": 343,
     "metadata": {},
     "output_type": "execute_result"
    }
   ],
   "source": [
    "outcomes=range(1,366)\n",
    "n_students = 23\n",
    "\n",
    "birthdays = np.random.choice(outcomes,size=(n_sims, n_students))\n",
    "birthdays"
   ]
  },
  {
   "cell_type": "code",
   "execution_count": 344,
   "id": "516c8c98",
   "metadata": {},
   "outputs": [],
   "source": [
    "birthdays = pd.DataFrame(birthdays)"
   ]
  },
  {
   "cell_type": "code",
   "execution_count": 345,
   "id": "1a6a049f",
   "metadata": {},
   "outputs": [
    {
     "data": {
      "text/html": [
       "<div>\n",
       "<style scoped>\n",
       "    .dataframe tbody tr th:only-of-type {\n",
       "        vertical-align: middle;\n",
       "    }\n",
       "\n",
       "    .dataframe tbody tr th {\n",
       "        vertical-align: top;\n",
       "    }\n",
       "\n",
       "    .dataframe thead th {\n",
       "        text-align: right;\n",
       "    }\n",
       "</style>\n",
       "<table border=\"1\" class=\"dataframe\">\n",
       "  <thead>\n",
       "    <tr style=\"text-align: right;\">\n",
       "      <th></th>\n",
       "      <th>0</th>\n",
       "      <th>1</th>\n",
       "      <th>2</th>\n",
       "      <th>3</th>\n",
       "      <th>4</th>\n",
       "      <th>5</th>\n",
       "      <th>6</th>\n",
       "      <th>7</th>\n",
       "      <th>8</th>\n",
       "      <th>9</th>\n",
       "      <th>...</th>\n",
       "      <th>13</th>\n",
       "      <th>14</th>\n",
       "      <th>15</th>\n",
       "      <th>16</th>\n",
       "      <th>17</th>\n",
       "      <th>18</th>\n",
       "      <th>19</th>\n",
       "      <th>20</th>\n",
       "      <th>21</th>\n",
       "      <th>22</th>\n",
       "    </tr>\n",
       "  </thead>\n",
       "  <tbody>\n",
       "    <tr>\n",
       "      <th>0</th>\n",
       "      <td>302</td>\n",
       "      <td>169</td>\n",
       "      <td>245</td>\n",
       "      <td>315</td>\n",
       "      <td>103</td>\n",
       "      <td>32</td>\n",
       "      <td>121</td>\n",
       "      <td>244</td>\n",
       "      <td>188</td>\n",
       "      <td>122</td>\n",
       "      <td>...</td>\n",
       "      <td>28</td>\n",
       "      <td>155</td>\n",
       "      <td>318</td>\n",
       "      <td>1</td>\n",
       "      <td>132</td>\n",
       "      <td>183</td>\n",
       "      <td>288</td>\n",
       "      <td>204</td>\n",
       "      <td>190</td>\n",
       "      <td>135</td>\n",
       "    </tr>\n",
       "  </tbody>\n",
       "</table>\n",
       "<p>1 rows × 23 columns</p>\n",
       "</div>"
      ],
      "text/plain": [
       "    0    1    2    3    4   5    6    7    8    9   ...  13   14   15  16  \\\n",
       "0  302  169  245  315  103  32  121  244  188  122  ...  28  155  318   1   \n",
       "\n",
       "    17   18   19   20   21   22  \n",
       "0  132  183  288  204  190  135  \n",
       "\n",
       "[1 rows x 23 columns]"
      ]
     },
     "execution_count": 345,
     "metadata": {},
     "output_type": "execute_result"
    }
   ],
   "source": [
    "birthdays.head(1)"
   ]
  },
  {
   "cell_type": "code",
   "execution_count": 346,
   "id": "aa9d86c7",
   "metadata": {},
   "outputs": [
    {
     "data": {
      "text/plain": [
       "0.5085"
      ]
     },
     "execution_count": 346,
     "metadata": {},
     "output_type": "execute_result"
    }
   ],
   "source": [
    "(birthdays.nunique(axis=1)<n_students).mean()"
   ]
  }
 ],
 "metadata": {
  "kernelspec": {
   "display_name": "Python 3 (ipykernel)",
   "language": "python",
   "name": "python3"
  },
  "language_info": {
   "codemirror_mode": {
    "name": "ipython",
    "version": 3
   },
   "file_extension": ".py",
   "mimetype": "text/x-python",
   "name": "python",
   "nbconvert_exporter": "python",
   "pygments_lexer": "ipython3",
   "version": "3.9.13"
  }
 },
 "nbformat": 4,
 "nbformat_minor": 5
}
