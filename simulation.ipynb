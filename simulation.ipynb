{
 "cells": [
  {
   "cell_type": "code",
   "execution_count": 55,
   "id": "6e2cd2bf",
   "metadata": {},
   "outputs": [],
   "source": [
    "import numpy as np\n",
    "import pandas as pd\n",
    "import random\n",
    "\n",
    "import viz\n",
    "np.random.seed(87)\n",
    "\n",
    "%matplotlib inline"
   ]
  },
  {
   "cell_type": "markdown",
   "id": "cdd29150",
   "metadata": {},
   "source": [
    "# 1. How likely is it that you roll doubles when rolling two dice?"
   ]
  },
  {
   "cell_type": "code",
   "execution_count": 70,
   "id": "f8ecc171",
   "metadata": {},
   "outputs": [
    {
     "name": "stdout",
     "output_type": "stream",
     "text": [
      "1689\n",
      "0.1689\n"
     ]
    }
   ],
   "source": [
    "trial_count = 10_000\n",
    "dice_count = 2\n",
    "\n",
    "# rules setup\n",
    "dice_rolls_2 = np.random.choice([1,2,3,4,5,6], (trial_count,dice_count))\n",
    "\n",
    "# convert to pandas dataframe\n",
    "dice_rolls_2 = pd.DataFrame(dice_rolls_2)\n",
    "\n",
    "# doubles rolls @ 10,000 try's\n",
    "doubles_count = dice_rolls_2.apply(lambda row: row[0] == row[1], axis=1).sum()\n",
    "print(doubles_count)\n",
    "\n",
    "# probability notation\n",
    "doubles_probability = doubles_count/len(dice_rolls_2)\n",
    "print(doubles_probability)"
   ]
  },
  {
   "cell_type": "markdown",
   "id": "8dbd4462",
   "metadata": {},
   "source": [
    "# 2. If you flip 8 coins, what is the probability of getting exactly 3 heads? What is the probability of getting more than 3 heads?"
   ]
  },
  {
   "cell_type": "markdown",
   "id": "3637f4c8",
   "metadata": {},
   "source": [
    "#### SETUP\n",
    "\n",
    "1/2 * 1/2 * 1/2\n",
    "1/8"
   ]
  },
  {
   "cell_type": "code",
   "execution_count": 71,
   "id": "e20daf4d",
   "metadata": {},
   "outputs": [],
   "source": [
    "trial_count = 10_000\n",
    "coin_count = 8\n",
    "\n",
    "flips = np.random.choice([\"head\",\"tail\"], (trial_count, coin_count))\n",
    "flips = pd.DataFrame(flips)"
   ]
  },
  {
   "cell_type": "markdown",
   "id": "510f343f",
   "metadata": {},
   "source": [
    "#### TESTING"
   ]
  },
  {
   "cell_type": "code",
   "execution_count": 72,
   "id": "4d2ae934",
   "metadata": {},
   "outputs": [
    {
     "data": {
      "text/html": [
       "<div>\n",
       "<style scoped>\n",
       "    .dataframe tbody tr th:only-of-type {\n",
       "        vertical-align: middle;\n",
       "    }\n",
       "\n",
       "    .dataframe tbody tr th {\n",
       "        vertical-align: top;\n",
       "    }\n",
       "\n",
       "    .dataframe thead th {\n",
       "        text-align: right;\n",
       "    }\n",
       "</style>\n",
       "<table border=\"1\" class=\"dataframe\">\n",
       "  <thead>\n",
       "    <tr style=\"text-align: right;\">\n",
       "      <th></th>\n",
       "      <th>0</th>\n",
       "      <th>1</th>\n",
       "      <th>2</th>\n",
       "      <th>3</th>\n",
       "      <th>4</th>\n",
       "      <th>5</th>\n",
       "      <th>6</th>\n",
       "      <th>7</th>\n",
       "    </tr>\n",
       "  </thead>\n",
       "  <tbody>\n",
       "    <tr>\n",
       "      <th>0</th>\n",
       "      <td>head</td>\n",
       "      <td>tail</td>\n",
       "      <td>tail</td>\n",
       "      <td>tail</td>\n",
       "      <td>tail</td>\n",
       "      <td>tail</td>\n",
       "      <td>tail</td>\n",
       "      <td>head</td>\n",
       "    </tr>\n",
       "    <tr>\n",
       "      <th>1</th>\n",
       "      <td>head</td>\n",
       "      <td>head</td>\n",
       "      <td>tail</td>\n",
       "      <td>head</td>\n",
       "      <td>head</td>\n",
       "      <td>head</td>\n",
       "      <td>head</td>\n",
       "      <td>tail</td>\n",
       "    </tr>\n",
       "  </tbody>\n",
       "</table>\n",
       "</div>"
      ],
      "text/plain": [
       "      0     1     2     3     4     5     6     7\n",
       "0  head  tail  tail  tail  tail  tail  tail  head\n",
       "1  head  head  tail  head  head  head  head  tail"
      ]
     },
     "execution_count": 72,
     "metadata": {},
     "output_type": "execute_result"
    }
   ],
   "source": [
    "flips.head(2)"
   ]
  },
  {
   "cell_type": "code",
   "execution_count": 73,
   "id": "e20dc09e",
   "metadata": {},
   "outputs": [],
   "source": [
    "def count_heads(row):\n",
    "    heads_count = 0\n",
    "    for cell in row:\n",
    "        if cell == \"head\":\n",
    "            heads_count += 1\n",
    "    return heads_count"
   ]
  },
  {
   "cell_type": "code",
   "execution_count": 80,
   "id": "c5f71d67",
   "metadata": {
    "scrolled": true
   },
   "outputs": [
    {
     "name": "stdout",
     "output_type": "stream",
     "text": [
      "0    2\n",
      "1    6\n",
      "2    5\n",
      "dtype: int64\n"
     ]
    }
   ],
   "source": [
    "count_heads_test = flips.apply(count_heads,axis=1)\n",
    "print(count_heads_test.head(3))"
   ]
  },
  {
   "cell_type": "code",
   "execution_count": 84,
   "id": "c418527e",
   "metadata": {},
   "outputs": [
    {
     "name": "stdout",
     "output_type": "stream",
     "text": [
      "2264\n"
     ]
    }
   ],
   "source": [
    "count_all_heads_test = count_heads_test.apply(lambda row: row == 3).sum()\n",
    "print(count_all_heads_test)"
   ]
  },
  {
   "cell_type": "markdown",
   "id": "1ef57ede",
   "metadata": {},
   "source": [
    "#### ANSWERS"
   ]
  },
  {
   "cell_type": "code",
   "execution_count": 76,
   "id": "260d927d",
   "metadata": {},
   "outputs": [
    {
     "name": "stdout",
     "output_type": "stream",
     "text": [
      "2264\n",
      "0.2264\n"
     ]
    }
   ],
   "source": [
    "# Exactly 3 heads\n",
    "three_heads_count = flips.apply(count_heads,axis=1).apply(lambda row: row == 3).sum()\n",
    "print(three_heads_count)\n",
    "\n",
    "# probability notation\n",
    "three_heads_probability = three_heads_count = flips.apply(count_heads,axis=1).apply(lambda row: row == 3).mean()\n",
    "print(three_heads_probability)"
   ]
  },
  {
   "cell_type": "code",
   "execution_count": null,
   "id": "6e93b39e",
   "metadata": {},
   "outputs": [],
   "source": [
    "# More than 3 heads\n",
    "p_more_than_three_heads = flips.apply(count_heads,axis=1).apply(lambda row: row > 3).mean()"
   ]
  },
  {
   "cell_type": "code",
   "execution_count": null,
   "id": "2b6523a7",
   "metadata": {},
   "outputs": [],
   "source": [
    "# 3 Heads in a row?????"
   ]
  },
  {
   "cell_type": "markdown",
   "id": "0895018f",
   "metadata": {},
   "source": [
    "# 3. There are approximitely 3 web development cohorts for every 1 data science cohort at Codeup. Assuming that Codeup randomly selects an alumni to put on a billboard, what are the odds that the two billboards I drive past both have data science students on them?"
   ]
  },
  {
   "cell_type": "code",
   "execution_count": 50,
   "id": "02ed8bcf",
   "metadata": {},
   "outputs": [
    {
     "data": {
      "text/plain": [
       "0.06153"
      ]
     },
     "execution_count": 50,
     "metadata": {},
     "output_type": "execute_result"
    }
   ],
   "source": [
    "data_science = 1\n",
    "web_dev = 3\n",
    "\n",
    "total_cohorts = data_science+web_dev\n",
    "data_science_percent = 1/total_cohorts\n",
    "\n",
    "n_times = 100_000\n",
    "n_billboards = 2\n",
    "\n",
    "weighted_sim_ds = np.random.random((n_times,n_billboards)) <= data_science_percent\n",
    "weighted_sim_ds_df = pd.DataFrame(weighted_sim_ds)\n",
    "\n",
    "weighted_sim_ds_df\n",
    "\n",
    "ds_billboard_twice = weighted_sim_ds_df.apply(lambda row: row[0] and row[1] == True, axis=1).mean()\n",
    "ds_billboard_twice"
   ]
  },
  {
   "cell_type": "markdown",
   "id": "3952c3fe",
   "metadata": {},
   "source": [
    "# 4. Codeup students buy, on average, 3 poptart packages with a standard deviation of 1.5 a day from the snack vending machine. If on monday the machine is restocked with 17 poptart packages, how likely is it that I will be able to buy some poptarts on Friday afternoon? (Remember, if you have mean and standard deviation, use the np.random.normal) You'll need to make a judgement call on how to handle some of your values"
   ]
  },
  {
   "cell_type": "code",
   "execution_count": 127,
   "id": "ae6a16ae",
   "metadata": {},
   "outputs": [],
   "source": [
    "n_instance = 10_000\n",
    "stock = 17"
   ]
  },
  {
   "cell_type": "code",
   "execution_count": null,
   "id": "ac7b47cc",
   "metadata": {},
   "outputs": [],
   "source": [
    "daily_consuption = np.random.normal()"
   ]
  },
  {
   "cell_type": "code",
   "execution_count": 128,
   "id": "02e2d9ad",
   "metadata": {},
   "outputs": [
    {
     "data": {
      "text/plain": [
       "0.835"
      ]
     },
     "execution_count": 128,
     "metadata": {},
     "output_type": "execute_result"
    }
   ],
   "source": [
    "daily_consumption = np.random.uniform(1.5,4.5,n_instance)\n",
    "\n",
    "p_week_consumption = np.random.choice(daily_consumption,(n_instance,5))\n",
    "p_week_consumption = pd.DataFrame(p_week_consumption)\n",
    "p_of_within_stock = p_week_consumption.apply(lambda row: row.sum() <= 17, axis=1).mean()\n",
    "\n",
    "p_of_within_stock"
   ]
  },
  {
   "cell_type": "markdown",
   "id": "db4a6ad7",
   "metadata": {},
   "source": [
    "# 5. Compare Heights\n",
    "- #### Men have an average height of 178 cm and standard deviation of 8cm.\n",
    "- #### Women have a mean of 170, sd = 6cm.\n",
    "- #### Since you have means and standard deviations, you can use np.random.normal to generate observations.\n",
    "- #### If a man and woman are chosen at random, what is the likelihood the woman is taller than the man?"
   ]
  },
  {
   "cell_type": "code",
   "execution_count": 48,
   "id": "8d2fe9a7",
   "metadata": {},
   "outputs": [],
   "source": [
    "n_choices = 10_000\n",
    "\n",
    "men_height = np.random.normal(178,8,n_choices)\n",
    "women_height = np.random.normal(170,6,n_choices)\n",
    "\n",
    "random_height = pd.DataFrame({\"men\":men_height, \"women\":women_height})\n",
    "\n",
    "p_of_taller_woman = random_height.apply(lambda row: row[1] > row[0], axis=1).mean()"
   ]
  },
  {
   "cell_type": "markdown",
   "id": "bdb9b000",
   "metadata": {},
   "source": [
    "# 6. When installing anaconda on a student's computer, there's a 1 in 250 chance that the download is corrupted and the installation fails. What are the odds that after having 50 students download anaconda, no one has an installation issue? 100 students?\n",
    "- #### What is the probability that we observe an installation issue within the first 150 students that download anaconda?"
   ]
  },
  {
   "cell_type": "code",
   "execution_count": 53,
   "id": "e30f732f",
   "metadata": {},
   "outputs": [
    {
     "data": {
      "text/plain": [
       "0.0"
      ]
     },
     "execution_count": 53,
     "metadata": {},
     "output_type": "execute_result"
    }
   ],
   "source": [
    "failure = 1/250\n",
    "n_downloads = 50\n",
    "\n",
    "weighted_sim_dl = np.random.random(n_downloads) < failure\n",
    "\n",
    "weighted_sim_dl.mean() \n",
    "\n",
    "failure = 1/250\n",
    "n_downloads = 100\n",
    "\n",
    "weighted_sim_dl = np.random.random(n_downloads) < failure\n",
    "\n",
    "weighted_sim_dl.mean() "
   ]
  },
  {
   "cell_type": "markdown",
   "id": "01843ddb",
   "metadata": {},
   "source": [
    "- #### What is the probability that we observe an installation issue within the first 150 students that download anaconda?"
   ]
  },
  {
   "cell_type": "code",
   "execution_count": 52,
   "id": "43cd0075",
   "metadata": {},
   "outputs": [
    {
     "data": {
      "text/plain": [
       "0.0"
      ]
     },
     "execution_count": 52,
     "metadata": {},
     "output_type": "execute_result"
    }
   ],
   "source": [
    "failure = 1/250\n",
    "n_downloads = 150\n",
    "\n",
    "weighted_sim_dl = np.random.random(n_downloads) < failure\n",
    "\n",
    "weighted_sim_dl.mean() "
   ]
  },
  {
   "cell_type": "markdown",
   "id": "29252523",
   "metadata": {},
   "source": [
    "- #### How likely is it that 450 students all download anaconda without an issue?\n"
   ]
  },
  {
   "cell_type": "code",
   "execution_count": 51,
   "id": "6ac03de7",
   "metadata": {},
   "outputs": [
    {
     "data": {
      "text/plain": [
       "0.0"
      ]
     },
     "execution_count": 51,
     "metadata": {},
     "output_type": "execute_result"
    }
   ],
   "source": [
    "failure = 1/250\n",
    "n_downloads = 150\n",
    "\n",
    "weighted_sim_dl = np.random.random(n_downloads) <= failure\n",
    "\n",
    "weighted_sim_dl.mean() "
   ]
  },
  {
   "cell_type": "markdown",
   "id": "01e29da1",
   "metadata": {},
   "source": [
    "# 7. There's a 70% chance on any given day that there will be at least one food truck at Travis Park. However, you haven't seen a food truck there in 3 days. How unlikely is this?"
   ]
  },
  {
   "cell_type": "code",
   "execution_count": 225,
   "id": "18136ef9",
   "metadata": {},
   "outputs": [],
   "source": [
    "food_truck = .70\n",
    "n_days = 365"
   ]
  },
  {
   "cell_type": "code",
   "execution_count": 232,
   "id": "b092edf1",
   "metadata": {},
   "outputs": [],
   "source": [
    "no_truck_days = np.random.random(n_days) < food_truck\n",
    "no_truck_days = pd.DataFrame(no_truck_days)"
   ]
  },
  {
   "cell_type": "code",
   "execution_count": 248,
   "id": "e923c1c6",
   "metadata": {},
   "outputs": [
    {
     "name": "stdout",
     "output_type": "stream",
     "text": [
      "0    0.734247\n",
      "dtype: float64\n"
     ]
    }
   ],
   "source": [
    "no_truck_probability = (no_truck_days.sum()/n_days)\n",
    "print(no_truck_probability)"
   ]
  },
  {
   "cell_type": "markdown",
   "id": "9d1ff02c",
   "metadata": {},
   "source": [
    "- #### How likely is it that a food truck will show up sometime this week?"
   ]
  },
  {
   "cell_type": "code",
   "execution_count": 254,
   "id": "ed3ccf6a",
   "metadata": {},
   "outputs": [
    {
     "name": "stdout",
     "output_type": "stream",
     "text": [
      "0    0.01412\n",
      "dtype: float64\n"
     ]
    }
   ],
   "source": [
    "truck_days = np.random.random(n_days) > food_truck\n",
    "truck_days = pd.DataFrame(no_truck_days)\n",
    "week_truck_probability = ((no_truck_days.sum()/365)/52)\n",
    "print(week_truck_probability)"
   ]
  },
  {
   "cell_type": "markdown",
   "id": "09b5ad13",
   "metadata": {},
   "source": [
    "# 8. If 23 people are in the same room, what are the odds that two of them share a birthday? What if it's 20 people? 40?"
   ]
  },
  {
   "cell_type": "markdown",
   "id": "c5bfd006",
   "metadata": {},
   "source": [
    "#### Rules Setup"
   ]
  },
  {
   "cell_type": "code",
   "execution_count": 88,
   "id": "2ef61373",
   "metadata": {},
   "outputs": [],
   "source": [
    "trial_count = 10_000\n",
    "people = 23\n",
    "birthdays = 365"
   ]
  },
  {
   "cell_type": "code",
   "execution_count": 199,
   "id": "6a9b6b6f",
   "metadata": {},
   "outputs": [],
   "source": [
    "room_birthdays = birthdays_array = np.random.choice(birthdays, (trial_count, people))"
   ]
  },
  {
   "cell_type": "code",
   "execution_count": 200,
   "id": "db6fbe79",
   "metadata": {},
   "outputs": [
    {
     "data": {
      "text/plain": [
       "numpy.ndarray"
      ]
     },
     "execution_count": 200,
     "metadata": {},
     "output_type": "execute_result"
    }
   ],
   "source": [
    "type(birthdays_array)"
   ]
  },
  {
   "cell_type": "code",
   "execution_count": 201,
   "id": "a06ec240",
   "metadata": {},
   "outputs": [
    {
     "name": "stdout",
     "output_type": "stream",
     "text": [
      "[[347 180 208 ... 174  25 221]\n",
      " [217 327   8 ... 353 333  13]\n",
      " [ 62 142 211 ... 281 315 109]\n",
      " ...\n",
      " [195  50 156 ... 150 110 208]\n",
      " [164 158 245 ... 200  51 101]\n",
      " [ 72 133  92 ... 258 254 230]]\n"
     ]
    }
   ],
   "source": [
    "print(room_birthdays)"
   ]
  },
  {
   "cell_type": "code",
   "execution_count": 202,
   "id": "37f9f215",
   "metadata": {},
   "outputs": [],
   "source": [
    "# convert to pandas dataframe\n",
    "room_birthdays = pd.DataFrame(room_birthdays)"
   ]
  },
  {
   "cell_type": "code",
   "execution_count": 203,
   "id": "6cfe33ae",
   "metadata": {},
   "outputs": [
    {
     "data": {
      "text/plain": [
       "pandas.core.frame.DataFrame"
      ]
     },
     "execution_count": 203,
     "metadata": {},
     "output_type": "execute_result"
    }
   ],
   "source": []
  },
  {
   "cell_type": "code",
   "execution_count": 204,
   "id": "536936cf",
   "metadata": {},
   "outputs": [],
   "source": [
    "a=(room_birthdays.nunique(axis=1) < 23)"
   ]
  },
  {
   "cell_type": "code",
   "execution_count": 205,
   "id": "41505436",
   "metadata": {},
   "outputs": [
    {
     "data": {
      "text/plain": [
       "pandas.core.series.Series"
      ]
     },
     "execution_count": 205,
     "metadata": {},
     "output_type": "execute_result"
    }
   ],
   "source": [
    "type(a)"
   ]
  },
  {
   "cell_type": "code",
   "execution_count": 206,
   "id": "b95da3e6",
   "metadata": {},
   "outputs": [
    {
     "data": {
      "text/plain": [
       "0.5025"
      ]
     },
     "execution_count": 206,
     "metadata": {},
     "output_type": "execute_result"
    }
   ],
   "source": [
    "(room_birthdays.nunique(axis=1) < 23).mean()"
   ]
  },
  {
   "cell_type": "code",
   "execution_count": 207,
   "id": "51a7452f",
   "metadata": {},
   "outputs": [
    {
     "data": {
      "text/html": [
       "<div>\n",
       "<style scoped>\n",
       "    .dataframe tbody tr th:only-of-type {\n",
       "        vertical-align: middle;\n",
       "    }\n",
       "\n",
       "    .dataframe tbody tr th {\n",
       "        vertical-align: top;\n",
       "    }\n",
       "\n",
       "    .dataframe thead th {\n",
       "        text-align: right;\n",
       "    }\n",
       "</style>\n",
       "<table border=\"1\" class=\"dataframe\">\n",
       "  <thead>\n",
       "    <tr style=\"text-align: right;\">\n",
       "      <th></th>\n",
       "      <th>0</th>\n",
       "      <th>1</th>\n",
       "      <th>2</th>\n",
       "      <th>3</th>\n",
       "      <th>4</th>\n",
       "      <th>5</th>\n",
       "      <th>6</th>\n",
       "      <th>7</th>\n",
       "      <th>8</th>\n",
       "      <th>9</th>\n",
       "      <th>...</th>\n",
       "      <th>13</th>\n",
       "      <th>14</th>\n",
       "      <th>15</th>\n",
       "      <th>16</th>\n",
       "      <th>17</th>\n",
       "      <th>18</th>\n",
       "      <th>19</th>\n",
       "      <th>20</th>\n",
       "      <th>21</th>\n",
       "      <th>22</th>\n",
       "    </tr>\n",
       "  </thead>\n",
       "  <tbody>\n",
       "    <tr>\n",
       "      <th>0</th>\n",
       "      <td>347</td>\n",
       "      <td>180</td>\n",
       "      <td>208</td>\n",
       "      <td>28</td>\n",
       "      <td>235</td>\n",
       "      <td>64</td>\n",
       "      <td>35</td>\n",
       "      <td>17</td>\n",
       "      <td>227</td>\n",
       "      <td>337</td>\n",
       "      <td>...</td>\n",
       "      <td>307</td>\n",
       "      <td>164</td>\n",
       "      <td>103</td>\n",
       "      <td>302</td>\n",
       "      <td>319</td>\n",
       "      <td>329</td>\n",
       "      <td>78</td>\n",
       "      <td>174</td>\n",
       "      <td>25</td>\n",
       "      <td>221</td>\n",
       "    </tr>\n",
       "    <tr>\n",
       "      <th>1</th>\n",
       "      <td>217</td>\n",
       "      <td>327</td>\n",
       "      <td>8</td>\n",
       "      <td>261</td>\n",
       "      <td>252</td>\n",
       "      <td>122</td>\n",
       "      <td>145</td>\n",
       "      <td>282</td>\n",
       "      <td>248</td>\n",
       "      <td>89</td>\n",
       "      <td>...</td>\n",
       "      <td>191</td>\n",
       "      <td>86</td>\n",
       "      <td>111</td>\n",
       "      <td>199</td>\n",
       "      <td>286</td>\n",
       "      <td>268</td>\n",
       "      <td>48</td>\n",
       "      <td>353</td>\n",
       "      <td>333</td>\n",
       "      <td>13</td>\n",
       "    </tr>\n",
       "    <tr>\n",
       "      <th>2</th>\n",
       "      <td>62</td>\n",
       "      <td>142</td>\n",
       "      <td>211</td>\n",
       "      <td>122</td>\n",
       "      <td>191</td>\n",
       "      <td>218</td>\n",
       "      <td>177</td>\n",
       "      <td>326</td>\n",
       "      <td>143</td>\n",
       "      <td>256</td>\n",
       "      <td>...</td>\n",
       "      <td>93</td>\n",
       "      <td>333</td>\n",
       "      <td>39</td>\n",
       "      <td>72</td>\n",
       "      <td>265</td>\n",
       "      <td>356</td>\n",
       "      <td>68</td>\n",
       "      <td>281</td>\n",
       "      <td>315</td>\n",
       "      <td>109</td>\n",
       "    </tr>\n",
       "  </tbody>\n",
       "</table>\n",
       "<p>3 rows × 23 columns</p>\n",
       "</div>"
      ],
      "text/plain": [
       "    0    1    2    3    4    5    6    7    8    9   ...   13   14   15   16  \\\n",
       "0  347  180  208   28  235   64   35   17  227  337  ...  307  164  103  302   \n",
       "1  217  327    8  261  252  122  145  282  248   89  ...  191   86  111  199   \n",
       "2   62  142  211  122  191  218  177  326  143  256  ...   93  333   39   72   \n",
       "\n",
       "    17   18  19   20   21   22  \n",
       "0  319  329  78  174   25  221  \n",
       "1  286  268  48  353  333   13  \n",
       "2  265  356  68  281  315  109  \n",
       "\n",
       "[3 rows x 23 columns]"
      ]
     },
     "execution_count": 207,
     "metadata": {},
     "output_type": "execute_result"
    }
   ],
   "source": [
    "room_birthdays.head(3)"
   ]
  },
  {
   "cell_type": "code",
   "execution_count": null,
   "id": "3d034f7e",
   "metadata": {},
   "outputs": [],
   "source": [
    "# 10TH ROW\n",
    "# [0] & [16]"
   ]
  },
  {
   "cell_type": "code",
   "execution_count": 210,
   "id": "f3c8fbd5",
   "metadata": {},
   "outputs": [
    {
     "data": {
      "text/plain": [
       "0     344\n",
       "1     150\n",
       "2      48\n",
       "3      52\n",
       "4      68\n",
       "5     201\n",
       "6     353\n",
       "7      77\n",
       "8     272\n",
       "9      60\n",
       "10    313\n",
       "11    237\n",
       "12    312\n",
       "13    192\n",
       "14    218\n",
       "15    333\n",
       "16      2\n",
       "17    300\n",
       "18     82\n",
       "19     23\n",
       "20     65\n",
       "21    329\n",
       "22    333\n",
       "Name: 10, dtype: int64"
      ]
     },
     "execution_count": 210,
     "metadata": {},
     "output_type": "execute_result"
    }
   ],
   "source": [
    "room_birthdays.iloc[10]"
   ]
  },
  {
   "cell_type": "code",
   "execution_count": 211,
   "id": "2cbb993d",
   "metadata": {},
   "outputs": [
    {
     "name": "stdout",
     "output_type": "stream",
     "text": [
      "2\n",
      "344\n"
     ]
    }
   ],
   "source": [
    "print(room_birthdays[16].iloc[10])\n",
    "print(room_birthdays[0].iloc[10])"
   ]
  },
  {
   "cell_type": "code",
   "execution_count": 212,
   "id": "f60b5772",
   "metadata": {},
   "outputs": [],
   "source": [
    "def count_rows(row):\n",
    "    match_count = 0\n",
    "    for cell in row:\n",
    "        if cell == row[0]:\n",
    "            match_count += 1\n",
    "    match_count-=1\n",
    "    return match_count"
   ]
  },
  {
   "cell_type": "code",
   "execution_count": 213,
   "id": "4159d2bf",
   "metadata": {
    "scrolled": true
   },
   "outputs": [
    {
     "data": {
      "text/plain": [
       "583"
      ]
     },
     "execution_count": 213,
     "metadata": {},
     "output_type": "execute_result"
    }
   ],
   "source": [
    "count_rows_test = room_birthdays.apply(count_rows,axis=1)\n",
    "count_rows_test.sum()"
   ]
  },
  {
   "cell_type": "code",
   "execution_count": 214,
   "id": "8dbc72a3",
   "metadata": {},
   "outputs": [],
   "source": [
    "# COMPARE FUNCTION PANDAS DOCS\n",
    "# ELITE CODE\n",
    "\n",
    "# TOOLS\n",
    "# Time it\n",
    "\n",
    "# [8,2,3,4,3,3,2,6]\n",
    "# FILTER DOWN"
   ]
  },
  {
   "cell_type": "code",
   "execution_count": 215,
   "id": "4e02f81b",
   "metadata": {},
   "outputs": [
    {
     "data": {
      "text/plain": [
       "0     0\n",
       "1     0\n",
       "2     0\n",
       "3     0\n",
       "4     0\n",
       "5     0\n",
       "6     0\n",
       "7     0\n",
       "8     0\n",
       "9     0\n",
       "10    0\n",
       "dtype: int64"
      ]
     },
     "execution_count": 215,
     "metadata": {},
     "output_type": "execute_result"
    }
   ],
   "source": [
    "count_rows_test.head(11)"
   ]
  },
  {
   "cell_type": "code",
   "execution_count": 216,
   "id": "e1f383c1",
   "metadata": {},
   "outputs": [],
   "source": [
    "birthday_matches = count_rows_test.apply(lambda row: row > 0)"
   ]
  },
  {
   "cell_type": "code",
   "execution_count": 217,
   "id": "fa202014",
   "metadata": {},
   "outputs": [
    {
     "data": {
      "text/plain": [
       "569"
      ]
     },
     "execution_count": 217,
     "metadata": {},
     "output_type": "execute_result"
    }
   ],
   "source": [
    "birthday_matches.sum()"
   ]
  },
  {
   "cell_type": "code",
   "execution_count": 218,
   "id": "e7c25054",
   "metadata": {
    "scrolled": true
   },
   "outputs": [
    {
     "data": {
      "text/plain": [
       "10000"
      ]
     },
     "execution_count": 218,
     "metadata": {},
     "output_type": "execute_result"
    }
   ],
   "source": [
    "len(count_rows_test)"
   ]
  },
  {
   "cell_type": "code",
   "execution_count": 219,
   "id": "df70b290",
   "metadata": {
    "scrolled": true
   },
   "outputs": [],
   "source": [
    "more_than_2_matches = count_rows_test.apply(lambda row: row > 1)"
   ]
  },
  {
   "cell_type": "code",
   "execution_count": 220,
   "id": "e95cf8b0",
   "metadata": {},
   "outputs": [
    {
     "data": {
      "text/plain": [
       "13"
      ]
     },
     "execution_count": 220,
     "metadata": {},
     "output_type": "execute_result"
    }
   ],
   "source": [
    "more_than_2_matches.sum()"
   ]
  },
  {
   "cell_type": "code",
   "execution_count": 221,
   "id": "5adc0bbe",
   "metadata": {},
   "outputs": [
    {
     "name": "stdout",
     "output_type": "stream",
     "text": [
      "174\n",
      "312\n",
      "1987\n",
      "2277\n",
      "2735\n",
      "2996\n",
      "4813\n",
      "5328\n",
      "6032\n",
      "7568\n",
      "7986\n",
      "9911\n",
      "9959\n"
     ]
    }
   ],
   "source": [
    "for x,y in enumerate(more_than_2_matches):\n",
    "    if y == True:\n",
    "        print(x)"
   ]
  },
  {
   "cell_type": "code",
   "execution_count": 222,
   "id": "75f96694",
   "metadata": {},
   "outputs": [
    {
     "data": {
      "text/plain": [
       "0     113\n",
       "1     194\n",
       "2     275\n",
       "3     207\n",
       "4      87\n",
       "5      59\n",
       "6     139\n",
       "7     108\n",
       "8     143\n",
       "9     251\n",
       "10      3\n",
       "11    214\n",
       "12    170\n",
       "13    290\n",
       "14    106\n",
       "15    130\n",
       "16     31\n",
       "17    135\n",
       "18     12\n",
       "19     94\n",
       "20     29\n",
       "21    177\n",
       "22    310\n",
       "Name: 601, dtype: int64"
      ]
     },
     "execution_count": 222,
     "metadata": {},
     "output_type": "execute_result"
    }
   ],
   "source": [
    "room_birthdays.iloc[601]"
   ]
  },
  {
   "cell_type": "code",
   "execution_count": 223,
   "id": "4e80f5ab",
   "metadata": {},
   "outputs": [
    {
     "data": {
      "text/plain": [
       "13"
      ]
     },
     "execution_count": 223,
     "metadata": {},
     "output_type": "execute_result"
    }
   ],
   "source": [
    "more_than_2_matches.sum()"
   ]
  },
  {
   "cell_type": "markdown",
   "id": "4537d066",
   "metadata": {},
   "source": [
    "# ANSWER"
   ]
  },
  {
   "cell_type": "code",
   "execution_count": 224,
   "id": "e0aa8389",
   "metadata": {},
   "outputs": [
    {
     "data": {
      "text/plain": [
       "0.0583"
      ]
     },
     "execution_count": 224,
     "metadata": {},
     "output_type": "execute_result"
    }
   ],
   "source": [
    "count_rows_test = room_birthdays.apply(count_rows,axis=1)\n",
    "count_rows_test.mean()"
   ]
  }
 ],
 "metadata": {
  "kernelspec": {
   "display_name": "Python 3 (ipykernel)",
   "language": "python",
   "name": "python3"
  },
  "language_info": {
   "codemirror_mode": {
    "name": "ipython",
    "version": 3
   },
   "file_extension": ".py",
   "mimetype": "text/x-python",
   "name": "python",
   "nbconvert_exporter": "python",
   "pygments_lexer": "ipython3",
   "version": "3.9.13"
  }
 },
 "nbformat": 4,
 "nbformat_minor": 5
}
