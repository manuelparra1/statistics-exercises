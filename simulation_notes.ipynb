{
 "cells": [
  {
   "cell_type": "code",
   "execution_count": 82,
   "id": "6e2cd2bf",
   "metadata": {},
   "outputs": [],
   "source": [
    "import numpy as np\n",
    "import pandas as pd\n",
    "import random\n",
    "\n",
    "import viz\n",
    "np.random.seed(29)\n",
    "\n",
    "%matplotlib inline"
   ]
  },
  {
   "cell_type": "code",
   "execution_count": 83,
   "id": "382c4d3a",
   "metadata": {},
   "outputs": [
    {
     "name": "stdout",
     "output_type": "stream",
     "text": [
      "False\n",
      "True\n",
      "False\n",
      "False\n",
      "True\n"
     ]
    }
   ],
   "source": [
    "def flipCoin():\n",
    "    return random.choice([True,False])\n",
    "\n",
    "for i in range(0,5):\n",
    "    print(flipCoin())"
   ]
  },
  {
   "cell_type": "code",
   "execution_count": 84,
   "id": "e3a1bc7b",
   "metadata": {},
   "outputs": [
    {
     "name": "stdout",
     "output_type": "stream",
     "text": [
      "Heads: 4914\n",
      "Tails: 5086\n"
     ]
    }
   ],
   "source": [
    "#import itertools\n",
    "\n",
    "results = {\n",
    "    'heads': 0,\n",
    "    'tails': 0,\n",
    "}\n",
    "sides = list(results.keys())\n",
    "\n",
    "for i in range(10000):\n",
    "    results[random.choice(sides)] += 1\n",
    "\n",
    "print('Heads:', results['heads'])\n",
    "print('Tails:', results['tails'])"
   ]
  },
  {
   "cell_type": "code",
   "execution_count": 85,
   "id": "a5cf4b26",
   "metadata": {},
   "outputs": [
    {
     "name": "stdout",
     "output_type": "stream",
     "text": [
      "Heads\n"
     ]
    }
   ],
   "source": [
    "result = random.choice([\"Heads\",\"Tails\"])\n",
    "print(result)"
   ]
  },
  {
   "cell_type": "code",
   "execution_count": 86,
   "id": "6add4c10",
   "metadata": {},
   "outputs": [],
   "source": [
    "coin_flips_100 = np.random.choice([0,1],100)"
   ]
  },
  {
   "cell_type": "code",
   "execution_count": 87,
   "id": "fc137285",
   "metadata": {},
   "outputs": [],
   "source": [
    "coin_flips_100_df = pd.DataFrame(data=coin_flips_100, columns = ['Heads or Tails'])"
   ]
  },
  {
   "cell_type": "code",
   "execution_count": 88,
   "id": "3208bbd8",
   "metadata": {},
   "outputs": [
    {
     "ename": "IndexError",
     "evalue": "only integers, slices (`:`), ellipsis (`...`), numpy.newaxis (`None`) and integer or boolean arrays are valid indices",
     "output_type": "error",
     "traceback": [
      "\u001b[0;31m---------------------------------------------------------------------------\u001b[0m",
      "\u001b[0;31mIndexError\u001b[0m                                Traceback (most recent call last)",
      "Input \u001b[0;32mIn [88]\u001b[0m, in \u001b[0;36m<cell line: 2>\u001b[0;34m()\u001b[0m\n\u001b[1;32m      1\u001b[0m data_new1 \u001b[38;5;241m=\u001b[39m data\u001b[38;5;241m.\u001b[39mcopy()                                                \u001b[38;5;66;03m# Create copy of pandas DataFrame\u001b[39;00m\n\u001b[0;32m----> 2\u001b[0m data_new1[\u001b[38;5;124m'\u001b[39m\u001b[38;5;124mx1\u001b[39m\u001b[38;5;124m'\u001b[39m] \u001b[38;5;241m=\u001b[39m \u001b[43mdata_new1\u001b[49m\u001b[43m[\u001b[49m\u001b[38;5;124;43m'\u001b[39;49m\u001b[38;5;124;43mx1\u001b[39;49m\u001b[38;5;124;43m'\u001b[39;49m\u001b[43m]\u001b[49m\u001b[38;5;241m.\u001b[39mmap({\u001b[38;5;28;01mTrue\u001b[39;00m: \u001b[38;5;124m'\u001b[39m\u001b[38;5;124mTrue\u001b[39m\u001b[38;5;124m'\u001b[39m, \u001b[38;5;28;01mFalse\u001b[39;00m: \u001b[38;5;124m'\u001b[39m\u001b[38;5;124mFalse\u001b[39m\u001b[38;5;124m'\u001b[39m})  \u001b[38;5;66;03m# Replace boolean by string\u001b[39;00m\n\u001b[1;32m      3\u001b[0m \u001b[38;5;28mprint\u001b[39m(data_new1)\n",
      "\u001b[0;31mIndexError\u001b[0m: only integers, slices (`:`), ellipsis (`...`), numpy.newaxis (`None`) and integer or boolean arrays are valid indices"
     ]
    }
   ],
   "source": [
    "data_new1 = data.copy()                                                # Create copy of pandas DataFrame\n",
    "data_new1['x1'] = data_new1['x1'].map({True: 'True', False: 'False'})  # Replace boolean by string\n",
    "print(data_new1)   "
   ]
  },
  {
   "cell_type": "code",
   "execution_count": null,
   "id": "305c09e7",
   "metadata": {},
   "outputs": [],
   "source": [
    "coin_flips_100_df"
   ]
  },
  {
   "cell_type": "code",
   "execution_count": null,
   "id": "dfe3a1c2",
   "metadata": {},
   "outputs": [],
   "source": [
    "n_trials = nrows = x = 10_000\n",
    "n_dice = ncols = 3\n",
    "\n",
    "rolls = np.random.choice([1,2,3,4,5,6],n_trials*n_dice).reshape(nrows,ncols)\n",
    "print(rolls)\n",
    "# Sum of each \"Event\" (rows)\n",
    "sums_by_trial = rolls.sum(axis=1)\n",
    "viz.simulation_example1(sums_by_trial)"
   ]
  },
  {
   "cell_type": "markdown",
   "id": "1ccb0fe0",
   "metadata": {},
   "source": [
    "### Coin Game > 12"
   ]
  },
  {
   "cell_type": "code",
   "execution_count": null,
   "id": "d6c42060",
   "metadata": {},
   "outputs": [],
   "source": [
    "# Find number of wins\n",
    "# Using a comparison operator\n",
    "\n",
    "# create array of booleans\n",
    "wins = sums_by_trial > 12\n",
    "print(wins)\n",
    "\n",
    "only_wins = wins.sum()\n",
    "print(only_wins)\n",
    "\n",
    "win_rate = wins.astype(int).mean()\n",
    "print(win_rate)"
   ]
  },
  {
   "cell_type": "code",
   "execution_count": null,
   "id": "aaa7187f",
   "metadata": {},
   "outputs": [],
   "source": [
    "expected_winnings = win_rate * 15\n",
    "cost = 5\n",
    "expected_profit = expected_winnings - cost"
   ]
  },
  {
   "cell_type": "code",
   "execution_count": null,
   "id": "77dce261",
   "metadata": {},
   "outputs": [],
   "source": [
    "expected_winnings"
   ]
  },
  {
   "cell_type": "code",
   "execution_count": null,
   "id": "8d42c1c4",
   "metadata": {},
   "outputs": [],
   "source": [
    "expected_profit"
   ]
  },
  {
   "cell_type": "markdown",
   "id": "f8f2cc5b",
   "metadata": {},
   "source": [
    "### Coin Game >= 12"
   ]
  },
  {
   "cell_type": "code",
   "execution_count": null,
   "id": "5216ce4f",
   "metadata": {},
   "outputs": [],
   "source": [
    "# Win = >= 12\n",
    "\n",
    "wins = sums_by_trial >=12\n",
    "\n",
    "win_rate = wins.astype(int).mean()\n",
    "\n",
    "expected_winnings = win_rate * 15\n",
    "cost=5\n",
    "expected_profit = expected_winnings - cost\n",
    "expected_profit"
   ]
  },
  {
   "cell_type": "markdown",
   "id": "48e13ddf",
   "metadata": {},
   "source": [
    "### Toddler Naps"
   ]
  },
  {
   "cell_type": "code",
   "execution_count": null,
   "id": "8b90e0d2",
   "metadata": {},
   "outputs": [],
   "source": [
    "# random.random = ouputs (between 0 to 1)\n",
    "# 0% to 100%"
   ]
  },
  {
   "cell_type": "code",
   "execution_count": null,
   "id": "4a98381b",
   "metadata": {},
   "outputs": [],
   "source": [
    "percent_nap = .3\n",
    "ndays = ncols = 2\n",
    "weekends = nrows = 10**5\n",
    "\n",
    "data = np.random.random((nrows,ncols))\n",
    "data"
   ]
  },
  {
   "cell_type": "code",
   "execution_count": null,
   "id": "47dc6c68",
   "metadata": {},
   "outputs": [],
   "source": [
    "naps = data < percent_nap\n",
    "naps"
   ]
  },
  {
   "cell_type": "code",
   "execution_count": null,
   "id": "d3f64e5d",
   "metadata": {},
   "outputs": [],
   "source": [
    "total_naps = naps.sum(axis=1)\n",
    "total_naps.sum()"
   ]
  },
  {
   "cell_type": "code",
   "execution_count": null,
   "id": "389880de",
   "metadata": {},
   "outputs": [],
   "source": [
    "total_naps"
   ]
  },
  {
   "cell_type": "code",
   "execution_count": null,
   "id": "b4525617",
   "metadata": {},
   "outputs": [],
   "source": [
    "viz.simulation_example2(naps)"
   ]
  },
  {
   "cell_type": "code",
   "execution_count": null,
   "id": "d10aa6b8",
   "metadata": {},
   "outputs": [],
   "source": [
    "mean_naps = (naps.sum(axis=1)>=1).mean()\n",
    "mean_naps"
   ]
  },
  {
   "cell_type": "code",
   "execution_count": null,
   "id": "80a39ee5",
   "metadata": {},
   "outputs": [],
   "source": [
    "mean_no_naps = (naps.sum(axis=1)==0).mean()\n",
    "mean_no_naps"
   ]
  },
  {
   "cell_type": "markdown",
   "id": "75598348",
   "metadata": {},
   "source": [
    "# Using a dataframe"
   ]
  },
  {
   "cell_type": "code",
   "execution_count": 92,
   "id": "ba10b7cb",
   "metadata": {},
   "outputs": [
    {
     "data": {
      "text/plain": [
       "0.42177"
      ]
     },
     "execution_count": 92,
     "metadata": {},
     "output_type": "execute_result"
    }
   ],
   "source": [
    "# Rules\n",
    "number_of_simulations = rows = x = 10**5\n",
    "number_of_dice = columns = y = 3\n",
    "\n",
    "# Rolls\n",
    "rolls = np.random.choice([1,2,3,4,5,6], rows * columns).reshape(rows,columns)\n",
    "\n",
    "# Randomly Select from 1-6\n",
    "\n",
    "# Structured as Matrix\n",
    "\n",
    "# Check if a 3 is in the row\n",
    "(pd.DataFrame(rolls)\n",
    ".apply(lambda row: 3 in row.values, axis=1)\n",
    ".mean())\n",
    "# - - - - - - - - - - - "
   ]
  },
  {
   "cell_type": "markdown",
   "id": "62699fe5",
   "metadata": {},
   "source": [
    "# LAMBDA FUNCTIONS\n",
    "\n"
   ]
  },
  {
   "cell_type": "code",
   "execution_count": null,
   "id": "d36c760f",
   "metadata": {},
   "outputs": [],
   "source": []
  },
  {
   "cell_type": "code",
   "execution_count": 99,
   "id": "e2e941ef",
   "metadata": {},
   "outputs": [
    {
     "name": "stdout",
     "output_type": "stream",
     "text": [
      "   0  1  2\n",
      "0  4  5  1\n",
      "1  1  6  1\n",
      "2  2  3  1\n",
      "3  6  6  1\n",
      "4  3  3  3\n",
      "0    False\n",
      "1    False\n",
      "2     True\n",
      "dtype: bool\n",
      "0.42177\n",
      "<class 'pandas.core.frame.DataFrame'>\n"
     ]
    },
    {
     "data": {
      "text/plain": [
       "array([[4, 5, 1],\n",
       "       [1, 6, 1],\n",
       "       [2, 3, 1]])"
      ]
     },
     "execution_count": 99,
     "metadata": {},
     "output_type": "execute_result"
    }
   ],
   "source": [
    "test = pd.DataFrame(rolls)\n",
    "\n",
    "test_2 = test.apply(lambda mustard: 3 in mustard.values, axis=1)\n",
    "\n",
    "print(test.head())\n",
    "print(test_2.head(3))\n",
    "print(test_2.mean())\n",
    "\n",
    "print(type(test))\n",
    "test.head(3).values\n"
   ]
  }
 ],
 "metadata": {
  "kernelspec": {
   "display_name": "Python 3 (ipykernel)",
   "language": "python",
   "name": "python3"
  },
  "language_info": {
   "codemirror_mode": {
    "name": "ipython",
    "version": 3
   },
   "file_extension": ".py",
   "mimetype": "text/x-python",
   "name": "python",
   "nbconvert_exporter": "python",
   "pygments_lexer": "ipython3",
   "version": "3.9.13"
  }
 },
 "nbformat": 4,
 "nbformat_minor": 5
}
