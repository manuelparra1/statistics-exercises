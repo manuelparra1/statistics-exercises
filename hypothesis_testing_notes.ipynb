{
 "cells": [
  {
   "cell_type": "markdown",
   "id": "b3d04811",
   "metadata": {},
   "source": [
    "|             | $H_{0}$ is True   | $H_{0}$ is False   |\n",
    "| ----------- | :---           |           ---:  |\n",
    "| Accept H(0) | True Negative  | False Positive  |\n",
    "| Reject H(0) | False Negative | True Positive   |"
   ]
  },
  {
   "cell_type": "markdown",
   "id": "b5f69618",
   "metadata": {},
   "source": [
    "    Null:                     $H_{0}$\n",
    "    Alternative Hypothesis:   $H_{A}$\n",
    "    \n",
    "    True Positive:            $H_{0}$=TRUE\n",
    "    True Negative:            $H_{0}$=TRUE\n",
    "    Type I(False Positive):   H(FP)\n",
    "    Type II(False Negative):  H(FN)"
   ]
  },
  {
   "cell_type": "markdown",
   "id": "7b514240",
   "metadata": {},
   "source": [
    "> #### The quarterly results look great!\n",
    ">\n",
    "> - Revenue was off the chart.\n",
    "> - Profits were higher than ever.\n",
    ">\n",
    "> |             | $H_{0}$ is True   | $H_{0}$ is False   |\n",
    "> | ----------- | :---           |           ---:  |\n",
    "> | Accept $H_{0}$ | True Negative  | False Positive  |\n",
    "> | Reject $H_{0}$ | False Negative | True Positive   |\n",
    ">\n",
    ">  *Everything* is going according to **plan**."
   ]
  },
  {
   "cell_type": "markdown",
   "id": "b36cf589",
   "metadata": {},
   "source": [
    "<div class=\"alert alert-block alert-info\">\n",
    "\n",
    "# **Hypothesis**\n",
    "\n",
    "### Cases\n",
    "- No Change\n",
    "- Increased\n",
    "- Decreased\n",
    "</div>"
   ]
  },
  {
   "cell_type": "markdown",
   "id": "69cef388",
   "metadata": {},
   "source": [
    "Rolling Dice\n",
    "\n",
    "10 Dice & Average\n",
    "\n",
    "Normal Distribution"
   ]
  },
  {
   "cell_type": "code",
   "execution_count": 167,
   "id": "1c49d002",
   "metadata": {},
   "outputs": [],
   "source": [
    "import numpy as np\n",
    "import seaborn as sns\n",
    "import scipy.stats as stats\n",
    "import pandas as pd\n",
    "import matplotlib.pyplot as plt\n",
    "\n",
    "np.random.seed(123)"
   ]
  },
  {
   "cell_type": "code",
   "execution_count": 9,
   "id": "12b6bd7f",
   "metadata": {},
   "outputs": [
    {
     "data": {
      "text/plain": [
       "array([[6, 5, 5, 4, 5, 4, 3, 5, 1, 5],\n",
       "       [1, 4, 6, 1, 4, 2, 3, 2, 3, 1],\n",
       "       [4, 6, 4, 6, 6, 4, 6, 3, 3, 1],\n",
       "       [4, 3, 3, 6, 6, 2, 4, 5, 2, 5]])"
      ]
     },
     "execution_count": 9,
     "metadata": {},
     "output_type": "execute_result"
    }
   ],
   "source": [
    "# Define a roll [1,2,3,4,5,6]\n",
    "\n",
    "# Set a sample size of 10\n",
    "n_dice_per_experiment = ncols = 10\n",
    "n_experiments = nrows = 100\n",
    "\n",
    "data = np.random.randint(1,7, (nrows,ncols))\n",
    "\n",
    "data[:4]"
   ]
  },
  {
   "cell_type": "code",
   "execution_count": 5,
   "id": "3db1b491",
   "metadata": {},
   "outputs": [
    {
     "data": {
      "text/plain": [
       "array([3.6, 4.8, 3. , 3.3, 4.5, 4. , 3.5, 4.8, 3. , 4.3, 3.9, 3.2, 4.2,\n",
       "       3.6, 3.4, 3.3, 4.1, 1.9, 3.2, 3.2, 4.2, 3. , 4.4, 3.3, 3.4, 2.8,\n",
       "       2.9, 3.5, 3.3, 3.9, 2.9, 4.1, 3.4, 2.7, 4.1, 2.8, 3.6, 4. , 4. ,\n",
       "       3.5, 4. , 3.8, 3.5, 3.4, 3.9, 3.4, 3.6, 2.6, 4.2, 2.1, 3.2, 2.7,\n",
       "       3.4, 4.5, 3.1, 3.8, 3.4, 4.4, 4.4, 3.7, 2.7, 3.4, 3.4, 3.1, 3.3,\n",
       "       3.1, 3.7, 3.6, 3.4, 3.6, 3.5, 4.4, 2.8, 3.8, 4.1, 3.9, 3.6, 3.5,\n",
       "       3. , 3.3, 4. , 3.7, 4.3, 4.1, 4.3, 4.3, 3.2, 4.1, 3.6, 3.2, 2.8,\n",
       "       3.7, 4. , 3.5, 3.7, 4.7, 3.7, 3.4, 3.8, 3.7])"
      ]
     },
     "execution_count": 5,
     "metadata": {},
     "output_type": "execute_result"
    }
   ],
   "source": [
    "# mean of each row\n",
    "calculated_averages = data.mean(axis=1)\n",
    "calculated_averages"
   ]
  },
  {
   "cell_type": "markdown",
   "id": "278e03b3",
   "metadata": {},
   "source": [
    "10 Dice Outcomes is Uniformly Distributed"
   ]
  },
  {
   "cell_type": "code",
   "execution_count": 11,
   "id": "32a1931b",
   "metadata": {},
   "outputs": [],
   "source": [
    "# Plot Outcomes"
   ]
  },
  {
   "cell_type": "code",
   "execution_count": 10,
   "id": "f9ac5b3d",
   "metadata": {},
   "outputs": [
    {
     "data": {
      "text/plain": [
       "Text(0.5, 1.0, 'Outcome')"
      ]
     },
     "execution_count": 10,
     "metadata": {},
     "output_type": "execute_result"
    },
    {
     "data": {
      "image/png": "[encoded data removed]",
      "text/plain": [
       "<Figure size 640x480 with 1 Axes>"
      ]
     },
     "metadata": {},
     "output_type": "display_data"
    }
   ],
   "source": [
    "plt.hist(calculated_averages)\n",
    "plt.xlabel('')\n",
    "plt.ylabel('')\n",
    "plt.title('Outcome')"
   ]
  },
  {
   "cell_type": "markdown",
   "id": "a3de03b9",
   "metadata": {},
   "source": [
    "## One Sample T-Test\n",
    "\n",
    "1. Plot Distributions\n",
    "2. Establish Hypothesis"
   ]
  },
  {
   "cell_type": "code",
   "execution_count": 43,
   "id": "60480c35",
   "metadata": {},
   "outputs": [],
   "source": [
    "import pandas as pd\n",
    "import matplotlib.pyplot as plt\n",
    "import scipy.stats as stats\n",
    "import seaborn as sns\n",
    "import env\n",
    "\n",
    "from IPython.display import display, Latex\n",
    "\n",
    "db_url = f'mysql+pymysql://{env.username}:{env.password}@{env.host}/telco_churn'\n",
    "df = pd.read_sql('SELECT * FROM customers', db_url)"
   ]
  },
  {
   "cell_type": "code",
   "execution_count": 15,
   "id": "c86b19d5",
   "metadata": {},
   "outputs": [
    {
     "data": {
      "text/plain": [
       "<AxesSubplot:>"
      ]
     },
     "execution_count": 15,
     "metadata": {},
     "output_type": "execute_result"
    },
    {
     "data": {
      "image/png": "[encoded data removed]",
      "text/plain": [
       "<Figure size 640x480 with 1 Axes>"
      ]
     },
     "metadata": {},
     "output_type": "display_data"
    }
   ],
   "source": [
    "df.monthly_charges.hist()"
   ]
  },
  {
   "cell_type": "code",
   "execution_count": 18,
   "id": "04b7e255",
   "metadata": {},
   "outputs": [],
   "source": [
    "churn_sample = df[df['churn']=='Yes']['monthly_charges']"
   ]
  },
  {
   "cell_type": "code",
   "execution_count": 19,
   "id": "a218eb61",
   "metadata": {},
   "outputs": [
    {
     "data": {
      "text/plain": [
       "<AxesSubplot:>"
      ]
     },
     "execution_count": 19,
     "metadata": {},
     "output_type": "execute_result"
    },
    {
     "data": {
      "image/png": "[encoded data removed]",
      "text/plain": [
       "<Figure size 640x480 with 1 Axes>"
      ]
     },
     "metadata": {},
     "output_type": "display_data"
    }
   ],
   "source": [
    "churn_sample.hist()"
   ]
  },
  {
   "cell_type": "markdown",
   "id": "b4abefeb",
   "metadata": {},
   "source": [
    "## Set Hypothesis\n",
    "Null Hypothesis\n",
    "\n",
    "$H_{0}$: Mean of monthly charges of churned customers <= Mean of monthly charges\n",
    "\n",
    "Alternative Hypothesis\n",
    "\n",
    "$H_{A}$: Mean of a mothly charges of churned customers > Mean of mohtly charges of customers\n",
    "\n",
    "## Set Alpha Value\n",
    "\n",
    "$\\alpha$ = .05"
   ]
  },
  {
   "cell_type": "code",
   "execution_count": 20,
   "id": "cdfe5d13",
   "metadata": {},
   "outputs": [],
   "source": [
    "alpha = 0.05"
   ]
  },
  {
   "cell_type": "code",
   "execution_count": 21,
   "id": "2e5e5463",
   "metadata": {},
   "outputs": [
    {
     "data": {
      "text/plain": [
       "No     5174\n",
       "Yes    1869\n",
       "Name: churn, dtype: int64"
      ]
     },
     "execution_count": 21,
     "metadata": {},
     "output_type": "execute_result"
    }
   ],
   "source": [
    "df.churn.value_counts()"
   ]
  },
  {
   "cell_type": "code",
   "execution_count": 60,
   "id": "1f284931",
   "metadata": {},
   "outputs": [
    {
     "name": "stdout",
     "output_type": "stream",
     "text": [
      "16.96540308050567 1.8703196496911995e-60 0.05\n"
     ]
    }
   ],
   "source": [
    "df.churn.value_counts()\n",
    "churn_sample = df[df.churn == 'Yes'].monthly_charges\n",
    "overall_mean = df.monthly_charges.mean()\n",
    "\n",
    "t, p = stats.ttest_1samp(churn_sample, overall_mean)\n",
    "\n",
    "print(t, p/2, alpha)"
   ]
  },
  {
   "cell_type": "markdown",
   "id": "48457670",
   "metadata": {},
   "source": [
    "### TEST 1"
   ]
  },
  {
   "cell_type": "code",
   "execution_count": 64,
   "id": "f46e20d2",
   "metadata": {
    "scrolled": false
   },
   "outputs": [
    {
     "data": {
      "text/latex": [
       "We reject $H_0$"
      ],
      "text/plain": [
       "<IPython.core.display.Latex object>"
      ]
     },
     "metadata": {},
     "output_type": "display_data"
    }
   ],
   "source": [
    "if p/2 > alpha:\n",
    "    display(Latex((f\"We fail to reject $H_{0}$\")))\n",
    "elif t < 0:\n",
    "    display(Latex((f\"We fail to reject $H_{0}$\")))\n",
    "else:\n",
    "    display(Latex((f\"We reject $H_{0}$\")))\n"
   ]
  },
  {
   "cell_type": "markdown",
   "id": "dbd63d7a",
   "metadata": {},
   "source": [
    "# Hypothesis 2\n",
    "\n",
    "Mnthly charges of churned customers are SIGNIFICANTLY DIFFERENT than overall customers"
   ]
  },
  {
   "cell_type": "markdown",
   "id": "e22c2d8f",
   "metadata": {},
   "source": [
    "Compare OVERALL MEAN to SAMPLE MEAN\n",
    "\n",
    "OVERALL MEAN = ALL CUSTOMERS\n",
    "\n",
    "SAMPLE MEAN = CHURNED CUSTOMERS"
   ]
  },
  {
   "cell_type": "code",
   "execution_count": 56,
   "id": "4f5830af",
   "metadata": {},
   "outputs": [
    {
     "data": {
      "text/plain": [
       "(16.96540308050567, 3.740639299382399e-60, 0.05)"
      ]
     },
     "execution_count": 56,
     "metadata": {},
     "output_type": "execute_result"
    }
   ],
   "source": [
    "t,p = stats.ttest_1samp(churn_sample,overall_mean)\n",
    "t,p,alpha"
   ]
  },
  {
   "cell_type": "markdown",
   "id": "546058e4",
   "metadata": {},
   "source": [
    "### TEST 2"
   ]
  },
  {
   "cell_type": "code",
   "execution_count": 66,
   "id": "3afd8d6d",
   "metadata": {},
   "outputs": [
    {
     "name": "stdout",
     "output_type": "stream",
     "text": [
      "We reject the null hypothesis\n"
     ]
    }
   ],
   "source": [
    "if p < alpha:\n",
    "    print(\"We reject the null hypothesis\")\n",
    "else:\n",
    "    print(\"We fail to reject the null hypothesis\")"
   ]
  },
  {
   "cell_type": "markdown",
   "id": "2bc27c7a",
   "metadata": {},
   "source": [
    "# T Statistics Formula"
   ]
  },
  {
   "cell_type": "markdown",
   "id": "5653b2b0",
   "metadata": {},
   "source": [
    "Image"
   ]
  },
  {
   "cell_type": "markdown",
   "id": "3a891965",
   "metadata": {},
   "source": [
    "<img src=\"./t_statistic_formula.png\" align=\"left\" >"
   ]
  },
  {
   "cell_type": "markdown",
   "id": "43abc5be",
   "metadata": {},
   "source": [
    "Latex"
   ]
  },
  {
   "cell_type": "markdown",
   "id": "d33f8e8a",
   "metadata": {},
   "source": [
    "# $t_{\\overline{x}} = \\frac{\\overline{x}-u_{0}}{\\sigma / \\sqrt{N}}$"
   ]
  },
  {
   "cell_type": "markdown",
   "id": "9439fac4",
   "metadata": {},
   "source": [
    "### Independent T-Test (A.K.A 2 Sample T-Test)"
   ]
  },
  {
   "cell_type": "markdown",
   "id": "f8404018",
   "metadata": {},
   "source": [
    "## Example 3\n",
    "\n",
    "### The monthly charge for customers WHO CHURN is less than the MEAN of ALL CUSTOMERS\n",
    "\n",
    "$H_{0}$: Mothly charges for who churn >= mean of all\n",
    "\n",
    "$H_{0}$: Mothly charges for who churn < mean of all\n",
    "\n",
    "\n",
    ">="
   ]
  },
  {
   "cell_type": "markdown",
   "id": "5a66c88c",
   "metadata": {},
   "source": [
    "# Tail Total?\n",
    "\n",
    "Less than MEAN of ALL = 1 side\n",
    "\n",
    "= 1 Tail\n",
    "\n",
    "=p/2"
   ]
  },
  {
   "cell_type": "code",
   "execution_count": 71,
   "id": "e8c0317e",
   "metadata": {},
   "outputs": [
    {
     "data": {
      "text/plain": [
       "(16.96540308050567, 3.740639299382399e-60)"
      ]
     },
     "execution_count": 71,
     "metadata": {},
     "output_type": "execute_result"
    }
   ],
   "source": [
    "t,p=stats.ttest_1samp(churn_sample,overall_mean)\n",
    "t,p"
   ]
  },
  {
   "cell_type": "code",
   "execution_count": 72,
   "id": "0822cf95",
   "metadata": {},
   "outputs": [
    {
     "name": "stdout",
     "output_type": "stream",
     "text": [
      "True\n"
     ]
    }
   ],
   "source": [
    "print(p/2<alpha)"
   ]
  },
  {
   "cell_type": "code",
   "execution_count": 73,
   "id": "da4fb19e",
   "metadata": {},
   "outputs": [
    {
     "name": "stdout",
     "output_type": "stream",
     "text": [
      "False\n"
     ]
    }
   ],
   "source": [
    "print(t<0)"
   ]
  },
  {
   "cell_type": "markdown",
   "id": "effc76f1",
   "metadata": {},
   "source": [
    "#### Reject Null Hypothesis $H_{0}$"
   ]
  },
  {
   "cell_type": "code",
   "execution_count": 75,
   "id": "ac8091f1",
   "metadata": {},
   "outputs": [
    {
     "data": {
      "text/plain": [
       "False"
      ]
     },
     "execution_count": 75,
     "metadata": {},
     "output_type": "execute_result"
    }
   ],
   "source": [
    "p/2 < alpha and t<0"
   ]
  },
  {
   "cell_type": "code",
   "execution_count": 79,
   "id": "9230fecd",
   "metadata": {},
   "outputs": [
    {
     "name": "stdout",
     "output_type": "stream",
     "text": [
      "failed to reject\n"
     ]
    }
   ],
   "source": [
    "if(p/2<alpha)&(t<0):\n",
    "    print(\"reject null\")\n",
    "else:\n",
    "    print(\"failed to reject\")"
   ]
  },
  {
   "cell_type": "markdown",
   "id": "8c0c598c",
   "metadata": {},
   "source": [
    "# ANOVA - Analysis of Variance"
   ]
  },
  {
   "cell_type": "markdown",
   "id": "b353d238",
   "metadata": {},
   "source": [
    "Goal: Compare means of groups a, b & c."
   ]
  },
  {
   "cell_type": "markdown",
   "id": "dccf9028",
   "metadata": {},
   "source": [
    "variance = STD^2"
   ]
  },
  {
   "cell_type": "code",
   "execution_count": 80,
   "id": "7a74ae7f",
   "metadata": {},
   "outputs": [],
   "source": [
    "churn_var = churn_sample.var()"
   ]
  },
  {
   "cell_type": "code",
   "execution_count": 81,
   "id": "c590464c",
   "metadata": {},
   "outputs": [
    {
     "name": "stdout",
     "output_type": "stream",
     "text": [
      "608.4141833954315\n"
     ]
    }
   ],
   "source": [
    "print(churn_var)"
   ]
  },
  {
   "cell_type": "code",
   "execution_count": 83,
   "id": "2fd8a263",
   "metadata": {},
   "outputs": [],
   "source": [
    "no_churn_sample = churn_sample = df[df.churn == 'No'].monthly_charges"
   ]
  },
  {
   "cell_type": "code",
   "execution_count": 86,
   "id": "c1838a1f",
   "metadata": {},
   "outputs": [],
   "source": [
    "# equar_var = False\n",
    "t,p=stats.ttest_ind(churn_sample,no_churn_sample, equal_var=False)"
   ]
  },
  {
   "cell_type": "code",
   "execution_count": null,
   "id": "3e53a074",
   "metadata": {},
   "outputs": [],
   "source": [
    "# 1 Tail\n",
    "# Compare Alpha > P2 & T < 0"
   ]
  },
  {
   "cell_type": "markdown",
   "id": "1c669463",
   "metadata": {},
   "source": [
    "# Independence Test\n",
    "\n",
    "### Example 2\n",
    "\n",
    "Are monthly charges for customers WHO CHURN\n",
    "significantly different thatn the monthly charges of those WHO DO\n",
    "### Hypothesis\n",
    "H_0 = \n",
    "H_A = \n",
    "\n",
    "### Two-Tailed\n",
    "\n",
    "- Compare P to Alpha"
   ]
  },
  {
   "cell_type": "markdown",
   "id": "6cb4644d",
   "metadata": {},
   "source": [
    "### Test\n",
    "\n",
    "Reject Null\n",
    "\n",
    "p<alpha"
   ]
  },
  {
   "cell_type": "code",
   "execution_count": 87,
   "id": "0207e879",
   "metadata": {},
   "outputs": [
    {
     "data": {
      "text/plain": [
       "(0.0, 1.0)"
      ]
     },
     "execution_count": 87,
     "metadata": {},
     "output_type": "execute_result"
    }
   ],
   "source": [
    "t,p=stats.ttest_ind(churn_sample,no_churn_sample,equal_var=False)\n",
    "t,p"
   ]
  },
  {
   "cell_type": "code",
   "execution_count": 88,
   "id": "f2b3d043",
   "metadata": {},
   "outputs": [
    {
     "name": "stdout",
     "output_type": "stream",
     "text": [
      "reject null\n"
     ]
    }
   ],
   "source": [
    "p<alpha\n",
    "print(\"reject null\")"
   ]
  },
  {
   "cell_type": "markdown",
   "id": "6d7b4e31",
   "metadata": {},
   "source": [
    "### Example 3\n",
    "\n",
    "Are monthly charges for customers WHO CHURN\n",
    "significantly **LESS THAN** the monthly charges of those WHO DO NOT\n",
    "\n",
    "```CHURN.mean()  <  NO_CHURN.mean()```\n",
    "\n",
    "### Hypothesis\n",
    "H_0 = Mean for churned customers is **>=** to the **MEAN** for customers who did not\n",
    "\n",
    "``` CHURN.mean  >=  NO_CHURN.mean()```\n",
    "\n",
    "H_A = Mean for churned customer is **<** for customers who do not churn\n",
    "\n",
    "``` CHURN.mean()  <  NO_CHURN.mean()```\n",
    "\n",
    "### Two-Tailed\n",
    "\n",
    "- Compare P to Alpha"
   ]
  },
  {
   "cell_type": "markdown",
   "id": "cc34fb9e",
   "metadata": {},
   "source": [
    "## ANOVA"
   ]
  },
  {
   "cell_type": "markdown",
   "id": "92d0d799",
   "metadata": {},
   "source": [
    "| Null Hypothesis        | $H_{0}$ | $\\mu_{A} = \\mu_{B} = \\mu_{C}$ |\n",
    "|------------------------|---------|-------------------------------|\n",
    "| Alternative Hypothesis | $H_{0}$ | $\\mu_{A} = \\mu_{B} = \\mu_{C}$ | "
   ]
  },
  {
   "cell_type": "code",
   "execution_count": 89,
   "id": "bbeed28f",
   "metadata": {},
   "outputs": [
    {
     "data": {
      "text/plain": [
       "setosa        50\n",
       "versicolor    50\n",
       "virginica     50\n",
       "Name: species, dtype: int64"
      ]
     },
     "execution_count": 89,
     "metadata": {},
     "output_type": "execute_result"
    }
   ],
   "source": [
    "df = sns.load_dataset('iris')\n",
    "df.species.value_counts()"
   ]
  },
  {
   "cell_type": "code",
   "execution_count": 90,
   "id": "e592c77b",
   "metadata": {},
   "outputs": [],
   "source": [
    "versicolor_sepal_length = df[df.species == 'versicolor'].sepal_length\n",
    "virginica_sepal_length = df[df.species == 'virginica'].sepal_length\n",
    "setosa_sepal_length = df[df.species == 'setosa'].sepal_length"
   ]
  },
  {
   "cell_type": "code",
   "execution_count": 176,
   "id": "bad6b154",
   "metadata": {},
   "outputs": [
    {
     "data": {
      "text/plain": [
       "50    7.0\n",
       "51    6.4\n",
       "52    6.9\n",
       "53    5.5\n",
       "54    6.5\n",
       "55    5.7\n",
       "56    6.3\n",
       "57    4.9\n",
       "58    6.6\n",
       "59    5.2\n",
       "60    5.0\n",
       "61    5.9\n",
       "62    6.0\n",
       "63    6.1\n",
       "64    5.6\n",
       "65    6.7\n",
       "66    5.6\n",
       "67    5.8\n",
       "68    6.2\n",
       "69    5.6\n",
       "70    5.9\n",
       "71    6.1\n",
       "72    6.3\n",
       "73    6.1\n",
       "74    6.4\n",
       "75    6.6\n",
       "76    6.8\n",
       "77    6.7\n",
       "78    6.0\n",
       "79    5.7\n",
       "80    5.5\n",
       "81    5.5\n",
       "82    5.8\n",
       "83    6.0\n",
       "84    5.4\n",
       "85    6.0\n",
       "86    6.7\n",
       "87    6.3\n",
       "88    5.6\n",
       "89    5.5\n",
       "90    5.5\n",
       "91    6.1\n",
       "92    5.8\n",
       "93    5.0\n",
       "94    5.6\n",
       "95    5.7\n",
       "96    5.7\n",
       "97    6.2\n",
       "98    5.1\n",
       "99    5.7\n",
       "Name: sepal_length, dtype: float64"
      ]
     },
     "execution_count": 176,
     "metadata": {},
     "output_type": "execute_result"
    }
   ],
   "source": [
    "versicolor_sepal_length"
   ]
  },
  {
   "cell_type": "code",
   "execution_count": 95,
   "id": "fdbd770f",
   "metadata": {},
   "outputs": [
    {
     "data": {
      "image/png": "[encoded data removed]",
      "text/plain": [
       "<Figure size 640x480 with 1 Axes>"
      ]
     },
     "metadata": {},
     "output_type": "display_data"
    }
   ],
   "source": [
    "versicolor_sepal_length.hist(alpha=.5)\n",
    "virginica_sepal_length.hist(alpha=.5)\n",
    "setosa_sepal_length.hist(alpha=.5)\n",
    "plt.show()"
   ]
  },
  {
   "cell_type": "markdown",
   "id": "7353a261",
   "metadata": {},
   "source": [
    "H(0): For the mean sepal_length is all equal\n",
    "H(A): For the mean sepal_length not all equal"
   ]
  },
  {
   "cell_type": "code",
   "execution_count": 96,
   "id": "98cb6888",
   "metadata": {},
   "outputs": [],
   "source": [
    "alpha = 0.05\n",
    "\n",
    "#independence\n",
    "#Observations\n",
    "#equal variance"
   ]
  },
  {
   "cell_type": "markdown",
   "id": "bf10e712",
   "metadata": {},
   "source": [
    "# Comparison of Variance vs. Comparison of Means"
   ]
  },
  {
   "cell_type": "markdown",
   "id": "189b6bc4",
   "metadata": {},
   "source": [
    "Test for equal variance.\n",
    "\n",
    "H_0: variances are all equal\n",
    "H_A: variances are not equal"
   ]
  },
  {
   "cell_type": "code",
   "execution_count": 106,
   "id": "45900e68",
   "metadata": {},
   "outputs": [],
   "source": [
    "t,p=stats.levene(versicolor_sepal_length,virginica_sepal_length,setosa_sepal_length)"
   ]
  },
  {
   "cell_type": "code",
   "execution_count": 110,
   "id": "83629151",
   "metadata": {},
   "outputs": [],
   "source": [
    "# cutoff value\n",
    "alpha = 0.05"
   ]
  },
  {
   "cell_type": "code",
   "execution_count": 111,
   "id": "35b9105e",
   "metadata": {
    "scrolled": true
   },
   "outputs": [
    {
     "name": "stdout",
     "output_type": "stream",
     "text": [
      "Fail: No ANOVA Run: Non-Parametric(Kruskal-Wallis Test)\n"
     ]
    }
   ],
   "source": [
    "if p>alpha:\n",
    "    print(\"Run ANOVA\")\n",
    "else:\n",
    "    print(\"Fail: No ANOVA Run: Non-Parametric(Kruskal-Wallis Test)\")"
   ]
  },
  {
   "cell_type": "code",
   "execution_count": 143,
   "id": "3ce100eb",
   "metadata": {},
   "outputs": [
    {
     "data": {
      "text/plain": [
       "F_onewayResult(statistic=119.26450218450472, pvalue=1.6696691907693648e-31)"
      ]
     },
     "execution_count": 143,
     "metadata": {},
     "output_type": "execute_result"
    }
   ],
   "source": [
    "stats.f_oneway(versicolor_sepal_length,virginica_sepal_length,setosa_sepal_length)"
   ]
  },
  {
   "cell_type": "code",
   "execution_count": 142,
   "id": "56ae588b",
   "metadata": {
    "scrolled": true
   },
   "outputs": [
    {
     "data": {
      "text/plain": [
       "KruskalResult(statistic=96.93743600064833, pvalue=8.91873433246198e-22)"
      ]
     },
     "execution_count": 142,
     "metadata": {},
     "output_type": "execute_result"
    }
   ],
   "source": [
    "stats.kruskal(versicolor_sepal_length,virginica_sepal_length,setosa_sepal_length)"
   ]
  },
  {
   "cell_type": "markdown",
   "id": "9b773b9f",
   "metadata": {},
   "source": [
    "# $t = \\frac{\\overline{x}-u}{\\sigma / \\sqrt{N}}$"
   ]
  },
  {
   "cell_type": "markdown",
   "id": "102f484f",
   "metadata": {},
   "source": [
    "$\\mu$ = Population Mean\n",
    "\n",
    "$\\overline{x}$ = Sample Mean\n",
    "\n",
    "$\\sigma$ = Standard Deviation\n",
    "\n",
    "$N$ = Sample Size"
   ]
  },
  {
   "cell_type": "markdown",
   "id": "993b8d24",
   "metadata": {},
   "source": [
    "# $t = \\dfrac{\\overline{x}-u}{\\tfrac{\\sigma}{\\sqrt{N}}}$"
   ]
  },
  {
   "cell_type": "markdown",
   "id": "8cfebe16",
   "metadata": {},
   "source": [
    "# $t = \\tfrac{\\overline{x}-u}{\\dfrac{\\sigma}{\\sqrt{N}}}$"
   ]
  },
  {
   "cell_type": "markdown",
   "id": "77682a60",
   "metadata": {},
   "source": [
    "$\\[ x = \\dfrac{\\dfrac{a}{b}}{c} \\]$"
   ]
  },
  {
   "cell_type": "markdown",
   "id": "b4538877",
   "metadata": {},
   "source": [
    "$x\n",
    "  = \\dfrac{\\dfrac{a}{b}}{c}\n",
    "  = \\dfrac{\\frac{\\textstyle a}{\\textstyle b}}{c}\n",
    "  = \\dfrac{\\frac{a}{b}}{c}\n",
    "  \\equiv \\dfrac{\\tfrac{a}{b}}{c}$"
   ]
  },
  {
   "cell_type": "code",
   "execution_count": 144,
   "id": "414726fa",
   "metadata": {},
   "outputs": [],
   "source": [
    "mpg = sns.load_dataset('mpg')"
   ]
  },
  {
   "cell_type": "code",
   "execution_count": 162,
   "id": "618eab71",
   "metadata": {},
   "outputs": [
    {
     "data": {
      "text/plain": [
       "pandas.core.frame.DataFrame"
      ]
     },
     "execution_count": 162,
     "metadata": {},
     "output_type": "execute_result"
    }
   ],
   "source": [
    "type(mpg)"
   ]
  },
  {
   "cell_type": "code",
   "execution_count": 179,
   "id": "cdac152b",
   "metadata": {
    "scrolled": true
   },
   "outputs": [
    {
     "data": {
      "text/plain": [
       "mpg             0\n",
       "cylinders       0\n",
       "displacement    0\n",
       "horsepower      6\n",
       "weight          0\n",
       "acceleration    0\n",
       "model_year      0\n",
       "origin          0\n",
       "name            0\n",
       "dtype: int64"
      ]
     },
     "execution_count": 179,
     "metadata": {},
     "output_type": "execute_result"
    }
   ],
   "source": [
    "mpg.isna().sum()\n",
    "mpg[~mpg.horsepower.isna()]\n",
    "mpg.isna().sum()"
   ]
  },
  {
   "cell_type": "code",
   "execution_count": 183,
   "id": "ba170eb3",
   "metadata": {},
   "outputs": [],
   "source": [
    "mpg=mpg[~mpg.horsepower.isna()]"
   ]
  },
  {
   "cell_type": "code",
   "execution_count": 184,
   "id": "289982c1",
   "metadata": {},
   "outputs": [
    {
     "data": {
      "text/plain": [
       "mpg             0\n",
       "cylinders       0\n",
       "displacement    0\n",
       "horsepower      0\n",
       "weight          0\n",
       "acceleration    0\n",
       "model_year      0\n",
       "origin          0\n",
       "name            0\n",
       "dtype: int64"
      ]
     },
     "execution_count": 184,
     "metadata": {},
     "output_type": "execute_result"
    }
   ],
   "source": [
    "mpg.isna().sum()"
   ]
  },
  {
   "cell_type": "code",
   "execution_count": 185,
   "id": "14732374",
   "metadata": {},
   "outputs": [
    {
     "data": {
      "text/plain": [
       "array(['usa', 'japan', 'europe'], dtype=object)"
      ]
     },
     "execution_count": 185,
     "metadata": {},
     "output_type": "execute_result"
    }
   ],
   "source": [
    "mpg.origin.unique()"
   ]
  },
  {
   "cell_type": "code",
   "execution_count": 186,
   "id": "1e2a795a",
   "metadata": {},
   "outputs": [
    {
     "data": {
      "text/plain": [
       "usa       245\n",
       "japan      79\n",
       "europe     68\n",
       "Name: origin, dtype: int64"
      ]
     },
     "execution_count": 186,
     "metadata": {},
     "output_type": "execute_result"
    }
   ],
   "source": [
    "mpg.origin.value_counts()"
   ]
  },
  {
   "cell_type": "markdown",
   "id": "cebb8096",
   "metadata": {},
   "source": [
    "# Is the horsepower of vehicles different across the distinct origin of the vehicles?\n",
    "\n",
    "$H_{0}$: mean_horsepower_USA == mean_horsepower\n",
    "\n",
    "$H_{a}$: mean_horsepower from at least 2 countries significantly differetn\n",
    "\n",
    "#### Assumptions\n",
    "1. At least 30 observations met.\n",
    "2. equal population variance.\n",
    "3. Groups are independent of each other."
   ]
  },
  {
   "cell_type": "code",
   "execution_count": 187,
   "id": "9cd8f8dc",
   "metadata": {},
   "outputs": [
    {
     "data": {
      "text/plain": [
       "<AxesSubplot:>"
      ]
     },
     "execution_count": 187,
     "metadata": {},
     "output_type": "execute_result"
    },
    {
     "data": {
      "image/png": "[encoded data removed]",
      "text/plain": [
       "<Figure size 640x480 with 1 Axes>"
      ]
     },
     "metadata": {},
     "output_type": "display_data"
    }
   ],
   "source": [
    "mpg[mpg['origin'] =='usa']['horsepower'].hist()\n",
    "mpg[mpg['origin'] =='japan']['horsepower'].hist()\n",
    "mpg[mpg['origin'] =='europe']['horsepower'].hist()"
   ]
  },
  {
   "cell_type": "code",
   "execution_count": 188,
   "id": "ce721562",
   "metadata": {},
   "outputs": [],
   "source": [
    "usa = mpg[mpg['origin'] =='usa']['horsepower']\n",
    "japan = mpg[mpg['origin'] =='japan']['horsepower']\n",
    "europe = mpg[mpg['origin'] =='europe']['horsepower']"
   ]
  },
  {
   "cell_type": "code",
   "execution_count": 189,
   "id": "628824dd",
   "metadata": {},
   "outputs": [
    {
     "data": {
      "text/plain": [
       "pandas.core.series.Series"
      ]
     },
     "execution_count": 189,
     "metadata": {},
     "output_type": "execute_result"
    }
   ],
   "source": [
    "type(usa)"
   ]
  },
  {
   "cell_type": "code",
   "execution_count": 190,
   "id": "95b95129",
   "metadata": {
    "scrolled": true
   },
   "outputs": [
    {
     "data": {
      "text/plain": [
       "LeveneResult(statistic=26.526632103545772, pvalue=1.5863075873913356e-11)"
      ]
     },
     "execution_count": 190,
     "metadata": {},
     "output_type": "execute_result"
    }
   ],
   "source": [
    "# validate the variance assumptions\n",
    "stats.levene(usa, japan, europe)"
   ]
  },
  {
   "cell_type": "code",
   "execution_count": 191,
   "id": "25621bce",
   "metadata": {},
   "outputs": [
    {
     "data": {
      "text/plain": [
       "KruskalResult(statistic=105.59475799843663, pvalue=1.1759521262123952e-23)"
      ]
     },
     "execution_count": 191,
     "metadata": {},
     "output_type": "execute_result"
    }
   ],
   "source": [
    "stats.kruskal(usa,japan,europe)"
   ]
  },
  {
   "cell_type": "code",
   "execution_count": 192,
   "id": "b71e5222",
   "metadata": {},
   "outputs": [],
   "source": [
    "t,p = stats.ttest_ind(usa,japan,equal_var=False)"
   ]
  },
  {
   "cell_type": "code",
   "execution_count": 193,
   "id": "0674de11",
   "metadata": {},
   "outputs": [
    {
     "data": {
      "text/plain": [
       "(12.092022948407953, 1.5146320352820458e-27)"
      ]
     },
     "execution_count": 193,
     "metadata": {},
     "output_type": "execute_result"
    }
   ],
   "source": [
    "t,p"
   ]
  },
  {
   "cell_type": "markdown",
   "id": "c8cef5b2",
   "metadata": {},
   "source": [
    "# $t = \\dfrac{\\overline{x}-u}{\\tfrac{\\sigma}{\\sqrt{N}}}$"
   ]
  },
  {
   "cell_type": "code",
   "execution_count": null,
   "id": "1aa3adae",
   "metadata": {},
   "outputs": [],
   "source": [
    "# ttest()\n",
    "\n",
    "# p= # small p value the more certain that there is a significant difference\n",
    "# t=<0 # how big the difference in which direction\n",
    "\n",
    "# p is small = not due to chance"
   ]
  },
  {
   "cell_type": "markdown",
   "id": "43bf23b5",
   "metadata": {},
   "source": [
    "# Correlation"
   ]
  },
  {
   "cell_type": "markdown",
   "id": "807f623b",
   "metadata": {},
   "source": [
    "### Weight vs. Length of Mice"
   ]
  },
  {
   "cell_type": "code",
   "execution_count": 2,
   "id": "944c6e51",
   "metadata": {},
   "outputs": [
    {
     "data": {
      "image/png": "[encoded data removed]",
      "text/plain": [
       "<Figure size 640x480 with 1 Axes>"
      ]
     },
     "metadata": {},
     "output_type": "display_data"
    }
   ],
   "source": [
    "import matplotlib.pyplot as plt\n",
    "import numpy as np\n",
    "\n",
    "x = np.linspace(-1, 1, 50)\n",
    "#print(x)\n",
    "y = 2*x + 1\n",
    "\n",
    "plt.plot(x, y)\n",
    "plt.show()"
   ]
  },
  {
   "cell_type": "code",
   "execution_count": 4,
   "id": "7bfa9b12",
   "metadata": {},
   "outputs": [
    {
     "data": {
      "image/png": "[encoded data removed]",
      "text/plain": [
       "<Figure size 1000x500 with 1 Axes>"
      ]
     },
     "metadata": {},
     "output_type": "display_data"
    }
   ],
   "source": [
    "import numpy as np\n",
    "import matplotlib.pyplot as plt\n",
    " \n",
    "  \n",
    "# creating the dataset\n",
    "data = {'C':20, 'C++':15, 'Java':30,\n",
    "        'Python':35}\n",
    "courses = list(data.keys())\n",
    "values = list(data.values())\n",
    "  \n",
    "fig = plt.figure(figsize = (10, 5))\n",
    " \n",
    "# creating the bar plot\n",
    "plt.bar(courses, values, color ='maroon',\n",
    "        width = 0.4)\n",
    " \n",
    "plt.xlabel(\"Courses offered\")\n",
    "plt.ylabel(\"No. of students enrolled\")\n",
    "plt.title(\"Students enrolled in different courses\")\n",
    "plt.show()"
   ]
  },
  {
   "cell_type": "markdown",
   "id": "f9c159a6",
   "metadata": {},
   "source": [
    "# As lenght increases,  weight increases  [Positive Correlation]"
   ]
  },
  {
   "cell_type": "code",
   "execution_count": 11,
   "id": "9382a7fd",
   "metadata": {},
   "outputs": [
    {
     "data": {
      "image/png": "[encoded data removed]",
      "text/plain": [
       "<Figure size 640x480 with 1 Axes>"
      ]
     },
     "metadata": {},
     "output_type": "display_data"
    }
   ],
   "source": [
    "\n",
    "import matplotlib.pyplot as plt\n",
    " \n",
    " \n",
    "x =[5, 7, 8, 7, 2, 17, 2, 9,\n",
    "    4, 11, 12, 9, 6]\n",
    " \n",
    "y =[99, 86, 87, 88, 100, 86,\n",
    "    103, 87, 94, 78, 77, 85, 86]\n",
    " \n",
    "plt.scatter(x, y, c =\"blue\")\n",
    " \n",
    "# To show the plot\n",
    "plt.vlines(9, 60, 120, color='red')\n",
    "plt.vlines(9, 60, 120, color='black')\n",
    "\n",
    "plt.show()"
   ]
  },
  {
   "cell_type": "markdown",
   "id": "eed88ac9",
   "metadata": {},
   "source": [
    "# As lenght decreases,  weight decreases  [Negative Correlation]"
   ]
  },
  {
   "cell_type": "code",
   "execution_count": 17,
   "id": "19a99fe5",
   "metadata": {},
   "outputs": [
    {
     "data": {
      "image/png": "[encoded data removed]",
      "text/plain": [
       "<Figure size 640x480 with 1 Axes>"
      ]
     },
     "metadata": {},
     "output_type": "display_data"
    }
   ],
   "source": [
    "\n",
    "import matplotlib.pyplot as plt\n",
    " \n",
    " \n",
    "x =[5, 7, 8, 7, 2, 17, 2, 9,\n",
    "    4, 11, 12, 9, 6]\n",
    " \n",
    "y =[99, 86, 87, 88, 100, 86,\n",
    "    103, 87, 94, 78, 77, 85, 86]\n",
    " \n",
    "plt.scatter(x, y, c =\"blue\")\n",
    " \n",
    "# To show the plot\n",
    "plt.vlines(9, 60, 120, color='red', linestyle='--', linewidth=2)\n",
    "plt.vlines(3, 60, 120, color='black', linestyle='--', linewidth=2)\n",
    "\n",
    "plt.show()"
   ]
  },
  {
   "cell_type": "code",
   "execution_count": 20,
   "id": "ce9d4e97",
   "metadata": {},
   "outputs": [
    {
     "data": {
      "text/plain": [
       "Text(1, 17, 'y = -0.89 + 2.31x')"
      ]
     },
     "execution_count": 20,
     "metadata": {},
     "output_type": "execute_result"
    },
    {
     "data": {
      "image/png": "[encoded data removed]",
      "text/plain": [
       "<Figure size 640x480 with 1 Axes>"
      ]
     },
     "metadata": {},
     "output_type": "display_data"
    }
   ],
   "source": [
    "import numpy as np\n",
    "import matplotlib.pyplot as plt\n",
    "#\n",
    "plt.axvline(x=3, ymin=0.25, ymax=0.75)\n",
    "\n",
    "#define data\n",
    "x = np.array([1, 2, 3, 4, 5, 6, 7, 8])\n",
    "y = np.array([2, 5, 6, 7, 9, 12, 16, 19])\n",
    "\n",
    "#find line of best fit\n",
    "a, b = np.polyfit(x, y, 1)\n",
    "\n",
    "#add points to plot\n",
    "plt.scatter(x, y, color='blue')\n",
    "\n",
    "#add line of best fit to plot\n",
    "plt.plot(x, a*x+b, color='red', linestyle='--', linewidth=2)\n",
    "\n",
    "#add fitted regression equation to plot\n",
    "plt.text(1, 17, 'y = ' + '{:.2f}'.format(b) + ' + {:.2f}'.format(a) + 'x', size=14)"
   ]
  },
  {
   "cell_type": "markdown",
   "id": "d0abbd14",
   "metadata": {},
   "source": [
    "# Determine if 2 samples have a linear relationship"
   ]
  },
  {
   "cell_type": "markdown",
   "id": "993159a5",
   "metadata": {},
   "source": [
    "## Pearson's R"
   ]
  },
  {
   "cell_type": "markdown",
   "id": "846c0988",
   "metadata": {},
   "source": [
    "$H_{0}$ - No linear relation\n",
    "\n",
    "$H_{A}$ - No linear"
   ]
  },
  {
   "cell_type": "code",
   "execution_count": null,
   "id": "a14a7d8f",
   "metadata": {},
   "outputs": [],
   "source": [
    "# Example 1"
   ]
  },
  {
   "cell_type": "code",
   "execution_count": 23,
   "id": "dd73533e",
   "metadata": {},
   "outputs": [
    {
     "data": {
      "text/html": [
       "<div>\n",
       "<style scoped>\n",
       "    .dataframe tbody tr th:only-of-type {\n",
       "        vertical-align: middle;\n",
       "    }\n",
       "\n",
       "    .dataframe tbody tr th {\n",
       "        vertical-align: top;\n",
       "    }\n",
       "\n",
       "    .dataframe thead th {\n",
       "        text-align: right;\n",
       "    }\n",
       "</style>\n",
       "<table border=\"1\" class=\"dataframe\">\n",
       "  <thead>\n",
       "    <tr style=\"text-align: right;\">\n",
       "      <th></th>\n",
       "      <th>exam_score</th>\n",
       "      <th>hours_studied</th>\n",
       "      <th>study_strategy</th>\n",
       "      <th>handedness</th>\n",
       "      <th>coffee_consumed</th>\n",
       "      <th>hours_slept</th>\n",
       "    </tr>\n",
       "  </thead>\n",
       "  <tbody>\n",
       "    <tr>\n",
       "      <th>0</th>\n",
       "      <td>100.591011</td>\n",
       "      <td>9.126291</td>\n",
       "      <td>flashcards</td>\n",
       "      <td>left</td>\n",
       "      <td>0</td>\n",
       "      <td>11</td>\n",
       "    </tr>\n",
       "    <tr>\n",
       "      <th>1</th>\n",
       "      <td>95.637086</td>\n",
       "      <td>9.677438</td>\n",
       "      <td>flashcards</td>\n",
       "      <td>left</td>\n",
       "      <td>1</td>\n",
       "      <td>10</td>\n",
       "    </tr>\n",
       "    <tr>\n",
       "      <th>2</th>\n",
       "      <td>53.200296</td>\n",
       "      <td>4.550207</td>\n",
       "      <td>NaN</td>\n",
       "      <td>right</td>\n",
       "      <td>5</td>\n",
       "      <td>6</td>\n",
       "    </tr>\n",
       "  </tbody>\n",
       "</table>\n",
       "</div>"
      ],
      "text/plain": [
       "   exam_score  hours_studied study_strategy handedness  coffee_consumed  \\\n",
       "0  100.591011       9.126291     flashcards       left                0   \n",
       "1   95.637086       9.677438     flashcards       left                1   \n",
       "2   53.200296       4.550207            NaN      right                5   \n",
       "\n",
       "   hours_slept  \n",
       "0           11  \n",
       "1           10  \n",
       "2            6  "
      ]
     },
     "execution_count": 23,
     "metadata": {},
     "output_type": "execute_result"
    }
   ],
   "source": [
    "import pandas as pd\n",
    "import numpy as np\n",
    "import matplotlib.pyplot as plt\n",
    "import seaborn as sns\n",
    "\n",
    "from math import sqrt\n",
    "\n",
    "from scipy import stats\n",
    "from pydataset import data\n",
    "\n",
    "url = \"https://gist.githubusercontent.com/ryanorsinger/2c13a71421037af127e9fa7fa1463cad/raw/3eb443414078b51af33fdb2d211159e5f3e220ab/exam_scores.csv\"\n",
    "df = pd.read_csv(url)\n",
    "\n",
    "df.head(3)"
   ]
  },
  {
   "cell_type": "code",
   "execution_count": 24,
   "id": "2627c798",
   "metadata": {},
   "outputs": [
    {
     "data": {
      "image/png": "[encoded data removed]",
      "text/plain": [
       "<Figure size 1000x1000 with 14 Axes>"
      ]
     },
     "metadata": {},
     "output_type": "display_data"
    }
   ],
   "source": [
    "sns.pairplot(df, corner=True)\n",
    "plt.suptitle(\"sns.pairplot visualizes continuous variable relationships\")\n",
    "plt.show()"
   ]
  },
  {
   "cell_type": "code",
   "execution_count": 25,
   "id": "b4f7411d",
   "metadata": {},
   "outputs": [],
   "source": [
    "n = df.shape[0]     # number of observations\n",
    "degf = n - 2        # degrees of freedom: the # of values in the final calculation of a statistic that are free to vary.\n",
    "conf_interval = .95 # desired confidence interval\n",
    "# alpha = 0.05\n",
    "α = 1 - conf_interval"
   ]
  },
  {
   "cell_type": "code",
   "execution_count": 29,
   "id": "fccd5ebc",
   "metadata": {},
   "outputs": [
    {
     "name": "stdout",
     "output_type": "stream",
     "text": [
      "40\n",
      "38\n",
      "0.95\n",
      "0.050000000000000044\n"
     ]
    }
   ],
   "source": [
    "print(n)\n",
    "print(degf)\n",
    "print(conf_interval)\n",
    "print(α)"
   ]
  },
  {
   "cell_type": "markdown",
   "id": "85113e58",
   "metadata": {},
   "source": [
    " # r = $\\frac{ \\sum_{i=1}^{n}(x_i-\\bar{x})(y_i-\\bar{y}) }{%\n",
    "        \\sqrt{\\sum_{i=1}^{n}(x_i-\\bar{x})^2}\\sqrt{\\sum_{i=1}^{n}(y_i-\\bar{y})^2}}$\n"
   ]
  },
  {
   "cell_type": "markdown",
   "id": "60078da7",
   "metadata": {},
   "source": [
    "# $r_{xy} = \\frac{\\frac{1}{n} \\sum(x_i - \\bar{x})(y_i - \\bar{y})}{s_x s_y}$"
   ]
  },
  {
   "cell_type": "markdown",
   "id": "aea18183",
   "metadata": {},
   "source": [
    "Null: No linear relationship between hrs studied & exam score\n",
    "Alt: Yes linear relationship between hrs studied & exam score"
   ]
  },
  {
   "cell_type": "code",
   "execution_count": 37,
   "id": "86581c85",
   "metadata": {
    "scrolled": true
   },
   "outputs": [
    {
     "name": "stdout",
     "output_type": "stream",
     "text": [
      "0.8351498542413306\n"
     ]
    }
   ],
   "source": [
    "x = df.hours_studied\n",
    "y = df.exam_score\n",
    "\n",
    "def stdev(x):\n",
    "    variance = ((x - x.mean()) ** 2).sum() / n\n",
    "    return sqrt(variance)\n",
    "\n",
    "r_xy = (((x - x.mean()) * (y - y.mean())).sum() / n) / (stdev(x) * stdev(y))\n",
    "print(r_xy)"
   ]
  },
  {
   "cell_type": "markdown",
   "id": "0a2bb466",
   "metadata": {},
   "source": [
    "$t = \\frac{r_{xy}\\sqrt{n-2}}{\\sqrt{1-r^{2}_{xy}}}$"
   ]
  },
  {
   "cell_type": "markdown",
   "id": "4d1ab981",
   "metadata": {},
   "source": [
    "# T-Statistic & P-Value"
   ]
  },
  {
   "cell_type": "code",
   "execution_count": 40,
   "id": "bacc27e3",
   "metadata": {},
   "outputs": [
    {
     "name": "stdout",
     "output_type": "stream",
     "text": [
      "9.359998377263368\n"
     ]
    }
   ],
   "source": [
    "t = (r_xy * sqrt(n - 2)) / sqrt(1 - r_xy**2)\n",
    "print(t)"
   ]
  },
  {
   "cell_type": "code",
   "execution_count": 35,
   "id": "4df95365",
   "metadata": {},
   "outputs": [
    {
     "name": "stdout",
     "output_type": "stream",
     "text": [
      "2.0762953315463266e-11\n"
     ]
    }
   ],
   "source": [
    "p = stats.t.sf(t, df=degf) * 2 # *2 for a two-tailed test\n",
    "print(p)"
   ]
  },
  {
   "cell_type": "code",
   "execution_count": 38,
   "id": "902c61ef",
   "metadata": {},
   "outputs": [
    {
     "data": {
      "text/plain": [
       "True"
      ]
     },
     "execution_count": 38,
     "metadata": {},
     "output_type": "execute_result"
    }
   ],
   "source": [
    "p < α"
   ]
  },
  {
   "cell_type": "markdown",
   "id": "ebad0946",
   "metadata": {},
   "source": [
    "# TLDR"
   ]
  },
  {
   "cell_type": "code",
   "execution_count": 41,
   "id": "dc1f4cd2",
   "metadata": {
    "scrolled": true
   },
   "outputs": [
    {
     "data": {
      "text/plain": [
       "(0.8351498542413308, 2.0762953315462826e-11)"
      ]
     },
     "execution_count": 41,
     "metadata": {},
     "output_type": "execute_result"
    }
   ],
   "source": [
    "corr, p = stats.pearsonr(x, y)\n",
    "corr, p"
   ]
  }
 ],
 "metadata": {
  "kernelspec": {
   "display_name": "Python 3 (ipykernel)",
   "language": "python",
   "name": "python3"
  },
  "language_info": {
   "codemirror_mode": {
    "name": "ipython",
    "version": 3
   },
   "file_extension": ".py",
   "mimetype": "text/x-python",
   "name": "python",
   "nbconvert_exporter": "python",
   "pygments_lexer": "ipython3",
   "version": "3.9.13"
  }
 },
 "nbformat": 4,
 "nbformat_minor": 5
}
