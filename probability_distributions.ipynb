{
 "cells": [
  {
   "cell_type": "code",
   "execution_count": 166,
   "id": "e8d959e7",
   "metadata": {},
   "outputs": [],
   "source": [
    "import matplotlib.pyplot as plt\n",
    "import numpy as np\n",
    "import pandas as pd\n",
    "from scipy import stats\n",
    "import viz # curriculum viz example code\n",
    "\n",
    "import env\n",
    "\n",
    "np.random.seed(123)"
   ]
  },
  {
   "cell_type": "code",
   "execution_count": 114,
   "id": "bc79289f",
   "metadata": {},
   "outputs": [],
   "source": [
    "def clean_percent(p):\n",
    "    return print(f'{(p*100):.2f}%')"
   ]
  },
  {
   "cell_type": "markdown",
   "id": "7b0c43d0",
   "metadata": {},
   "source": [
    "> Examples:"
   ]
  },
  {
   "cell_type": "markdown",
   "id": "b57c4c98",
   "metadata": {},
   "source": [
    "<div class=\"alert alert-block alert-info\">\n",
    "    \n",
    "<b>Tip:</b> Lookup on YouTube!\n",
    "\n",
    "</div>"
   ]
  },
  {
   "cell_type": "markdown",
   "id": "e8472a3e",
   "metadata": {},
   "source": [
    "### 1. A bank found that the average number of cars waiting during the noon hour at a drive-up window follows a Poisson distribution with a mean of 2 cars. Make a chart of this distribution and answer these questions concerning the probability of cars waiting at the drive-up window."
   ]
  },
  {
   "cell_type": "markdown",
   "id": "e84af763",
   "metadata": {},
   "source": [
    "<div class=\"alert alert-block alert-info\">\n",
    "    \n",
    "<b>Class Answer</b>\n",
    "\n",
    "</div>"
   ]
  },
  {
   "cell_type": "code",
   "execution_count": null,
   "id": "f0e97226",
   "metadata": {},
   "outputs": [],
   "source": []
  },
  {
   "cell_type": "markdown",
   "id": "6696ec5f",
   "metadata": {},
   "source": [
    "<div class=\"alert alert-block alert-info\">\n",
    "    \n",
    "<b>My Answer</b>\n",
    "\n",
    "</div>"
   ]
  },
  {
   "cell_type": "code",
   "execution_count": 171,
   "id": "8a3287ac",
   "metadata": {},
   "outputs": [],
   "source": [
    "mean = 2\n",
    "\n",
    "x = np.arange(0,12)\n",
    "y = stats.poisson(mean).pmf(x)"
   ]
  },
  {
   "cell_type": "code",
   "execution_count": 172,
   "id": "358bfa73",
   "metadata": {},
   "outputs": [
    {
     "data": {
      "image/png": "[encoded data removed]",
      "text/plain": [
       "<Figure size 900x600 with 1 Axes>"
      ]
     },
     "metadata": {},
     "output_type": "display_data"
    }
   ],
   "source": [
    "plt.bar(x,y)\n",
    "plt.title('Poisson distribution $mean = 2$')\n",
    "plt.xlabel('Cars @ Drive-Thru')\n",
    "plt.ylabel('Probability');"
   ]
  },
  {
   "cell_type": "markdown",
   "id": "ba487e33",
   "metadata": {},
   "source": [
    "- #### What is the probability that no cars drive up in the noon hour?"
   ]
  },
  {
   "cell_type": "code",
   "execution_count": 173,
   "id": "402147d0",
   "metadata": {},
   "outputs": [
    {
     "data": {
      "text/plain": [
       "0.1353352832366127"
      ]
     },
     "execution_count": 173,
     "metadata": {},
     "output_type": "execute_result"
    }
   ],
   "source": [
    "prob_cars = stats.poisson(mean)\n",
    "prob_cars.pmf(0)"
   ]
  },
  {
   "cell_type": "markdown",
   "id": "df76b0f9",
   "metadata": {},
   "source": [
    "- #### What is the probability that 3 or more cars come through the drive through?"
   ]
  },
  {
   "cell_type": "code",
   "execution_count": 175,
   "id": "d3527f21",
   "metadata": {},
   "outputs": [
    {
     "data": {
      "text/plain": [
       "0.32332358381693654"
      ]
     },
     "execution_count": 175,
     "metadata": {},
     "output_type": "execute_result"
    }
   ],
   "source": [
    "prob_cars.sf(2)"
   ]
  },
  {
   "cell_type": "markdown",
   "id": "82e0edd9",
   "metadata": {},
   "source": [
    "- #### How likely is it that the drive through gets at least 1 car?"
   ]
  },
  {
   "cell_type": "code",
   "execution_count": 71,
   "id": "e53f3b1e",
   "metadata": {},
   "outputs": [
    {
     "data": {
      "text/plain": [
       "0.8646647167633873"
      ]
     },
     "execution_count": 71,
     "metadata": {},
     "output_type": "execute_result"
    }
   ],
   "source": [
    "prob_cars.sf(0)"
   ]
  },
  {
   "cell_type": "markdown",
   "id": "dd85f0b3",
   "metadata": {},
   "source": [
    "> #### The quarterly results look great!\n",
    ">\n",
    "> - Revenue was off the chart.\n",
    ">> Test\n",
    "> - Profits were higher than ever.\n",
    ">\n",
    ">  *Everything* is going according to **plan**."
   ]
  },
  {
   "cell_type": "markdown",
   "id": "b524e820",
   "metadata": {},
   "source": [
    "---"
   ]
  },
  {
   "cell_type": "markdown",
   "id": "bcc43053",
   "metadata": {},
   "source": [
    "### 2. Grades of State University graduates are normally distributed with a mean of 3.0 and a standard deviation of .3. Calculate the following:"
   ]
  },
  {
   "cell_type": "code",
   "execution_count": 194,
   "id": "f64fdf77",
   "metadata": {},
   "outputs": [],
   "source": [
    "grades = stats.norm(3, .3)"
   ]
  },
  {
   "cell_type": "markdown",
   "id": "1d5b241d",
   "metadata": {},
   "source": [
    "- #### What grade point average is required to be in the top 5% of the graduating class?"
   ]
  },
  {
   "cell_type": "markdown",
   "id": "846223ce",
   "metadata": {},
   "source": [
    "<div class=\"alert alert-block alert-info\">\n",
    "    \n",
    "<b>Class Answer</b>\n",
    "\n",
    "</div>"
   ]
  },
  {
   "cell_type": "code",
   "execution_count": 178,
   "id": "5fef04db",
   "metadata": {},
   "outputs": [],
   "source": [
    "μ = 3.0\n",
    "σ = 0.3"
   ]
  },
  {
   "cell_type": "code",
   "execution_count": 179,
   "id": "60758f51",
   "metadata": {},
   "outputs": [],
   "source": [
    "grade = stats.norm(μ,σ)"
   ]
  },
  {
   "cell_type": "code",
   "execution_count": 182,
   "id": "dd332884",
   "metadata": {},
   "outputs": [
    {
     "data": {
      "text/plain": [
       "3.4934560880854417"
      ]
     },
     "execution_count": 182,
     "metadata": {},
     "output_type": "execute_result"
    }
   ],
   "source": [
    "grade.isf(.05)"
   ]
  },
  {
   "cell_type": "code",
   "execution_count": null,
   "id": "1165f966",
   "metadata": {},
   "outputs": [],
   "source": [
    "# ???? FIND ANSWER\n",
    "1-grade.xxx()"
   ]
  },
  {
   "cell_type": "markdown",
   "id": "5211f0be",
   "metadata": {},
   "source": [
    "<div class=\"alert alert-block alert-info\">\n",
    "    \n",
    "<b>My Answer</b>\n",
    "\n",
    "</div>"
   ]
  },
  {
   "cell_type": "code",
   "execution_count": 196,
   "id": "f501f801",
   "metadata": {},
   "outputs": [
    {
     "data": {
      "text/plain": [
       "3.4934560880854417"
      ]
     },
     "execution_count": 196,
     "metadata": {},
     "output_type": "execute_result"
    }
   ],
   "source": [
    "grades.ppf(.95)"
   ]
  },
  {
   "cell_type": "markdown",
   "id": "4ba74d00",
   "metadata": {},
   "source": [
    "- #### What GPA constitutes the bottom 15% of the class?\n"
   ]
  },
  {
   "cell_type": "code",
   "execution_count": 198,
   "id": "40a4fb53",
   "metadata": {},
   "outputs": [
    {
     "data": {
      "text/plain": [
       "2.689069983151863"
      ]
     },
     "execution_count": 198,
     "metadata": {},
     "output_type": "execute_result"
    }
   ],
   "source": [
    "grades.ppf(.15)"
   ]
  },
  {
   "cell_type": "markdown",
   "id": "9a95556d",
   "metadata": {},
   "source": [
    "- #### An eccentric alumnus left scholarship money for students in the third decile from the bottom of their class. Determine the range of the third decile. Would a student with a 2.8 grade point average qualify for this scholarship?"
   ]
  },
  {
   "cell_type": "markdown",
   "id": "edf639f4",
   "metadata": {},
   "source": [
    "1st decile: 0-10 percentile  \n",
    "2nd decile: 10-20 percentile   \n",
    "3rd decile: 20-30 percentile"
   ]
  },
  {
   "cell_type": "markdown",
   "id": "4b173465",
   "metadata": {},
   "source": [
    "<div class=\"alert alert-block alert-info\">\n",
    "    \n",
    "<b>Class Answer</b>\n",
    "\n",
    "</div>"
   ]
  },
  {
   "cell_type": "code",
   "execution_count": 185,
   "id": "1f4a1dd2",
   "metadata": {},
   "outputs": [
    {
     "data": {
      "text/plain": [
       "array([2.74751363, 2.84267985])"
      ]
     },
     "execution_count": 185,
     "metadata": {},
     "output_type": "execute_result"
    }
   ],
   "source": [
    "range_of_gpas = grade.ppf([.2,.3])\n",
    "range_of_gpas"
   ]
  },
  {
   "cell_type": "code",
   "execution_count": 200,
   "id": "e5c541c0",
   "metadata": {},
   "outputs": [
    {
     "data": {
      "text/plain": [
       "0.2524925375469227"
      ]
     },
     "execution_count": 200,
     "metadata": {},
     "output_type": "execute_result"
    }
   ],
   "source": [
    "1-grades.sf(2.8)"
   ]
  },
  {
   "cell_type": "markdown",
   "id": "159a8837",
   "metadata": {},
   "source": [
    "<div class=\"alert alert-block alert-info\">\n",
    "    \n",
    "<b>My Answer</b>\n",
    "\n",
    "</div>"
   ]
  },
  {
   "cell_type": "code",
   "execution_count": 190,
   "id": "75c08e24",
   "metadata": {},
   "outputs": [
    {
     "data": {
      "text/plain": [
       "0.2524925375469227"
      ]
     },
     "execution_count": 190,
     "metadata": {},
     "output_type": "execute_result"
    }
   ],
   "source": [
    "grades.cdf(2.8)"
   ]
  },
  {
   "cell_type": "code",
   "execution_count": null,
   "id": "9b731591",
   "metadata": {},
   "outputs": [],
   "source": [
    "# YES"
   ]
  },
  {
   "cell_type": "markdown",
   "id": "888e4e9a",
   "metadata": {},
   "source": [
    "- #### If I have a GPA of 3.5, what percentile am I in?"
   ]
  },
  {
   "cell_type": "code",
   "execution_count": 201,
   "id": "bfb6c9f5",
   "metadata": {},
   "outputs": [
    {
     "data": {
      "text/plain": [
       "0.9522096477271853"
      ]
     },
     "execution_count": 201,
     "metadata": {},
     "output_type": "execute_result"
    }
   ],
   "source": [
    "grades.cdf(3.5)"
   ]
  },
  {
   "cell_type": "code",
   "execution_count": null,
   "id": "7dcd19a9",
   "metadata": {},
   "outputs": [],
   "source": [
    "# 95TH"
   ]
  },
  {
   "cell_type": "markdown",
   "id": "69582778",
   "metadata": {},
   "source": [
    "### 3. A marketing website has an average click-through rate of 2%. One day they observe 4326 visitors and 97 click-throughs. How likely is it that this many people or more click through?"
   ]
  },
  {
   "cell_type": "code",
   "execution_count": 15,
   "id": "65ae9d92",
   "metadata": {},
   "outputs": [],
   "source": [
    "visitors = 4326\n",
    "rate = 0.02\n",
    "clickthroughs = 97\n",
    "\n",
    "website_clicks = stats.binom(visitors, rate)"
   ]
  },
  {
   "cell_type": "code",
   "execution_count": null,
   "id": "d797b883",
   "metadata": {},
   "outputs": [],
   "source": [
    "# Survival Function\n",
    "# Exclusive\n",
    "# 96 to include 97"
   ]
  },
  {
   "cell_type": "code",
   "execution_count": 27,
   "id": "52ae03ea",
   "metadata": {},
   "outputs": [],
   "source": [
    "probability = website_clicks.sf(clickthroughs-1)"
   ]
  },
  {
   "cell_type": "code",
   "execution_count": 202,
   "id": "664b3663",
   "metadata": {},
   "outputs": [
    {
     "data": {
      "text/plain": [
       "0.13975823631416448"
      ]
     },
     "execution_count": 202,
     "metadata": {},
     "output_type": "execute_result"
    }
   ],
   "source": [
    "probability"
   ]
  },
  {
   "cell_type": "code",
   "execution_count": 17,
   "id": "e6e58437",
   "metadata": {},
   "outputs": [],
   "source": [
    "test = 1-rate"
   ]
  },
  {
   "cell_type": "code",
   "execution_count": 18,
   "id": "a4a4292a",
   "metadata": {},
   "outputs": [
    {
     "data": {
      "text/plain": [
       "0.98"
      ]
     },
     "execution_count": 18,
     "metadata": {},
     "output_type": "execute_result"
    }
   ],
   "source": [
    "test"
   ]
  },
  {
   "cell_type": "code",
   "execution_count": 19,
   "id": "00108fbf",
   "metadata": {},
   "outputs": [],
   "source": [
    "n_sims = 10_000"
   ]
  },
  {
   "cell_type": "code",
   "execution_count": null,
   "id": "0f5d23dc",
   "metadata": {},
   "outputs": [],
   "source": [
    "# 1 = Yes Click  0 = No Click"
   ]
  },
  {
   "cell_type": "code",
   "execution_count": 23,
   "id": "15f06e14",
   "metadata": {},
   "outputs": [],
   "source": [
    "clicks = np.random.choice([1,0], size=(n_sims, visitors), p=(rate,1-rate))"
   ]
  },
  {
   "cell_type": "code",
   "execution_count": null,
   "id": "567b8632",
   "metadata": {},
   "outputs": [],
   "source": [
    "# 4326 visitors probability: they click = 2% ; they don't click = 98%  X  10,000 simulations"
   ]
  },
  {
   "cell_type": "code",
   "execution_count": 24,
   "id": "d8127c8a",
   "metadata": {},
   "outputs": [
    {
     "name": "stdout",
     "output_type": "stream",
     "text": [
      "[[0 0 0 ... 0 0 0]\n",
      " [1 0 0 ... 0 0 0]\n",
      " [0 0 0 ... 0 0 0]\n",
      " ...\n",
      " [0 0 0 ... 0 0 0]\n",
      " [0 0 0 ... 0 0 0]\n",
      " [0 0 0 ... 0 0 0]]\n"
     ]
    }
   ],
   "source": [
    "print(clicks)"
   ]
  },
  {
   "cell_type": "code",
   "execution_count": 25,
   "id": "38b661d3",
   "metadata": {},
   "outputs": [
    {
     "data": {
      "text/plain": [
       "0.1397"
      ]
     },
     "execution_count": 25,
     "metadata": {},
     "output_type": "execute_result"
    }
   ],
   "source": [
    "(clicks.sum(axis=1) >= 97).mean()"
   ]
  },
  {
   "cell_type": "markdown",
   "id": "15cbd654",
   "metadata": {},
   "source": [
    "> Using Poisson Distribution to solve answer"
   ]
  },
  {
   "cell_type": "code",
   "execution_count": 203,
   "id": "f10e9c3e",
   "metadata": {},
   "outputs": [],
   "source": [
    "p = .02\n",
    "n_trials = 4326\n",
    "λ = n_trials * p"
   ]
  },
  {
   "cell_type": "code",
   "execution_count": 204,
   "id": "5d672813",
   "metadata": {},
   "outputs": [
    {
     "data": {
      "text/plain": [
       "0.14211867659283192"
      ]
     },
     "execution_count": 204,
     "metadata": {},
     "output_type": "execute_result"
    }
   ],
   "source": [
    "# Survival Function\n",
    "# Exclusive\n",
    "# 96 to include 97\n",
    "\n",
    "stats.poisson(λ).sf(96)"
   ]
  },
  {
   "cell_type": "markdown",
   "id": "72cb253a",
   "metadata": {},
   "source": [
    "### 4. You are working on some statistics homework consisting of 100 questions where all of the answers are a probability rounded to the hundreths place. Looking to save time, you put down random probabilities as the answer to each question."
   ]
  },
  {
   "cell_type": "markdown",
   "id": "7386d05d",
   "metadata": {},
   "source": [
    "- #### What is the probability that at least one of your first 60 answers is correct?"
   ]
  },
  {
   "cell_type": "markdown",
   "id": "261747d3",
   "metadata": {},
   "source": [
    "<div class=\"alert alert-block alert-info\">\n",
    "    \n",
    "<b>Class Answer</b>\n",
    "\n",
    "</div>"
   ]
  },
  {
   "cell_type": "code",
   "execution_count": 206,
   "id": "fffeab4d",
   "metadata": {},
   "outputs": [
    {
     "data": {
      "text/plain": [
       "0.45284335760923855"
      ]
     },
     "execution_count": 206,
     "metadata": {},
     "output_type": "execute_result"
    }
   ],
   "source": [
    "n_trials = 60\n",
    "p=0.01\n",
    "\n",
    "stats.binom(n_trials,p).sf(0)"
   ]
  },
  {
   "cell_type": "markdown",
   "id": "a8492503",
   "metadata": {},
   "source": [
    "<div class=\"alert alert-block alert-info\">\n",
    "    \n",
    "<b>My Answer</b>\n",
    "\n",
    "</div>"
   ]
  },
  {
   "cell_type": "code",
   "execution_count": 208,
   "id": "a6cc4f30",
   "metadata": {},
   "outputs": [],
   "source": [
    "n = 60\n",
    "p = 0.01"
   ]
  },
  {
   "cell_type": "code",
   "execution_count": null,
   "id": "ff3b745e",
   "metadata": {},
   "outputs": [],
   "source": [
    "# Survival Function: Exclusive, Greater Than"
   ]
  },
  {
   "cell_type": "code",
   "execution_count": 209,
   "id": "47f9cd07",
   "metadata": {},
   "outputs": [],
   "source": [
    "test_guess = stats.binom(n, p).sf(0)"
   ]
  },
  {
   "cell_type": "code",
   "execution_count": 210,
   "id": "d8fc8b8f",
   "metadata": {},
   "outputs": [
    {
     "name": "stdout",
     "output_type": "stream",
     "text": [
      "0.45284335760923855\n"
     ]
    }
   ],
   "source": [
    "print(test_guess)"
   ]
  },
  {
   "cell_type": "code",
   "execution_count": 211,
   "id": "ecdb72bb",
   "metadata": {},
   "outputs": [
    {
     "name": "stdout",
     "output_type": "stream",
     "text": [
      "45.28% chance of choosing 1 correct answer 1st 60 questions\n"
     ]
    }
   ],
   "source": [
    "print(f'{(test_guess * 100):.2f}% chance of choosing 1 correct answer 1st 60 questions')"
   ]
  },
  {
   "cell_type": "markdown",
   "id": "7fcb9a0c",
   "metadata": {},
   "source": [
    "### 5. The codeup staff tends to get upset when the student break area is not cleaned up. Suppose that there's a 3% chance that any one student cleans the break area when they visit it, and, on any given day, about 90% of the 3 active cohorts of 22 students visit the break area. How likely is it that the break area gets cleaned up each day? How likely is it that it goes two days without getting cleaned up? All week?"
   ]
  },
  {
   "cell_type": "code",
   "execution_count": 73,
   "id": "4780006d",
   "metadata": {},
   "outputs": [],
   "source": [
    "breakroom_visitors = round(.9 * 22 * 3)"
   ]
  },
  {
   "cell_type": "code",
   "execution_count": 74,
   "id": "597e7526",
   "metadata": {},
   "outputs": [
    {
     "name": "stdout",
     "output_type": "stream",
     "text": [
      "59\n"
     ]
    }
   ],
   "source": [
    "print(breakroom_visitors)"
   ]
  },
  {
   "cell_type": "code",
   "execution_count": 75,
   "id": "9beaed18",
   "metadata": {},
   "outputs": [],
   "source": [
    "p = .03"
   ]
  },
  {
   "cell_type": "code",
   "execution_count": 76,
   "id": "fc31d6c5",
   "metadata": {},
   "outputs": [],
   "source": [
    "tidy_student = stats.binom(breakroom_visitors, p)"
   ]
  },
  {
   "cell_type": "code",
   "execution_count": 78,
   "id": "295cf01e",
   "metadata": {},
   "outputs": [],
   "source": [
    "probability_clean_breakroom_every_day=tidy_student.sf(0)"
   ]
  },
  {
   "cell_type": "code",
   "execution_count": null,
   "id": "53123f7b",
   "metadata": {},
   "outputs": [],
   "source": [
    "# How likely is it that the break area gets cleaned up each day?"
   ]
  },
  {
   "cell_type": "code",
   "execution_count": 84,
   "id": "35fd7921",
   "metadata": {},
   "outputs": [
    {
     "name": "stdout",
     "output_type": "stream",
     "text": [
      "83.42%\n"
     ]
    }
   ],
   "source": [
    "print(f'{(probability_clean_breakroom_every_day*100):.2f}%')"
   ]
  },
  {
   "cell_type": "code",
   "execution_count": null,
   "id": "aa74a066",
   "metadata": {},
   "outputs": [],
   "source": [
    "# How likely is it that it goes two days without getting cleaned up?"
   ]
  },
  {
   "cell_type": "code",
   "execution_count": null,
   "id": "734cc31b",
   "metadata": {},
   "outputs": [],
   "source": [
    "# PMF"
   ]
  },
  {
   "cell_type": "code",
   "execution_count": 85,
   "id": "459acdf6",
   "metadata": {},
   "outputs": [],
   "source": [
    "probability_clean_breakroom_2_days = stats.binom(n*2, p).pmf(0)"
   ]
  },
  {
   "cell_type": "code",
   "execution_count": 112,
   "id": "7c0324e5",
   "metadata": {},
   "outputs": [
    {
     "name": "stdout",
     "output_type": "stream",
     "text": [
      "2.59%\n"
     ]
    }
   ],
   "source": [
    "clean_percent(probability_clean_breakroom_2_days)"
   ]
  },
  {
   "cell_type": "code",
   "execution_count": null,
   "id": "f29c2522",
   "metadata": {},
   "outputs": [],
   "source": [
    "# All week?"
   ]
  },
  {
   "cell_type": "code",
   "execution_count": 97,
   "id": "55b56d4b",
   "metadata": {},
   "outputs": [],
   "source": [
    "probability_clean_breakroom_5_days = stats.binom(n*5, p).pmf(0)"
   ]
  },
  {
   "cell_type": "code",
   "execution_count": 113,
   "id": "645ebf03",
   "metadata": {},
   "outputs": [
    {
     "name": "stdout",
     "output_type": "stream",
     "text": [
      "0.01%\n"
     ]
    }
   ],
   "source": [
    "clean_percent(probability_clean_breakroom_5_days)"
   ]
  },
  {
   "cell_type": "code",
   "execution_count": 105,
   "id": "b81954f6",
   "metadata": {},
   "outputs": [
    {
     "data": {
      "text/plain": [
       "Text(0.5, 1.0, 'Clean Breakroom Per Day')"
      ]
     },
     "execution_count": 105,
     "metadata": {},
     "output_type": "execute_result"
    },
    {
     "data": {
      "image/png": "[encoded data removed]",
      "text/plain": [
       "<Figure size 900x600 with 1 Axes>"
      ]
     },
     "metadata": {},
     "output_type": "display_data"
    }
   ],
   "source": [
    "x = np.arange(0,10)\n",
    "y = stats.binom(n, p).pmf(x)\n",
    "plt.bar(x,y)\n",
    "plt.xlabel('Cleaned')\n",
    "plt.title('Clean Breakroom Per Day')"
   ]
  },
  {
   "cell_type": "markdown",
   "id": "fd13bbd4",
   "metadata": {},
   "source": [
    "<div class=\"alert alert-block alert-info\">\n",
    "    \n",
    "<b>Class Answer</b>\n",
    "\n",
    "</div>"
   ]
  },
  {
   "cell_type": "code",
   "execution_count": 223,
   "id": "55d165b6",
   "metadata": {},
   "outputs": [],
   "source": [
    "codeup = round(.9*22*3)\n",
    "cleaned_p=.03"
   ]
  },
  {
   "cell_type": "code",
   "execution_count": 224,
   "id": "d6d39583",
   "metadata": {},
   "outputs": [],
   "source": [
    "cleaned = stats.binom(codeup, cleaned_p).sf(0)"
   ]
  },
  {
   "cell_type": "code",
   "execution_count": 225,
   "id": "9f0bf69a",
   "metadata": {},
   "outputs": [
    {
     "data": {
      "text/plain": [
       "0.8342199288437352"
      ]
     },
     "execution_count": 225,
     "metadata": {},
     "output_type": "execute_result"
    }
   ],
   "source": [
    "cleaned"
   ]
  },
  {
   "cell_type": "markdown",
   "id": "523ad530",
   "metadata": {},
   "source": [
    "> ### 2 Days"
   ]
  },
  {
   "cell_type": "code",
   "execution_count": 226,
   "id": "e0f68f9c",
   "metadata": {},
   "outputs": [],
   "source": [
    "two_days = stats.binom(codeup*2, p).pmf(0)"
   ]
  },
  {
   "cell_type": "code",
   "execution_count": 227,
   "id": "f0e0614b",
   "metadata": {},
   "outputs": [
    {
     "data": {
      "text/plain": [
       "0.027483031992576134"
      ]
     },
     "execution_count": 227,
     "metadata": {},
     "output_type": "execute_result"
    }
   ],
   "source": [
    "two_days"
   ]
  },
  {
   "cell_type": "markdown",
   "id": "e76378b9",
   "metadata": {},
   "source": [
    "### 6. You want to get lunch at La Panaderia, but notice that the line is usually very long at lunchtime. After several weeks of careful observation, you notice that the average number of people in line when your lunch break starts is normally distributed with a mean of 15 and standard deviation of 3. If it takes 2 minutes for each person to order, and 10 minutes from ordering to getting your food, what is the likelihood that you have at least 15 minutes left to eat your food before you have to go back to class? Assume you have one hour for lunch, and ignore travel time to and from La Panaderia."
   ]
  },
  {
   "cell_type": "code",
   "execution_count": null,
   "id": "0605ca8b",
   "metadata": {},
   "outputs": [],
   "source": [
    "# Normal, mean = 15, std = 3"
   ]
  },
  {
   "cell_type": "code",
   "execution_count": 139,
   "id": "70650420",
   "metadata": {},
   "outputs": [],
   "source": [
    "mean = 15\n",
    "std_dev = 3"
   ]
  },
  {
   "cell_type": "code",
   "execution_count": 128,
   "id": "744ee83c",
   "metadata": {},
   "outputs": [],
   "source": [
    "lunch_line_people = stats.norm(15,3)"
   ]
  },
  {
   "cell_type": "code",
   "execution_count": null,
   "id": "17d9851b",
   "metadata": {},
   "outputs": [],
   "source": [
    "# Ordering = 2, Food = 10, eating = 15"
   ]
  },
  {
   "cell_type": "code",
   "execution_count": 121,
   "id": "98281726",
   "metadata": {},
   "outputs": [],
   "source": [
    "max_time = 60-(2+10+15)"
   ]
  },
  {
   "cell_type": "code",
   "execution_count": 123,
   "id": "f80ec0cd",
   "metadata": {},
   "outputs": [
    {
     "name": "stdout",
     "output_type": "stream",
     "text": [
      "33\n"
     ]
    }
   ],
   "source": [
    "print(max_time)"
   ]
  },
  {
   "cell_type": "code",
   "execution_count": null,
   "id": "a4fefcd7",
   "metadata": {},
   "outputs": [],
   "source": [
    "# Probability Less than or equal to 33 minutes\n",
    "# 33min / 2min\n",
    "# 16.5 people\n",
    "#\n",
    "# C D F\n",
    "# Total Sum of probability { Less than or Equal to value}"
   ]
  },
  {
   "cell_type": "code",
   "execution_count": 133,
   "id": "bb71f079",
   "metadata": {},
   "outputs": [],
   "source": [
    "max_people = max_time/2"
   ]
  },
  {
   "cell_type": "code",
   "execution_count": 135,
   "id": "3a698bfa",
   "metadata": {},
   "outputs": [],
   "source": [
    "lunch_line_people_probability = lunch_line_people.cdf(max_people)"
   ]
  },
  {
   "cell_type": "code",
   "execution_count": 229,
   "id": "850650f5",
   "metadata": {},
   "outputs": [
    {
     "name": "stdout",
     "output_type": "stream",
     "text": [
      "69.15%\n"
     ]
    }
   ],
   "source": [
    "clean_percent(lunch_line_people_probability)"
   ]
  },
  {
   "cell_type": "code",
   "execution_count": null,
   "id": "78e42abe",
   "metadata": {},
   "outputs": [],
   "source": [
    "#\n",
    "# P D F\n",
    "# Total Sum of probability { Less than or Equal to value}"
   ]
  },
  {
   "cell_type": "code",
   "execution_count": 230,
   "id": "4798d29d",
   "metadata": {},
   "outputs": [
    {
     "data": {
      "text/plain": [
       "1.0620228369451424e-07"
      ]
     },
     "execution_count": 230,
     "metadata": {},
     "output_type": "execute_result"
    }
   ],
   "source": [
    "stats.norm(mean, std_dev).pdf(33)"
   ]
  },
  {
   "cell_type": "code",
   "execution_count": 157,
   "id": "3cb8ffd2",
   "metadata": {},
   "outputs": [
    {
     "data": {
      "text/plain": [
       "Text(0.5, 0, 'Wait time')"
      ]
     },
     "execution_count": 157,
     "metadata": {},
     "output_type": "execute_result"
    },
    {
     "data": {
      "image/png": "[encoded data removed]",
      "text/plain": [
       "<Figure size 900x600 with 1 Axes>"
      ]
     },
     "metadata": {},
     "output_type": "display_data"
    }
   ],
   "source": [
    "# Minutes Per Person\n",
    "\n",
    "mean = 15 * 2\n",
    "std_dev = 3 * 2\n",
    "\n",
    "x = np.arange(0, 60, 1)\n",
    "y = stats.norm(mean, std_dev).pdf(x)\n",
    "\n",
    "plt.plot(x,y)\n",
    "plt.vlines(33, 0 ,stats.norm(mean, std_dev).pdf(33),  ls = '--', color = 'r')\n",
    "plt.ylim(0,.075)\n",
    "plt.xlabel('Wait time')"
   ]
  },
  {
   "cell_type": "markdown",
   "id": "dee29818",
   "metadata": {},
   "source": [
    "### 7. Connect to the employees database and find the average salary of current employees, along with the standard deviation. For the following questions, calculate the answer based on modeling the employees salaries with a normal distribution defined by the calculated mean and standard deviation then compare this answer to the actual values present in the salaries dataset."
   ]
  },
  {
   "cell_type": "code",
   "execution_count": 163,
   "id": "51a3fc95",
   "metadata": {},
   "outputs": [],
   "source": [
    "from env import username, password, host"
   ]
  },
  {
   "cell_type": "code",
   "execution_count": 167,
   "id": "82d6fc70",
   "metadata": {},
   "outputs": [],
   "source": [
    "def get_db_url(db):\n",
    "    '''\n",
    "    return a formatted string containing username, password\n",
    "    host and database for connecting to the mySQL server and the\n",
    "    database indicated.\n",
    "    \n",
    "    env_file checks to see if the env.py exists in cwd\n",
    "    \n",
    "    '''\n",
    "    user, pass_, host_ = (username, password, host)\n",
    "    \n",
    "    return f\"mysql+pymysql://{user}:{pass_}@{host_}/{db}\""
   ]
  },
  {
   "cell_type": "code",
   "execution_count": 235,
   "id": "a794514a",
   "metadata": {},
   "outputs": [],
   "source": [
    "# SQL SETUP VARIABLES\n",
    "url_employees = get_db_url(\"employees\")\n",
    "query_employees = '''\n",
    "SELECT\n",
    "    *\n",
    "FROM\n",
    "    salaries\n",
    "WHERE\n",
    "    to_date > now()\n",
    "'''"
   ]
  },
  {
   "cell_type": "code",
   "execution_count": 236,
   "id": "38ae2e12",
   "metadata": {},
   "outputs": [],
   "source": [
    "dataframe_employees = pd.read_sql(query_employees, url_employees)"
   ]
  },
  {
   "cell_type": "code",
   "execution_count": 237,
   "id": "c93b74a3",
   "metadata": {},
   "outputs": [
    {
     "data": {
      "text/html": [
       "<div>\n",
       "<style scoped>\n",
       "    .dataframe tbody tr th:only-of-type {\n",
       "        vertical-align: middle;\n",
       "    }\n",
       "\n",
       "    .dataframe tbody tr th {\n",
       "        vertical-align: top;\n",
       "    }\n",
       "\n",
       "    .dataframe thead th {\n",
       "        text-align: right;\n",
       "    }\n",
       "</style>\n",
       "<table border=\"1\" class=\"dataframe\">\n",
       "  <thead>\n",
       "    <tr style=\"text-align: right;\">\n",
       "      <th></th>\n",
       "      <th>emp_no</th>\n",
       "      <th>salary</th>\n",
       "      <th>from_date</th>\n",
       "      <th>to_date</th>\n",
       "    </tr>\n",
       "  </thead>\n",
       "  <tbody>\n",
       "    <tr>\n",
       "      <th>0</th>\n",
       "      <td>10001</td>\n",
       "      <td>88958</td>\n",
       "      <td>2002-06-22</td>\n",
       "      <td>9999-01-01</td>\n",
       "    </tr>\n",
       "    <tr>\n",
       "      <th>1</th>\n",
       "      <td>10002</td>\n",
       "      <td>72527</td>\n",
       "      <td>2001-08-02</td>\n",
       "      <td>9999-01-01</td>\n",
       "    </tr>\n",
       "    <tr>\n",
       "      <th>2</th>\n",
       "      <td>10003</td>\n",
       "      <td>43311</td>\n",
       "      <td>2001-12-01</td>\n",
       "      <td>9999-01-01</td>\n",
       "    </tr>\n",
       "  </tbody>\n",
       "</table>\n",
       "</div>"
      ],
      "text/plain": [
       "   emp_no  salary   from_date     to_date\n",
       "0   10001   88958  2002-06-22  9999-01-01\n",
       "1   10002   72527  2001-08-02  9999-01-01\n",
       "2   10003   43311  2001-12-01  9999-01-01"
      ]
     },
     "execution_count": 237,
     "metadata": {},
     "output_type": "execute_result"
    }
   ],
   "source": [
    "dataframe_employees.head(3)"
   ]
  },
  {
   "cell_type": "markdown",
   "id": "2f80cadb",
   "metadata": {},
   "source": [
    "> Using ```get_db_url()``` - function and creating ```query_employees_merged``` - SQL Query Variable \n",
    "\n",
    "```python\n",
    "url_employees = get_db_url(\"employees\")\n",
    "query_employees_merged = '''\n",
    "SELECT *\n",
    "FROM employees\n",
    "INNER JOIN dept_emp USING(emp_no)\n",
    "INNER JOIN titles USING(emp_no)\n",
    "INNER JOIN departments USING(dept_no)\n",
    ";\n",
    "'''\n",
    "```"
   ]
  },
  {
   "cell_type": "code",
   "execution_count": 239,
   "id": "ef6eeaa6",
   "metadata": {},
   "outputs": [],
   "source": [
    "emp_mean = dataframe_employees['salary'].mean()\n",
    "emp_std_dev = dataframe_employees['salary'].std()"
   ]
  },
  {
   "cell_type": "markdown",
   "id": "d717d535",
   "metadata": {},
   "source": [
    "- #### What percent of employees earn less than 60,000?"
   ]
  },
  {
   "cell_type": "code",
   "execution_count": null,
   "id": "0b6213f2",
   "metadata": {},
   "outputs": [],
   "source": []
  },
  {
   "cell_type": "markdown",
   "id": "c1a2e2b8",
   "metadata": {},
   "source": [
    "- #### What percent of employees earn more than 95,000?"
   ]
  },
  {
   "cell_type": "code",
   "execution_count": null,
   "id": "0b0c6853",
   "metadata": {},
   "outputs": [],
   "source": []
  },
  {
   "cell_type": "markdown",
   "id": "bba1a4cc",
   "metadata": {},
   "source": [
    "- #### What percent of employees earn between 65,000 and 80,000?"
   ]
  },
  {
   "cell_type": "code",
   "execution_count": null,
   "id": "145b6d7c",
   "metadata": {},
   "outputs": [],
   "source": []
  },
  {
   "cell_type": "markdown",
   "id": "efcd10a4",
   "metadata": {},
   "source": [
    "- #### What do the top 5% of employees make?"
   ]
  },
  {
   "cell_type": "markdown",
   "id": "e64d851b",
   "metadata": {},
   "source": [
    "Because it's a normal distribution."
   ]
  },
  {
   "cell_type": "code",
   "execution_count": 240,
   "id": "78c77816",
   "metadata": {},
   "outputs": [
    {
     "ename": "AttributeError",
     "evalue": "'norm_gen' object has no attribute 'quantile'",
     "output_type": "error",
     "traceback": [
      "\u001b[0;31m---------------------------------------------------------------------------\u001b[0m",
      "\u001b[0;31mAttributeError\u001b[0m                            Traceback (most recent call last)",
      "Input \u001b[0;32mIn [240]\u001b[0m, in \u001b[0;36m<cell line: 1>\u001b[0;34m()\u001b[0m\n\u001b[0;32m----> 1\u001b[0m quantile_salary \u001b[38;5;241m=\u001b[39m \u001b[43mstats\u001b[49m\u001b[38;5;241;43m.\u001b[39;49m\u001b[43mnorm\u001b[49m\u001b[38;5;241;43m.\u001b[39;49m\u001b[43mquantile\u001b[49m(\u001b[38;5;241m95\u001b[39m)\n",
      "\u001b[0;31mAttributeError\u001b[0m: 'norm_gen' object has no attribute 'quantile'"
     ]
    }
   ],
   "source": [
    "quantile_salary = stats.norm.quantile(95)"
   ]
  },
  {
   "cell_type": "code",
   "execution_count": 243,
   "id": "fe5e2ce3",
   "metadata": {},
   "outputs": [],
   "source": [
    "import quantumrandom as qtr"
   ]
  },
  {
   "cell_type": "code",
   "execution_count": 245,
   "id": "15423dfc",
   "metadata": {},
   "outputs": [
    {
     "name": "stdout",
     "output_type": "stream",
     "text": [
      "3.1380941481651026\n"
     ]
    }
   ],
   "source": [
    "print(qtr.randint(0, 5))"
   ]
  },
  {
   "cell_type": "code",
   "execution_count": 246,
   "id": "ce0a0b6d",
   "metadata": {
    "scrolled": true
   },
   "outputs": [
    {
     "data": {
      "text/plain": [
       "[44626, 14476, 42933, 36132, 34492]"
      ]
     },
     "execution_count": 246,
     "metadata": {},
     "output_type": "execute_result"
    }
   ],
   "source": [
    "qtr.get_data(data_type='uint16', array_length=5)"
   ]
  },
  {
   "cell_type": "code",
   "execution_count": 248,
   "id": "46ea8473",
   "metadata": {},
   "outputs": [
    {
     "data": {
      "text/plain": [
       "array([11937, 25555, 38353, 55207, 26827, 64152, 54334, 33324, 15363,\n",
       "       39163, 15294,  9613, 26584, 58548, 30943, 51759,  1979, 18204,\n",
       "       20467, 58320, 63727, 52509, 62793, 50227, 43154, 51135, 57632,\n",
       "       27855, 39471, 60095, 26144,  6468, 55175, 61206, 37270, 52208,\n",
       "       28592, 43390, 49104, 18077, 14408, 15937, 25115,  2974, 61030,\n",
       "       52097, 20204, 28472, 20202, 22534, 13765, 18811,  8198, 62832,\n",
       "       52552, 52439, 33346, 26258, 55615, 29171, 38544, 34604, 45462,\n",
       "       29053, 61541, 41678, 56606, 47871,  1874, 50376, 60988, 31229,\n",
       "       47896, 40997,  3635,  9877, 58395, 29553, 48279, 12679, 53824,\n",
       "       13962,  3114, 39761,  6994, 25179, 52478,  5923, 29017, 49852,\n",
       "       27957, 28569, 46271, 43554, 12073, 17725, 44461, 63795, 12747,\n",
       "       21685], dtype=uint16)"
      ]
     },
     "execution_count": 248,
     "metadata": {},
     "output_type": "execute_result"
    }
   ],
   "source": [
    "test_quantum_random_array = qtr.uint16()"
   ]
  },
  {
   "cell_type": "code",
   "execution_count": 257,
   "id": "de26d03c",
   "metadata": {},
   "outputs": [],
   "source": [
    "saved_quantum_random_array = (\n",
    "[\n",
    "11937, 25555, 38353, 55207, 26827, 64152, 54334, 33324, 15363, 39163,\n",
    "15294, 89613, 26584, 58548, 30943, 51759, 71979, 18204, 20467, 58320, \n",
    "63727, 52509, 62793, 50227, 43154, 51135, 57632, 27855, 39471, 60095,\n",
    "26144, 76468, 55175, 61206, 37270, 52208, 28592, 43390, 49104, 18077,\n",
    "14408, 15937, 25115, 92974, 61030, 52097, 20204, 28472, 20202, 22534,\n",
    "13765, 18811, 38198, 62832, 52552, 52439, 33346, 26258, 55615, 29171,\n",
    "38544, 34604, 45462, 29053, 61541, 41678, 56606, 47871, 91874, 50376,\n",
    "60988, 31229, 47896, 40997, 93635, 79877, 58395, 29553, 48279, 12679,\n",
    "53824, 13962, 23114, 39761, 96994, 25179, 52478, 85923, 29017, 49852,\n",
    "27957, 28569, 46271, 43554, 12073, 17725, 44461, 63795, 12747, 21685\n",
    "])"
   ]
  },
  {
   "cell_type": "code",
   "execution_count": 258,
   "id": "af3775ee",
   "metadata": {},
   "outputs": [
    {
     "data": {
      "text/plain": [
       "100"
      ]
     },
     "execution_count": 258,
     "metadata": {},
     "output_type": "execute_result"
    }
   ],
   "source": [
    "len(saved_quantum_random_array)"
   ]
  },
  {
   "cell_type": "markdown",
   "id": "829e34c3",
   "metadata": {},
   "source": [
    "<div class=\"alert alert-block alert-info\">\n",
    "    \n",
    "<b>Hint</b> If you're looking at this exercise and wondering \"How do I get pandas to talk the database, again?\", remember that you'll need 3 things: your .gitignore, your env.py, and to use pd.read_sql. Copy over your .gitignore and env.py from your data science libraries exercises folder, and connect to the employees database like so:\n",
    "\n",
    "</div>"
   ]
  },
  {
   "cell_type": "markdown",
   "id": "9af919a5",
   "metadata": {},
   "source": [
    "``` python\n",
    "\n",
    "import pandas as pd\n",
    "import env\n",
    "\n",
    "url = f'mysql+pymysql://{env.user}:{env.password}@{env.host}/employees'\n",
    "pd.read_sql('SELECT * FROM departments', url)\n",
    "\n",
    "```"
   ]
  }
 ],
 "metadata": {
  "kernelspec": {
   "display_name": "Python 3 (ipykernel)",
   "language": "python",
   "name": "python3"
  },
  "language_info": {
   "codemirror_mode": {
    "name": "ipython",
    "version": 3
   },
   "file_extension": ".py",
   "mimetype": "text/x-python",
   "name": "python",
   "nbconvert_exporter": "python",
   "pygments_lexer": "ipython3",
   "version": "3.9.13"
  }
 },
 "nbformat": 4,
 "nbformat_minor": 5
}
