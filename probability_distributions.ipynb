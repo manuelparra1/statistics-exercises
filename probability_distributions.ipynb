{
 "cells": [
  {
   "cell_type": "code",
   "execution_count": 79,
   "id": "e8d959e7",
   "metadata": {},
   "outputs": [],
   "source": [
    "import matplotlib.pyplot as plt\n",
    "import numpy as np\n",
    "import pandas as pd\n",
    "from scipy import stats\n",
    "import viz # curriculum viz example code\n",
    "\n",
    "np.random.seed(123)"
   ]
  },
  {
   "cell_type": "markdown",
   "id": "7b0c43d0",
   "metadata": {},
   "source": [
    "> Examples:"
   ]
  },
  {
   "cell_type": "markdown",
   "id": "b57c4c98",
   "metadata": {},
   "source": [
    "<div class=\"alert alert-block alert-info\">\n",
    "    \n",
    "<b>Tip:</b> Lookup on YouTube!\n",
    "\n",
    "</div>"
   ]
  },
  {
   "cell_type": "markdown",
   "id": "e8472a3e",
   "metadata": {},
   "source": [
    "### 1. A bank found that the average number of cars waiting during the noon hour at a drive-up window follows a Poisson distribution with a mean of 2 cars. Make a chart of this distribution and answer these questions concerning the probability of cars waiting at the drive-up window."
   ]
  },
  {
   "cell_type": "code",
   "execution_count": 73,
   "id": "8a3287ac",
   "metadata": {},
   "outputs": [],
   "source": [
    "mean = 2\n",
    "\n",
    "x = np.arange(0,10)\n",
    "y = stats.poisson(mean).pmf(x)"
   ]
  },
  {
   "cell_type": "code",
   "execution_count": 77,
   "id": "358bfa73",
   "metadata": {},
   "outputs": [
    {
     "data": {
      "image/png": "[encoded data removed]",
      "text/plain": [
       "<Figure size 900x600 with 1 Axes>"
      ]
     },
     "metadata": {},
     "output_type": "display_data"
    }
   ],
   "source": [
    "plt.bar(x,y)\n",
    "plt.title('Poisson distribution $mean = 2$')\n",
    "plt.xlabel('Cars @ Drive-Thru')\n",
    "plt.ylabel('Probability');"
   ]
  },
  {
   "cell_type": "markdown",
   "id": "ba487e33",
   "metadata": {},
   "source": [
    "- #### What is the probability that no cars drive up in the noon hour?"
   ]
  },
  {
   "cell_type": "code",
   "execution_count": 69,
   "id": "402147d0",
   "metadata": {},
   "outputs": [
    {
     "data": {
      "text/plain": [
       "0.1353352832366127"
      ]
     },
     "execution_count": 69,
     "metadata": {},
     "output_type": "execute_result"
    }
   ],
   "source": [
    "prob_cars = stats.poisson(2)\n",
    "prob_cars.pmf(0)"
   ]
  },
  {
   "cell_type": "markdown",
   "id": "df76b0f9",
   "metadata": {},
   "source": [
    "- #### What is the probability that 3 or more cars come through the drive through?"
   ]
  },
  {
   "cell_type": "code",
   "execution_count": 70,
   "id": "d3527f21",
   "metadata": {},
   "outputs": [
    {
     "data": {
      "text/plain": [
       "0.32332358381693654"
      ]
     },
     "execution_count": 70,
     "metadata": {},
     "output_type": "execute_result"
    }
   ],
   "source": [
    "prob_cars.sf(2)"
   ]
  },
  {
   "cell_type": "markdown",
   "id": "82e0edd9",
   "metadata": {},
   "source": [
    "- #### How likely is it that the drive through gets at least 1 car?"
   ]
  },
  {
   "cell_type": "code",
   "execution_count": 71,
   "id": "e53f3b1e",
   "metadata": {},
   "outputs": [
    {
     "data": {
      "text/plain": [
       "0.8646647167633873"
      ]
     },
     "execution_count": 71,
     "metadata": {},
     "output_type": "execute_result"
    }
   ],
   "source": [
    "prob_cars.sf(0)"
   ]
  },
  {
   "cell_type": "markdown",
   "id": "bcc43053",
   "metadata": {},
   "source": [
    "### 2. Grades of State University graduates are normally distributed with a mean of 3.0 and a standard deviation of .3. Calculate the following:"
   ]
  },
  {
   "cell_type": "code",
   "execution_count": 81,
   "id": "df076841",
   "metadata": {},
   "outputs": [],
   "source": [
    "grades = stats.norm(3, .3)"
   ]
  },
  {
   "cell_type": "markdown",
   "id": "dff7b724",
   "metadata": {},
   "source": [
    "- #### What grade point average is required to be in the top 5% of the graduating class?"
   ]
  },
  {
   "cell_type": "code",
   "execution_count": 87,
   "id": "f501f801",
   "metadata": {},
   "outputs": [
    {
     "data": {
      "text/plain": [
       "3.4934560880854417"
      ]
     },
     "execution_count": 87,
     "metadata": {},
     "output_type": "execute_result"
    }
   ],
   "source": [
    "grades.ppf(.95)"
   ]
  },
  {
   "cell_type": "markdown",
   "id": "4ba74d00",
   "metadata": {},
   "source": [
    "- #### What GPA constitutes the bottom 15% of the class?\n"
   ]
  },
  {
   "cell_type": "code",
   "execution_count": 88,
   "id": "40a4fb53",
   "metadata": {},
   "outputs": [
    {
     "data": {
      "text/plain": [
       "2.689069983151863"
      ]
     },
     "execution_count": 88,
     "metadata": {},
     "output_type": "execute_result"
    }
   ],
   "source": [
    "grades.ppf(.15)"
   ]
  },
  {
   "cell_type": "markdown",
   "id": "9a95556d",
   "metadata": {},
   "source": [
    "- #### An eccentric alumnus left scholarship money for students in the third decile from the bottom of their class. Determine the range of the third decile. Would a student with a 2.8 grade point average qualify for this scholarship?"
   ]
  },
  {
   "cell_type": "markdown",
   "id": "edf639f4",
   "metadata": {},
   "source": [
    "1st decile: 0-10 percentile  \n",
    "2nd decile: 10-20 percentile   \n",
    "3rd decile: 20-30 percentile"
   ]
  },
  {
   "cell_type": "code",
   "execution_count": 93,
   "id": "75c08e24",
   "metadata": {},
   "outputs": [
    {
     "data": {
      "text/plain": [
       "0.2524925375469227"
      ]
     },
     "execution_count": 93,
     "metadata": {},
     "output_type": "execute_result"
    }
   ],
   "source": [
    "grades.cdf(2.8)"
   ]
  },
  {
   "cell_type": "code",
   "execution_count": null,
   "id": "9b731591",
   "metadata": {},
   "outputs": [],
   "source": [
    "# YES"
   ]
  },
  {
   "cell_type": "markdown",
   "id": "888e4e9a",
   "metadata": {},
   "source": [
    "- #### If I have a GPA of 3.5, what percentile am I in?"
   ]
  },
  {
   "cell_type": "code",
   "execution_count": 86,
   "id": "bfb6c9f5",
   "metadata": {},
   "outputs": [
    {
     "data": {
      "text/plain": [
       "0.9522096477271853"
      ]
     },
     "execution_count": 86,
     "metadata": {},
     "output_type": "execute_result"
    }
   ],
   "source": [
    "grades.cdf(3.5)"
   ]
  },
  {
   "cell_type": "code",
   "execution_count": null,
   "id": "7dcd19a9",
   "metadata": {},
   "outputs": [],
   "source": [
    "# 95TH"
   ]
  },
  {
   "cell_type": "markdown",
   "id": "69582778",
   "metadata": {},
   "source": [
    "### 3. A marketing website has an average click-through rate of 2%. One day they observe 4326 visitors and 97 click-throughs. How likely is it that this many people or more click through?"
   ]
  },
  {
   "cell_type": "code",
   "execution_count": null,
   "id": "65ae9d92",
   "metadata": {},
   "outputs": [],
   "source": [
    "visitors = 4326\n",
    "rate = 0.02\n",
    "clickthroughs = 97\n",
    "\n",
    "website_clicks = stats.binom(visitors, rate)"
   ]
  },
  {
   "cell_type": "code",
   "execution_count": null,
   "id": "52ae03ea",
   "metadata": {},
   "outputs": [],
   "source": [
    "website_clicks.sf(clickthroughs-1)"
   ]
  },
  {
   "cell_type": "code",
   "execution_count": null,
   "id": "15f06e14",
   "metadata": {},
   "outputs": [],
   "source": [
    "clicks = np.random.choice([0,1], size=(10_00000, 4326), p=(.98,0.02))"
   ]
  },
  {
   "cell_type": "code",
   "execution_count": null,
   "id": "d8127c8a",
   "metadata": {},
   "outputs": [],
   "source": [
    "print(clicks)"
   ]
  },
  {
   "cell_type": "code",
   "execution_count": null,
   "id": "38b661d3",
   "metadata": {},
   "outputs": [],
   "source": [
    "(clicks.sum(axis=1) >= 97).mean()"
   ]
  },
  {
   "cell_type": "markdown",
   "id": "72cb253a",
   "metadata": {},
   "source": [
    "### 4. You are working on some statistics homework consisting of 100 questions where all of the answers are a probability rounded to the hundreths place. Looking to save time, you put down random probabilities as the answer to each question."
   ]
  },
  {
   "cell_type": "markdown",
   "id": "7386d05d",
   "metadata": {},
   "source": [
    "- #### What is the probability that at least one of your first 60 answers is correct?"
   ]
  },
  {
   "cell_type": "markdown",
   "id": "7fcb9a0c",
   "metadata": {},
   "source": [
    "### 5. The codeup staff tends to get upset when the student break area is not cleaned up. Suppose that there's a 3% chance that any one student cleans the break area when they visit it, and, on any given day, about 90% of the 3 active cohorts of 22 students visit the break area. How likely is it that the break area gets cleaned up each day? How likely is it that it goes two days without getting cleaned up? All week?"
   ]
  },
  {
   "cell_type": "markdown",
   "id": "e76378b9",
   "metadata": {},
   "source": [
    "### 6. You want to get lunch at La Panaderia, but notice that the line is usually very long at lunchtime. After several weeks of careful observation, you notice that the average number of people in line when your lunch break starts is normally distributed with a mean of 15 and standard deviation of 3. If it takes 2 minutes for each person to order, and 10 minutes from ordering to getting your food, what is the likelihood that you have at least 15 minutes left to eat your food before you have to go back to class? Assume you have one hour for lunch, and ignore travel time to and from La Panaderia."
   ]
  },
  {
   "cell_type": "markdown",
   "id": "dee29818",
   "metadata": {},
   "source": [
    "### 7. Connect to the employees database and find the average salary of current employees, along with the standard deviation. For the following questions, calculate the answer based on modeling the employees salaries with a normal distribution defined by the calculated mean and standard deviation then compare this answer to the actual values present in the salaries dataset."
   ]
  },
  {
   "cell_type": "markdown",
   "id": "d717d535",
   "metadata": {},
   "source": [
    "- #### What percent of employees earn less than 60,000?"
   ]
  },
  {
   "cell_type": "markdown",
   "id": "c1a2e2b8",
   "metadata": {},
   "source": [
    "- #### What percent of employees earn more than 95,000?"
   ]
  },
  {
   "cell_type": "markdown",
   "id": "bba1a4cc",
   "metadata": {},
   "source": [
    "- #### What percent of employees earn between 65,000 and 80,000?"
   ]
  },
  {
   "cell_type": "markdown",
   "id": "efcd10a4",
   "metadata": {},
   "source": [
    "- #### What do the top 5% of employees make?"
   ]
  },
  {
   "cell_type": "markdown",
   "id": "829e34c3",
   "metadata": {},
   "source": [
    "<div class=\"alert alert-block alert-info\">\n",
    "    \n",
    "<b>Hint</b> If you're looking at this exercise and wondering \"How do I get pandas to talk the database, again?\", remember that you'll need 3 things: your .gitignore, your env.py, and to use pd.read_sql. Copy over your .gitignore and env.py from your data science libraries exercises folder, and connect to the employees database like so:\n",
    "\n",
    "</div>"
   ]
  },
  {
   "cell_type": "markdown",
   "id": "9af919a5",
   "metadata": {},
   "source": [
    "``` python\n",
    "\n",
    "import pandas as pd\n",
    "import env\n",
    "\n",
    "url = f'mysql+pymysql://{env.user}:{env.password}@{env.host}/employees'\n",
    "pd.read_sql('SELECT * FROM departments', url)\n",
    "\n",
    "```"
   ]
  }
 ],
 "metadata": {
  "kernelspec": {
   "display_name": "Python 3 (ipykernel)",
   "language": "python",
   "name": "python3"
  },
  "language_info": {
   "codemirror_mode": {
    "name": "ipython",
    "version": 3
   },
   "file_extension": ".py",
   "mimetype": "text/x-python",
   "name": "python",
   "nbconvert_exporter": "python",
   "pygments_lexer": "ipython3",
   "version": "3.9.13"
  }
 },
 "nbformat": 4,
 "nbformat_minor": 5
}
