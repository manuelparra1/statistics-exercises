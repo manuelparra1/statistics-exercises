{
 "cells": [
  {
   "cell_type": "markdown",
   "id": "49aac779",
   "metadata": {},
   "source": [
    "|             | H(0) is True   | H(0) is False   |\n",
    "| ----------- | :---           |           ---:  |\n",
    "| Accept H(0) | True Negative  | False Positive  |\n",
    "| Reject H(0) | False Negative | True Positive   |"
   ]
  },
  {
   "cell_type": "markdown",
   "id": "033bd99e",
   "metadata": {},
   "source": [
    "    Null:                     H(0)\n",
    "    Alternative Hypothesis:   H(A)\n",
    "    \n",
    "    True Positive:            H(0)=TRUE\n",
    "    True Negative:            H(0)=TRUE\n",
    "    Type I(False Positive):   H(FP)\n",
    "    Type II(False Negative):  H(FN)"
   ]
  },
  {
   "cell_type": "markdown",
   "id": "62c0864b",
   "metadata": {},
   "source": [
    "<div class=\"alert alert-block alert-info\">\n",
    "# <b>Hypothesis</b>\n",
    "    \n",
    "### Cases\n",
    "- No Change\n",
    "- Increased\n",
    "- Decreased\n",
    "</div>"
   ]
  },
  {
   "cell_type": "markdown",
   "id": "aacec827",
   "metadata": {},
   "source": [
    "# For each of the following questions,\n",
    "- formulate a null and \n",
    "- alternative hypothesis (be as specific as you can be),\n",
    "- then give an example of what a true positive, \n",
    "- true negative, \n",
    "- type I and \n",
    "- type II errors would look like.\n",
    "\n",
    "Note that some of the questions are intentionally phrased in a vague way.\n",
    "It is your job to reword these as more precise questions that could be tested."
   ]
  },
  {
   "cell_type": "markdown",
   "id": "8988db5f",
   "metadata": {},
   "source": [
    "Has the network latency gone up since we switched internet service providers?"
   ]
  },
  {
   "cell_type": "code",
   "execution_count": 1,
   "id": "64290666",
   "metadata": {},
   "outputs": [],
   "source": [
    "# Null = Latency has remained the same or worse\n",
    "# Alt  = Latency has increased.\n",
    "\n",
    "# True Positive = Rejected Null & Null = False\n",
    "# True Negative = \n",
    "# Type I\n",
    "# Type II"
   ]
  },
  {
   "cell_type": "markdown",
   "id": "e8b682b8",
   "metadata": {},
   "source": [
    "Is the website redesign any good?"
   ]
  },
  {
   "cell_type": "code",
   "execution_count": 4,
   "id": "0589134f",
   "metadata": {},
   "outputs": [],
   "source": [
    "# Null = Traffic is the same or lower\n",
    "# Null = Traffic increased\n",
    "\n",
    "# True Positive =\n",
    "# True Negative = \n",
    "# False Positive = H(0) Higher Click Rate but there was not\n",
    "# Flase Neg = H(0) No increase but actually there was\n",
    "# Type I\n",
    "# Type II"
   ]
  },
  {
   "cell_type": "markdown",
   "id": "8e4cbece",
   "metadata": {},
   "source": [
    "Is our television ad driving more sales?"
   ]
  },
  {
   "cell_type": "code",
   "execution_count": null,
   "id": "38587c6b",
   "metadata": {},
   "outputs": [],
   "source": [
    "# H(0) = Sales stayed the same or lower\n",
    "# H(A) = Sales increased\n",
    "\n",
    "# True Positive =\n",
    "# True Negative = \n",
    "# Type I\n",
    "# Type II"
   ]
  }
 ],
 "metadata": {
  "kernelspec": {
   "display_name": "Python 3 (ipykernel)",
   "language": "python",
   "name": "python3"
  },
  "language_info": {
   "codemirror_mode": {
    "name": "ipython",
    "version": 3
   },
   "file_extension": ".py",
   "mimetype": "text/x-python",
   "name": "python",
   "nbconvert_exporter": "python",
   "pygments_lexer": "ipython3",
   "version": "3.9.13"
  }
 },
 "nbformat": 4,
 "nbformat_minor": 5
}
