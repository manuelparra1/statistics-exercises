{
 "cells": [
  {
   "cell_type": "code",
   "execution_count": 357,
   "id": "8e4034b2",
   "metadata": {},
   "outputs": [],
   "source": [
    "import numpy as np\n",
    "import seaborn as sns\n",
    "import scipy.stats as stats\n",
    "import pandas as pd\n",
    "import matplotlib.pyplot as plt\n",
    "from pydataset import data\n",
    "import env as env\n",
    "\n",
    "np.random.seed(123)\n",
    "\n",
    "import quantumrandom as qrandom\n",
    "from IPython.display import display, Latex"
   ]
  },
  {
   "cell_type": "markdown",
   "id": "23b06678",
   "metadata": {},
   "source": [
    "<div class=\"alert alert-block alert-success\">\n",
    "    \n",
    "# Cheat Sheets"
   ]
  },
  {
   "cell_type": "markdown",
   "id": "7719210e",
   "metadata": {},
   "source": [
    "|             | $H_{0}$ is True   | $H_{0}$ is False   |\n",
    "| ----------- | :---              |           ---:     |\n",
    "| Accept H(0) | True Negative     | False Positive     |\n",
    "| Reject H(0) | False Negative    | True Positive      |"
   ]
  },
  {
   "cell_type": "markdown",
   "id": "6af8b00e",
   "metadata": {},
   "source": [
    "Null:                     $H_{0}$\n",
    "\n",
    "Alternative Hypothesis:   $H_{A}$\n",
    "    \n",
    "True Positive:            $H_{0} = TRUE$\n",
    "\n",
    "True Negative:            $H_{0} = TRUE$\n",
    "\n",
    "Type I(False Positive):   $H(FP)$\n",
    "\n",
    "Type II(False Negative):  $H(FN)$"
   ]
  },
  {
   "cell_type": "markdown",
   "id": "34eb87ab",
   "metadata": {},
   "source": [
    "<div class=\"alert alert-block alert-info\">\n",
    "\n",
    "# **Hypothesis**\n",
    "\n",
    "### Cases\n",
    "- No Change\n",
    "- Increased\n",
    "- Decreased\n",
    "</div>"
   ]
  },
  {
   "cell_type": "markdown",
   "id": "7ddfe196",
   "metadata": {},
   "source": [
    "# For each of the following questions,\n",
    "- formulate a null and \n",
    "- alternative hypothesis (be as specific as you can be),\n",
    "- then give an example of what a true positive, \n",
    "- true negative, \n",
    "- type I and \n",
    "- type II errors would look like.\n",
    "\n",
    "Note that some of the questions are intentionally phrased in a vague way.\n",
    "It is your job to reword these as more precise questions that could be tested."
   ]
  },
  {
   "cell_type": "markdown",
   "id": "9679159d",
   "metadata": {},
   "source": [
    "Has the network latency gone up since we switched internet service providers?"
   ]
  },
  {
   "cell_type": "code",
   "execution_count": 358,
   "id": "2b198380",
   "metadata": {},
   "outputs": [],
   "source": [
    "# Null = Latency has remained the same or worse\n",
    "\n",
    "\n",
    "# Alt  = Latency has increased.\n",
    "\n",
    "# True Positive = Rejected Null & (Null = False)\n",
    "# True Negative = \n",
    "# Type I\n",
    "# Type II"
   ]
  },
  {
   "cell_type": "markdown",
   "id": "50423b33",
   "metadata": {},
   "source": [
    "Is the website redesign any good?"
   ]
  },
  {
   "cell_type": "code",
   "execution_count": 359,
   "id": "437bf314",
   "metadata": {},
   "outputs": [],
   "source": [
    "# Null = Traffic is the same or lower\n",
    "# Null = Traffic increased\n",
    "\n",
    "# True Positive =\n",
    "# True Negative = \n",
    "# False Positive = H(0) Higher Click Rate but there was not\n",
    "# Flase Neg = H(0) No increase but actually there was\n",
    "# Type I\n",
    "# Type II"
   ]
  },
  {
   "cell_type": "markdown",
   "id": "a837b509",
   "metadata": {},
   "source": [
    "Is our television ad driving more sales?"
   ]
  },
  {
   "cell_type": "code",
   "execution_count": 360,
   "id": "f201e6f5",
   "metadata": {},
   "outputs": [],
   "source": [
    "# H(0) = Sales stayed the same or lower\n",
    "# H(A) = Sales increased\n",
    "\n",
    "# True Positive =\n",
    "# True Negative = \n",
    "# Type I\n",
    "# Type II"
   ]
  },
  {
   "cell_type": "markdown",
   "id": "8de2ca0f",
   "metadata": {},
   "source": [
    "<div class=\"alert alert-danger\">\n",
    "    \n",
    "# T - T E S T I N G\n",
    "    \n",
    "</div>"
   ]
  },
  {
   "cell_type": "markdown",
   "id": "92a617c8",
   "metadata": {},
   "source": [
    "# Exercises II"
   ]
  },
  {
   "cell_type": "markdown",
   "id": "14404e4f",
   "metadata": {},
   "source": [
    "#### Answer with the type of test you would use (assume normal distribution):"
   ]
  },
  {
   "cell_type": "markdown",
   "id": "b7d07c12",
   "metadata": {},
   "source": [
    "- Is there a difference in grades of students on the second floor compared to grades of all students?"
   ]
  },
  {
   "cell_type": "markdown",
   "id": "16ad1c4e",
   "metadata": {},
   "source": [
    "1 Sample T-Test\n",
    "\n",
    "Looking at 1-Sample compared to Population\n",
    "\n",
    "# 2 Tail"
   ]
  },
  {
   "cell_type": "code",
   "execution_count": 361,
   "id": "0af730f9",
   "metadata": {},
   "outputs": [
    {
     "ename": "NameError",
     "evalue": "name 'students_grades_first' is not defined",
     "output_type": "error",
     "traceback": [
      "\u001b[0;31m---------------------------------------------------------------------------\u001b[0m",
      "\u001b[0;31mNameError\u001b[0m                                 Traceback (most recent call last)",
      "Input \u001b[0;32mIn [361]\u001b[0m, in \u001b[0;36m<cell line: 1>\u001b[0;34m()\u001b[0m\n\u001b[0;32m----> 1\u001b[0m \u001b[43mstudents_grades_first\u001b[49m \u001b[38;5;241m!=\u001b[39m stundents_grades_second\n",
      "\u001b[0;31mNameError\u001b[0m: name 'students_grades_first' is not defined"
     ]
    }
   ],
   "source": [
    "students_grades_first != stundents_grades_second"
   ]
  },
  {
   "cell_type": "code",
   "execution_count": null,
   "id": "243a9575",
   "metadata": {},
   "outputs": [],
   "source": []
  },
  {
   "cell_type": "markdown",
   "id": "eba4cac8",
   "metadata": {},
   "source": [
    "- Are adults who drink milk taller than adults who dont drink milk?"
   ]
  },
  {
   "cell_type": "markdown",
   "id": "b61abd19",
   "metadata": {},
   "source": [
    "2 Sample T-Test\n",
    "\n",
    "2 Seperate Groups, Adults Who Drink vs Adults Who Don't Drink\n",
    "\n",
    "Independent\n",
    "\n",
    "\\# Tails\n",
    "\n",
    "# 1 Tail\n",
    "\n",
    "_Group_\n",
    "\n",
    "Taller Than\n",
    "\n",
    "Comparison Operator in Statement"
   ]
  },
  {
   "cell_type": "code",
   "execution_count": null,
   "id": "51f9dd8f",
   "metadata": {},
   "outputs": [],
   "source": [
    "adult_milk_height > adult_no_milk_height"
   ]
  },
  {
   "cell_type": "markdown",
   "id": "1df61b86",
   "metadata": {},
   "source": [
    "- Is the the price of gas higher in texas or in new mexico?"
   ]
  },
  {
   "cell_type": "markdown",
   "id": "322b8552",
   "metadata": {},
   "source": [
    "2 Sample T-Test\n",
    "\n",
    "Independent T-Test\n",
    "\n",
    "1 Tail"
   ]
  },
  {
   "cell_type": "code",
   "execution_count": null,
   "id": "46828018",
   "metadata": {},
   "outputs": [],
   "source": [
    "gas_price < tx_gas  |  gas_price < nm_gas"
   ]
  },
  {
   "cell_type": "markdown",
   "id": "b8b2977e",
   "metadata": {},
   "source": [
    "- Are there differences in stress levels between students who take data science vs students who take web development vs students who take cloud academy?"
   ]
  },
  {
   "cell_type": "markdown",
   "id": "16e735d5",
   "metadata": {},
   "source": [
    "ANOVA\n",
    "\n",
    "3 Different Populations"
   ]
  },
  {
   "cell_type": "code",
   "execution_count": null,
   "id": "b3e5adee",
   "metadata": {},
   "outputs": [],
   "source": [
    "students_ds_stress != students_wd_stress != students_ca_stress"
   ]
  },
  {
   "cell_type": "markdown",
   "id": "c6460015",
   "metadata": {},
   "source": [
    "#### Ace Realty wants to determine whether the average time it takes to sell homes is different for its two offices. A sample of 40 sales from office #1 revealed a mean of 90 days and a standard deviation of 15 days. A sample of 50 sales from office #2 revealed a mean of 100 days and a standard deviation of 20 days. Use a .05 level of significance."
   ]
  },
  {
   "cell_type": "code",
   "execution_count": null,
   "id": "5a3cc067",
   "metadata": {},
   "outputs": [],
   "source": [
    "ace_realty_office_1_sells_mean != ace_realty_office_2_sells_mean"
   ]
  },
  {
   "cell_type": "code",
   "execution_count": null,
   "id": "71a53978",
   "metadata": {},
   "outputs": [],
   "source": [
    "ace_realty_office_1_sells_mean = 90\n",
    "ace_realty_office_1_sells_std = 15\n",
    "ace_realty_office_1_sells_size = 40\n",
    "\n",
    "ace_realty_office_2_sells_mean = 100\n",
    "ace_realty_office_2_sells_std = 20\n",
    "ace_realty_office_2_sells_size = 50"
   ]
  },
  {
   "cell_type": "code",
   "execution_count": null,
   "id": "d9caabb1",
   "metadata": {
    "scrolled": true
   },
   "outputs": [],
   "source": [
    "office_1 = stats.norm(90, 15).rvs(40)\n",
    "office_2 = stats.norm(100, 20).rvs(50)\n",
    "# Random Variates Method\n",
    "# Input Sample Size"
   ]
  },
  {
   "cell_type": "code",
   "execution_count": null,
   "id": "a687e58c",
   "metadata": {},
   "outputs": [],
   "source": [
    "stats.norm(90, 15).rvs(3)"
   ]
  },
  {
   "cell_type": "code",
   "execution_count": null,
   "id": "66799140",
   "metadata": {},
   "outputs": [],
   "source": [
    "james=stats.norm(90, 15)\n",
    "\n",
    "plt.hist(james)"
   ]
  },
  {
   "cell_type": "code",
   "execution_count": null,
   "id": "c6b603aa",
   "metadata": {},
   "outputs": [],
   "source": [
    "print(office_1.var())\n",
    "print(office_2.var())"
   ]
  },
  {
   "cell_type": "markdown",
   "id": "9410a772",
   "metadata": {},
   "source": [
    "Levene Test"
   ]
  },
  {
   "cell_type": "code",
   "execution_count": null,
   "id": "197fc2bd",
   "metadata": {},
   "outputs": [],
   "source": [
    "stats.levene(office_1,office_2)"
   ]
  },
  {
   "cell_type": "markdown",
   "id": "722bd2c3",
   "metadata": {},
   "source": [
    "### Variance 1 * Variance 2=V1*4"
   ]
  },
  {
   "cell_type": "markdown",
   "id": "c8f3c132",
   "metadata": {},
   "source": [
    "# Variance not same\n",
    "# Reject $H_{0}$"
   ]
  },
  {
   "cell_type": "markdown",
   "id": "df8ccdc7",
   "metadata": {},
   "source": [
    "### Independent Test"
   ]
  },
  {
   "cell_type": "code",
   "execution_count": null,
   "id": "270c6acc",
   "metadata": {},
   "outputs": [],
   "source": [
    "α = 0.05\n",
    "\n",
    "t, p = stats.ttest_ind_from_stats(90,15,40,100,20,50, equal_var= False)\n",
    "t,p"
   ]
  },
  {
   "cell_type": "code",
   "execution_count": null,
   "id": "94ce7131",
   "metadata": {},
   "outputs": [],
   "source": [
    "t,p = stats.ttest_ind(office_1, office_2, equal_var = False)"
   ]
  },
  {
   "cell_type": "code",
   "execution_count": null,
   "id": "826d7ebf",
   "metadata": {
    "scrolled": true
   },
   "outputs": [],
   "source": [
    "t,p"
   ]
  },
  {
   "cell_type": "markdown",
   "id": "56fa5d0a",
   "metadata": {},
   "source": [
    "Independent T-Test 1_argument is < 2_Argument\n",
    "\n",
    "t = -3.25\n",
    "t = Negative\n",
    "\n",
    "Office_1 lesss than Office_2"
   ]
  },
  {
   "cell_type": "markdown",
   "id": "b104ee88",
   "metadata": {},
   "source": [
    "Null: There no difference between 2\n",
    "\n",
    "Alt: There's a signifcat difference between 2"
   ]
  },
  {
   "cell_type": "code",
   "execution_count": null,
   "id": "5b19ce05",
   "metadata": {},
   "outputs": [],
   "source": [
    "if (p<α):\n",
    "    print(\"Reject $H_{0}$\")"
   ]
  },
  {
   "cell_type": "markdown",
   "id": "7dd8a750",
   "metadata": {},
   "source": [
    "#### Load the mpg dataset and use it to answer the following questions:"
   ]
  },
  {
   "cell_type": "code",
   "execution_count": null,
   "id": "5f3bbb73",
   "metadata": {},
   "outputs": [],
   "source": [
    "from pydataset import data\n",
    "mpg = data('mpg')\n",
    "mpg.head(1)"
   ]
  },
  {
   "cell_type": "code",
   "execution_count": null,
   "id": "e79eaebf",
   "metadata": {},
   "outputs": [],
   "source": [
    "mpg.info()"
   ]
  },
  {
   "cell_type": "code",
   "execution_count": null,
   "id": "015cba18",
   "metadata": {},
   "outputs": [],
   "source": [
    "mpg.isna().sum()"
   ]
  },
  {
   "cell_type": "markdown",
   "id": "d4a47ef9",
   "metadata": {},
   "source": [
    "a. Is there a diference\n",
    "independent t-test\n",
    "\n",
    "b. compact more\n",
    "1-sample\n",
    "1tail\n",
    "\n",
    "c. do manual\n",
    "independent\n",
    "1-tail\n"
   ]
  },
  {
   "cell_type": "markdown",
   "id": "1ef40410",
   "metadata": {},
   "source": [
    "# - Is there a difference in fuel-efficiency in cars from 2008 vs 1999?"
   ]
  },
  {
   "cell_type": "code",
   "execution_count": null,
   "id": "5d369338",
   "metadata": {},
   "outputs": [],
   "source": [
    "mpg.head(1)"
   ]
  },
  {
   "cell_type": "code",
   "execution_count": null,
   "id": "cd3ac705",
   "metadata": {},
   "outputs": [],
   "source": [
    "car_efficiency_2008 = mpg[mpg['year'] == 2008]\n",
    "car_efficiency_1999 = mpg[mpg['year'] == 1999]\n",
    "\n",
    "car_efficiency_2008 = (car_efficiency_2008['cty']) + (car_efficiency_2008['hwy']/2)\n",
    "car_efficiency_2008_mean = car_efficiency_2008.mean()\n",
    "print(car_efficiency_2008_mean)\n",
    "\n",
    "car_efficiency_1999 = (car_efficiency_1999['cty']) + (car_efficiency_1999['hwy']/2)\n",
    "car_efficiency_1999_mean = car_efficiency_1999.mean()\n",
    "print(car_efficiency_1999_mean)"
   ]
  },
  {
   "cell_type": "code",
   "execution_count": null,
   "id": "0118c398",
   "metadata": {},
   "outputs": [],
   "source": [
    "print(car_efficiency_2008.var())\n",
    "print(car_efficiency_1999.var())"
   ]
  },
  {
   "cell_type": "code",
   "execution_count": null,
   "id": "3e1934c5",
   "metadata": {},
   "outputs": [],
   "source": [
    "t2,p2=stats.ttest_ind(car_efficiency_2008,car_efficiency_1999, equal_var=False)"
   ]
  },
  {
   "cell_type": "code",
   "execution_count": null,
   "id": "c2b192b4",
   "metadata": {},
   "outputs": [],
   "source": [
    "t2,p2"
   ]
  },
  {
   "cell_type": "code",
   "execution_count": null,
   "id": "14de0f24",
   "metadata": {},
   "outputs": [],
   "source": [
    "if p2<=alpha:\n",
    "    #print(\"Reject\")\n",
    "    display(Latex(f'Reject $H_{0}$'))\n",
    "else:\n",
    "    #print(\"failed to reject\")\n",
    "    display(Latex(f'Failed to reject $H_{0}$'))"
   ]
  },
  {
   "cell_type": "markdown",
   "id": "79f0fe8b",
   "metadata": {},
   "source": [
    "Takeaway: we failed to reject the null hypothesis, there is no significat difference in fuel efficiency between cars made in 1999 and 2008"
   ]
  },
  {
   "cell_type": "markdown",
   "id": "5445658a",
   "metadata": {},
   "source": [
    "# - Do manual cars get better gas mileage than automatic cars?"
   ]
  },
  {
   "cell_type": "code",
   "execution_count": null,
   "id": "e7b1cf6f",
   "metadata": {
    "scrolled": true
   },
   "outputs": [],
   "source": [
    "manual_car = mpg[mpg['trans'].str.contains('manual')]\n",
    "\n",
    "manual_car_combined_mileage = (manual_car['cty']) + (manual_car['hwy']/2)\n",
    "manual_car_combined_mileage_mean = manual_car_combined_mileage.mean()\n",
    "manual_car_combined_mileage_mean"
   ]
  },
  {
   "cell_type": "code",
   "execution_count": null,
   "id": "f523338b",
   "metadata": {},
   "outputs": [],
   "source": [
    "automatic_car = mpg[mpg['trans'].str.contains('auto')]\n",
    "\n",
    "automatic_car_combined_mileage = (automatic_car['cty']) + (automatic_car['hwy']/2)\n",
    "automatic_car_combined_mileage_mean = automatic_car_combined_mileage.mean()\n",
    "automatic_car_combined_mileage_mean"
   ]
  },
  {
   "cell_type": "code",
   "execution_count": null,
   "id": "8852cbaf",
   "metadata": {},
   "outputs": [],
   "source": [
    "mpg.head(1)"
   ]
  },
  {
   "cell_type": "code",
   "execution_count": null,
   "id": "5d228bd2",
   "metadata": {},
   "outputs": [],
   "source": [
    "mpg['fuel_eff']=(mpg['cty']+mpg['hwy'])/2"
   ]
  },
  {
   "cell_type": "code",
   "execution_count": null,
   "id": "567de913",
   "metadata": {},
   "outputs": [],
   "source": [
    "mpg.head(1)"
   ]
  },
  {
   "cell_type": "code",
   "execution_count": null,
   "id": "11f0b555",
   "metadata": {
    "scrolled": true
   },
   "outputs": [],
   "source": [
    "manual_eff = mpg[mpg['trans'].str.contains('manual')]['fuel_eff']\n",
    "auto_eff = mpg[mpg['trans'].str.contains('auto')]['fuel_eff']"
   ]
  },
  {
   "cell_type": "code",
   "execution_count": null,
   "id": "0071e430",
   "metadata": {},
   "outputs": [],
   "source": [
    "t4,p4 = stats.ttest_ind(manual_eff,auto_eff,equal_var=False)"
   ]
  },
  {
   "cell_type": "code",
   "execution_count": null,
   "id": "6585660d",
   "metadata": {},
   "outputs": [],
   "source": [
    "alpha=.05\n",
    "if t4>0 and p4/2 < alpha:\n",
    "    print('reject')\n",
    "else:\n",
    "    print('failed reject')"
   ]
  },
  {
   "cell_type": "markdown",
   "id": "f4e72244",
   "metadata": {},
   "source": [
    "# - Are compact cars more fuel-efficient than the average car?"
   ]
  },
  {
   "cell_type": "markdown",
   "id": "4c14e035",
   "metadata": {},
   "source": [
    "Null: comparct cars are not more fuel efficent than average\n",
    "\n",
    "Alternative: compact cars are more efficenet than the avarege car"
   ]
  },
  {
   "cell_type": "markdown",
   "id": "d2b3d00a",
   "metadata": {},
   "source": [
    "Compare specificic distribution to overall mean"
   ]
  },
  {
   "cell_type": "markdown",
   "id": "7276688f",
   "metadata": {},
   "source": [
    "α = .05"
   ]
  },
  {
   "cell_type": "markdown",
   "id": "737578c4",
   "metadata": {},
   "source": [
    "<div class=\"alert alert-block alert-info\">\n",
    "\n",
    "**Class Answer**\n",
    "    \n",
    "</div>"
   ]
  },
  {
   "cell_type": "code",
   "execution_count": null,
   "id": "5151fdcb",
   "metadata": {},
   "outputs": [],
   "source": [
    "normal_car = mpg[mpg['class'] != 'compact']\n",
    "normal_car_combined_mileage = (normal_car['cty']) + (normal_car['hwy']/2)\n",
    "\n",
    "average_car_combined_mileage = ((mpg['cty']) + (mpg['hwy']/2))\n",
    "average_car_combined_mileage_mean=average_car_combined_mileage.mean()"
   ]
  },
  {
   "cell_type": "code",
   "execution_count": null,
   "id": "89c509d8",
   "metadata": {
    "scrolled": false
   },
   "outputs": [],
   "source": [
    "t3, p3 = stats.ttest_1samp(manual_car_combined_mileage, average_car_combined_mileage_mean)\n",
    "t3,p3"
   ]
  },
  {
   "cell_type": "code",
   "execution_count": null,
   "id": "ae89b675",
   "metadata": {},
   "outputs": [],
   "source": [
    "if t3>0 and p3/2 <=alpha:\n",
    "    #print(\"reject\")\n",
    "    display(Latex(f'Reject $H_{0}$'))\n",
    "else:\n",
    "    #print(\"failed to reject\")\n",
    "    display(Latex(f'Failed Reject $H_{0}$'))"
   ]
  },
  {
   "cell_type": "markdown",
   "id": "4b550c70",
   "metadata": {},
   "source": [
    "Takeway :reject $H_{0}$ compact carss are sig mre eff than avg"
   ]
  },
  {
   "cell_type": "markdown",
   "id": "c697b0cf",
   "metadata": {},
   "source": [
    "<div class=\"alert alert-block alert-info\">\n",
    "\n",
    "**My Answer**\n",
    "    \n",
    "</div>"
   ]
  },
  {
   "cell_type": "code",
   "execution_count": null,
   "id": "1cc5b1c0",
   "metadata": {},
   "outputs": [],
   "source": [
    "alpha = 0.05"
   ]
  },
  {
   "cell_type": "code",
   "execution_count": null,
   "id": "b201b257",
   "metadata": {},
   "outputs": [],
   "source": [
    "compact_test = mpg[mpg['class'] == 'compact']"
   ]
  },
  {
   "cell_type": "code",
   "execution_count": null,
   "id": "6ab30ed2",
   "metadata": {},
   "outputs": [],
   "source": [
    "test = (compact_test['cty']) + (compact_test['hwy']/2)"
   ]
  },
  {
   "cell_type": "code",
   "execution_count": null,
   "id": "e05aa058",
   "metadata": {},
   "outputs": [],
   "source": [
    "# Assumptions Tests"
   ]
  },
  {
   "cell_type": "code",
   "execution_count": null,
   "id": "2a038efc",
   "metadata": {},
   "outputs": [],
   "source": [
    "print(len(test))"
   ]
  },
  {
   "cell_type": "code",
   "execution_count": null,
   "id": "8882ad44",
   "metadata": {},
   "outputs": [],
   "source": [
    "if len(test)<30:\n",
    "    print(\"Failed Length Assumption Test\")\n",
    "else:\n",
    "    print(\"Passed Length Assumption Test\")"
   ]
  },
  {
   "cell_type": "code",
   "execution_count": null,
   "id": "b08f7c5c",
   "metadata": {},
   "outputs": [],
   "source": [
    "# Right Tailed Distribution\n",
    "# Right Skewed"
   ]
  },
  {
   "cell_type": "code",
   "execution_count": null,
   "id": "daebcaf0",
   "metadata": {},
   "outputs": [],
   "source": [
    "plt.figure(figsize=(9,6))\n",
    "test.hist()"
   ]
  },
  {
   "cell_type": "markdown",
   "id": "931885d2",
   "metadata": {},
   "source": [
    "### $H_{0}$ = compact cars have **<=** fuel-efficient as average car\n",
    "\n",
    "### $H_{A}$ = compact cars **>** fuel-efficient than the average car"
   ]
  },
  {
   "cell_type": "markdown",
   "id": "29ea94a1",
   "metadata": {},
   "source": [
    "#### Reject Null Hypthesis ($H_{0}$)\n",
    "\n",
    "#### 1 Sample Test = p/2 < alpha   &   t > 0"
   ]
  },
  {
   "cell_type": "code",
   "execution_count": null,
   "id": "af7cd812",
   "metadata": {
    "scrolled": true
   },
   "outputs": [],
   "source": [
    "average_car_combined_mileage = ((mpg['cty']) + (mpg['hwy']/2))\n",
    "print(average_car_combined_mileage.mean())"
   ]
  },
  {
   "cell_type": "markdown",
   "id": "e4b2eb63",
   "metadata": {},
   "source": [
    "#### Compacts?"
   ]
  },
  {
   "cell_type": "code",
   "execution_count": null,
   "id": "38dba493",
   "metadata": {},
   "outputs": [],
   "source": [
    "compacts_car = mpg[mpg['class'] == 'compact']\n",
    "compacts_car_combined_mileage=compacts_car['cty']+compacts_car['hwy']/2\n",
    "compacts_car_combined_mileage_mean=compacts_combined_mileage.mean()\n",
    "print(compacts_car_combined_mileage_mean)"
   ]
  },
  {
   "cell_type": "markdown",
   "id": "782d0567",
   "metadata": {},
   "source": [
    "#### Except Compacts?"
   ]
  },
  {
   "cell_type": "code",
   "execution_count": null,
   "id": "9746be41",
   "metadata": {
    "scrolled": true
   },
   "outputs": [],
   "source": [
    "normal_car = mpg[mpg['class'] != 'compact']\n",
    "normal_car_combined_mileage = (normal_car['cty']) + (normal_car['hwy']/2)\n",
    "normal_car_combined_mileage_mean = normal_car_combined_mileage.mean()\n",
    "print(normal_car_combined_mileage_mean)"
   ]
  },
  {
   "cell_type": "code",
   "execution_count": null,
   "id": "99415f7c",
   "metadata": {},
   "outputs": [],
   "source": [
    "t, p = stats.ttest_ind(manual_car_combined_mileage, average_car_combined_mileage, equal_var=False)\n",
    "\n",
    "print(\"Is t < 0? \", t > 0)\n",
    "print(\"is p/2 < alpha? \", p / 2 < alpha)"
   ]
  },
  {
   "cell_type": "code",
   "execution_count": null,
   "id": "bebdc64c",
   "metadata": {},
   "outputs": [],
   "source": [
    "print(f'''Because p/2 ({p/2:.11f}) < alpha (.05) and t > 0, we reject the null hypothesis.''')\n"
   ]
  },
  {
   "cell_type": "markdown",
   "id": "9ccff2a1",
   "metadata": {},
   "source": [
    "# Reject $H_{0}$"
   ]
  },
  {
   "cell_type": "code",
   "execution_count": null,
   "id": "3a46602d",
   "metadata": {},
   "outputs": [],
   "source": [
    "quantum_digit = qrandom.randint(0, 20)\n",
    "print(quantum_digit)"
   ]
  },
  {
   "cell_type": "code",
   "execution_count": null,
   "id": "69e7d849",
   "metadata": {},
   "outputs": [],
   "source": [
    "quantum_digit_2=qrandom.get_data()\n",
    "quantum_digit_2"
   ]
  },
  {
   "cell_type": "markdown",
   "id": "666d9c3f",
   "metadata": {},
   "source": [
    "<div class=\"alert alert-danger\">\n",
    "    \n",
    "# C O R R E L A T I O N\n",
    "    \n",
    "</div>"
   ]
  },
  {
   "cell_type": "markdown",
   "id": "aa114ae8",
   "metadata": {},
   "source": [
    "## Exercises 3"
   ]
  },
  {
   "cell_type": "markdown",
   "id": "903baaf4",
   "metadata": {},
   "source": [
    "Answer with the type of stats test you would use (assume normal distribution):\n",
    "- Is there a relationship between the length of your arm and the length of your foot?\n",
    "- Do guys and gals quit their jobs at the same rate?\n",
    "- Does the length of time of the lecture correlate with a students grade?"
   ]
  },
  {
   "cell_type": "markdown",
   "id": "06828c11",
   "metadata": {},
   "source": [
    "# 1.A DONE"
   ]
  },
  {
   "cell_type": "markdown",
   "id": "6d2678ea",
   "metadata": {},
   "source": [
    "# Pearson's R OR Spearmans\n",
    "### Correlation Coefficient\n",
    "\n",
    "### $r_{xy} = \\frac{\\frac{1}{n} \\sum(x_i - \\bar{x})(y_i - \\bar{y})}{s_x s_y}$"
   ]
  },
  {
   "cell_type": "code",
   "execution_count": null,
   "id": "f7a853ff",
   "metadata": {},
   "outputs": [],
   "source": [
    "# arm_length **difference** foot_length\n",
    "\n",
    "\n",
    "#H0: There is no linear correlation between length of arm and length of foot\n",
    "#Ha: There is no linear correlation between length of arm and length of foot"
   ]
  },
  {
   "cell_type": "markdown",
   "id": "27ebf2f2",
   "metadata": {},
   "source": [
    "# 1.B DONE"
   ]
  },
  {
   "cell_type": "code",
   "execution_count": null,
   "id": "d81e91c0",
   "metadata": {},
   "outputs": [],
   "source": [
    "# guy_rate **same** gal_rate\n",
    "\n",
    "# Independet T-Test (2-Tailed)\n",
    "# Pearson / Spearman\n",
    "\n",
    "#H0: guys and gals quit their jobs at the same rate\n",
    "#Ha: guys and gals do not quit their jobs at the same rate"
   ]
  },
  {
   "cell_type": "markdown",
   "id": "07051b2c",
   "metadata": {},
   "source": [
    "# 1.C DONE"
   ]
  },
  {
   "cell_type": "code",
   "execution_count": null,
   "id": "f9b7c8b0",
   "metadata": {},
   "outputs": [],
   "source": [
    "# lecture_time **relationship** student_grade\n",
    "\n",
    "# Independet T-Test (2-Tailed)\n",
    "# Pearson / Spearman\n",
    "\n",
    "#H0: the length of time of the lecture correlate with a students grade\n",
    "#Ha: the length of time of the lecture does not correlate with a students grade"
   ]
  },
  {
   "cell_type": "markdown",
   "id": "3afbc880",
   "metadata": {},
   "source": [
    "Use the telco_churn data.\n",
    "- Does tenure correlate with monthly charges?\n",
    "- Total charges?\n",
    "- What happens if you control for phone and internet service?"
   ]
  },
  {
   "cell_type": "markdown",
   "id": "bc635a13",
   "metadata": {},
   "source": [
    "# 2.A DONE"
   ]
  },
  {
   "cell_type": "markdown",
   "id": "8cbdbd6d",
   "metadata": {},
   "source": [
    "# Tenure vs. Monthly"
   ]
  },
  {
   "cell_type": "code",
   "execution_count": null,
   "id": "d204abeb",
   "metadata": {},
   "outputs": [],
   "source": [
    "url = env.get_db_url('telco_churn')\n",
    "\n",
    "sql_query = '''SELECT *\n",
    "               FROM customers\n",
    "               \n",
    "               JOIN internet_service_types USING (internet_service_type_id)'''"
   ]
  },
  {
   "cell_type": "code",
   "execution_count": null,
   "id": "d0b6d45d",
   "metadata": {},
   "outputs": [],
   "source": [
    "telco = pd.read_sql(sql_query, url)"
   ]
  },
  {
   "cell_type": "code",
   "execution_count": 393,
   "id": "e7765c21",
   "metadata": {},
   "outputs": [
    {
     "data": {
      "text/html": [
       "<div>\n",
       "<style scoped>\n",
       "    .dataframe tbody tr th:only-of-type {\n",
       "        vertical-align: middle;\n",
       "    }\n",
       "\n",
       "    .dataframe tbody tr th {\n",
       "        vertical-align: top;\n",
       "    }\n",
       "\n",
       "    .dataframe thead th {\n",
       "        text-align: right;\n",
       "    }\n",
       "</style>\n",
       "<table border=\"1\" class=\"dataframe\">\n",
       "  <thead>\n",
       "    <tr style=\"text-align: right;\">\n",
       "      <th></th>\n",
       "      <th>internet_service_type_id</th>\n",
       "      <th>customer_id</th>\n",
       "      <th>gender</th>\n",
       "      <th>senior_citizen</th>\n",
       "      <th>partner</th>\n",
       "      <th>dependents</th>\n",
       "      <th>tenure</th>\n",
       "      <th>phone_service</th>\n",
       "      <th>multiple_lines</th>\n",
       "      <th>online_security</th>\n",
       "      <th>...</th>\n",
       "      <th>tech_support</th>\n",
       "      <th>streaming_tv</th>\n",
       "      <th>streaming_movies</th>\n",
       "      <th>contract_type_id</th>\n",
       "      <th>paperless_billing</th>\n",
       "      <th>payment_type_id</th>\n",
       "      <th>monthly_charges</th>\n",
       "      <th>total_charges</th>\n",
       "      <th>churn</th>\n",
       "      <th>internet_service_type</th>\n",
       "    </tr>\n",
       "  </thead>\n",
       "  <tbody>\n",
       "    <tr>\n",
       "      <th>0</th>\n",
       "      <td>1</td>\n",
       "      <td>0002-ORFBO</td>\n",
       "      <td>Female</td>\n",
       "      <td>0</td>\n",
       "      <td>Yes</td>\n",
       "      <td>Yes</td>\n",
       "      <td>9</td>\n",
       "      <td>Yes</td>\n",
       "      <td>No</td>\n",
       "      <td>No</td>\n",
       "      <td>...</td>\n",
       "      <td>Yes</td>\n",
       "      <td>Yes</td>\n",
       "      <td>No</td>\n",
       "      <td>2</td>\n",
       "      <td>Yes</td>\n",
       "      <td>2</td>\n",
       "      <td>65.6</td>\n",
       "      <td>593.3</td>\n",
       "      <td>No</td>\n",
       "      <td>DSL</td>\n",
       "    </tr>\n",
       "  </tbody>\n",
       "</table>\n",
       "<p>1 rows × 22 columns</p>\n",
       "</div>"
      ],
      "text/plain": [
       "   internet_service_type_id customer_id  gender  senior_citizen partner  \\\n",
       "0                         1  0002-ORFBO  Female               0     Yes   \n",
       "\n",
       "  dependents  tenure phone_service multiple_lines online_security  ...  \\\n",
       "0        Yes       9           Yes             No              No  ...   \n",
       "\n",
       "  tech_support streaming_tv streaming_movies contract_type_id  \\\n",
       "0          Yes          Yes               No                2   \n",
       "\n",
       "  paperless_billing  payment_type_id monthly_charges  total_charges  churn  \\\n",
       "0               Yes                2            65.6          593.3     No   \n",
       "\n",
       "   internet_service_type  \n",
       "0                    DSL  \n",
       "\n",
       "[1 rows x 22 columns]"
      ]
     },
     "execution_count": 393,
     "metadata": {},
     "output_type": "execute_result"
    }
   ],
   "source": [
    "telco.head(1)"
   ]
  },
  {
   "cell_type": "code",
   "execution_count": 407,
   "id": "43a9d0be",
   "metadata": {},
   "outputs": [
    {
     "data": {
      "text/html": [
       "<div>\n",
       "<style scoped>\n",
       "    .dataframe tbody tr th:only-of-type {\n",
       "        vertical-align: middle;\n",
       "    }\n",
       "\n",
       "    .dataframe tbody tr th {\n",
       "        vertical-align: top;\n",
       "    }\n",
       "\n",
       "    .dataframe thead th {\n",
       "        text-align: right;\n",
       "    }\n",
       "</style>\n",
       "<table border=\"1\" class=\"dataframe\">\n",
       "  <thead>\n",
       "    <tr style=\"text-align: right;\">\n",
       "      <th></th>\n",
       "      <th>tenure</th>\n",
       "      <th>monthly_charges</th>\n",
       "    </tr>\n",
       "  </thead>\n",
       "  <tbody>\n",
       "    <tr>\n",
       "      <th>0</th>\n",
       "      <td>9</td>\n",
       "      <td>65.6</td>\n",
       "    </tr>\n",
       "    <tr>\n",
       "      <th>1</th>\n",
       "      <td>9</td>\n",
       "      <td>59.9</td>\n",
       "    </tr>\n",
       "  </tbody>\n",
       "</table>\n",
       "</div>"
      ],
      "text/plain": [
       "   tenure  monthly_charges\n",
       "0       9             65.6\n",
       "1       9             59.9"
      ]
     },
     "execution_count": 407,
     "metadata": {},
     "output_type": "execute_result"
    }
   ],
   "source": [
    "telco[['tenure','monthly_charges']].head(2)"
   ]
  },
  {
   "cell_type": "code",
   "execution_count": 394,
   "id": "3eeecf26",
   "metadata": {},
   "outputs": [
    {
     "name": "stdout",
     "output_type": "stream",
     "text": [
      "<class 'pandas.core.frame.DataFrame'>\n",
      "Int64Index: 7032 entries, 0 to 7042\n",
      "Data columns (total 22 columns):\n",
      " #   Column                    Non-Null Count  Dtype  \n",
      "---  ------                    --------------  -----  \n",
      " 0   internet_service_type_id  7032 non-null   int64  \n",
      " 1   customer_id               7032 non-null   object \n",
      " 2   gender                    7032 non-null   object \n",
      " 3   senior_citizen            7032 non-null   int64  \n",
      " 4   partner                   7032 non-null   object \n",
      " 5   dependents                7032 non-null   object \n",
      " 6   tenure                    7032 non-null   int64  \n",
      " 7   phone_service             7032 non-null   object \n",
      " 8   multiple_lines            7032 non-null   object \n",
      " 9   online_security           7032 non-null   object \n",
      " 10  online_backup             7032 non-null   object \n",
      " 11  device_protection         7032 non-null   object \n",
      " 12  tech_support              7032 non-null   object \n",
      " 13  streaming_tv              7032 non-null   object \n",
      " 14  streaming_movies          7032 non-null   object \n",
      " 15  contract_type_id          7032 non-null   int64  \n",
      " 16  paperless_billing         7032 non-null   object \n",
      " 17  payment_type_id           7032 non-null   int64  \n",
      " 18  monthly_charges           7032 non-null   float64\n",
      " 19  total_charges             7032 non-null   float64\n",
      " 20  churn                     7032 non-null   object \n",
      " 21  internet_service_type     7032 non-null   object \n",
      "dtypes: float64(2), int64(5), object(15)\n",
      "memory usage: 1.5+ MB\n"
     ]
    }
   ],
   "source": [
    "telco.info()"
   ]
  },
  {
   "cell_type": "code",
   "execution_count": 403,
   "id": "0a76eab6",
   "metadata": {},
   "outputs": [
    {
     "data": {
      "text/plain": [
       "9"
      ]
     },
     "execution_count": 403,
     "metadata": {},
     "output_type": "execute_result"
    }
   ],
   "source": [
    "telco.tenure[0]"
   ]
  },
  {
   "cell_type": "code",
   "execution_count": 396,
   "id": "c2102690",
   "metadata": {},
   "outputs": [
    {
     "data": {
      "text/plain": [
       "numpy.float64"
      ]
     },
     "execution_count": 396,
     "metadata": {},
     "output_type": "execute_result"
    }
   ],
   "source": [
    "type(telco['total_charges'][0])"
   ]
  },
  {
   "cell_type": "code",
   "execution_count": 397,
   "id": "a276388f",
   "metadata": {},
   "outputs": [
    {
     "data": {
      "text/plain": [
       "tenure               int64\n",
       "monthly_charges    float64\n",
       "total_charges      float64\n",
       "dtype: object"
      ]
     },
     "execution_count": 397,
     "metadata": {},
     "output_type": "execute_result"
    }
   ],
   "source": [
    "telco[[\"tenure\", \"monthly_charges\", \"total_charges\"]].dtypes"
   ]
  },
  {
   "cell_type": "code",
   "execution_count": 398,
   "id": "140613fd",
   "metadata": {},
   "outputs": [],
   "source": [
    "alpha = .05\n",
    "r, p = stats.pearsonr(telco['tenure'], telco['monthly_charges'])"
   ]
  },
  {
   "cell_type": "code",
   "execution_count": 399,
   "id": "2838f390",
   "metadata": {},
   "outputs": [
    {
     "data": {
      "text/plain": [
       "(0.2468617666408956, 3.9898213232510553e-98)"
      ]
     },
     "execution_count": 399,
     "metadata": {},
     "output_type": "execute_result"
    }
   ],
   "source": [
    "r,p"
   ]
  },
  {
   "cell_type": "code",
   "execution_count": 400,
   "id": "9cd5b035",
   "metadata": {},
   "outputs": [
    {
     "data": {
      "text/latex": [
       "Reject $H_{0}$"
      ],
      "text/plain": [
       "<IPython.core.display.Latex object>"
      ]
     },
     "metadata": {},
     "output_type": "display_data"
    }
   ],
   "source": [
    "if p < alpha:\n",
    "    #print(\"Reject Null\")\n",
    "    display(Latex('Reject $H_{0}$'))\n",
    "else:\n",
    "    #print(\"Fail to Reject Null\")\n",
    "    display(Latex('Fail to Reject $H_{0}$'))\n"
   ]
  },
  {
   "cell_type": "code",
   "execution_count": 411,
   "id": "ad2e52cb",
   "metadata": {},
   "outputs": [
    {
     "data": {
      "image/png": "[encoded data removed]",
      "text/plain": [
       "<Figure size 640x480 with 1 Axes>"
      ]
     },
     "metadata": {},
     "output_type": "display_data"
    }
   ],
   "source": [
    "plt.title(\"Tenure & Monthly Charges\")\n",
    "plt.xlabel(\"Tenure @ Months\")\n",
    "plt.ylabel(\"Monthly @ $\")\n",
    "plt.scatter(telco.tenure, telco.monthly_charges)\n",
    "#plt.scatter(telco.tenure, telco.monthly_charges,data=[telco.tenure, telco.monthly_charges],marker='.', line_kws={'color':'rebeccapurple'})\n",
    "plt.show()"
   ]
  },
  {
   "cell_type": "markdown",
   "id": "325d7b70",
   "metadata": {},
   "source": [
    "<div class=\"alert alert-block alert-info\">\n",
    "\n",
    "**Maggie's Version = Class Answer**\n",
    "    \n",
    "</div>"
   ]
  },
  {
   "cell_type": "markdown",
   "id": "ea0a6d04",
   "metadata": {},
   "source": [
    "Does tenure correlate with monthly charges\n",
    "1. Select Data\n",
    "2. Plot Data\n",
    "3. Normality (Distribution)\n",
    "4. State Our Hypothesis - Set Alpha Value\n",
    "5. Test\n",
    "6. Conclusion\n",
    "\n",
    "Hypothesis:\n",
    "\n",
    "H0: There is no linear correlation between tenure and monthly charges\n",
    "\n",
    "HA: There is a linear correlation between tenure and monthly charges"
   ]
  },
  {
   "cell_type": "markdown",
   "id": "bbfad0e4",
   "metadata": {},
   "source": [
    "Hypothesis:\n",
    "\n",
    "H0: There is no linear correlation between tenure and monthly charges\n",
    "\n",
    "HA: There is a linear correlation between tenure and monthly charges"
   ]
  },
  {
   "cell_type": "code",
   "execution_count": 412,
   "id": "fdc58e64",
   "metadata": {},
   "outputs": [],
   "source": [
    "# Test\n",
    "#alpha = .05\n",
    "#r, p = stats.pearsonr(telco['tenure'], telco['monthly_charges'])"
   ]
  },
  {
   "cell_type": "code",
   "execution_count": 414,
   "id": "d9d26e7b",
   "metadata": {},
   "outputs": [
    {
     "data": {
      "image/png": "[encoded data removed]",
      "text/plain": [
       "<Figure size 640x480 with 1 Axes>"
      ]
     },
     "metadata": {},
     "output_type": "display_data"
    }
   ],
   "source": [
    "# Not Normal Distribution\n",
    "telco['tenure'].hist()\n",
    "telco['monthly_charges'].hist()\n",
    "plt.show()"
   ]
  },
  {
   "cell_type": "markdown",
   "id": "18a13dda",
   "metadata": {},
   "source": [
    "# 2.B DONE"
   ]
  },
  {
   "cell_type": "markdown",
   "id": "c0f5ebbf",
   "metadata": {},
   "source": [
    "# Tenure vs. Total Charges"
   ]
  },
  {
   "cell_type": "markdown",
   "id": "65b15c6a",
   "metadata": {},
   "source": [
    "$H_{0}$: There is a linear relationship between tenure and total charges.\n",
    "\n",
    "$H_{A}$: There is no linear relationship between tenure and total charges."
   ]
  },
  {
   "cell_type": "markdown",
   "id": "64403284",
   "metadata": {},
   "source": [
    "<div class=\"alert alert-block alert-info\">\n",
    "\n",
    "**Maggie's Version = Class Answer**\n",
    "    \n",
    "</div>"
   ]
  },
  {
   "cell_type": "markdown",
   "id": "b097386b",
   "metadata": {},
   "source": [
    "# Tenure correlate with Total Charges?\n",
    "1. State Our Hypothesis - Set Alpha Value\n",
    "2. Select Data, run a .info()\n",
    "3. Plot Data\n",
    "4. Assumptions\n",
    "4. Normality (Distribution)\n",
    "5. Test\n",
    "6. Conclusion\n",
    "\n",
    "\n",
    "1. Hypothesis:\n",
    "    Really High R and no significant T\n",
    "        2 Data Points make a perfect Line\n",
    "            R is really high (correlation)\n",
    "            P is (how strong the confidence in result)\n",
    "\n",
    "    H0: There is no linear correlation between tenure and total charges\n",
    "\n",
    "    HA: There is a linear correlation between tenure and total charges\n",
    "    ```python\n",
    "        H0:\n",
    "        HA:\n",
    "        a=0.05\n",
    "    ```\n",
    "2. Select Data\n",
    "    ```python\n",
    "        \n",
    "        ttl_charges_df = df[['tenure','total_charges']]\n",
    "    \n",
    "        #look at summary of dataframe\n",
    "        ttl_charges_df.info()\n",
    "        \n",
    "        #try to find the data erros\n",
    "        ttl_charges_df.sort_value()\n",
    "        \n",
    "        #convert the empty space to '0'\n",
    "        ttl_chargesdf['total_charges']=ttl_chargesdf['total_charges'].str.replace(' ','0').astype('float')\n",
    "        \n",
    "        #confirm our datatypes\n",
    "        ttl_chargesdf.info()\n",
    "\n",
    "    ```\n",
    "3. Plot Data\n",
    "    ```python\n",
    "        sns.regplot(x='tenure', y='total_charges', data=ttl_chargesdf, marker='.', line_kws={'color':'rebeccapurple'})\n",
    "    ```\n",
    "4. Assumptions\n",
    "   a. Normality (Distribution)\n",
    "        ```python\n",
    "            \n",
    "        ```\n",
    "        Because not normally distributed. Running Spearman Test.\n",
    "5. Test\n",
    "    ```python\n",
    "        r,p = stats.spearmanr(ttl_chargesdf.tenure, ttl_chargesdf.total_charges)\n",
    "    \n",
    "        if p < alpha:\n",
    "            #print(\"Reject Null\")\n",
    "            display(Latex('Reject $H_{0}$'))\n",
    "        else:\n",
    "            #print(\"Fail to Reject Null\")\n",
    "            display(Latex('Fail to Reject $H_{0}$'))\n",
    "    ```\n",
    "6. Conclusion\n",
    "    > **Takeaway**\n",
    "    > There is a linear correlation between tenure and total charges\n",
    "    > With an r of .89 the correlation is strong"
   ]
  },
  {
   "cell_type": "code",
   "execution_count": null,
   "id": "aa4809f3",
   "metadata": {},
   "outputs": [],
   "source": []
  },
  {
   "cell_type": "code",
   "execution_count": 420,
   "id": "4ffa8aa7",
   "metadata": {},
   "outputs": [
    {
     "data": {
      "text/plain": [
       "20.20      11\n",
       "19.75       9\n",
       "19.90       8\n",
       "19.65       8\n",
       "20.05       8\n",
       "           ..\n",
       "2387.75     1\n",
       "6302.80     1\n",
       "2058.50     1\n",
       "829.55      1\n",
       "3707.60     1\n",
       "Name: total_charges, Length: 6530, dtype: int64"
      ]
     },
     "execution_count": 420,
     "metadata": {},
     "output_type": "execute_result"
    }
   ],
   "source": [
    "telco['total_charges'].value_counts()"
   ]
  },
  {
   "cell_type": "code",
   "execution_count": 421,
   "id": "f09bc69f",
   "metadata": {},
   "outputs": [
    {
     "data": {
      "text/plain": [
       "Float64Index([   20.2,   19.75,    19.9,   19.65,   20.05,    45.3,   19.55,\n",
       "                20.15,   20.25,   19.45,\n",
       "              ...\n",
       "              1474.75, 6448.85,  1094.5, 2548.55,  8250.0, 2387.75,  6302.8,\n",
       "               2058.5,  829.55,  3707.6],\n",
       "             dtype='float64', length=6530)"
      ]
     },
     "execution_count": 421,
     "metadata": {},
     "output_type": "execute_result"
    }
   ],
   "source": [
    "telco['total_charges'].value_counts().index"
   ]
  },
  {
   "cell_type": "code",
   "execution_count": 423,
   "id": "8531d85b",
   "metadata": {},
   "outputs": [],
   "source": [
    "telco = telco[telco['total_charges'] != ' ']"
   ]
  },
  {
   "cell_type": "code",
   "execution_count": 425,
   "id": "670489cd",
   "metadata": {},
   "outputs": [],
   "source": [
    "telco['total_charges'] = telco['total_charges'].astype(float)"
   ]
  },
  {
   "cell_type": "code",
   "execution_count": 426,
   "id": "18de7a64",
   "metadata": {},
   "outputs": [
    {
     "data": {
      "text/plain": [
       "0        593.30\n",
       "1        542.40\n",
       "2        280.85\n",
       "3       1237.85\n",
       "4        267.40\n",
       "         ...   \n",
       "7038     742.90\n",
       "7039    1873.70\n",
       "7040      92.75\n",
       "7041    4627.65\n",
       "7042    3707.60\n",
       "Name: total_charges, Length: 7032, dtype: float64"
      ]
     },
     "execution_count": 426,
     "metadata": {},
     "output_type": "execute_result"
    }
   ],
   "source": [
    "telco['total_charges']"
   ]
  },
  {
   "cell_type": "code",
   "execution_count": 427,
   "id": "81509325",
   "metadata": {},
   "outputs": [
    {
     "data": {
      "text/plain": [
       "20.20      11\n",
       "19.75       9\n",
       "19.90       8\n",
       "19.65       8\n",
       "20.05       8\n",
       "           ..\n",
       "2387.75     1\n",
       "6302.80     1\n",
       "2058.50     1\n",
       "829.55      1\n",
       "3707.60     1\n",
       "Name: total_charges, Length: 6530, dtype: int64"
      ]
     },
     "execution_count": 427,
     "metadata": {},
     "output_type": "execute_result"
    }
   ],
   "source": [
    "telco['total_charges'].value_counts()"
   ]
  },
  {
   "cell_type": "code",
   "execution_count": 428,
   "id": "bcbaf4df",
   "metadata": {},
   "outputs": [
    {
     "data": {
      "text/plain": [
       "<AxesSubplot:xlabel='tenure', ylabel='total_charges'>"
      ]
     },
     "execution_count": 428,
     "metadata": {},
     "output_type": "execute_result"
    },
    {
     "data": {
      "image/png": "[encoded data removed]",
      "text/plain": [
       "<Figure size 640x480 with 1 Axes>"
      ]
     },
     "metadata": {},
     "output_type": "display_data"
    }
   ],
   "source": [
    "telco.plot.scatter(y='total_charges', x='tenure')\n"
   ]
  },
  {
   "cell_type": "code",
   "execution_count": 430,
   "id": "ba37950e",
   "metadata": {},
   "outputs": [
    {
     "data": {
      "text/plain": [
       "<AxesSubplot:xlabel='tenure', ylabel='total_charges'>"
      ]
     },
     "execution_count": 430,
     "metadata": {},
     "output_type": "execute_result"
    },
    {
     "data": {
      "image/png": "[encoded data removed]",
      "text/plain": [
       "<Figure size 640x480 with 1 Axes>"
      ]
     },
     "metadata": {},
     "output_type": "display_data"
    }
   ],
   "source": [
    "sns.regplot(x='tenure', y='total_charges', data=telco, marker='.', line_kws={'color':'rebeccapurple'})"
   ]
  },
  {
   "cell_type": "code",
   "execution_count": 429,
   "id": "aeb0e88a",
   "metadata": {},
   "outputs": [
    {
     "data": {
      "image/png": "[encoded data removed]",
      "text/plain": [
       "<Figure size 500x500 with 1 Axes>"
      ]
     },
     "metadata": {},
     "output_type": "display_data"
    }
   ],
   "source": [
    "sns.relplot(data=telco, x=telco['tenure'], y=telco['total_charges'])\n",
    "\n",
    "plt.title('Tenure = Total Charges?')\n",
    "plt.show()"
   ]
  },
  {
   "cell_type": "code",
   "execution_count": 367,
   "id": "742ea530",
   "metadata": {},
   "outputs": [
    {
     "data": {
      "text/plain": [
       "(0.8258804609332071, 0.0)"
      ]
     },
     "execution_count": 367,
     "metadata": {},
     "output_type": "execute_result"
    }
   ],
   "source": [
    "r,p = stats.pearsonr(telco['tenure'], telco['total_charges'])\n",
    "r,p"
   ]
  },
  {
   "cell_type": "code",
   "execution_count": 368,
   "id": "310799fb",
   "metadata": {},
   "outputs": [
    {
     "data": {
      "text/latex": [
       "Reject $H_{0}$"
      ],
      "text/plain": [
       "<IPython.core.display.Latex object>"
      ]
     },
     "metadata": {},
     "output_type": "display_data"
    }
   ],
   "source": [
    "if p < alpha:\n",
    "    #print(\"Reject Null\")\n",
    "    display(Latex('Reject $H_{0}$'))\n",
    "else:\n",
    "    #print(\"Fail Reject NULL\")\n",
    "    display(Latex('Fail to Reject $H_{0}$'))"
   ]
  },
  {
   "cell_type": "markdown",
   "id": "dfb174bb",
   "metadata": {},
   "source": [
    "> We reject the null hypothesis. There is a strong correlation between tenure and total charges. Significant heteroscedasticity is present on visual observation. Thus, a linear relationship, though technically present, may be limited in its ability to predict total charges at high tenure.\n",
    "\n",
    "> The relationship is reasonable, given that a customer will always pay the company more in total charges over time.\n",
    "\n"
   ]
  },
  {
   "cell_type": "markdown",
   "id": "54bf07f9",
   "metadata": {},
   "source": [
    "# 2.C DONE"
   ]
  },
  {
   "cell_type": "markdown",
   "id": "eeaff7a9",
   "metadata": {},
   "source": [
    "# Phone & Internet Service"
   ]
  },
  {
   "cell_type": "markdown",
   "id": "5f82dbad",
   "metadata": {},
   "source": [
    "Try Later\n",
    ">\n",
    ">```python\n",
    ">df.phoneservice.value_counts()\n",
    ">df.internetservice.value_counts()\n",
    ">sns.relplot(data=df, x=df.tenure, y=df.monthlycharges, \n",
    ">            col=df.phoneservice, hue=df.internetservice)\n",
    ">\n",
    ">plt.show()\n",
    ">df.groupby(['internetservice','phoneservice']).count()\n",
    ">def corr_fun(df):\n",
    ">    return pd.Series(stats.pearsonr(df.tenure, df.totalcharges),\n",
    ">                    index=['r','p'])\n",
    ">df.groupby(['internetservice','phoneservice']).apply(corr_fun)\n",
    ">```"
   ]
  },
  {
   "cell_type": "markdown",
   "id": "386c2446",
   "metadata": {},
   "source": [
    "<div class=\"alert alert-block alert-info\">\n",
    "\n",
    "**Maggie's Version = Class Answer**\n",
    "    \n",
    "</div>"
   ]
  },
  {
   "cell_type": "markdown",
   "id": "e40b7e03",
   "metadata": {},
   "source": [
    "# Control For Phone & Internet Service\n",
    "1. State Our Hypothesis - Set Alpha Value\n",
    "2. Select Data, run a .info()\n",
    "3. Plot Data\n",
    "4. Assumptions\n",
    "4. Normality (Distribution)\n",
    "5. Test\n",
    "6. Conclusion\n",
    "\n",
    "---\n",
    "\n",
    "1. Hypothesis:\n",
    "    Really High R and no significant T\n",
    "        2 Data Points make a perfect Line\n",
    "            R is really high (correlation)\n",
    "            P is (how strong the confidence in result)\n",
    "\n",
    "    H0: There is no linear correlation between tenure and total charges\n",
    "\n",
    "    HA: There is a linear correlation between tenure and total charges\n",
    "    ```python\n",
    "        H0: There is no linear correlation between tenure and monthly charges.\n",
    "        HA: There is a linear correlation between tenure and monthly charges.\n",
    "        a=0.05\n",
    "    ```\n",
    "2. Select Data\n",
    "    ```python\n",
    "\n",
    "    ```\n",
    "3. Plot Data\n",
    "    ```python\n",
    "\n",
    "        sns.regplot(x='tenure')\n",
    "\n",
    "    ```\n",
    "4. Assumptions\n",
    "   a. Normality (Distribution)\n",
    "        ```python\n",
    "        \n",
    "            phone_df.tenure.hist()\n",
    "            plt.show()\n",
    "            \n",
    "            phone_df.monthly_charges.hist()\n",
    "            plt.show()\n",
    "            \n",
    "        ```\n",
    "        Because not normally distributed. Running Spearman Test.\n",
    "5. Test\n",
    "    ```python\n",
    "        # Test\n",
    "        r,p = stats.spearmanr(ttl_chargesdf.tenure, ttl_chargesdf.total_charges)\n",
    "    \n",
    "        # Verify\n",
    "        if p < alpha:\n",
    "            #print(\"Reject Null\")\n",
    "            display(Latex('Reject $H_{0}$'))\n",
    "        else:\n",
    "            #print(\"Fail to Reject Null\")\n",
    "            display(Latex('Fail to Reject $H_{0}$'))\n",
    "    ```\n",
    "6. Conclusion\n",
    "    > **Takeaway**\n",
    "    > There is a linear correlation between tenure and total charges\n",
    "    > With an r of .89 the correlation is strong\n",
    "    ```python\n",
    "        # **Takeaway**\n",
    "        # There is a linear correlation between tenure and total charges\n",
    "        # With an r of .89 the correlation is strong\n",
    "    ```"
   ]
  },
  {
   "cell_type": "code",
   "execution_count": 369,
   "id": "781660ec",
   "metadata": {},
   "outputs": [],
   "source": [
    "def contro_isp(df):\n",
    "    # returns the results of a pearson's r corr test run on the dataframe\n",
    "    return pd.Series(stats.pearsonr(df.tenure, df.monthly_charges), index = ['r', 'p'])"
   ]
  },
  {
   "cell_type": "code",
   "execution_count": 370,
   "id": "4e5d0dd9",
   "metadata": {},
   "outputs": [
    {
     "data": {
      "text/html": [
       "<div>\n",
       "<style scoped>\n",
       "    .dataframe tbody tr th:only-of-type {\n",
       "        vertical-align: middle;\n",
       "    }\n",
       "\n",
       "    .dataframe tbody tr th {\n",
       "        vertical-align: top;\n",
       "    }\n",
       "\n",
       "    .dataframe thead th {\n",
       "        text-align: right;\n",
       "    }\n",
       "</style>\n",
       "<table border=\"1\" class=\"dataframe\">\n",
       "  <thead>\n",
       "    <tr style=\"text-align: right;\">\n",
       "      <th></th>\n",
       "      <th></th>\n",
       "      <th>r</th>\n",
       "      <th>p</th>\n",
       "    </tr>\n",
       "    <tr>\n",
       "      <th>internet_service_type</th>\n",
       "      <th>phone_service</th>\n",
       "      <th></th>\n",
       "      <th></th>\n",
       "    </tr>\n",
       "  </thead>\n",
       "  <tbody>\n",
       "    <tr>\n",
       "      <th rowspan=\"2\" valign=\"top\">DSL</th>\n",
       "      <th>No</th>\n",
       "      <td>0.592430</td>\n",
       "      <td>1.173274e-65</td>\n",
       "    </tr>\n",
       "    <tr>\n",
       "      <th>Yes</th>\n",
       "      <td>0.658094</td>\n",
       "      <td>5.781402e-216</td>\n",
       "    </tr>\n",
       "    <tr>\n",
       "      <th>Fiber optic</th>\n",
       "      <th>Yes</th>\n",
       "      <td>0.624621</td>\n",
       "      <td>0.000000e+00</td>\n",
       "    </tr>\n",
       "    <tr>\n",
       "      <th>None</th>\n",
       "      <th>Yes</th>\n",
       "      <td>0.346188</td>\n",
       "      <td>4.896605e-44</td>\n",
       "    </tr>\n",
       "  </tbody>\n",
       "</table>\n",
       "</div>"
      ],
      "text/plain": [
       "                                            r              p\n",
       "internet_service_type phone_service                         \n",
       "DSL                   No             0.592430   1.173274e-65\n",
       "                      Yes            0.658094  5.781402e-216\n",
       "Fiber optic           Yes            0.624621   0.000000e+00\n",
       "None                  Yes            0.346188   4.896605e-44"
      ]
     },
     "execution_count": 370,
     "metadata": {},
     "output_type": "execute_result"
    }
   ],
   "source": [
    "telco.groupby(['internet_service_type', 'phone_service']).apply(contro_isp)"
   ]
  },
  {
   "cell_type": "code",
   "execution_count": 371,
   "id": "0ccfdc72",
   "metadata": {},
   "outputs": [
    {
     "data": {
      "text/html": [
       "<div>\n",
       "<style scoped>\n",
       "    .dataframe tbody tr th:only-of-type {\n",
       "        vertical-align: middle;\n",
       "    }\n",
       "\n",
       "    .dataframe tbody tr th {\n",
       "        vertical-align: top;\n",
       "    }\n",
       "\n",
       "    .dataframe thead th {\n",
       "        text-align: right;\n",
       "    }\n",
       "</style>\n",
       "<table border=\"1\" class=\"dataframe\">\n",
       "  <thead>\n",
       "    <tr style=\"text-align: right;\">\n",
       "      <th></th>\n",
       "      <th>r</th>\n",
       "      <th>p</th>\n",
       "    </tr>\n",
       "    <tr>\n",
       "      <th>phone_service</th>\n",
       "      <th></th>\n",
       "      <th></th>\n",
       "    </tr>\n",
       "  </thead>\n",
       "  <tbody>\n",
       "    <tr>\n",
       "      <th>No</th>\n",
       "      <td>0.592430</td>\n",
       "      <td>1.173274e-65</td>\n",
       "    </tr>\n",
       "    <tr>\n",
       "      <th>Yes</th>\n",
       "      <td>0.244194</td>\n",
       "      <td>6.828016e-87</td>\n",
       "    </tr>\n",
       "  </tbody>\n",
       "</table>\n",
       "</div>"
      ],
      "text/plain": [
       "                      r             p\n",
       "phone_service                        \n",
       "No             0.592430  1.173274e-65\n",
       "Yes            0.244194  6.828016e-87"
      ]
     },
     "execution_count": 371,
     "metadata": {},
     "output_type": "execute_result"
    }
   ],
   "source": [
    "telco.groupby(['phone_service']).apply(contro_isp)"
   ]
  },
  {
   "cell_type": "code",
   "execution_count": 372,
   "id": "d9461ec9",
   "metadata": {},
   "outputs": [],
   "source": [
    "#sns.relplot(data=telco, y='monthly_charges', x='tenure', col='internet_service_type', row='phone_service')\n",
    "#sns.relplot(data=telco, y='monthly_charges', x='tenure', hue='internet_service_type', style='phone_service')\n",
    "#sns.relplot(data=telco, y='monthly_charges', x='tenure', hue='phone_service')"
   ]
  },
  {
   "cell_type": "code",
   "execution_count": 431,
   "id": "27ceb465",
   "metadata": {},
   "outputs": [],
   "source": [
    "def corr_tenure_and_total(df):\n",
    "    return pd.Series(stats.pearsonr(telco['tenure'], telco['total_charges']), index=['r', 'p'])"
   ]
  },
  {
   "cell_type": "code",
   "execution_count": 374,
   "id": "3974927c",
   "metadata": {},
   "outputs": [],
   "source": [
    "#convert total charges"
   ]
  },
  {
   "cell_type": "code",
   "execution_count": 432,
   "id": "6a5ec1a8",
   "metadata": {},
   "outputs": [
    {
     "data": {
      "text/html": [
       "<div>\n",
       "<style scoped>\n",
       "    .dataframe tbody tr th:only-of-type {\n",
       "        vertical-align: middle;\n",
       "    }\n",
       "\n",
       "    .dataframe tbody tr th {\n",
       "        vertical-align: top;\n",
       "    }\n",
       "\n",
       "    .dataframe thead th {\n",
       "        text-align: right;\n",
       "    }\n",
       "</style>\n",
       "<table border=\"1\" class=\"dataframe\">\n",
       "  <thead>\n",
       "    <tr style=\"text-align: right;\">\n",
       "      <th></th>\n",
       "      <th></th>\n",
       "      <th>r</th>\n",
       "      <th>p</th>\n",
       "    </tr>\n",
       "    <tr>\n",
       "      <th>internet_service_type</th>\n",
       "      <th>phone_service</th>\n",
       "      <th></th>\n",
       "      <th></th>\n",
       "    </tr>\n",
       "  </thead>\n",
       "  <tbody>\n",
       "    <tr>\n",
       "      <th rowspan=\"2\" valign=\"top\">DSL</th>\n",
       "      <th>No</th>\n",
       "      <td>0.82588</td>\n",
       "      <td>0.0</td>\n",
       "    </tr>\n",
       "    <tr>\n",
       "      <th>Yes</th>\n",
       "      <td>0.82588</td>\n",
       "      <td>0.0</td>\n",
       "    </tr>\n",
       "    <tr>\n",
       "      <th>Fiber optic</th>\n",
       "      <th>Yes</th>\n",
       "      <td>0.82588</td>\n",
       "      <td>0.0</td>\n",
       "    </tr>\n",
       "    <tr>\n",
       "      <th>None</th>\n",
       "      <th>Yes</th>\n",
       "      <td>0.82588</td>\n",
       "      <td>0.0</td>\n",
       "    </tr>\n",
       "  </tbody>\n",
       "</table>\n",
       "</div>"
      ],
      "text/plain": [
       "                                           r    p\n",
       "internet_service_type phone_service              \n",
       "DSL                   No             0.82588  0.0\n",
       "                      Yes            0.82588  0.0\n",
       "Fiber optic           Yes            0.82588  0.0\n",
       "None                  Yes            0.82588  0.0"
      ]
     },
     "execution_count": 432,
     "metadata": {},
     "output_type": "execute_result"
    }
   ],
   "source": [
    "telco.groupby(['internet_service_type', 'phone_service']).apply(corr_tenure_and_total)"
   ]
  },
  {
   "cell_type": "markdown",
   "id": "2a35a3c9",
   "metadata": {},
   "source": [
    "Use the employees database.\n",
    "- Is there a relationship between how long an employee has been with the company and their salary?\n",
    "- Is there a relationship between how long an employee has been with the company and the number of titles they have had?"
   ]
  },
  {
   "cell_type": "markdown",
   "id": "e92a5280",
   "metadata": {},
   "source": [
    "# 3.A DONE"
   ]
  },
  {
   "cell_type": "markdown",
   "id": "66ad6603",
   "metadata": {},
   "source": [
    "# Tenure vs. Salary"
   ]
  },
  {
   "cell_type": "code",
   "execution_count": 445,
   "id": "5bba357f",
   "metadata": {},
   "outputs": [],
   "source": [
    "url = env.get_db_url('employees')\n",
    "\n",
    "query = '''\n",
    "SELECT\n",
    "    DATEDIFF((SELECT MAX(hire_date) FROM employees), e.hire_date) AS tenure,\n",
    "    s.salary AS salary\n",
    "FROM employees e\n",
    "JOIN salaries s USING (emp_no)\n",
    "WHERE s.to_date > NOW()\n",
    "'''"
   ]
  },
  {
   "cell_type": "code",
   "execution_count": 378,
   "id": "402d4c0d",
   "metadata": {},
   "outputs": [],
   "source": [
    "employees_with_salaries = pd.read_sql(query, url)"
   ]
  },
  {
   "cell_type": "code",
   "execution_count": 381,
   "id": "60fc0221",
   "metadata": {},
   "outputs": [
    {
     "data": {
      "text/html": [
       "<div>\n",
       "<style scoped>\n",
       "    .dataframe tbody tr th:only-of-type {\n",
       "        vertical-align: middle;\n",
       "    }\n",
       "\n",
       "    .dataframe tbody tr th {\n",
       "        vertical-align: top;\n",
       "    }\n",
       "\n",
       "    .dataframe thead th {\n",
       "        text-align: right;\n",
       "    }\n",
       "</style>\n",
       "<table border=\"1\" class=\"dataframe\">\n",
       "  <thead>\n",
       "    <tr style=\"text-align: right;\">\n",
       "      <th></th>\n",
       "      <th>tenure</th>\n",
       "      <th>salary</th>\n",
       "    </tr>\n",
       "  </thead>\n",
       "  <tbody>\n",
       "    <tr>\n",
       "      <th>0</th>\n",
       "      <td>4964</td>\n",
       "      <td>88958</td>\n",
       "    </tr>\n",
       "    <tr>\n",
       "      <th>1</th>\n",
       "      <td>5181</td>\n",
       "      <td>72527</td>\n",
       "    </tr>\n",
       "  </tbody>\n",
       "</table>\n",
       "</div>"
      ],
      "text/plain": [
       "   tenure  salary\n",
       "0    4964   88958\n",
       "1    5181   72527"
      ]
     },
     "execution_count": 381,
     "metadata": {},
     "output_type": "execute_result"
    }
   ],
   "source": [
    "employees_with_salaries.head(2)"
   ]
  },
  {
   "cell_type": "markdown",
   "id": "c0024083",
   "metadata": {},
   "source": [
    "${H_0}$: There is no linear relationship between employee tenure and their salary\n",
    "\n",
    "${H_a}$: There is a linear relationship between employee tenure and their salary"
   ]
  },
  {
   "cell_type": "code",
   "execution_count": 382,
   "id": "299acd49",
   "metadata": {},
   "outputs": [
    {
     "data": {
      "text/plain": [
       "PearsonRResult(statistic=0.3064625613186014, pvalue=0.0)"
      ]
     },
     "execution_count": 382,
     "metadata": {},
     "output_type": "execute_result"
    }
   ],
   "source": [
    "stats.pearsonr(employees_with_salaries.tenure, employees_with_salaries.salary)"
   ]
  },
  {
   "cell_type": "code",
   "execution_count": 383,
   "id": "2487fd21",
   "metadata": {},
   "outputs": [
    {
     "data": {
      "text/plain": [
       "<seaborn.axisgrid.FacetGrid at 0x29729fdf0>"
      ]
     },
     "execution_count": 383,
     "metadata": {},
     "output_type": "execute_result"
    },
    {
     "data": {
      "image/png": "[encoded data removed]",
      "text/plain": [
       "<Figure size 500x500 with 1 Axes>"
      ]
     },
     "metadata": {},
     "output_type": "display_data"
    }
   ],
   "source": [
    "sns.relplot(data=employees_with_salaries, y='salary', x='tenure')"
   ]
  },
  {
   "cell_type": "markdown",
   "id": "b77d918d",
   "metadata": {},
   "source": [
    "<div class=\"alert alert-block alert-info\">\n",
    "\n",
    "**Class Answer** Tenure vs. Salary\n",
    "    \n",
    "</div>"
   ]
  },
  {
   "cell_type": "markdown",
   "id": "e66c1e80",
   "metadata": {},
   "source": [
    "1. State Our Hypothesis - Set Alpha Value\n",
    "2. Select Data, run a .info()\n",
    "3. Plot Data\n",
    "4. Assumptions\n",
    "    a. Normality (Distribution)\n",
    "5. Test\n",
    "6. Conclusion"
   ]
  },
  {
   "cell_type": "markdown",
   "id": "2e991b1f",
   "metadata": {},
   "source": [
    "$H_{0}$:\n",
    "\n",
    "$H_{A}$:"
   ]
  },
  {
   "cell_type": "code",
   "execution_count": 433,
   "id": "2506c8f2",
   "metadata": {},
   "outputs": [],
   "source": [
    "# 1. Hypothesis\n",
    "# H0:\n",
    "# HA:\n",
    "\n",
    "alpha = 0.05"
   ]
  },
  {
   "cell_type": "code",
   "execution_count": null,
   "id": "8556008f",
   "metadata": {},
   "outputs": [],
   "source": [
    "# 2. Select Data\n",
    "df['tenure'] = pd.to_datetime(\"today\") - df.hire_date\n",
    "\n",
    "df[].str.split(' ', expand=Treu)[0].astype('int')\n",
    "\n",
    "tenure_df = df[[]'tenure','salary']"
   ]
  },
  {
   "cell_type": "code",
   "execution_count": 434,
   "id": "a841efa3",
   "metadata": {},
   "outputs": [],
   "source": [
    "tenure_df = employees_with_salaries"
   ]
  },
  {
   "cell_type": "code",
   "execution_count": 436,
   "id": "dc3a1c8d",
   "metadata": {},
   "outputs": [
    {
     "data": {
      "text/plain": [
       "<AxesSubplot:xlabel='tenure', ylabel='salary'>"
      ]
     },
     "execution_count": 436,
     "metadata": {},
     "output_type": "execute_result"
    },
    {
     "data": {
      "image/png": "[encoded data removed]",
      "text/plain": [
       "<Figure size 640x480 with 1 Axes>"
      ]
     },
     "metadata": {},
     "output_type": "display_data"
    }
   ],
   "source": [
    "# 3. Plot The Data\n",
    "sns.regplot(x='tenure', y='salary', data=tenure_df, marker='.',line_kws=({'color':'firebrick'}))"
   ]
  },
  {
   "cell_type": "code",
   "execution_count": 438,
   "id": "600163c4",
   "metadata": {},
   "outputs": [
    {
     "data": {
      "image/png": "[encoded data removed]",
      "text/plain": [
       "<Figure size 640x480 with 1 Axes>"
      ]
     },
     "metadata": {},
     "output_type": "display_data"
    },
    {
     "data": {
      "image/png": "[encoded data removed]",
      "text/plain": [
       "<Figure size 640x480 with 1 Axes>"
      ]
     },
     "metadata": {},
     "output_type": "display_data"
    }
   ],
   "source": [
    "# 4. Assumptions\n",
    "#    a. Normality (Distribution)(Hist)\n",
    "\n",
    "tenure_df.tenure.hist()\n",
    "plt.show()\n",
    "tenure_df.salary.hist()\n",
    "plt.show()"
   ]
  },
  {
   "cell_type": "code",
   "execution_count": 440,
   "id": "44fe6cae",
   "metadata": {},
   "outputs": [
    {
     "name": "stdout",
     "output_type": "stream",
     "text": [
      "r value:  0.3128783525010577\n"
     ]
    },
    {
     "data": {
      "text/latex": [
       "Reject $H_{0}$"
      ],
      "text/plain": [
       "<IPython.core.display.Latex object>"
      ]
     },
     "metadata": {},
     "output_type": "display_data"
    }
   ],
   "source": [
    "# 5. Test\n",
    "\n",
    "r,p=stats.spearmanr(tenure_df.tenure,tenure_df.salary)\n",
    "\n",
    "print('r value: ',r)\n",
    "\n",
    "if p < alpha:\n",
    "    #print(\"Reject Null\")\n",
    "    display(Latex('Reject $H_{0}$'))\n",
    "else:\n",
    "    #print(\"Fail Reject NULL\")\n",
    "    display(Latex('Fail to Reject $H_{0}$'))"
   ]
  },
  {
   "cell_type": "markdown",
   "id": "b85eac8c",
   "metadata": {},
   "source": [
    "# 6. Conclustion\n",
    "*** Takeaway ***\n",
    "There is amoderate correlation between tenure and salary"
   ]
  },
  {
   "cell_type": "markdown",
   "id": "d65b9a11",
   "metadata": {},
   "source": [
    "# 3.B DONE"
   ]
  },
  {
   "cell_type": "markdown",
   "id": "19cb908d",
   "metadata": {},
   "source": [
    "# Tenure vs. Titles"
   ]
  },
  {
   "cell_type": "markdown",
   "id": "a1b24373",
   "metadata": {},
   "source": [
    "<div class=\"alert alert-block alert-info\">\n",
    "\n",
    "# My Answer"
   ]
  },
  {
   "cell_type": "code",
   "execution_count": 448,
   "id": "5369e252",
   "metadata": {},
   "outputs": [],
   "source": [
    "url = env.get_db_url('employees')\n",
    "\n",
    "query = '''\n",
    "SELECT\n",
    "    e.emp_no,\n",
    "    DATEDIFF((SELECT MAX(hire_date) FROM employees), e.hire_date) AS tenure,\n",
    "    n_titles\n",
    "FROM employees as e\n",
    "JOIN (\n",
    "    SELECT emp_no, COUNT(*) as n_titles\n",
    "    FROM employees as e\n",
    "    JOIN titles t USING (emp_no)\n",
    "    GROUP BY emp_no\n",
    ") as emp_title_count USING (emp_no)\n",
    "'''"
   ]
  },
  {
   "cell_type": "code",
   "execution_count": 449,
   "id": "aab7acd5",
   "metadata": {},
   "outputs": [],
   "source": [
    "employees_with_titles = pd.read_sql(query, url)"
   ]
  },
  {
   "cell_type": "code",
   "execution_count": 450,
   "id": "767a0405",
   "metadata": {},
   "outputs": [
    {
     "data": {
      "text/plain": [
       "(300024, 3)"
      ]
     },
     "execution_count": 450,
     "metadata": {},
     "output_type": "execute_result"
    }
   ],
   "source": [
    "employees_with_titles.shape"
   ]
  },
  {
   "cell_type": "code",
   "execution_count": 456,
   "id": "ca59463a",
   "metadata": {},
   "outputs": [
    {
     "data": {
      "text/html": [
       "<div>\n",
       "<style scoped>\n",
       "    .dataframe tbody tr th:only-of-type {\n",
       "        vertical-align: middle;\n",
       "    }\n",
       "\n",
       "    .dataframe tbody tr th {\n",
       "        vertical-align: top;\n",
       "    }\n",
       "\n",
       "    .dataframe thead th {\n",
       "        text-align: right;\n",
       "    }\n",
       "</style>\n",
       "<table border=\"1\" class=\"dataframe\">\n",
       "  <thead>\n",
       "    <tr style=\"text-align: right;\">\n",
       "      <th></th>\n",
       "      <th>emp_no</th>\n",
       "      <th>tenure</th>\n",
       "      <th>n_titles</th>\n",
       "    </tr>\n",
       "  </thead>\n",
       "  <tbody>\n",
       "    <tr>\n",
       "      <th>0</th>\n",
       "      <td>10001</td>\n",
       "      <td>4964</td>\n",
       "      <td>1</td>\n",
       "    </tr>\n",
       "    <tr>\n",
       "      <th>1</th>\n",
       "      <td>10002</td>\n",
       "      <td>5181</td>\n",
       "      <td>1</td>\n",
       "    </tr>\n",
       "    <tr>\n",
       "      <th>2</th>\n",
       "      <td>10003</td>\n",
       "      <td>4901</td>\n",
       "      <td>1</td>\n",
       "    </tr>\n",
       "    <tr>\n",
       "      <th>3</th>\n",
       "      <td>10004</td>\n",
       "      <td>4806</td>\n",
       "      <td>2</td>\n",
       "    </tr>\n",
       "    <tr>\n",
       "      <th>4</th>\n",
       "      <td>10005</td>\n",
       "      <td>3790</td>\n",
       "      <td>2</td>\n",
       "    </tr>\n",
       "  </tbody>\n",
       "</table>\n",
       "</div>"
      ],
      "text/plain": [
       "   emp_no  tenure  n_titles\n",
       "0   10001    4964         1\n",
       "1   10002    5181         1\n",
       "2   10003    4901         1\n",
       "3   10004    4806         2\n",
       "4   10005    3790         2"
      ]
     },
     "execution_count": 456,
     "metadata": {},
     "output_type": "execute_result"
    }
   ],
   "source": [
    "employees_with_titles.head()"
   ]
  },
  {
   "cell_type": "markdown",
   "id": "131431da",
   "metadata": {},
   "source": [
    "$H_0$: There's no linear relationship between employee tenure and number of titles\n",
    "\n",
    "$H_a$: There's a linear relationship between employee tenure and number of titles"
   ]
  },
  {
   "cell_type": "code",
   "execution_count": null,
   "id": "a598cbaa",
   "metadata": {},
   "outputs": [],
   "source": [
    "stats.pearsonr(employees_with_titles.tenure, employees_with_titles.n_titles)"
   ]
  },
  {
   "cell_type": "markdown",
   "id": "7c89ebe0",
   "metadata": {},
   "source": [
    "We reject the $H_{0}$ Null Hypothesis\n",
    "\n"
   ]
  },
  {
   "cell_type": "markdown",
   "id": "24e33be2",
   "metadata": {},
   "source": [
    "<div class=\"alert alert-block alert-info\">\n",
    "\n",
    "# **Class Answer** \n",
    "### Tenure vs. Titles\n",
    "    \n",
    "</div>\n",
    "\n",
    "1. State Our Hypothesis - Set Alpha Value\n",
    "2. Select Data, run a .info()\n",
    "3. Plot Data\n",
    "4. Assumptions \n",
    "    a. Normality (Distribution)\n",
    "5. Test\n",
    "6. Conclusion\n",
    "\n",
    "\n",
    "# 1. Hypothesis\n",
    "\n",
    "$H_0$: There's no linear relationship between employee tenure and number of titles\n",
    "\n",
    "$H_a$: There's a linear relationship between employee tenure and number of titles"
   ]
  },
  {
   "cell_type": "code",
   "execution_count": null,
   "id": "ee3f45da",
   "metadata": {},
   "outputs": [],
   "source": [
    "#query = '''\n",
    "\n",
    "#'''"
   ]
  },
  {
   "cell_type": "code",
   "execution_count": 457,
   "id": "e3a9ec35",
   "metadata": {},
   "outputs": [
    {
     "data": {
      "text/html": [
       "<div>\n",
       "<style scoped>\n",
       "    .dataframe tbody tr th:only-of-type {\n",
       "        vertical-align: middle;\n",
       "    }\n",
       "\n",
       "    .dataframe tbody tr th {\n",
       "        vertical-align: top;\n",
       "    }\n",
       "\n",
       "    .dataframe thead th {\n",
       "        text-align: right;\n",
       "    }\n",
       "</style>\n",
       "<table border=\"1\" class=\"dataframe\">\n",
       "  <thead>\n",
       "    <tr style=\"text-align: right;\">\n",
       "      <th></th>\n",
       "      <th>emp_no</th>\n",
       "      <th>tenure</th>\n",
       "      <th>n_titles</th>\n",
       "    </tr>\n",
       "  </thead>\n",
       "  <tbody>\n",
       "    <tr>\n",
       "      <th>0</th>\n",
       "      <td>10001</td>\n",
       "      <td>4964</td>\n",
       "      <td>1</td>\n",
       "    </tr>\n",
       "    <tr>\n",
       "      <th>1</th>\n",
       "      <td>10002</td>\n",
       "      <td>5181</td>\n",
       "      <td>1</td>\n",
       "    </tr>\n",
       "  </tbody>\n",
       "</table>\n",
       "</div>"
      ],
      "text/plain": [
       "   emp_no  tenure  n_titles\n",
       "0   10001    4964         1\n",
       "1   10002    5181         1"
      ]
     },
     "execution_count": 457,
     "metadata": {},
     "output_type": "execute_result"
    }
   ],
   "source": [
    "# Select Data\n",
    "df = employees_with_titles\n",
    "df.head(2)"
   ]
  },
  {
   "cell_type": "code",
   "execution_count": 458,
   "id": "6cdae57a",
   "metadata": {},
   "outputs": [
    {
     "data": {
      "text/plain": [
       "<AxesSubplot:xlabel='tenure', ylabel='n_titles'>"
      ]
     },
     "execution_count": 458,
     "metadata": {},
     "output_type": "execute_result"
    },
    {
     "data": {
      "image/png": "[encoded data removed]",
      "text/plain": [
       "<Figure size 640x480 with 1 Axes>"
      ]
     },
     "metadata": {},
     "output_type": "display_data"
    }
   ],
   "source": [
    "# 3. Plot The Data\n",
    "\n",
    "sns.regplot(x='tenure', y='n_titles', data=df,marker='.',line_kws=({'color':'seagreen'}))"
   ]
  },
  {
   "cell_type": "code",
   "execution_count": 461,
   "id": "b75e5b7a",
   "metadata": {},
   "outputs": [
    {
     "data": {
      "text/plain": [
       "LeveneResult(statistic=596637.0020022207, pvalue=0.0)"
      ]
     },
     "execution_count": 461,
     "metadata": {},
     "output_type": "execute_result"
    }
   ],
   "source": [
    "# 4. Assumptions \n",
    "#    a. Normality (Distribution)\n",
    "#    b. equal variance?\n",
    "#.   c. Enough observations?\n",
    "#    d. Independent of each other?\n",
    "\n",
    "# b.Equal Variance\n",
    "# H_0: Variance is equal\n",
    "# H_A: The variances are significatnly differanct\n",
    "\n",
    "stats.levene(df.n_titles, df.tenure)\n",
    "\n",
    "#variance are sig diff, Kruskal Wallis test"
   ]
  },
  {
   "cell_type": "code",
   "execution_count": 462,
   "id": "30c8b435",
   "metadata": {},
   "outputs": [
    {
     "data": {
      "text/plain": [
       "KruskalResult(statistic=464349.62293854164, pvalue=0.0)"
      ]
     },
     "execution_count": 462,
     "metadata": {},
     "output_type": "execute_result"
    }
   ],
   "source": [
    "stats.kruskal(df.n_titles, df.tenure)"
   ]
  },
  {
   "cell_type": "code",
   "execution_count": null,
   "id": "220c06d1",
   "metadata": {},
   "outputs": [],
   "source": [
    "# 5. Test\n"
   ]
  },
  {
   "cell_type": "code",
   "execution_count": null,
   "id": "2b5a946c",
   "metadata": {},
   "outputs": [],
   "source": [
    "# 6. Conclusion\n",
    "\n",
    "# **Takeaway***\n",
    "\n",
    "#There is a difference in tenure and number of titles an employee has held"
   ]
  },
  {
   "cell_type": "markdown",
   "id": "63d5bc8e",
   "metadata": {},
   "source": [
    "# 4.A DONE"
   ]
  },
  {
   "cell_type": "markdown",
   "id": "8ea7c636",
   "metadata": {},
   "source": [
    "Use the sleepstudy data.\n",
    "- Is there a relationship between days and reaction time?"
   ]
  },
  {
   "cell_type": "code",
   "execution_count": null,
   "id": "80408cfd",
   "metadata": {},
   "outputs": [],
   "source": [
    "H0: There is no lenar\n",
    "HA: There is a linear"
   ]
  },
  {
   "cell_type": "code",
   "execution_count": null,
   "id": "10d9760c",
   "metadata": {},
   "outputs": [],
   "source": [
    "data('sleepstudy', show_doc=True)"
   ]
  },
  {
   "cell_type": "code",
   "execution_count": null,
   "id": "9b2e90e2",
   "metadata": {},
   "outputs": [],
   "source": [
    "sleep = data('sleepstudy')\n",
    "sleep.head()"
   ]
  },
  {
   "cell_type": "code",
   "execution_count": null,
   "id": "6ea726fe",
   "metadata": {},
   "outputs": [],
   "source": [
    "stats.pearsonr(sleep['Reaction'], sleep['Days'])"
   ]
  },
  {
   "cell_type": "code",
   "execution_count": 463,
   "id": "cdcf88c5",
   "metadata": {
    "scrolled": false
   },
   "outputs": [
    {
     "data": {
      "text/plain": [
       "<seaborn.axisgrid.FacetGrid at 0x29a91d580>"
      ]
     },
     "execution_count": 463,
     "metadata": {},
     "output_type": "execute_result"
    },
    {
     "data": {
      "image/png": "[encoded data removed]",
      "text/plain": [
       "<Figure size 500x500 with 1 Axes>"
      ]
     },
     "metadata": {},
     "output_type": "display_data"
    }
   ],
   "source": [
    "sns.lmplot(data=sleep, y='Reaction', x='Days')"
   ]
  },
  {
   "cell_type": "code",
   "execution_count": null,
   "id": "d5f2e632",
   "metadata": {},
   "outputs": [],
   "source": [
    "if p < alpha:\n",
    "    print(\"Reject the null hypothesis\")\n",
    "else:\n",
    "    print(\"Fail to reject the null\")"
   ]
  },
  {
   "cell_type": "markdown",
   "id": "088b5ec6",
   "metadata": {},
   "source": [
    "<div class=\"alert alert-danger\">\n",
    "    \n",
    "# C H I $^2$\n",
    "    \n",
    "</div>"
   ]
  },
  {
   "cell_type": "markdown",
   "id": "7dd9ae47",
   "metadata": {},
   "source": [
    "# Exercises 4 - Chi Square"
   ]
  },
  {
   "cell_type": "code",
   "execution_count": 547,
   "id": "f886fdbd",
   "metadata": {},
   "outputs": [
    {
     "data": {
      "text/html": [
       "<style>\n",
       "table {float:left}\n",
       "</style>\n"
      ],
      "text/plain": [
       "<IPython.core.display.HTML object>"
      ]
     },
     "metadata": {},
     "output_type": "display_data"
    }
   ],
   "source": [
    "%%html\n",
    "<style>\n",
    "table {float:left}\n",
    "</style>"
   ]
  },
  {
   "cell_type": "code",
   "execution_count": 556,
   "id": "2fe9b160",
   "metadata": {},
   "outputs": [],
   "source": [
    "def eval_results(p, alpha, group1, group2):\n",
    "    '''\n",
    "    this function will take in the p-value, alpha, and a name for the 2 variables\n",
    "    you are comparing (group1 and group2) and return a string stating \n",
    "    whether or not there exists a relationship between the 2 groups. \n",
    "    '''\n",
    "    print(p)\n",
    "    if p < alpha:\n",
    "        return f'There exists some relationship between {group1} and {group2}. (p-value: {p:.4f})'\n",
    "    else:\n",
    "        return f'There is not a significant relationship between {group1} and {group2}. (p-value: {p:.4f})'"
   ]
  },
  {
   "cell_type": "markdown",
   "id": "6eaf4735",
   "metadata": {},
   "source": [
    "1. Answer with the type of stats test you would use (assume normal distribution):\n",
    "    - Do students get better test grades if they have a rubber duck on their desk?\n",
    "    - Does smoking affect when or not someone has lung cancer?\n",
    "    - Is gender independent of a person’s blood type?\n",
    "    - A farming company wants to know if a new fertilizer has improved crop yield or not\n",
    "    - Does the length of time of the lecture correlate with a students grade?\n",
    "    - Do people with dogs live in apartments more than people with cats?"
   ]
  },
  {
   "cell_type": "markdown",
   "id": "0117c855",
   "metadata": {},
   "source": [
    "### Students Grades [DISCRETE] & Rubber Duck Owners [DISCRETE]"
   ]
  },
  {
   "cell_type": "code",
   "execution_count": null,
   "id": "a156a747",
   "metadata": {},
   "outputs": [],
   "source": [
    "#\n",
    "#\n",
    "# 1 Tail -- T-Test\n",
    "# (\"Better Test Grades\")\n",
    "#\n",
    "#"
   ]
  },
  {
   "cell_type": "markdown",
   "id": "a2b6dc87",
   "metadata": {},
   "source": [
    "### Smoker [DISCRETE] & Lung Cancer [DISCRETE]"
   ]
  },
  {
   "cell_type": "code",
   "execution_count": null,
   "id": "b3a5e31e",
   "metadata": {},
   "outputs": [],
   "source": [
    "# Chi Square"
   ]
  },
  {
   "cell_type": "markdown",
   "id": "e73a2490",
   "metadata": {},
   "source": [
    "### Gender[DISCRETE] & Blood Type [DISCRETE]"
   ]
  },
  {
   "cell_type": "code",
   "execution_count": null,
   "id": "a3478b4f",
   "metadata": {},
   "outputs": [],
   "source": [
    "# Chi Square"
   ]
  },
  {
   "cell_type": "markdown",
   "id": "8fc3589a",
   "metadata": {},
   "source": [
    "### Fertilizer Type [DISCRETE] & Fertilizer Yield [CONTINOUS]"
   ]
  },
  {
   "cell_type": "code",
   "execution_count": null,
   "id": "0baa9bac",
   "metadata": {},
   "outputs": [],
   "source": [
    "# 1-Tailed -- T-Test\n",
    "# \"Or not\" worse or better\n",
    "# < or >"
   ]
  },
  {
   "cell_type": "markdown",
   "id": "e2c30869",
   "metadata": {},
   "source": [
    "### Lecture Time Length[CONTINOUS] & Student Grade [DISCRETE]"
   ]
  },
  {
   "cell_type": "code",
   "execution_count": 546,
   "id": "5e6be5f6",
   "metadata": {},
   "outputs": [],
   "source": [
    "# Correlation Test\n",
    "#\n",
    "# Pearson R"
   ]
  },
  {
   "cell_type": "markdown",
   "id": "850d4c22",
   "metadata": {},
   "source": [
    "### Dog Owners Mean of Apt vs Cat Owners Mean of Apt"
   ]
  },
  {
   "cell_type": "code",
   "execution_count": null,
   "id": "0d86b851",
   "metadata": {},
   "outputs": [],
   "source": [
    "# CATEGORICAL VS CATEGORICIAL\n",
    "#\n",
    "# CHI SQUARE"
   ]
  },
  {
   "cell_type": "markdown",
   "id": "f380139e",
   "metadata": {},
   "source": [
    "2. Use the following contingency table to help answer the question of whether using a macbook and being a codeup student are independent of each other.\n",
    "\n",
    "\n",
    "|                       | Codeup Student | Not Codeup Student|\n",
    "| --------------------- |----------------|-------------------|\n",
    "| Uses a Macbook        | 49             | 20                |\n",
    "| Doesn't Use A Macbook | 1              | 30                |\n"
   ]
  },
  {
   "cell_type": "code",
   "execution_count": 562,
   "id": "ee1ccfdb",
   "metadata": {},
   "outputs": [],
   "source": [
    "# H0: Macbook vs Codeup Students are independent of each other\n",
    "# HA: Not Independent"
   ]
  },
  {
   "cell_type": "code",
   "execution_count": 498,
   "id": "9ec992db",
   "metadata": {},
   "outputs": [],
   "source": [
    "observed = [[49,20],[1,30]]"
   ]
  },
  {
   "cell_type": "code",
   "execution_count": 502,
   "id": "bc44ac20",
   "metadata": {},
   "outputs": [],
   "source": [
    "observed = pd.DataFrame(observed)"
   ]
  },
  {
   "cell_type": "code",
   "execution_count": 527,
   "id": "62514585",
   "metadata": {},
   "outputs": [],
   "source": [
    "observed.columns=['Codeup_Student','Not_Codeup_Student']\n",
    "observed.index = ['Uses_a_Macbook', 'Doesn\\'t_Use_A_Macbook']\n",
    "observed = observed.rename_axis(\"MacBooks\")\n",
    "observed = observed.rename_axis(\"Students\", axis=\"columns\")"
   ]
  },
  {
   "cell_type": "code",
   "execution_count": 504,
   "id": "bb7149c9",
   "metadata": {},
   "outputs": [
    {
     "name": "stdout",
     "output_type": "stream",
     "text": [
      "Students               Codeup_Student  Not_Codeup_Student\n",
      "MacBooks                                                 \n",
      "Uses_a_Macbook                     49                  20\n",
      "Doesn't_Use_A_Macbook               1                  30\n"
     ]
    }
   ],
   "source": [
    "print(observed)"
   ]
  },
  {
   "cell_type": "code",
   "execution_count": 505,
   "id": "f557300e",
   "metadata": {},
   "outputs": [
    {
     "data": {
      "text/html": [
       "<div>\n",
       "<style scoped>\n",
       "    .dataframe tbody tr th:only-of-type {\n",
       "        vertical-align: middle;\n",
       "    }\n",
       "\n",
       "    .dataframe tbody tr th {\n",
       "        vertical-align: top;\n",
       "    }\n",
       "\n",
       "    .dataframe thead th {\n",
       "        text-align: right;\n",
       "    }\n",
       "</style>\n",
       "<table border=\"1\" class=\"dataframe\">\n",
       "  <thead>\n",
       "    <tr style=\"text-align: right;\">\n",
       "      <th>Students</th>\n",
       "      <th>Codeup_Student</th>\n",
       "      <th>Not_Codeup_Student</th>\n",
       "    </tr>\n",
       "    <tr>\n",
       "      <th>MacBooks</th>\n",
       "      <th></th>\n",
       "      <th></th>\n",
       "    </tr>\n",
       "  </thead>\n",
       "  <tbody>\n",
       "    <tr>\n",
       "      <th>Uses_a_Macbook</th>\n",
       "      <td>49</td>\n",
       "      <td>20</td>\n",
       "    </tr>\n",
       "    <tr>\n",
       "      <th>Doesn't_Use_A_Macbook</th>\n",
       "      <td>1</td>\n",
       "      <td>30</td>\n",
       "    </tr>\n",
       "  </tbody>\n",
       "</table>\n",
       "</div>"
      ],
      "text/plain": [
       "Students               Codeup_Student  Not_Codeup_Student\n",
       "MacBooks                                                 \n",
       "Uses_a_Macbook                     49                  20\n",
       "Doesn't_Use_A_Macbook               1                  30"
      ]
     },
     "execution_count": 505,
     "metadata": {},
     "output_type": "execute_result"
    }
   ],
   "source": [
    "observed"
   ]
  },
  {
   "cell_type": "code",
   "execution_count": 549,
   "id": "fa6f9fb9",
   "metadata": {},
   "outputs": [],
   "source": [
    "chi2, p, degf, expected = stats.chi2_contingency(observed)"
   ]
  },
  {
   "cell_type": "code",
   "execution_count": 550,
   "id": "b7582871",
   "metadata": {},
   "outputs": [
    {
     "data": {
      "text/plain": [
       "(36.65264142122487, 1.4116760526193828e-09)"
      ]
     },
     "execution_count": 550,
     "metadata": {},
     "output_type": "execute_result"
    }
   ],
   "source": [
    "chi2,p"
   ]
  },
  {
   "cell_type": "code",
   "execution_count": 561,
   "id": "8e33d315",
   "metadata": {},
   "outputs": [
    {
     "name": "stdout",
     "output_type": "stream",
     "text": [
      "Reject Null\n"
     ]
    }
   ],
   "source": [
    "alpha = 0.05\n",
    "\n",
    "if p < alpha:\n",
    "    print('Reject Null')\n",
    "else:\n",
    "    print('Failed Reject Null')"
   ]
  },
  {
   "cell_type": "markdown",
   "id": "d1806378",
   "metadata": {},
   "source": [
    "3. Choose another 2 categorical variables from the mpg dataset and perform a $\\chi^2$ (chi square) contingency table test with them. Be sure to state your null and alternative hypotheses."
   ]
  },
  {
   "cell_type": "code",
   "execution_count": 564,
   "id": "960b4a8d",
   "metadata": {},
   "outputs": [],
   "source": [
    "# H0: There is no relationship\n",
    "# HA: There is a relationship"
   ]
  },
  {
   "cell_type": "code",
   "execution_count": 513,
   "id": "ddfbc656",
   "metadata": {},
   "outputs": [],
   "source": [
    "from pydataset import data\n",
    "mpg = data('mpg')"
   ]
  },
  {
   "cell_type": "code",
   "execution_count": 522,
   "id": "2474c334",
   "metadata": {},
   "outputs": [
    {
     "data": {
      "text/html": [
       "<div>\n",
       "<style scoped>\n",
       "    .dataframe tbody tr th:only-of-type {\n",
       "        vertical-align: middle;\n",
       "    }\n",
       "\n",
       "    .dataframe tbody tr th {\n",
       "        vertical-align: top;\n",
       "    }\n",
       "\n",
       "    .dataframe thead th {\n",
       "        text-align: right;\n",
       "    }\n",
       "</style>\n",
       "<table border=\"1\" class=\"dataframe\">\n",
       "  <thead>\n",
       "    <tr style=\"text-align: right;\">\n",
       "      <th></th>\n",
       "      <th>manufacturer</th>\n",
       "      <th>model</th>\n",
       "      <th>displ</th>\n",
       "      <th>year</th>\n",
       "      <th>cyl</th>\n",
       "      <th>trans</th>\n",
       "      <th>drv</th>\n",
       "      <th>cty</th>\n",
       "      <th>hwy</th>\n",
       "      <th>fl</th>\n",
       "      <th>class</th>\n",
       "    </tr>\n",
       "  </thead>\n",
       "  <tbody>\n",
       "    <tr>\n",
       "      <th>1</th>\n",
       "      <td>audi</td>\n",
       "      <td>a4</td>\n",
       "      <td>1.8</td>\n",
       "      <td>1999</td>\n",
       "      <td>4</td>\n",
       "      <td>auto(l5)</td>\n",
       "      <td>f</td>\n",
       "      <td>18</td>\n",
       "      <td>29</td>\n",
       "      <td>p</td>\n",
       "      <td>compact</td>\n",
       "    </tr>\n",
       "    <tr>\n",
       "      <th>2</th>\n",
       "      <td>audi</td>\n",
       "      <td>a4</td>\n",
       "      <td>1.8</td>\n",
       "      <td>1999</td>\n",
       "      <td>4</td>\n",
       "      <td>manual(m5)</td>\n",
       "      <td>f</td>\n",
       "      <td>21</td>\n",
       "      <td>29</td>\n",
       "      <td>p</td>\n",
       "      <td>compact</td>\n",
       "    </tr>\n",
       "    <tr>\n",
       "      <th>3</th>\n",
       "      <td>audi</td>\n",
       "      <td>a4</td>\n",
       "      <td>2.0</td>\n",
       "      <td>2008</td>\n",
       "      <td>4</td>\n",
       "      <td>manual(m6)</td>\n",
       "      <td>f</td>\n",
       "      <td>20</td>\n",
       "      <td>31</td>\n",
       "      <td>p</td>\n",
       "      <td>compact</td>\n",
       "    </tr>\n",
       "    <tr>\n",
       "      <th>4</th>\n",
       "      <td>audi</td>\n",
       "      <td>a4</td>\n",
       "      <td>2.0</td>\n",
       "      <td>2008</td>\n",
       "      <td>4</td>\n",
       "      <td>auto(av)</td>\n",
       "      <td>f</td>\n",
       "      <td>21</td>\n",
       "      <td>30</td>\n",
       "      <td>p</td>\n",
       "      <td>compact</td>\n",
       "    </tr>\n",
       "    <tr>\n",
       "      <th>5</th>\n",
       "      <td>audi</td>\n",
       "      <td>a4</td>\n",
       "      <td>2.8</td>\n",
       "      <td>1999</td>\n",
       "      <td>6</td>\n",
       "      <td>auto(l5)</td>\n",
       "      <td>f</td>\n",
       "      <td>16</td>\n",
       "      <td>26</td>\n",
       "      <td>p</td>\n",
       "      <td>compact</td>\n",
       "    </tr>\n",
       "  </tbody>\n",
       "</table>\n",
       "</div>"
      ],
      "text/plain": [
       "  manufacturer model  displ  year  cyl       trans drv  cty  hwy fl    class\n",
       "1         audi    a4    1.8  1999    4    auto(l5)   f   18   29  p  compact\n",
       "2         audi    a4    1.8  1999    4  manual(m5)   f   21   29  p  compact\n",
       "3         audi    a4    2.0  2008    4  manual(m6)   f   20   31  p  compact\n",
       "4         audi    a4    2.0  2008    4    auto(av)   f   21   30  p  compact\n",
       "5         audi    a4    2.8  1999    6    auto(l5)   f   16   26  p  compact"
      ]
     },
     "execution_count": 522,
     "metadata": {},
     "output_type": "execute_result"
    }
   ],
   "source": [
    "mpg.head()"
   ]
  },
  {
   "cell_type": "code",
   "execution_count": 565,
   "id": "c84ab988",
   "metadata": {},
   "outputs": [
    {
     "data": {
      "text/plain": [
       "manufacturer  model                displ  year  cyl  trans       drv  cty  hwy  fl  class     \n",
       "dodge         ram 1500 pickup 4wd  4.7    2008  8    auto(l5)    4    13   17   r   pickup        2\n",
       "              durango 4wd          4.7    2008  8    auto(l5)    4    13   17   r   suv           2\n",
       "              caravan 2wd          3.3    2008  6    auto(l4)    f    17   24   r   minivan       2\n",
       "              dakota pickup 4wd    4.7    2008  8    auto(l5)    4    14   19   r   pickup        2\n",
       "ford          explorer 4wd         4.0    1999  6    auto(l5)    4    14   17   r   suv           2\n",
       "                                                                                                 ..\n",
       "              mustang              3.8    1999  6    manual(m5)  r    18   26   r   subcompact    1\n",
       "                                   4.0    2008  6    auto(l5)    r    16   24   r   subcompact    1\n",
       "                                                     manual(m5)  r    17   26   r   subcompact    1\n",
       "                                   4.6    1999  8    auto(l4)    r    15   21   r   subcompact    1\n",
       "volkswagen    passat               3.6    2008  6    auto(s6)    f    17   26   p   midsize       1\n",
       "Length: 225, dtype: int64"
      ]
     },
     "execution_count": 565,
     "metadata": {},
     "output_type": "execute_result"
    }
   ],
   "source": [
    "mpg.value_counts()"
   ]
  },
  {
   "cell_type": "code",
   "execution_count": 523,
   "id": "ba91a333",
   "metadata": {},
   "outputs": [],
   "source": [
    "observed_3 = pd.crosstab(mpg['model'], mpg.displ)"
   ]
  },
  {
   "cell_type": "code",
   "execution_count": 524,
   "id": "c413e802",
   "metadata": {},
   "outputs": [
    {
     "data": {
      "text/html": [
       "<div>\n",
       "<style scoped>\n",
       "    .dataframe tbody tr th:only-of-type {\n",
       "        vertical-align: middle;\n",
       "    }\n",
       "\n",
       "    .dataframe tbody tr th {\n",
       "        vertical-align: top;\n",
       "    }\n",
       "\n",
       "    .dataframe thead th {\n",
       "        text-align: right;\n",
       "    }\n",
       "</style>\n",
       "<table border=\"1\" class=\"dataframe\">\n",
       "  <thead>\n",
       "    <tr style=\"text-align: right;\">\n",
       "      <th>displ</th>\n",
       "      <th>1.6</th>\n",
       "      <th>1.8</th>\n",
       "      <th>1.9</th>\n",
       "      <th>2.0</th>\n",
       "      <th>2.2</th>\n",
       "      <th>2.4</th>\n",
       "      <th>2.5</th>\n",
       "      <th>2.7</th>\n",
       "      <th>2.8</th>\n",
       "      <th>3.0</th>\n",
       "      <th>...</th>\n",
       "      <th>5.3</th>\n",
       "      <th>5.4</th>\n",
       "      <th>5.6</th>\n",
       "      <th>5.7</th>\n",
       "      <th>5.9</th>\n",
       "      <th>6.0</th>\n",
       "      <th>6.1</th>\n",
       "      <th>6.2</th>\n",
       "      <th>6.5</th>\n",
       "      <th>7.0</th>\n",
       "    </tr>\n",
       "    <tr>\n",
       "      <th>model</th>\n",
       "      <th></th>\n",
       "      <th></th>\n",
       "      <th></th>\n",
       "      <th></th>\n",
       "      <th></th>\n",
       "      <th></th>\n",
       "      <th></th>\n",
       "      <th></th>\n",
       "      <th></th>\n",
       "      <th></th>\n",
       "      <th></th>\n",
       "      <th></th>\n",
       "      <th></th>\n",
       "      <th></th>\n",
       "      <th></th>\n",
       "      <th></th>\n",
       "      <th></th>\n",
       "      <th></th>\n",
       "      <th></th>\n",
       "      <th></th>\n",
       "      <th></th>\n",
       "    </tr>\n",
       "  </thead>\n",
       "  <tbody>\n",
       "    <tr>\n",
       "      <th>4runner 4wd</th>\n",
       "      <td>0</td>\n",
       "      <td>0</td>\n",
       "      <td>0</td>\n",
       "      <td>0</td>\n",
       "      <td>0</td>\n",
       "      <td>0</td>\n",
       "      <td>0</td>\n",
       "      <td>2</td>\n",
       "      <td>0</td>\n",
       "      <td>0</td>\n",
       "      <td>...</td>\n",
       "      <td>0</td>\n",
       "      <td>0</td>\n",
       "      <td>0</td>\n",
       "      <td>0</td>\n",
       "      <td>0</td>\n",
       "      <td>0</td>\n",
       "      <td>0</td>\n",
       "      <td>0</td>\n",
       "      <td>0</td>\n",
       "      <td>0</td>\n",
       "    </tr>\n",
       "    <tr>\n",
       "      <th>a4</th>\n",
       "      <td>0</td>\n",
       "      <td>2</td>\n",
       "      <td>0</td>\n",
       "      <td>2</td>\n",
       "      <td>0</td>\n",
       "      <td>0</td>\n",
       "      <td>0</td>\n",
       "      <td>0</td>\n",
       "      <td>2</td>\n",
       "      <td>0</td>\n",
       "      <td>...</td>\n",
       "      <td>0</td>\n",
       "      <td>0</td>\n",
       "      <td>0</td>\n",
       "      <td>0</td>\n",
       "      <td>0</td>\n",
       "      <td>0</td>\n",
       "      <td>0</td>\n",
       "      <td>0</td>\n",
       "      <td>0</td>\n",
       "      <td>0</td>\n",
       "    </tr>\n",
       "    <tr>\n",
       "      <th>a4 quattro</th>\n",
       "      <td>0</td>\n",
       "      <td>2</td>\n",
       "      <td>0</td>\n",
       "      <td>2</td>\n",
       "      <td>0</td>\n",
       "      <td>0</td>\n",
       "      <td>0</td>\n",
       "      <td>0</td>\n",
       "      <td>2</td>\n",
       "      <td>0</td>\n",
       "      <td>...</td>\n",
       "      <td>0</td>\n",
       "      <td>0</td>\n",
       "      <td>0</td>\n",
       "      <td>0</td>\n",
       "      <td>0</td>\n",
       "      <td>0</td>\n",
       "      <td>0</td>\n",
       "      <td>0</td>\n",
       "      <td>0</td>\n",
       "      <td>0</td>\n",
       "    </tr>\n",
       "    <tr>\n",
       "      <th>a6 quattro</th>\n",
       "      <td>0</td>\n",
       "      <td>0</td>\n",
       "      <td>0</td>\n",
       "      <td>0</td>\n",
       "      <td>0</td>\n",
       "      <td>0</td>\n",
       "      <td>0</td>\n",
       "      <td>0</td>\n",
       "      <td>1</td>\n",
       "      <td>0</td>\n",
       "      <td>...</td>\n",
       "      <td>0</td>\n",
       "      <td>0</td>\n",
       "      <td>0</td>\n",
       "      <td>0</td>\n",
       "      <td>0</td>\n",
       "      <td>0</td>\n",
       "      <td>0</td>\n",
       "      <td>0</td>\n",
       "      <td>0</td>\n",
       "      <td>0</td>\n",
       "    </tr>\n",
       "    <tr>\n",
       "      <th>altima</th>\n",
       "      <td>0</td>\n",
       "      <td>0</td>\n",
       "      <td>0</td>\n",
       "      <td>0</td>\n",
       "      <td>0</td>\n",
       "      <td>2</td>\n",
       "      <td>2</td>\n",
       "      <td>0</td>\n",
       "      <td>0</td>\n",
       "      <td>0</td>\n",
       "      <td>...</td>\n",
       "      <td>0</td>\n",
       "      <td>0</td>\n",
       "      <td>0</td>\n",
       "      <td>0</td>\n",
       "      <td>0</td>\n",
       "      <td>0</td>\n",
       "      <td>0</td>\n",
       "      <td>0</td>\n",
       "      <td>0</td>\n",
       "      <td>0</td>\n",
       "    </tr>\n",
       "    <tr>\n",
       "      <th>c1500 suburban 2wd</th>\n",
       "      <td>0</td>\n",
       "      <td>0</td>\n",
       "      <td>0</td>\n",
       "      <td>0</td>\n",
       "      <td>0</td>\n",
       "      <td>0</td>\n",
       "      <td>0</td>\n",
       "      <td>0</td>\n",
       "      <td>0</td>\n",
       "      <td>0</td>\n",
       "      <td>...</td>\n",
       "      <td>3</td>\n",
       "      <td>0</td>\n",
       "      <td>0</td>\n",
       "      <td>1</td>\n",
       "      <td>0</td>\n",
       "      <td>1</td>\n",
       "      <td>0</td>\n",
       "      <td>0</td>\n",
       "      <td>0</td>\n",
       "      <td>0</td>\n",
       "    </tr>\n",
       "    <tr>\n",
       "      <th>camry</th>\n",
       "      <td>0</td>\n",
       "      <td>0</td>\n",
       "      <td>0</td>\n",
       "      <td>0</td>\n",
       "      <td>2</td>\n",
       "      <td>2</td>\n",
       "      <td>0</td>\n",
       "      <td>0</td>\n",
       "      <td>0</td>\n",
       "      <td>2</td>\n",
       "      <td>...</td>\n",
       "      <td>0</td>\n",
       "      <td>0</td>\n",
       "      <td>0</td>\n",
       "      <td>0</td>\n",
       "      <td>0</td>\n",
       "      <td>0</td>\n",
       "      <td>0</td>\n",
       "      <td>0</td>\n",
       "      <td>0</td>\n",
       "      <td>0</td>\n",
       "    </tr>\n",
       "    <tr>\n",
       "      <th>camry solara</th>\n",
       "      <td>0</td>\n",
       "      <td>0</td>\n",
       "      <td>0</td>\n",
       "      <td>0</td>\n",
       "      <td>2</td>\n",
       "      <td>2</td>\n",
       "      <td>0</td>\n",
       "      <td>0</td>\n",
       "      <td>0</td>\n",
       "      <td>2</td>\n",
       "      <td>...</td>\n",
       "      <td>0</td>\n",
       "      <td>0</td>\n",
       "      <td>0</td>\n",
       "      <td>0</td>\n",
       "      <td>0</td>\n",
       "      <td>0</td>\n",
       "      <td>0</td>\n",
       "      <td>0</td>\n",
       "      <td>0</td>\n",
       "      <td>0</td>\n",
       "    </tr>\n",
       "    <tr>\n",
       "      <th>caravan 2wd</th>\n",
       "      <td>0</td>\n",
       "      <td>0</td>\n",
       "      <td>0</td>\n",
       "      <td>0</td>\n",
       "      <td>0</td>\n",
       "      <td>1</td>\n",
       "      <td>0</td>\n",
       "      <td>0</td>\n",
       "      <td>0</td>\n",
       "      <td>1</td>\n",
       "      <td>...</td>\n",
       "      <td>0</td>\n",
       "      <td>0</td>\n",
       "      <td>0</td>\n",
       "      <td>0</td>\n",
       "      <td>0</td>\n",
       "      <td>0</td>\n",
       "      <td>0</td>\n",
       "      <td>0</td>\n",
       "      <td>0</td>\n",
       "      <td>0</td>\n",
       "    </tr>\n",
       "    <tr>\n",
       "      <th>civic</th>\n",
       "      <td>5</td>\n",
       "      <td>3</td>\n",
       "      <td>0</td>\n",
       "      <td>1</td>\n",
       "      <td>0</td>\n",
       "      <td>0</td>\n",
       "      <td>0</td>\n",
       "      <td>0</td>\n",
       "      <td>0</td>\n",
       "      <td>0</td>\n",
       "      <td>...</td>\n",
       "      <td>0</td>\n",
       "      <td>0</td>\n",
       "      <td>0</td>\n",
       "      <td>0</td>\n",
       "      <td>0</td>\n",
       "      <td>0</td>\n",
       "      <td>0</td>\n",
       "      <td>0</td>\n",
       "      <td>0</td>\n",
       "      <td>0</td>\n",
       "    </tr>\n",
       "    <tr>\n",
       "      <th>corolla</th>\n",
       "      <td>0</td>\n",
       "      <td>5</td>\n",
       "      <td>0</td>\n",
       "      <td>0</td>\n",
       "      <td>0</td>\n",
       "      <td>0</td>\n",
       "      <td>0</td>\n",
       "      <td>0</td>\n",
       "      <td>0</td>\n",
       "      <td>0</td>\n",
       "      <td>...</td>\n",
       "      <td>0</td>\n",
       "      <td>0</td>\n",
       "      <td>0</td>\n",
       "      <td>0</td>\n",
       "      <td>0</td>\n",
       "      <td>0</td>\n",
       "      <td>0</td>\n",
       "      <td>0</td>\n",
       "      <td>0</td>\n",
       "      <td>0</td>\n",
       "    </tr>\n",
       "    <tr>\n",
       "      <th>corvette</th>\n",
       "      <td>0</td>\n",
       "      <td>0</td>\n",
       "      <td>0</td>\n",
       "      <td>0</td>\n",
       "      <td>0</td>\n",
       "      <td>0</td>\n",
       "      <td>0</td>\n",
       "      <td>0</td>\n",
       "      <td>0</td>\n",
       "      <td>0</td>\n",
       "      <td>...</td>\n",
       "      <td>0</td>\n",
       "      <td>0</td>\n",
       "      <td>0</td>\n",
       "      <td>2</td>\n",
       "      <td>0</td>\n",
       "      <td>0</td>\n",
       "      <td>0</td>\n",
       "      <td>2</td>\n",
       "      <td>0</td>\n",
       "      <td>1</td>\n",
       "    </tr>\n",
       "    <tr>\n",
       "      <th>dakota pickup 4wd</th>\n",
       "      <td>0</td>\n",
       "      <td>0</td>\n",
       "      <td>0</td>\n",
       "      <td>0</td>\n",
       "      <td>0</td>\n",
       "      <td>0</td>\n",
       "      <td>0</td>\n",
       "      <td>0</td>\n",
       "      <td>0</td>\n",
       "      <td>0</td>\n",
       "      <td>...</td>\n",
       "      <td>0</td>\n",
       "      <td>0</td>\n",
       "      <td>0</td>\n",
       "      <td>0</td>\n",
       "      <td>0</td>\n",
       "      <td>0</td>\n",
       "      <td>0</td>\n",
       "      <td>0</td>\n",
       "      <td>0</td>\n",
       "      <td>0</td>\n",
       "    </tr>\n",
       "    <tr>\n",
       "      <th>durango 4wd</th>\n",
       "      <td>0</td>\n",
       "      <td>0</td>\n",
       "      <td>0</td>\n",
       "      <td>0</td>\n",
       "      <td>0</td>\n",
       "      <td>0</td>\n",
       "      <td>0</td>\n",
       "      <td>0</td>\n",
       "      <td>0</td>\n",
       "      <td>0</td>\n",
       "      <td>...</td>\n",
       "      <td>0</td>\n",
       "      <td>0</td>\n",
       "      <td>0</td>\n",
       "      <td>1</td>\n",
       "      <td>1</td>\n",
       "      <td>0</td>\n",
       "      <td>0</td>\n",
       "      <td>0</td>\n",
       "      <td>0</td>\n",
       "      <td>0</td>\n",
       "    </tr>\n",
       "    <tr>\n",
       "      <th>expedition 2wd</th>\n",
       "      <td>0</td>\n",
       "      <td>0</td>\n",
       "      <td>0</td>\n",
       "      <td>0</td>\n",
       "      <td>0</td>\n",
       "      <td>0</td>\n",
       "      <td>0</td>\n",
       "      <td>0</td>\n",
       "      <td>0</td>\n",
       "      <td>0</td>\n",
       "      <td>...</td>\n",
       "      <td>0</td>\n",
       "      <td>2</td>\n",
       "      <td>0</td>\n",
       "      <td>0</td>\n",
       "      <td>0</td>\n",
       "      <td>0</td>\n",
       "      <td>0</td>\n",
       "      <td>0</td>\n",
       "      <td>0</td>\n",
       "      <td>0</td>\n",
       "    </tr>\n",
       "    <tr>\n",
       "      <th>explorer 4wd</th>\n",
       "      <td>0</td>\n",
       "      <td>0</td>\n",
       "      <td>0</td>\n",
       "      <td>0</td>\n",
       "      <td>0</td>\n",
       "      <td>0</td>\n",
       "      <td>0</td>\n",
       "      <td>0</td>\n",
       "      <td>0</td>\n",
       "      <td>0</td>\n",
       "      <td>...</td>\n",
       "      <td>0</td>\n",
       "      <td>0</td>\n",
       "      <td>0</td>\n",
       "      <td>0</td>\n",
       "      <td>0</td>\n",
       "      <td>0</td>\n",
       "      <td>0</td>\n",
       "      <td>0</td>\n",
       "      <td>0</td>\n",
       "      <td>0</td>\n",
       "    </tr>\n",
       "    <tr>\n",
       "      <th>f150 pickup 4wd</th>\n",
       "      <td>0</td>\n",
       "      <td>0</td>\n",
       "      <td>0</td>\n",
       "      <td>0</td>\n",
       "      <td>0</td>\n",
       "      <td>0</td>\n",
       "      <td>0</td>\n",
       "      <td>0</td>\n",
       "      <td>0</td>\n",
       "      <td>0</td>\n",
       "      <td>...</td>\n",
       "      <td>0</td>\n",
       "      <td>2</td>\n",
       "      <td>0</td>\n",
       "      <td>0</td>\n",
       "      <td>0</td>\n",
       "      <td>0</td>\n",
       "      <td>0</td>\n",
       "      <td>0</td>\n",
       "      <td>0</td>\n",
       "      <td>0</td>\n",
       "    </tr>\n",
       "    <tr>\n",
       "      <th>forester awd</th>\n",
       "      <td>0</td>\n",
       "      <td>0</td>\n",
       "      <td>0</td>\n",
       "      <td>0</td>\n",
       "      <td>0</td>\n",
       "      <td>0</td>\n",
       "      <td>6</td>\n",
       "      <td>0</td>\n",
       "      <td>0</td>\n",
       "      <td>0</td>\n",
       "      <td>...</td>\n",
       "      <td>0</td>\n",
       "      <td>0</td>\n",
       "      <td>0</td>\n",
       "      <td>0</td>\n",
       "      <td>0</td>\n",
       "      <td>0</td>\n",
       "      <td>0</td>\n",
       "      <td>0</td>\n",
       "      <td>0</td>\n",
       "      <td>0</td>\n",
       "    </tr>\n",
       "    <tr>\n",
       "      <th>grand cherokee 4wd</th>\n",
       "      <td>0</td>\n",
       "      <td>0</td>\n",
       "      <td>0</td>\n",
       "      <td>0</td>\n",
       "      <td>0</td>\n",
       "      <td>0</td>\n",
       "      <td>0</td>\n",
       "      <td>0</td>\n",
       "      <td>0</td>\n",
       "      <td>1</td>\n",
       "      <td>...</td>\n",
       "      <td>0</td>\n",
       "      <td>0</td>\n",
       "      <td>0</td>\n",
       "      <td>1</td>\n",
       "      <td>0</td>\n",
       "      <td>0</td>\n",
       "      <td>1</td>\n",
       "      <td>0</td>\n",
       "      <td>0</td>\n",
       "      <td>0</td>\n",
       "    </tr>\n",
       "    <tr>\n",
       "      <th>grand prix</th>\n",
       "      <td>0</td>\n",
       "      <td>0</td>\n",
       "      <td>0</td>\n",
       "      <td>0</td>\n",
       "      <td>0</td>\n",
       "      <td>0</td>\n",
       "      <td>0</td>\n",
       "      <td>0</td>\n",
       "      <td>0</td>\n",
       "      <td>0</td>\n",
       "      <td>...</td>\n",
       "      <td>1</td>\n",
       "      <td>0</td>\n",
       "      <td>0</td>\n",
       "      <td>0</td>\n",
       "      <td>0</td>\n",
       "      <td>0</td>\n",
       "      <td>0</td>\n",
       "      <td>0</td>\n",
       "      <td>0</td>\n",
       "      <td>0</td>\n",
       "    </tr>\n",
       "    <tr>\n",
       "      <th>gti</th>\n",
       "      <td>0</td>\n",
       "      <td>0</td>\n",
       "      <td>0</td>\n",
       "      <td>4</td>\n",
       "      <td>0</td>\n",
       "      <td>0</td>\n",
       "      <td>0</td>\n",
       "      <td>0</td>\n",
       "      <td>1</td>\n",
       "      <td>0</td>\n",
       "      <td>...</td>\n",
       "      <td>0</td>\n",
       "      <td>0</td>\n",
       "      <td>0</td>\n",
       "      <td>0</td>\n",
       "      <td>0</td>\n",
       "      <td>0</td>\n",
       "      <td>0</td>\n",
       "      <td>0</td>\n",
       "      <td>0</td>\n",
       "      <td>0</td>\n",
       "    </tr>\n",
       "    <tr>\n",
       "      <th>impreza awd</th>\n",
       "      <td>0</td>\n",
       "      <td>0</td>\n",
       "      <td>0</td>\n",
       "      <td>0</td>\n",
       "      <td>2</td>\n",
       "      <td>0</td>\n",
       "      <td>6</td>\n",
       "      <td>0</td>\n",
       "      <td>0</td>\n",
       "      <td>0</td>\n",
       "      <td>...</td>\n",
       "      <td>0</td>\n",
       "      <td>0</td>\n",
       "      <td>0</td>\n",
       "      <td>0</td>\n",
       "      <td>0</td>\n",
       "      <td>0</td>\n",
       "      <td>0</td>\n",
       "      <td>0</td>\n",
       "      <td>0</td>\n",
       "      <td>0</td>\n",
       "    </tr>\n",
       "    <tr>\n",
       "      <th>jetta</th>\n",
       "      <td>0</td>\n",
       "      <td>0</td>\n",
       "      <td>1</td>\n",
       "      <td>4</td>\n",
       "      <td>0</td>\n",
       "      <td>0</td>\n",
       "      <td>2</td>\n",
       "      <td>0</td>\n",
       "      <td>2</td>\n",
       "      <td>0</td>\n",
       "      <td>...</td>\n",
       "      <td>0</td>\n",
       "      <td>0</td>\n",
       "      <td>0</td>\n",
       "      <td>0</td>\n",
       "      <td>0</td>\n",
       "      <td>0</td>\n",
       "      <td>0</td>\n",
       "      <td>0</td>\n",
       "      <td>0</td>\n",
       "      <td>0</td>\n",
       "    </tr>\n",
       "    <tr>\n",
       "      <th>k1500 tahoe 4wd</th>\n",
       "      <td>0</td>\n",
       "      <td>0</td>\n",
       "      <td>0</td>\n",
       "      <td>0</td>\n",
       "      <td>0</td>\n",
       "      <td>0</td>\n",
       "      <td>0</td>\n",
       "      <td>0</td>\n",
       "      <td>0</td>\n",
       "      <td>0</td>\n",
       "      <td>...</td>\n",
       "      <td>2</td>\n",
       "      <td>0</td>\n",
       "      <td>0</td>\n",
       "      <td>1</td>\n",
       "      <td>0</td>\n",
       "      <td>0</td>\n",
       "      <td>0</td>\n",
       "      <td>0</td>\n",
       "      <td>1</td>\n",
       "      <td>0</td>\n",
       "    </tr>\n",
       "    <tr>\n",
       "      <th>land cruiser wagon 4wd</th>\n",
       "      <td>0</td>\n",
       "      <td>0</td>\n",
       "      <td>0</td>\n",
       "      <td>0</td>\n",
       "      <td>0</td>\n",
       "      <td>0</td>\n",
       "      <td>0</td>\n",
       "      <td>0</td>\n",
       "      <td>0</td>\n",
       "      <td>0</td>\n",
       "      <td>...</td>\n",
       "      <td>0</td>\n",
       "      <td>0</td>\n",
       "      <td>0</td>\n",
       "      <td>1</td>\n",
       "      <td>0</td>\n",
       "      <td>0</td>\n",
       "      <td>0</td>\n",
       "      <td>0</td>\n",
       "      <td>0</td>\n",
       "      <td>0</td>\n",
       "    </tr>\n",
       "    <tr>\n",
       "      <th>malibu</th>\n",
       "      <td>0</td>\n",
       "      <td>0</td>\n",
       "      <td>0</td>\n",
       "      <td>0</td>\n",
       "      <td>0</td>\n",
       "      <td>2</td>\n",
       "      <td>0</td>\n",
       "      <td>0</td>\n",
       "      <td>0</td>\n",
       "      <td>0</td>\n",
       "      <td>...</td>\n",
       "      <td>0</td>\n",
       "      <td>0</td>\n",
       "      <td>0</td>\n",
       "      <td>0</td>\n",
       "      <td>0</td>\n",
       "      <td>0</td>\n",
       "      <td>0</td>\n",
       "      <td>0</td>\n",
       "      <td>0</td>\n",
       "      <td>0</td>\n",
       "    </tr>\n",
       "    <tr>\n",
       "      <th>maxima</th>\n",
       "      <td>0</td>\n",
       "      <td>0</td>\n",
       "      <td>0</td>\n",
       "      <td>0</td>\n",
       "      <td>0</td>\n",
       "      <td>0</td>\n",
       "      <td>0</td>\n",
       "      <td>0</td>\n",
       "      <td>0</td>\n",
       "      <td>2</td>\n",
       "      <td>...</td>\n",
       "      <td>0</td>\n",
       "      <td>0</td>\n",
       "      <td>0</td>\n",
       "      <td>0</td>\n",
       "      <td>0</td>\n",
       "      <td>0</td>\n",
       "      <td>0</td>\n",
       "      <td>0</td>\n",
       "      <td>0</td>\n",
       "      <td>0</td>\n",
       "    </tr>\n",
       "    <tr>\n",
       "      <th>mountaineer 4wd</th>\n",
       "      <td>0</td>\n",
       "      <td>0</td>\n",
       "      <td>0</td>\n",
       "      <td>0</td>\n",
       "      <td>0</td>\n",
       "      <td>0</td>\n",
       "      <td>0</td>\n",
       "      <td>0</td>\n",
       "      <td>0</td>\n",
       "      <td>0</td>\n",
       "      <td>...</td>\n",
       "      <td>0</td>\n",
       "      <td>0</td>\n",
       "      <td>0</td>\n",
       "      <td>0</td>\n",
       "      <td>0</td>\n",
       "      <td>0</td>\n",
       "      <td>0</td>\n",
       "      <td>0</td>\n",
       "      <td>0</td>\n",
       "      <td>0</td>\n",
       "    </tr>\n",
       "    <tr>\n",
       "      <th>mustang</th>\n",
       "      <td>0</td>\n",
       "      <td>0</td>\n",
       "      <td>0</td>\n",
       "      <td>0</td>\n",
       "      <td>0</td>\n",
       "      <td>0</td>\n",
       "      <td>0</td>\n",
       "      <td>0</td>\n",
       "      <td>0</td>\n",
       "      <td>0</td>\n",
       "      <td>...</td>\n",
       "      <td>0</td>\n",
       "      <td>1</td>\n",
       "      <td>0</td>\n",
       "      <td>0</td>\n",
       "      <td>0</td>\n",
       "      <td>0</td>\n",
       "      <td>0</td>\n",
       "      <td>0</td>\n",
       "      <td>0</td>\n",
       "      <td>0</td>\n",
       "    </tr>\n",
       "    <tr>\n",
       "      <th>navigator 2wd</th>\n",
       "      <td>0</td>\n",
       "      <td>0</td>\n",
       "      <td>0</td>\n",
       "      <td>0</td>\n",
       "      <td>0</td>\n",
       "      <td>0</td>\n",
       "      <td>0</td>\n",
       "      <td>0</td>\n",
       "      <td>0</td>\n",
       "      <td>0</td>\n",
       "      <td>...</td>\n",
       "      <td>0</td>\n",
       "      <td>3</td>\n",
       "      <td>0</td>\n",
       "      <td>0</td>\n",
       "      <td>0</td>\n",
       "      <td>0</td>\n",
       "      <td>0</td>\n",
       "      <td>0</td>\n",
       "      <td>0</td>\n",
       "      <td>0</td>\n",
       "    </tr>\n",
       "    <tr>\n",
       "      <th>new beetle</th>\n",
       "      <td>0</td>\n",
       "      <td>0</td>\n",
       "      <td>2</td>\n",
       "      <td>2</td>\n",
       "      <td>0</td>\n",
       "      <td>0</td>\n",
       "      <td>2</td>\n",
       "      <td>0</td>\n",
       "      <td>0</td>\n",
       "      <td>0</td>\n",
       "      <td>...</td>\n",
       "      <td>0</td>\n",
       "      <td>0</td>\n",
       "      <td>0</td>\n",
       "      <td>0</td>\n",
       "      <td>0</td>\n",
       "      <td>0</td>\n",
       "      <td>0</td>\n",
       "      <td>0</td>\n",
       "      <td>0</td>\n",
       "      <td>0</td>\n",
       "    </tr>\n",
       "    <tr>\n",
       "      <th>passat</th>\n",
       "      <td>0</td>\n",
       "      <td>2</td>\n",
       "      <td>0</td>\n",
       "      <td>2</td>\n",
       "      <td>0</td>\n",
       "      <td>0</td>\n",
       "      <td>0</td>\n",
       "      <td>0</td>\n",
       "      <td>2</td>\n",
       "      <td>0</td>\n",
       "      <td>...</td>\n",
       "      <td>0</td>\n",
       "      <td>0</td>\n",
       "      <td>0</td>\n",
       "      <td>0</td>\n",
       "      <td>0</td>\n",
       "      <td>0</td>\n",
       "      <td>0</td>\n",
       "      <td>0</td>\n",
       "      <td>0</td>\n",
       "      <td>0</td>\n",
       "    </tr>\n",
       "    <tr>\n",
       "      <th>pathfinder 4wd</th>\n",
       "      <td>0</td>\n",
       "      <td>0</td>\n",
       "      <td>0</td>\n",
       "      <td>0</td>\n",
       "      <td>0</td>\n",
       "      <td>0</td>\n",
       "      <td>0</td>\n",
       "      <td>0</td>\n",
       "      <td>0</td>\n",
       "      <td>0</td>\n",
       "      <td>...</td>\n",
       "      <td>0</td>\n",
       "      <td>0</td>\n",
       "      <td>1</td>\n",
       "      <td>0</td>\n",
       "      <td>0</td>\n",
       "      <td>0</td>\n",
       "      <td>0</td>\n",
       "      <td>0</td>\n",
       "      <td>0</td>\n",
       "      <td>0</td>\n",
       "    </tr>\n",
       "    <tr>\n",
       "      <th>ram 1500 pickup 4wd</th>\n",
       "      <td>0</td>\n",
       "      <td>0</td>\n",
       "      <td>0</td>\n",
       "      <td>0</td>\n",
       "      <td>0</td>\n",
       "      <td>0</td>\n",
       "      <td>0</td>\n",
       "      <td>0</td>\n",
       "      <td>0</td>\n",
       "      <td>0</td>\n",
       "      <td>...</td>\n",
       "      <td>0</td>\n",
       "      <td>0</td>\n",
       "      <td>0</td>\n",
       "      <td>1</td>\n",
       "      <td>1</td>\n",
       "      <td>0</td>\n",
       "      <td>0</td>\n",
       "      <td>0</td>\n",
       "      <td>0</td>\n",
       "      <td>0</td>\n",
       "    </tr>\n",
       "    <tr>\n",
       "      <th>range rover</th>\n",
       "      <td>0</td>\n",
       "      <td>0</td>\n",
       "      <td>0</td>\n",
       "      <td>0</td>\n",
       "      <td>0</td>\n",
       "      <td>0</td>\n",
       "      <td>0</td>\n",
       "      <td>0</td>\n",
       "      <td>0</td>\n",
       "      <td>0</td>\n",
       "      <td>...</td>\n",
       "      <td>0</td>\n",
       "      <td>0</td>\n",
       "      <td>0</td>\n",
       "      <td>0</td>\n",
       "      <td>0</td>\n",
       "      <td>0</td>\n",
       "      <td>0</td>\n",
       "      <td>0</td>\n",
       "      <td>0</td>\n",
       "      <td>0</td>\n",
       "    </tr>\n",
       "    <tr>\n",
       "      <th>sonata</th>\n",
       "      <td>0</td>\n",
       "      <td>0</td>\n",
       "      <td>0</td>\n",
       "      <td>0</td>\n",
       "      <td>0</td>\n",
       "      <td>4</td>\n",
       "      <td>2</td>\n",
       "      <td>0</td>\n",
       "      <td>0</td>\n",
       "      <td>0</td>\n",
       "      <td>...</td>\n",
       "      <td>0</td>\n",
       "      <td>0</td>\n",
       "      <td>0</td>\n",
       "      <td>0</td>\n",
       "      <td>0</td>\n",
       "      <td>0</td>\n",
       "      <td>0</td>\n",
       "      <td>0</td>\n",
       "      <td>0</td>\n",
       "      <td>0</td>\n",
       "    </tr>\n",
       "    <tr>\n",
       "      <th>tiburon</th>\n",
       "      <td>0</td>\n",
       "      <td>0</td>\n",
       "      <td>0</td>\n",
       "      <td>4</td>\n",
       "      <td>0</td>\n",
       "      <td>0</td>\n",
       "      <td>0</td>\n",
       "      <td>3</td>\n",
       "      <td>0</td>\n",
       "      <td>0</td>\n",
       "      <td>...</td>\n",
       "      <td>0</td>\n",
       "      <td>0</td>\n",
       "      <td>0</td>\n",
       "      <td>0</td>\n",
       "      <td>0</td>\n",
       "      <td>0</td>\n",
       "      <td>0</td>\n",
       "      <td>0</td>\n",
       "      <td>0</td>\n",
       "      <td>0</td>\n",
       "    </tr>\n",
       "    <tr>\n",
       "      <th>toyota tacoma 4wd</th>\n",
       "      <td>0</td>\n",
       "      <td>0</td>\n",
       "      <td>0</td>\n",
       "      <td>0</td>\n",
       "      <td>0</td>\n",
       "      <td>0</td>\n",
       "      <td>0</td>\n",
       "      <td>3</td>\n",
       "      <td>0</td>\n",
       "      <td>0</td>\n",
       "      <td>...</td>\n",
       "      <td>0</td>\n",
       "      <td>0</td>\n",
       "      <td>0</td>\n",
       "      <td>0</td>\n",
       "      <td>0</td>\n",
       "      <td>0</td>\n",
       "      <td>0</td>\n",
       "      <td>0</td>\n",
       "      <td>0</td>\n",
       "      <td>0</td>\n",
       "    </tr>\n",
       "  </tbody>\n",
       "</table>\n",
       "<p>38 rows × 35 columns</p>\n",
       "</div>"
      ],
      "text/plain": [
       "displ                   1.6  1.8  1.9  2.0  2.2  2.4  2.5  2.7  2.8  3.0  ...  \\\n",
       "model                                                                     ...   \n",
       "4runner 4wd               0    0    0    0    0    0    0    2    0    0  ...   \n",
       "a4                        0    2    0    2    0    0    0    0    2    0  ...   \n",
       "a4 quattro                0    2    0    2    0    0    0    0    2    0  ...   \n",
       "a6 quattro                0    0    0    0    0    0    0    0    1    0  ...   \n",
       "altima                    0    0    0    0    0    2    2    0    0    0  ...   \n",
       "c1500 suburban 2wd        0    0    0    0    0    0    0    0    0    0  ...   \n",
       "camry                     0    0    0    0    2    2    0    0    0    2  ...   \n",
       "camry solara              0    0    0    0    2    2    0    0    0    2  ...   \n",
       "caravan 2wd               0    0    0    0    0    1    0    0    0    1  ...   \n",
       "civic                     5    3    0    1    0    0    0    0    0    0  ...   \n",
       "corolla                   0    5    0    0    0    0    0    0    0    0  ...   \n",
       "corvette                  0    0    0    0    0    0    0    0    0    0  ...   \n",
       "dakota pickup 4wd         0    0    0    0    0    0    0    0    0    0  ...   \n",
       "durango 4wd               0    0    0    0    0    0    0    0    0    0  ...   \n",
       "expedition 2wd            0    0    0    0    0    0    0    0    0    0  ...   \n",
       "explorer 4wd              0    0    0    0    0    0    0    0    0    0  ...   \n",
       "f150 pickup 4wd           0    0    0    0    0    0    0    0    0    0  ...   \n",
       "forester awd              0    0    0    0    0    0    6    0    0    0  ...   \n",
       "grand cherokee 4wd        0    0    0    0    0    0    0    0    0    1  ...   \n",
       "grand prix                0    0    0    0    0    0    0    0    0    0  ...   \n",
       "gti                       0    0    0    4    0    0    0    0    1    0  ...   \n",
       "impreza awd               0    0    0    0    2    0    6    0    0    0  ...   \n",
       "jetta                     0    0    1    4    0    0    2    0    2    0  ...   \n",
       "k1500 tahoe 4wd           0    0    0    0    0    0    0    0    0    0  ...   \n",
       "land cruiser wagon 4wd    0    0    0    0    0    0    0    0    0    0  ...   \n",
       "malibu                    0    0    0    0    0    2    0    0    0    0  ...   \n",
       "maxima                    0    0    0    0    0    0    0    0    0    2  ...   \n",
       "mountaineer 4wd           0    0    0    0    0    0    0    0    0    0  ...   \n",
       "mustang                   0    0    0    0    0    0    0    0    0    0  ...   \n",
       "navigator 2wd             0    0    0    0    0    0    0    0    0    0  ...   \n",
       "new beetle                0    0    2    2    0    0    2    0    0    0  ...   \n",
       "passat                    0    2    0    2    0    0    0    0    2    0  ...   \n",
       "pathfinder 4wd            0    0    0    0    0    0    0    0    0    0  ...   \n",
       "ram 1500 pickup 4wd       0    0    0    0    0    0    0    0    0    0  ...   \n",
       "range rover               0    0    0    0    0    0    0    0    0    0  ...   \n",
       "sonata                    0    0    0    0    0    4    2    0    0    0  ...   \n",
       "tiburon                   0    0    0    4    0    0    0    3    0    0  ...   \n",
       "toyota tacoma 4wd         0    0    0    0    0    0    0    3    0    0  ...   \n",
       "\n",
       "displ                   5.3  5.4  5.6  5.7  5.9  6.0  6.1  6.2  6.5  7.0  \n",
       "model                                                                     \n",
       "4runner 4wd               0    0    0    0    0    0    0    0    0    0  \n",
       "a4                        0    0    0    0    0    0    0    0    0    0  \n",
       "a4 quattro                0    0    0    0    0    0    0    0    0    0  \n",
       "a6 quattro                0    0    0    0    0    0    0    0    0    0  \n",
       "altima                    0    0    0    0    0    0    0    0    0    0  \n",
       "c1500 suburban 2wd        3    0    0    1    0    1    0    0    0    0  \n",
       "camry                     0    0    0    0    0    0    0    0    0    0  \n",
       "camry solara              0    0    0    0    0    0    0    0    0    0  \n",
       "caravan 2wd               0    0    0    0    0    0    0    0    0    0  \n",
       "civic                     0    0    0    0    0    0    0    0    0    0  \n",
       "corolla                   0    0    0    0    0    0    0    0    0    0  \n",
       "corvette                  0    0    0    2    0    0    0    2    0    1  \n",
       "dakota pickup 4wd         0    0    0    0    0    0    0    0    0    0  \n",
       "durango 4wd               0    0    0    1    1    0    0    0    0    0  \n",
       "expedition 2wd            0    2    0    0    0    0    0    0    0    0  \n",
       "explorer 4wd              0    0    0    0    0    0    0    0    0    0  \n",
       "f150 pickup 4wd           0    2    0    0    0    0    0    0    0    0  \n",
       "forester awd              0    0    0    0    0    0    0    0    0    0  \n",
       "grand cherokee 4wd        0    0    0    1    0    0    1    0    0    0  \n",
       "grand prix                1    0    0    0    0    0    0    0    0    0  \n",
       "gti                       0    0    0    0    0    0    0    0    0    0  \n",
       "impreza awd               0    0    0    0    0    0    0    0    0    0  \n",
       "jetta                     0    0    0    0    0    0    0    0    0    0  \n",
       "k1500 tahoe 4wd           2    0    0    1    0    0    0    0    1    0  \n",
       "land cruiser wagon 4wd    0    0    0    1    0    0    0    0    0    0  \n",
       "malibu                    0    0    0    0    0    0    0    0    0    0  \n",
       "maxima                    0    0    0    0    0    0    0    0    0    0  \n",
       "mountaineer 4wd           0    0    0    0    0    0    0    0    0    0  \n",
       "mustang                   0    1    0    0    0    0    0    0    0    0  \n",
       "navigator 2wd             0    3    0    0    0    0    0    0    0    0  \n",
       "new beetle                0    0    0    0    0    0    0    0    0    0  \n",
       "passat                    0    0    0    0    0    0    0    0    0    0  \n",
       "pathfinder 4wd            0    0    1    0    0    0    0    0    0    0  \n",
       "ram 1500 pickup 4wd       0    0    0    1    1    0    0    0    0    0  \n",
       "range rover               0    0    0    0    0    0    0    0    0    0  \n",
       "sonata                    0    0    0    0    0    0    0    0    0    0  \n",
       "tiburon                   0    0    0    0    0    0    0    0    0    0  \n",
       "toyota tacoma 4wd         0    0    0    0    0    0    0    0    0    0  \n",
       "\n",
       "[38 rows x 35 columns]"
      ]
     },
     "execution_count": 524,
     "metadata": {},
     "output_type": "execute_result"
    }
   ],
   "source": [
    "observed_3"
   ]
  },
  {
   "cell_type": "code",
   "execution_count": 558,
   "id": "7cc6d390",
   "metadata": {},
   "outputs": [],
   "source": [
    "chi2, p, degf, expected = stats.chi2_contingency(observed)"
   ]
  },
  {
   "cell_type": "code",
   "execution_count": 559,
   "id": "a20cfb7d",
   "metadata": {
    "scrolled": true
   },
   "outputs": [
    {
     "name": "stdout",
     "output_type": "stream",
     "text": [
      "Reject Null\n"
     ]
    }
   ],
   "source": [
    "alpha = 0.05\n",
    "if p < alpha:\n",
    "    print('Reject Null')\n",
    "else:\n",
    "    print('Failed Reject Null')"
   ]
  },
  {
   "cell_type": "markdown",
   "id": "851cdde7",
   "metadata": {},
   "source": [
    "### Use the data from the employees database to answer these questions:\n",
    "\n",
    "- Is an employee's gender independent of whether an employee works in sales or marketing? (only look at current employees)\n",
    "- Is an employee's gender independent of whether or not they are or have been a manager?"
   ]
  },
  {
   "cell_type": "markdown",
   "id": "a70966fd",
   "metadata": {},
   "source": [
    "### Employee Gender [DISCRETE] &  Department Name [DISCRETE]"
   ]
  },
  {
   "cell_type": "code",
   "execution_count": null,
   "id": "9bb9a7f2",
   "metadata": {},
   "outputs": [],
   "source": [
    "# H0: There is no relationship\n",
    "# HA: There is a relationship"
   ]
  },
  {
   "cell_type": "code",
   "execution_count": 531,
   "id": "96231275",
   "metadata": {},
   "outputs": [],
   "source": [
    "url = env.get_db_url('employees')"
   ]
  },
  {
   "cell_type": "code",
   "execution_count": 532,
   "id": "46a76c11",
   "metadata": {},
   "outputs": [],
   "source": [
    "sql_query = (\n",
    "'''\n",
    "    SELECT\n",
    "    first_name, last_name, gender, hire_date, de.to_date, dept_name\n",
    "FROM \n",
    "    employees AS e\n",
    "JOIN \n",
    "    dept_emp AS de USING(emp_no)\n",
    "JOIN \n",
    "    departments as d USING(dept_no)\n",
    "WHERE\n",
    "    (dept_name LIKE \"Sales\"\n",
    "        OR\n",
    "            dept_name LIKE \"Marketing\")\n",
    "    AND\n",
    "    (de.to_date > now())\n",
    "ORDER BY \n",
    "    hire_date DESC, last_name ASC, first_name ASC\n",
    "'''\n",
    ")"
   ]
  },
  {
   "cell_type": "code",
   "execution_count": 542,
   "id": "874d1947",
   "metadata": {},
   "outputs": [],
   "source": [
    "employees_gender_dept = pd.read_sql(sql_query, url)"
   ]
  },
  {
   "cell_type": "code",
   "execution_count": 566,
   "id": "d40bed09",
   "metadata": {},
   "outputs": [
    {
     "data": {
      "text/html": [
       "<div>\n",
       "<style scoped>\n",
       "    .dataframe tbody tr th:only-of-type {\n",
       "        vertical-align: middle;\n",
       "    }\n",
       "\n",
       "    .dataframe tbody tr th {\n",
       "        vertical-align: top;\n",
       "    }\n",
       "\n",
       "    .dataframe thead th {\n",
       "        text-align: right;\n",
       "    }\n",
       "</style>\n",
       "<table border=\"1\" class=\"dataframe\">\n",
       "  <thead>\n",
       "    <tr style=\"text-align: right;\">\n",
       "      <th></th>\n",
       "      <th>first_name</th>\n",
       "      <th>last_name</th>\n",
       "      <th>gender</th>\n",
       "      <th>hire_date</th>\n",
       "      <th>to_date</th>\n",
       "      <th>dept_name</th>\n",
       "    </tr>\n",
       "  </thead>\n",
       "  <tbody>\n",
       "    <tr>\n",
       "      <th>0</th>\n",
       "      <td>Xuejun</td>\n",
       "      <td>Benzmuller</td>\n",
       "      <td>F</td>\n",
       "      <td>2000-01-04</td>\n",
       "      <td>9999-01-01</td>\n",
       "      <td>Marketing</td>\n",
       "    </tr>\n",
       "    <tr>\n",
       "      <th>1</th>\n",
       "      <td>Adil</td>\n",
       "      <td>Siepmann</td>\n",
       "      <td>F</td>\n",
       "      <td>1999-12-31</td>\n",
       "      <td>9999-01-01</td>\n",
       "      <td>Sales</td>\n",
       "    </tr>\n",
       "    <tr>\n",
       "      <th>2</th>\n",
       "      <td>Mang</td>\n",
       "      <td>Kohling</td>\n",
       "      <td>F</td>\n",
       "      <td>1999-12-28</td>\n",
       "      <td>9999-01-01</td>\n",
       "      <td>Sales</td>\n",
       "    </tr>\n",
       "  </tbody>\n",
       "</table>\n",
       "</div>"
      ],
      "text/plain": [
       "  first_name   last_name gender   hire_date     to_date  dept_name\n",
       "0     Xuejun  Benzmuller      F  2000-01-04  9999-01-01  Marketing\n",
       "1       Adil    Siepmann      F  1999-12-31  9999-01-01      Sales\n",
       "2       Mang     Kohling      F  1999-12-28  9999-01-01      Sales"
      ]
     },
     "execution_count": 566,
     "metadata": {},
     "output_type": "execute_result"
    }
   ],
   "source": [
    "employees_gender_dept.head(3)"
   ]
  },
  {
   "cell_type": "code",
   "execution_count": 568,
   "id": "38f95fa6",
   "metadata": {},
   "outputs": [],
   "source": [
    "observed_employees = pd.crosstab(employees_gender_dept['gender'], employees_gender_dept['dept_name'])"
   ]
  },
  {
   "cell_type": "code",
   "execution_count": 569,
   "id": "161ba4fd",
   "metadata": {
    "scrolled": true
   },
   "outputs": [
    {
     "data": {
      "text/html": [
       "<div>\n",
       "<style scoped>\n",
       "    .dataframe tbody tr th:only-of-type {\n",
       "        vertical-align: middle;\n",
       "    }\n",
       "\n",
       "    .dataframe tbody tr th {\n",
       "        vertical-align: top;\n",
       "    }\n",
       "\n",
       "    .dataframe thead th {\n",
       "        text-align: right;\n",
       "    }\n",
       "</style>\n",
       "<table border=\"1\" class=\"dataframe\">\n",
       "  <thead>\n",
       "    <tr style=\"text-align: right;\">\n",
       "      <th>dept_name</th>\n",
       "      <th>Marketing</th>\n",
       "      <th>Sales</th>\n",
       "    </tr>\n",
       "    <tr>\n",
       "      <th>gender</th>\n",
       "      <th></th>\n",
       "      <th></th>\n",
       "    </tr>\n",
       "  </thead>\n",
       "  <tbody>\n",
       "    <tr>\n",
       "      <th>F</th>\n",
       "      <td>5864</td>\n",
       "      <td>14999</td>\n",
       "    </tr>\n",
       "    <tr>\n",
       "      <th>M</th>\n",
       "      <td>8978</td>\n",
       "      <td>22702</td>\n",
       "    </tr>\n",
       "  </tbody>\n",
       "</table>\n",
       "</div>"
      ],
      "text/plain": [
       "dept_name  Marketing  Sales\n",
       "gender                     \n",
       "F               5864  14999\n",
       "M               8978  22702"
      ]
     },
     "execution_count": 569,
     "metadata": {},
     "output_type": "execute_result"
    }
   ],
   "source": [
    "observed_employees"
   ]
  },
  {
   "cell_type": "code",
   "execution_count": 574,
   "id": "d68e3c6d",
   "metadata": {},
   "outputs": [],
   "source": [
    "chi2, p, degf, expected = stats.chi2_contingency(observed_employees)"
   ]
  },
  {
   "cell_type": "code",
   "execution_count": 575,
   "id": "9f6a86ae",
   "metadata": {
    "scrolled": true
   },
   "outputs": [
    {
     "data": {
      "text/plain": [
       "array([[ 5893.2426013, 14969.7573987],\n",
       "       [ 8948.7573987, 22731.2426013]])"
      ]
     },
     "execution_count": 575,
     "metadata": {},
     "output_type": "execute_result"
    }
   ],
   "source": [
    "expected"
   ]
  },
  {
   "cell_type": "code",
   "execution_count": 576,
   "id": "fc70760d",
   "metadata": {},
   "outputs": [
    {
     "name": "stdout",
     "output_type": "stream",
     "text": [
      "Failed Reject Null\n"
     ]
    }
   ],
   "source": [
    "alpha = 0.05\n",
    "if p < alpha:\n",
    "    print('Reject Null')\n",
    "else:\n",
    "    print('Failed Reject Null')"
   ]
  },
  {
   "cell_type": "code",
   "execution_count": 577,
   "id": "a149a95d",
   "metadata": {},
   "outputs": [
    {
     "name": "stdout",
     "output_type": "stream",
     "text": [
      "0.5691938610810126\n"
     ]
    },
    {
     "data": {
      "text/plain": [
       "'There is not a significant relationship between Gender and Department. (p-value: 0.5692)'"
      ]
     },
     "execution_count": 577,
     "metadata": {},
     "output_type": "execute_result"
    }
   ],
   "source": [
    "alpha = 0.05\n",
    "eval_results(p, alpha, group1='Gender', group2='Department')"
   ]
  },
  {
   "cell_type": "markdown",
   "id": "1dba8283",
   "metadata": {},
   "source": [
    "### Employee Gender [DISCRETE] & Manager [DISCRETE]"
   ]
  },
  {
   "cell_type": "code",
   "execution_count": 578,
   "id": "d55b095e",
   "metadata": {},
   "outputs": [],
   "source": [
    "sql_query = (\n",
    "'''\n",
    "  SELECT\n",
    "    gender, dept_no\n",
    "FROM \n",
    "    employees AS e\n",
    "LEFT JOIN \n",
    "    dept_manager USING(emp_no)\n",
    "'''\n",
    ")"
   ]
  },
  {
   "cell_type": "code",
   "execution_count": 579,
   "id": "306c994a",
   "metadata": {},
   "outputs": [],
   "source": [
    "observed_employees_managers = pd.read_sql(sql_query, url)"
   ]
  },
  {
   "cell_type": "code",
   "execution_count": 581,
   "id": "ba51ad1c",
   "metadata": {},
   "outputs": [
    {
     "data": {
      "text/plain": [
       "d004    4\n",
       "d006    4\n",
       "d009    4\n",
       "d001    2\n",
       "d002    2\n",
       "d003    2\n",
       "d005    2\n",
       "d007    2\n",
       "d008    2\n",
       "Name: dept_no, dtype: int64"
      ]
     },
     "execution_count": 581,
     "metadata": {},
     "output_type": "execute_result"
    }
   ],
   "source": [
    "observed_employees_managers['dept_no'].value_counts()"
   ]
  },
  {
   "cell_type": "code",
   "execution_count": 580,
   "id": "f6fe2d9e",
   "metadata": {},
   "outputs": [
    {
     "data": {
      "text/html": [
       "<div>\n",
       "<style scoped>\n",
       "    .dataframe tbody tr th:only-of-type {\n",
       "        vertical-align: middle;\n",
       "    }\n",
       "\n",
       "    .dataframe tbody tr th {\n",
       "        vertical-align: top;\n",
       "    }\n",
       "\n",
       "    .dataframe thead th {\n",
       "        text-align: right;\n",
       "    }\n",
       "</style>\n",
       "<table border=\"1\" class=\"dataframe\">\n",
       "  <thead>\n",
       "    <tr style=\"text-align: right;\">\n",
       "      <th></th>\n",
       "      <th>gender</th>\n",
       "      <th>dept_no</th>\n",
       "    </tr>\n",
       "  </thead>\n",
       "  <tbody>\n",
       "    <tr>\n",
       "      <th>0</th>\n",
       "      <td>M</td>\n",
       "      <td>None</td>\n",
       "    </tr>\n",
       "    <tr>\n",
       "      <th>1</th>\n",
       "      <td>F</td>\n",
       "      <td>None</td>\n",
       "    </tr>\n",
       "    <tr>\n",
       "      <th>2</th>\n",
       "      <td>M</td>\n",
       "      <td>None</td>\n",
       "    </tr>\n",
       "    <tr>\n",
       "      <th>3</th>\n",
       "      <td>M</td>\n",
       "      <td>None</td>\n",
       "    </tr>\n",
       "    <tr>\n",
       "      <th>4</th>\n",
       "      <td>M</td>\n",
       "      <td>None</td>\n",
       "    </tr>\n",
       "  </tbody>\n",
       "</table>\n",
       "</div>"
      ],
      "text/plain": [
       "  gender dept_no\n",
       "0      M    None\n",
       "1      F    None\n",
       "2      M    None\n",
       "3      M    None\n",
       "4      M    None"
      ]
     },
     "execution_count": 580,
     "metadata": {},
     "output_type": "execute_result"
    }
   ],
   "source": [
    "observed_employees_managers.head()"
   ]
  },
  {
   "cell_type": "code",
   "execution_count": 584,
   "id": "6c9a19d6",
   "metadata": {},
   "outputs": [
    {
     "data": {
      "text/plain": [
       "array(['No', 'No', 'No', ..., 'No', 'No', 'No'], dtype='<U3')"
      ]
     },
     "execution_count": 584,
     "metadata": {},
     "output_type": "execute_result"
    }
   ],
   "source": [
    "np.where(observed_employees_managers['dept_no'].isna(),'No','Yes')"
   ]
  },
  {
   "cell_type": "code",
   "execution_count": 585,
   "id": "ee04a382",
   "metadata": {},
   "outputs": [],
   "source": [
    "observed_employees_managers['is_manager']=np.where(observed_employees_managers['dept_no'].isna(),'No','Yes')"
   ]
  },
  {
   "cell_type": "code",
   "execution_count": null,
   "id": "06940cfa",
   "metadata": {},
   "outputs": [],
   "source": [
    "np.where(observed_employees_managers['dept_no'].isna(),'No','Yes')"
   ]
  },
  {
   "cell_type": "code",
   "execution_count": 586,
   "id": "fed625f9",
   "metadata": {},
   "outputs": [
    {
     "data": {
      "text/html": [
       "<div>\n",
       "<style scoped>\n",
       "    .dataframe tbody tr th:only-of-type {\n",
       "        vertical-align: middle;\n",
       "    }\n",
       "\n",
       "    .dataframe tbody tr th {\n",
       "        vertical-align: top;\n",
       "    }\n",
       "\n",
       "    .dataframe thead th {\n",
       "        text-align: right;\n",
       "    }\n",
       "</style>\n",
       "<table border=\"1\" class=\"dataframe\">\n",
       "  <thead>\n",
       "    <tr style=\"text-align: right;\">\n",
       "      <th></th>\n",
       "      <th>gender</th>\n",
       "      <th>dept_no</th>\n",
       "      <th>is_manager</th>\n",
       "    </tr>\n",
       "  </thead>\n",
       "  <tbody>\n",
       "    <tr>\n",
       "      <th>0</th>\n",
       "      <td>M</td>\n",
       "      <td>None</td>\n",
       "      <td>No</td>\n",
       "    </tr>\n",
       "    <tr>\n",
       "      <th>1</th>\n",
       "      <td>F</td>\n",
       "      <td>None</td>\n",
       "      <td>No</td>\n",
       "    </tr>\n",
       "    <tr>\n",
       "      <th>2</th>\n",
       "      <td>M</td>\n",
       "      <td>None</td>\n",
       "      <td>No</td>\n",
       "    </tr>\n",
       "    <tr>\n",
       "      <th>3</th>\n",
       "      <td>M</td>\n",
       "      <td>None</td>\n",
       "      <td>No</td>\n",
       "    </tr>\n",
       "    <tr>\n",
       "      <th>4</th>\n",
       "      <td>M</td>\n",
       "      <td>None</td>\n",
       "      <td>No</td>\n",
       "    </tr>\n",
       "  </tbody>\n",
       "</table>\n",
       "</div>"
      ],
      "text/plain": [
       "  gender dept_no is_manager\n",
       "0      M    None         No\n",
       "1      F    None         No\n",
       "2      M    None         No\n",
       "3      M    None         No\n",
       "4      M    None         No"
      ]
     },
     "execution_count": 586,
     "metadata": {},
     "output_type": "execute_result"
    }
   ],
   "source": [
    "observed_employees_managers.head()"
   ]
  },
  {
   "cell_type": "code",
   "execution_count": 587,
   "id": "5dee43ad",
   "metadata": {},
   "outputs": [
    {
     "data": {
      "text/html": [
       "<div>\n",
       "<style scoped>\n",
       "    .dataframe tbody tr th:only-of-type {\n",
       "        vertical-align: middle;\n",
       "    }\n",
       "\n",
       "    .dataframe tbody tr th {\n",
       "        vertical-align: top;\n",
       "    }\n",
       "\n",
       "    .dataframe thead th {\n",
       "        text-align: right;\n",
       "    }\n",
       "</style>\n",
       "<table border=\"1\" class=\"dataframe\">\n",
       "  <thead>\n",
       "    <tr style=\"text-align: right;\">\n",
       "      <th>is_manager</th>\n",
       "      <th>No</th>\n",
       "      <th>Yes</th>\n",
       "    </tr>\n",
       "    <tr>\n",
       "      <th>gender</th>\n",
       "      <th></th>\n",
       "      <th></th>\n",
       "    </tr>\n",
       "  </thead>\n",
       "  <tbody>\n",
       "    <tr>\n",
       "      <th>F</th>\n",
       "      <td>120038</td>\n",
       "      <td>13</td>\n",
       "    </tr>\n",
       "    <tr>\n",
       "      <th>M</th>\n",
       "      <td>179962</td>\n",
       "      <td>11</td>\n",
       "    </tr>\n",
       "  </tbody>\n",
       "</table>\n",
       "</div>"
      ],
      "text/plain": [
       "is_manager      No  Yes\n",
       "gender                 \n",
       "F           120038   13\n",
       "M           179962   11"
      ]
     },
     "execution_count": 587,
     "metadata": {},
     "output_type": "execute_result"
    }
   ],
   "source": [
    "pd.crosstab(observed_employees_managers['gender'],observed_employees_managers['is_manager'])"
   ]
  },
  {
   "cell_type": "code",
   "execution_count": 588,
   "id": "684ab9c6",
   "metadata": {},
   "outputs": [],
   "source": [
    "chi2, p, degf, expected = stats.chi2_contingency(observed_employees)"
   ]
  },
  {
   "cell_type": "markdown",
   "id": "a07bf00c",
   "metadata": {},
   "source": [
    "### If Statement"
   ]
  },
  {
   "cell_type": "code",
   "execution_count": 591,
   "id": "5b27f196",
   "metadata": {},
   "outputs": [
    {
     "name": "stdout",
     "output_type": "stream",
     "text": [
      "Failed Reject Null (Null Possibly True)\n"
     ]
    }
   ],
   "source": [
    "alpha = 0.05\n",
    "if p < alpha:\n",
    "    print('Reject Null')\n",
    "else:\n",
    "    print('Failed Reject Null (Null Possibly True)')"
   ]
  },
  {
   "cell_type": "markdown",
   "id": "61863c87",
   "metadata": {},
   "source": [
    "### Maggie Test Evaluation Function"
   ]
  },
  {
   "cell_type": "code",
   "execution_count": 590,
   "id": "2e81b08e",
   "metadata": {},
   "outputs": [
    {
     "name": "stdout",
     "output_type": "stream",
     "text": [
      "0.5691938610810126\n"
     ]
    },
    {
     "data": {
      "text/plain": [
       "'There is not a significant relationship between Gender and Department. (p-value: 0.5692)'"
      ]
     },
     "execution_count": 590,
     "metadata": {},
     "output_type": "execute_result"
    }
   ],
   "source": [
    "alpha = 0.05\n",
    "eval_results(p, alpha, group1='Gender', group2='Department')"
   ]
  },
  {
   "cell_type": "code",
   "execution_count": null,
   "id": "365a6fea",
   "metadata": {},
   "outputs": [],
   "source": [
    "# H0: There is no relationship\n",
    "# HA: There is a relationship"
   ]
  }
 ],
 "metadata": {
  "kernelspec": {
   "display_name": "Python 3 (ipykernel)",
   "language": "python",
   "name": "python3"
  },
  "language_info": {
   "codemirror_mode": {
    "name": "ipython",
    "version": 3
   },
   "file_extension": ".py",
   "mimetype": "text/x-python",
   "name": "python",
   "nbconvert_exporter": "python",
   "pygments_lexer": "ipython3",
   "version": "3.9.13"
  }
 },
 "nbformat": 4,
 "nbformat_minor": 5
}
