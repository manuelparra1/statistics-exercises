{
 "cells": [
  {
   "cell_type": "markdown",
   "id": "7719210e",
   "metadata": {},
   "source": [
    "|             | $H_{0}$ is True   | $H_{0}$ is False   |\n",
    "| ----------- | :---              |           ---:     |\n",
    "| Accept H(0) | True Negative     | False Positive     |\n",
    "| Reject H(0) | False Negative    | True Positive      |"
   ]
  },
  {
   "cell_type": "markdown",
   "id": "6af8b00e",
   "metadata": {},
   "source": [
    "Null:                     $H_{0}$\n",
    "\n",
    "Alternative Hypothesis:   $H_{A}$\n",
    "    \n",
    "True Positive:            $H_{0} = TRUE$\n",
    "\n",
    "True Negative:            $H_{0} = TRUE$\n",
    "\n",
    "Type I(False Positive):   $H(FP)$\n",
    "\n",
    "Type II(False Negative):  $H(FN)$"
   ]
  },
  {
   "cell_type": "markdown",
   "id": "34eb87ab",
   "metadata": {},
   "source": [
    "<div class=\"alert alert-block alert-info\">\n",
    "\n",
    "# **Hypothesis**\n",
    "\n",
    "### Cases\n",
    "- No Change\n",
    "- Increased\n",
    "- Decreased\n",
    "</div>"
   ]
  },
  {
   "cell_type": "markdown",
   "id": "7ddfe196",
   "metadata": {},
   "source": [
    "# For each of the following questions,\n",
    "- formulate a null and \n",
    "- alternative hypothesis (be as specific as you can be),\n",
    "- then give an example of what a true positive, \n",
    "- true negative, \n",
    "- type I and \n",
    "- type II errors would look like.\n",
    "\n",
    "Note that some of the questions are intentionally phrased in a vague way.\n",
    "It is your job to reword these as more precise questions that could be tested."
   ]
  },
  {
   "cell_type": "markdown",
   "id": "9679159d",
   "metadata": {},
   "source": [
    "Has the network latency gone up since we switched internet service providers?"
   ]
  },
  {
   "cell_type": "code",
   "execution_count": 1,
   "id": "2b198380",
   "metadata": {},
   "outputs": [],
   "source": [
    "# Null = Latency has remained the same or worse\n",
    "# Alt  = Latency has increased.\n",
    "\n",
    "# True Positive = Rejected Null & Null = False\n",
    "# True Negative = \n",
    "# Type I\n",
    "# Type II"
   ]
  },
  {
   "cell_type": "markdown",
   "id": "50423b33",
   "metadata": {},
   "source": [
    "Is the website redesign any good?"
   ]
  },
  {
   "cell_type": "code",
   "execution_count": 4,
   "id": "437bf314",
   "metadata": {},
   "outputs": [],
   "source": [
    "# Null = Traffic is the same or lower\n",
    "# Null = Traffic increased\n",
    "\n",
    "# True Positive =\n",
    "# True Negative = \n",
    "# False Positive = H(0) Higher Click Rate but there was not\n",
    "# Flase Neg = H(0) No increase but actually there was\n",
    "# Type I\n",
    "# Type II"
   ]
  },
  {
   "cell_type": "markdown",
   "id": "a837b509",
   "metadata": {},
   "source": [
    "Is our television ad driving more sales?"
   ]
  },
  {
   "cell_type": "code",
   "execution_count": null,
   "id": "f201e6f5",
   "metadata": {},
   "outputs": [],
   "source": [
    "# H(0) = Sales stayed the same or lower\n",
    "# H(A) = Sales increased\n",
    "\n",
    "# True Positive =\n",
    "# True Negative = \n",
    "# Type I\n",
    "# Type II"
   ]
  },
  {
   "cell_type": "markdown",
   "id": "92a617c8",
   "metadata": {},
   "source": [
    "# Exercises II"
   ]
  },
  {
   "cell_type": "markdown",
   "id": "14404e4f",
   "metadata": {},
   "source": [
    "#### Answer with the type of test you would use (assume normal distribution):"
   ]
  },
  {
   "cell_type": "markdown",
   "id": "b7d07c12",
   "metadata": {},
   "source": [
    "- Is there a difference in grades of students on the second floor compared to grades of all students?"
   ]
  },
  {
   "cell_type": "code",
   "execution_count": null,
   "id": "0af730f9",
   "metadata": {},
   "outputs": [],
   "source": [
    "students_grades_first != stundents_grades_second"
   ]
  },
  {
   "cell_type": "markdown",
   "id": "eba4cac8",
   "metadata": {},
   "source": [
    "- Are adults who drink milk taller than adults who dont drink milk?"
   ]
  },
  {
   "cell_type": "code",
   "execution_count": null,
   "id": "51f9dd8f",
   "metadata": {},
   "outputs": [],
   "source": [
    "adult_milk_height > adult_no_milk_height"
   ]
  },
  {
   "cell_type": "markdown",
   "id": "1df61b86",
   "metadata": {},
   "source": [
    "- Is the the price of gas higher in texas or in new mexico?"
   ]
  },
  {
   "cell_type": "code",
   "execution_count": null,
   "id": "46828018",
   "metadata": {},
   "outputs": [],
   "source": [
    "gas_price < tx_gas  |  gas_price < nm_gas"
   ]
  },
  {
   "cell_type": "markdown",
   "id": "b8b2977e",
   "metadata": {},
   "source": [
    "- Are there differences in stress levels between students who take data science vs students who take web development vs students who take cloud academy?"
   ]
  },
  {
   "cell_type": "code",
   "execution_count": null,
   "id": "b3e5adee",
   "metadata": {},
   "outputs": [],
   "source": [
    "students_ds_stress != students_wd_stress != students_ca_stress"
   ]
  },
  {
   "cell_type": "markdown",
   "id": "c6460015",
   "metadata": {},
   "source": [
    "#### Ace Realty wants to determine whether the average time it takes to sell homes is different for its two offices. A sample of 40 sales from office #1 revealed a mean of 90 days and a standard deviation of 15 days. A sample of 50 sales from office #2 revealed a mean of 100 days and a standard deviation of 20 days. Use a .05 level of significance."
   ]
  },
  {
   "cell_type": "code",
   "execution_count": null,
   "id": "5a3cc067",
   "metadata": {},
   "outputs": [],
   "source": [
    "ace_realty_office_1_sells_mean != ace_realty_office_2_sells_mean"
   ]
  },
  {
   "cell_type": "code",
   "execution_count": null,
   "id": "5edb75df",
   "metadata": {},
   "outputs": [],
   "source": [
    "ace_realty_office_1_sells_mean = 90\n",
    "ace_realty_office_1_sells_std = 15\n",
    "ace_realty_office_1_sells_size = 40\n",
    "ace_realty_office_2_sells_mean = 100\n",
    "ace_realty_office_2_sells_std = 20\n",
    "ace_realty_office_2_sells_size = 50"
   ]
  },
  {
   "cell_type": "markdown",
   "id": "7dd8a750",
   "metadata": {},
   "source": [
    "#### Load the mpg dataset and use it to answer the following questions:"
   ]
  },
  {
   "cell_type": "markdown",
   "id": "1ef40410",
   "metadata": {},
   "source": [
    "- Is there a difference in fuel-efficiency in cars from 2008 vs 1999?"
   ]
  },
  {
   "cell_type": "code",
   "execution_count": null,
   "id": "c41ca95a",
   "metadata": {},
   "outputs": [],
   "source": [
    "ttest()\n",
    "\n",
    "# p= # small p value the more certain that there is a significant difference\n",
    "# t=<0 # how big the difference in which direction\n",
    "\n",
    "# p is small = not due to chance"
   ]
  },
  {
   "cell_type": "markdown",
   "id": "5445658a",
   "metadata": {},
   "source": [
    "- Do manual cars get better gas mileage than automatic cars?"
   ]
  },
  {
   "cell_type": "code",
   "execution_count": null,
   "id": "e7b1cf6f",
   "metadata": {},
   "outputs": [],
   "source": []
  },
  {
   "cell_type": "markdown",
   "id": "f4e72244",
   "metadata": {},
   "source": [
    "- Are compact cars more fuel-efficient than the average car?"
   ]
  },
  {
   "cell_type": "code",
   "execution_count": null,
   "id": "38dba493",
   "metadata": {},
   "outputs": [],
   "source": []
  }
 ],
 "metadata": {
  "kernelspec": {
   "display_name": "Python 3 (ipykernel)",
   "language": "python",
   "name": "python3"
  },
  "language_info": {
   "codemirror_mode": {
    "name": "ipython",
    "version": 3
   },
   "file_extension": ".py",
   "mimetype": "text/x-python",
   "name": "python",
   "nbconvert_exporter": "python",
   "pygments_lexer": "ipython3",
   "version": "3.9.13"
  }
 },
 "nbformat": 4,
 "nbformat_minor": 5
}
