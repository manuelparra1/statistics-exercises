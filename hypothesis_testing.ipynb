{
 "cells": [
  {
   "cell_type": "markdown",
   "id": "b3d04811",
   "metadata": {},
   "source": [
    "|             | $H_{0}$ is True   | $H_{0}$ is False   |\n",
    "| ----------- | :---           |           ---:  |\n",
    "| Accept H(0) | True Negative  | False Positive  |\n",
    "| Reject H(0) | False Negative | True Positive   |"
   ]
  },
  {
   "cell_type": "code",
   "execution_count": null,
   "id": "1db595d6",
   "metadata": {},
   "outputs": [],
   "source": []
  },
  {
   "cell_type": "markdown",
   "id": "b5f69618",
   "metadata": {},
   "source": [
    "    Null:                     $H_{0}$\n",
    "    Alternative Hypothesis:   $H_{A}$\n",
    "    \n",
    "    True Positive:            $H_{0}$=TRUE\n",
    "    True Negative:            $H_{0}$=TRUE\n",
    "    Type I(False Positive):   H(FP)\n",
    "    Type II(False Negative):  H(FN)"
   ]
  },
  {
   "cell_type": "markdown",
   "id": "7b514240",
   "metadata": {},
   "source": [
    "> #### The quarterly results look great!\n",
    ">\n",
    "> - Revenue was off the chart.\n",
    "> - Profits were higher than ever.\n",
    ">\n",
    "> |             | $H_{0}$ is True   | $H_{0}$ is False   |\n",
    "> | ----------- | :---           |           ---:  |\n",
    "> | Accept $H_{0}$ | True Negative  | False Positive  |\n",
    "> | Reject $H_{0}$ | False Negative | True Positive   |\n",
    ">\n",
    ">  *Everything* is going according to **plan**."
   ]
  },
  {
   "cell_type": "markdown",
   "id": "b36cf589",
   "metadata": {},
   "source": [
    "<div class=\"alert alert-block alert-info\">\n",
    "\n",
    "# **Hypothesis**\n",
    "\n",
    "### Cases\n",
    "- No Change\n",
    "- Increased\n",
    "- Decreased\n",
    "</div>"
   ]
  },
  {
   "cell_type": "markdown",
   "id": "9211120b",
   "metadata": {},
   "source": [
    "# For each of the following questions,\n",
    "- formulate a null and \n",
    "- alternative hypothesis (be as specific as you can be),\n",
    "- then give an example of what a true positive, \n",
    "- true negative, \n",
    "- type I and \n",
    "- type II errors would look like.\n",
    "\n",
    "Note that some of the questions are intentionally phrased in a vague way.\n",
    "It is your job to reword these as more precise questions that could be tested."
   ]
  },
  {
   "cell_type": "markdown",
   "id": "eb3a1761",
   "metadata": {},
   "source": [
    "Has the network latency gone up since we switched internet service providers?"
   ]
  },
  {
   "cell_type": "code",
   "execution_count": 1,
   "id": "fcc73a8a",
   "metadata": {},
   "outputs": [],
   "source": [
    "# Null = Latency has remained the same or worse\n",
    "# Alt  = Latency has increased.\n",
    "\n",
    "# True Positive = Rejected Null & Null = False\n",
    "# True Negative = \n",
    "# Type I\n",
    "# Type II"
   ]
  },
  {
   "cell_type": "markdown",
   "id": "d4905b6a",
   "metadata": {},
   "source": [
    "Is the website redesign any good?"
   ]
  },
  {
   "cell_type": "code",
   "execution_count": 4,
   "id": "9cd8024e",
   "metadata": {},
   "outputs": [],
   "source": [
    "# Null = Traffic is the same or lower\n",
    "# Null = Traffic increased\n",
    "\n",
    "# True Positive =\n",
    "# True Negative = \n",
    "# False Positive = H(0) Higher Click Rate but there was not\n",
    "# Flase Neg = H(0) No increase but actually there was\n",
    "# Type I\n",
    "# Type II"
   ]
  },
  {
   "cell_type": "markdown",
   "id": "5060bae5",
   "metadata": {},
   "source": [
    "Is our television ad driving more sales?"
   ]
  },
  {
   "cell_type": "code",
   "execution_count": null,
   "id": "d0afc339",
   "metadata": {},
   "outputs": [],
   "source": [
    "# H(0) = Sales stayed the same or lower\n",
    "# H(A) = Sales increased\n",
    "\n",
    "# True Positive =\n",
    "# True Negative = \n",
    "# Type I\n",
    "# Type II"
   ]
  },
  {
   "cell_type": "markdown",
   "id": "f0b4d968",
   "metadata": {},
   "source": [
    "Parametric - T-Test & ANOVA\n",
    "\n",
    "Uses **Normal Distribution**\n",
    "\n",
    "α = \n",
    "\n",
    "$μ_{a}$"
   ]
  },
  {
   "cell_type": "markdown",
   "id": "69cef388",
   "metadata": {},
   "source": [
    "Rolling Dice\n",
    "\n",
    "10 Dice & Average\n",
    "\n",
    "Normal Distribution"
   ]
  }
 ],
 "metadata": {
  "kernelspec": {
   "display_name": "Python 3 (ipykernel)",
   "language": "python",
   "name": "python3"
  },
  "language_info": {
   "codemirror_mode": {
    "name": "ipython",
    "version": 3
   },
   "file_extension": ".py",
   "mimetype": "text/x-python",
   "name": "python",
   "nbconvert_exporter": "python",
   "pygments_lexer": "ipython3",
   "version": "3.9.13"
  }
 },
 "nbformat": 4,
 "nbformat_minor": 5
}
