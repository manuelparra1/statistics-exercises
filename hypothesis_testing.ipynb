{
 "cells": [
  {
   "cell_type": "code",
   "execution_count": 357,
   "id": "8e4034b2",
   "metadata": {},
   "outputs": [],
   "source": [
    "import numpy as np\n",
    "import seaborn as sns\n",
    "import scipy.stats as stats\n",
    "import pandas as pd\n",
    "import matplotlib.pyplot as plt\n",
    "from pydataset import data\n",
    "import env as env\n",
    "\n",
    "np.random.seed(123)\n",
    "\n",
    "import quantumrandom as qrandom\n",
    "from IPython.display import display, Latex"
   ]
  },
  {
   "cell_type": "markdown",
   "id": "7719210e",
   "metadata": {},
   "source": [
    "|             | $H_{0}$ is True   | $H_{0}$ is False   |\n",
    "| ----------- | :---              |           ---:     |\n",
    "| Accept H(0) | True Negative     | False Positive     |\n",
    "| Reject H(0) | False Negative    | True Positive      |"
   ]
  },
  {
   "cell_type": "markdown",
   "id": "6af8b00e",
   "metadata": {},
   "source": [
    "Null:                     $H_{0}$\n",
    "\n",
    "Alternative Hypothesis:   $H_{A}$\n",
    "    \n",
    "True Positive:            $H_{0} = TRUE$\n",
    "\n",
    "True Negative:            $H_{0} = TRUE$\n",
    "\n",
    "Type I(False Positive):   $H(FP)$\n",
    "\n",
    "Type II(False Negative):  $H(FN)$"
   ]
  },
  {
   "cell_type": "markdown",
   "id": "34eb87ab",
   "metadata": {},
   "source": [
    "<div class=\"alert alert-block alert-info\">\n",
    "\n",
    "# **Hypothesis**\n",
    "\n",
    "### Cases\n",
    "- No Change\n",
    "- Increased\n",
    "- Decreased\n",
    "</div>"
   ]
  },
  {
   "cell_type": "markdown",
   "id": "7ddfe196",
   "metadata": {},
   "source": [
    "# For each of the following questions,\n",
    "- formulate a null and \n",
    "- alternative hypothesis (be as specific as you can be),\n",
    "- then give an example of what a true positive, \n",
    "- true negative, \n",
    "- type I and \n",
    "- type II errors would look like.\n",
    "\n",
    "Note that some of the questions are intentionally phrased in a vague way.\n",
    "It is your job to reword these as more precise questions that could be tested."
   ]
  },
  {
   "cell_type": "markdown",
   "id": "9679159d",
   "metadata": {},
   "source": [
    "Has the network latency gone up since we switched internet service providers?"
   ]
  },
  {
   "cell_type": "code",
   "execution_count": 358,
   "id": "2b198380",
   "metadata": {},
   "outputs": [],
   "source": [
    "# Null = Latency has remained the same or worse\n",
    "\n",
    "\n",
    "# Alt  = Latency has increased.\n",
    "\n",
    "# True Positive = Rejected Null & (Null = False)\n",
    "# True Negative = \n",
    "# Type I\n",
    "# Type II"
   ]
  },
  {
   "cell_type": "markdown",
   "id": "50423b33",
   "metadata": {},
   "source": [
    "Is the website redesign any good?"
   ]
  },
  {
   "cell_type": "code",
   "execution_count": 359,
   "id": "437bf314",
   "metadata": {},
   "outputs": [],
   "source": [
    "# Null = Traffic is the same or lower\n",
    "# Null = Traffic increased\n",
    "\n",
    "# True Positive =\n",
    "# True Negative = \n",
    "# False Positive = H(0) Higher Click Rate but there was not\n",
    "# Flase Neg = H(0) No increase but actually there was\n",
    "# Type I\n",
    "# Type II"
   ]
  },
  {
   "cell_type": "markdown",
   "id": "a837b509",
   "metadata": {},
   "source": [
    "Is our television ad driving more sales?"
   ]
  },
  {
   "cell_type": "code",
   "execution_count": 360,
   "id": "f201e6f5",
   "metadata": {},
   "outputs": [],
   "source": [
    "# H(0) = Sales stayed the same or lower\n",
    "# H(A) = Sales increased\n",
    "\n",
    "# True Positive =\n",
    "# True Negative = \n",
    "# Type I\n",
    "# Type II"
   ]
  },
  {
   "cell_type": "markdown",
   "id": "73de5c9a",
   "metadata": {},
   "source": [
    "---"
   ]
  },
  {
   "cell_type": "markdown",
   "id": "92a617c8",
   "metadata": {},
   "source": [
    "# Exercises II"
   ]
  },
  {
   "cell_type": "markdown",
   "id": "14404e4f",
   "metadata": {},
   "source": [
    "#### Answer with the type of test you would use (assume normal distribution):"
   ]
  },
  {
   "cell_type": "markdown",
   "id": "b7d07c12",
   "metadata": {},
   "source": [
    "- Is there a difference in grades of students on the second floor compared to grades of all students?"
   ]
  },
  {
   "cell_type": "markdown",
   "id": "16ad1c4e",
   "metadata": {},
   "source": [
    "1 Sample T-Test\n",
    "\n",
    "Looking at 1-Sample compared to Population\n",
    "\n",
    "# 2 Tail"
   ]
  },
  {
   "cell_type": "code",
   "execution_count": 361,
   "id": "0af730f9",
   "metadata": {},
   "outputs": [
    {
     "ename": "NameError",
     "evalue": "name 'students_grades_first' is not defined",
     "output_type": "error",
     "traceback": [
      "\u001b[0;31m---------------------------------------------------------------------------\u001b[0m",
      "\u001b[0;31mNameError\u001b[0m                                 Traceback (most recent call last)",
      "Input \u001b[0;32mIn [361]\u001b[0m, in \u001b[0;36m<cell line: 1>\u001b[0;34m()\u001b[0m\n\u001b[0;32m----> 1\u001b[0m \u001b[43mstudents_grades_first\u001b[49m \u001b[38;5;241m!=\u001b[39m stundents_grades_second\n",
      "\u001b[0;31mNameError\u001b[0m: name 'students_grades_first' is not defined"
     ]
    }
   ],
   "source": [
    "students_grades_first != stundents_grades_second"
   ]
  },
  {
   "cell_type": "code",
   "execution_count": null,
   "id": "243a9575",
   "metadata": {},
   "outputs": [],
   "source": []
  },
  {
   "cell_type": "markdown",
   "id": "eba4cac8",
   "metadata": {},
   "source": [
    "- Are adults who drink milk taller than adults who dont drink milk?"
   ]
  },
  {
   "cell_type": "markdown",
   "id": "b61abd19",
   "metadata": {},
   "source": [
    "2 Sample T-Test\n",
    "\n",
    "2 Seperate Groups, Adults Who Drink vs Adults Who Don't Drink\n",
    "\n",
    "Independent\n",
    "\n",
    "\\# Tails\n",
    "\n",
    "# 1 Tail\n",
    "\n",
    "_Group_\n",
    "\n",
    "Taller Than\n",
    "\n",
    "Comparison Operator in Statement"
   ]
  },
  {
   "cell_type": "code",
   "execution_count": null,
   "id": "51f9dd8f",
   "metadata": {},
   "outputs": [],
   "source": [
    "adult_milk_height > adult_no_milk_height"
   ]
  },
  {
   "cell_type": "markdown",
   "id": "1df61b86",
   "metadata": {},
   "source": [
    "- Is the the price of gas higher in texas or in new mexico?"
   ]
  },
  {
   "cell_type": "markdown",
   "id": "322b8552",
   "metadata": {},
   "source": [
    "2 Sample T-Test\n",
    "\n",
    "Independent T-Test\n",
    "\n",
    "1 Tail"
   ]
  },
  {
   "cell_type": "code",
   "execution_count": null,
   "id": "46828018",
   "metadata": {},
   "outputs": [],
   "source": [
    "gas_price < tx_gas  |  gas_price < nm_gas"
   ]
  },
  {
   "cell_type": "markdown",
   "id": "b8b2977e",
   "metadata": {},
   "source": [
    "- Are there differences in stress levels between students who take data science vs students who take web development vs students who take cloud academy?"
   ]
  },
  {
   "cell_type": "markdown",
   "id": "16e735d5",
   "metadata": {},
   "source": [
    "ANOVA\n",
    "\n",
    "3 Different Populations"
   ]
  },
  {
   "cell_type": "code",
   "execution_count": null,
   "id": "b3e5adee",
   "metadata": {},
   "outputs": [],
   "source": [
    "students_ds_stress != students_wd_stress != students_ca_stress"
   ]
  },
  {
   "cell_type": "markdown",
   "id": "c6460015",
   "metadata": {},
   "source": [
    "#### Ace Realty wants to determine whether the average time it takes to sell homes is different for its two offices. A sample of 40 sales from office #1 revealed a mean of 90 days and a standard deviation of 15 days. A sample of 50 sales from office #2 revealed a mean of 100 days and a standard deviation of 20 days. Use a .05 level of significance."
   ]
  },
  {
   "cell_type": "code",
   "execution_count": null,
   "id": "5a3cc067",
   "metadata": {},
   "outputs": [],
   "source": [
    "ace_realty_office_1_sells_mean != ace_realty_office_2_sells_mean"
   ]
  },
  {
   "cell_type": "code",
   "execution_count": null,
   "id": "71a53978",
   "metadata": {},
   "outputs": [],
   "source": [
    "ace_realty_office_1_sells_mean = 90\n",
    "ace_realty_office_1_sells_std = 15\n",
    "ace_realty_office_1_sells_size = 40\n",
    "\n",
    "ace_realty_office_2_sells_mean = 100\n",
    "ace_realty_office_2_sells_std = 20\n",
    "ace_realty_office_2_sells_size = 50"
   ]
  },
  {
   "cell_type": "code",
   "execution_count": null,
   "id": "d9caabb1",
   "metadata": {
    "scrolled": true
   },
   "outputs": [],
   "source": [
    "office_1 = stats.norm(90, 15).rvs(40)\n",
    "office_2 = stats.norm(100, 20).rvs(50)\n",
    "# Random Variates Method\n",
    "# Input Sample Size"
   ]
  },
  {
   "cell_type": "code",
   "execution_count": null,
   "id": "a687e58c",
   "metadata": {},
   "outputs": [],
   "source": [
    "stats.norm(90, 15).rvs(3)"
   ]
  },
  {
   "cell_type": "code",
   "execution_count": null,
   "id": "66799140",
   "metadata": {},
   "outputs": [],
   "source": [
    "james=stats.norm(90, 15)\n",
    "\n",
    "plt.hist(james)"
   ]
  },
  {
   "cell_type": "code",
   "execution_count": null,
   "id": "c6b603aa",
   "metadata": {},
   "outputs": [],
   "source": [
    "print(office_1.var())\n",
    "print(office_2.var())"
   ]
  },
  {
   "cell_type": "markdown",
   "id": "9410a772",
   "metadata": {},
   "source": [
    "Levene Test"
   ]
  },
  {
   "cell_type": "code",
   "execution_count": null,
   "id": "197fc2bd",
   "metadata": {},
   "outputs": [],
   "source": [
    "stats.levene(office_1,office_2)"
   ]
  },
  {
   "cell_type": "markdown",
   "id": "722bd2c3",
   "metadata": {},
   "source": [
    "### Variance 1 * Variance 2=V1*4"
   ]
  },
  {
   "cell_type": "markdown",
   "id": "c8f3c132",
   "metadata": {},
   "source": [
    "# Variance not same\n",
    "# Reject $H_{0}$"
   ]
  },
  {
   "cell_type": "markdown",
   "id": "df8ccdc7",
   "metadata": {},
   "source": [
    "### Independent Test"
   ]
  },
  {
   "cell_type": "code",
   "execution_count": null,
   "id": "270c6acc",
   "metadata": {},
   "outputs": [],
   "source": [
    "α = 0.05\n",
    "\n",
    "t, p = stats.ttest_ind_from_stats(90,15,40,100,20,50, equal_var= False)\n",
    "t,p"
   ]
  },
  {
   "cell_type": "code",
   "execution_count": null,
   "id": "94ce7131",
   "metadata": {},
   "outputs": [],
   "source": [
    "t,p = stats.ttest_ind(office_1, office_2, equal_var = False)"
   ]
  },
  {
   "cell_type": "code",
   "execution_count": null,
   "id": "826d7ebf",
   "metadata": {
    "scrolled": true
   },
   "outputs": [],
   "source": [
    "t,p"
   ]
  },
  {
   "cell_type": "markdown",
   "id": "56fa5d0a",
   "metadata": {},
   "source": [
    "Independent T-Test 1_argument is < 2_Argument\n",
    "\n",
    "t = -3.25\n",
    "t = Negative\n",
    "\n",
    "Office_1 lesss than Office_2"
   ]
  },
  {
   "cell_type": "markdown",
   "id": "b104ee88",
   "metadata": {},
   "source": [
    "Null: There no difference between 2\n",
    "\n",
    "Alt: There's a signifcat difference between 2"
   ]
  },
  {
   "cell_type": "code",
   "execution_count": null,
   "id": "5b19ce05",
   "metadata": {},
   "outputs": [],
   "source": [
    "if (p<α):\n",
    "    print(\"Reject $H_{0}$\")"
   ]
  },
  {
   "cell_type": "markdown",
   "id": "7dd8a750",
   "metadata": {},
   "source": [
    "#### Load the mpg dataset and use it to answer the following questions:"
   ]
  },
  {
   "cell_type": "code",
   "execution_count": null,
   "id": "5f3bbb73",
   "metadata": {},
   "outputs": [],
   "source": [
    "from pydataset import data\n",
    "mpg = data('mpg')\n",
    "mpg.head(1)"
   ]
  },
  {
   "cell_type": "code",
   "execution_count": null,
   "id": "e79eaebf",
   "metadata": {},
   "outputs": [],
   "source": [
    "mpg.info()"
   ]
  },
  {
   "cell_type": "code",
   "execution_count": null,
   "id": "015cba18",
   "metadata": {},
   "outputs": [],
   "source": [
    "mpg.isna().sum()"
   ]
  },
  {
   "cell_type": "markdown",
   "id": "d4a47ef9",
   "metadata": {},
   "source": [
    "a. Is there a diference\n",
    "independent t-test\n",
    "\n",
    "b. compact more\n",
    "1-sample\n",
    "1tail\n",
    "\n",
    "c. do manual\n",
    "independent\n",
    "1-tail\n"
   ]
  },
  {
   "cell_type": "markdown",
   "id": "1ef40410",
   "metadata": {},
   "source": [
    "# - Is there a difference in fuel-efficiency in cars from 2008 vs 1999?"
   ]
  },
  {
   "cell_type": "code",
   "execution_count": null,
   "id": "5d369338",
   "metadata": {},
   "outputs": [],
   "source": [
    "mpg.head(1)"
   ]
  },
  {
   "cell_type": "code",
   "execution_count": null,
   "id": "cd3ac705",
   "metadata": {},
   "outputs": [],
   "source": [
    "car_efficiency_2008 = mpg[mpg['year'] == 2008]\n",
    "car_efficiency_1999 = mpg[mpg['year'] == 1999]\n",
    "\n",
    "car_efficiency_2008 = (car_efficiency_2008['cty']) + (car_efficiency_2008['hwy']/2)\n",
    "car_efficiency_2008_mean = car_efficiency_2008.mean()\n",
    "print(car_efficiency_2008_mean)\n",
    "\n",
    "car_efficiency_1999 = (car_efficiency_1999['cty']) + (car_efficiency_1999['hwy']/2)\n",
    "car_efficiency_1999_mean = car_efficiency_1999.mean()\n",
    "print(car_efficiency_1999_mean)"
   ]
  },
  {
   "cell_type": "code",
   "execution_count": null,
   "id": "0118c398",
   "metadata": {},
   "outputs": [],
   "source": [
    "print(car_efficiency_2008.var())\n",
    "print(car_efficiency_1999.var())"
   ]
  },
  {
   "cell_type": "code",
   "execution_count": null,
   "id": "3e1934c5",
   "metadata": {},
   "outputs": [],
   "source": [
    "t2,p2=stats.ttest_ind(car_efficiency_2008,car_efficiency_1999, equal_var=False)"
   ]
  },
  {
   "cell_type": "code",
   "execution_count": null,
   "id": "c2b192b4",
   "metadata": {},
   "outputs": [],
   "source": [
    "t2,p2"
   ]
  },
  {
   "cell_type": "code",
   "execution_count": null,
   "id": "14de0f24",
   "metadata": {},
   "outputs": [],
   "source": [
    "if p2<=alpha:\n",
    "    #print(\"Reject\")\n",
    "    display(Latex(f'Reject $H_{0}$'))\n",
    "else:\n",
    "    #print(\"failed to reject\")\n",
    "    display(Latex(f'Failed to reject $H_{0}$'))"
   ]
  },
  {
   "cell_type": "markdown",
   "id": "79f0fe8b",
   "metadata": {},
   "source": [
    "Takeaway: we failed to reject the null hypothesis, there is no significat difference in fuel efficiency between cars made in 1999 and 2008"
   ]
  },
  {
   "cell_type": "markdown",
   "id": "5445658a",
   "metadata": {},
   "source": [
    "# - Do manual cars get better gas mileage than automatic cars?"
   ]
  },
  {
   "cell_type": "code",
   "execution_count": null,
   "id": "e7b1cf6f",
   "metadata": {
    "scrolled": true
   },
   "outputs": [],
   "source": [
    "manual_car = mpg[mpg['trans'].str.contains('manual')]\n",
    "\n",
    "manual_car_combined_mileage = (manual_car['cty']) + (manual_car['hwy']/2)\n",
    "manual_car_combined_mileage_mean = manual_car_combined_mileage.mean()\n",
    "manual_car_combined_mileage_mean"
   ]
  },
  {
   "cell_type": "code",
   "execution_count": null,
   "id": "f523338b",
   "metadata": {},
   "outputs": [],
   "source": [
    "automatic_car = mpg[mpg['trans'].str.contains('auto')]\n",
    "\n",
    "automatic_car_combined_mileage = (automatic_car['cty']) + (automatic_car['hwy']/2)\n",
    "automatic_car_combined_mileage_mean = automatic_car_combined_mileage.mean()\n",
    "automatic_car_combined_mileage_mean"
   ]
  },
  {
   "cell_type": "code",
   "execution_count": null,
   "id": "8852cbaf",
   "metadata": {},
   "outputs": [],
   "source": [
    "mpg.head(1)"
   ]
  },
  {
   "cell_type": "code",
   "execution_count": null,
   "id": "5d228bd2",
   "metadata": {},
   "outputs": [],
   "source": [
    "mpg['fuel_eff']=(mpg['cty']+mpg['hwy'])/2"
   ]
  },
  {
   "cell_type": "code",
   "execution_count": null,
   "id": "567de913",
   "metadata": {},
   "outputs": [],
   "source": [
    "mpg.head(1)"
   ]
  },
  {
   "cell_type": "code",
   "execution_count": null,
   "id": "11f0b555",
   "metadata": {
    "scrolled": true
   },
   "outputs": [],
   "source": [
    "manual_eff = mpg[mpg['trans'].str.contains('manual')]['fuel_eff']\n",
    "auto_eff = mpg[mpg['trans'].str.contains('auto')]['fuel_eff']"
   ]
  },
  {
   "cell_type": "code",
   "execution_count": null,
   "id": "0071e430",
   "metadata": {},
   "outputs": [],
   "source": [
    "t4,p4 = stats.ttest_ind(manual_eff,auto_eff,equal_var=False)"
   ]
  },
  {
   "cell_type": "code",
   "execution_count": null,
   "id": "6585660d",
   "metadata": {},
   "outputs": [],
   "source": [
    "alpha=.05\n",
    "if t4>0 and p4/2 < alpha:\n",
    "    print('reject')\n",
    "else:\n",
    "    print('failed reject')"
   ]
  },
  {
   "cell_type": "markdown",
   "id": "f4e72244",
   "metadata": {},
   "source": [
    "# - Are compact cars more fuel-efficient than the average car?"
   ]
  },
  {
   "cell_type": "markdown",
   "id": "4c14e035",
   "metadata": {},
   "source": [
    "Null: comparct cars are not more fuel efficent than average\n",
    "\n",
    "Alternative: compact cars are more efficenet than the avarege car"
   ]
  },
  {
   "cell_type": "markdown",
   "id": "d2b3d00a",
   "metadata": {},
   "source": [
    "Compare specificic distribution to overall mean"
   ]
  },
  {
   "cell_type": "markdown",
   "id": "7276688f",
   "metadata": {},
   "source": [
    "α = .05"
   ]
  },
  {
   "cell_type": "markdown",
   "id": "737578c4",
   "metadata": {},
   "source": [
    "<div class=\"alert alert-block alert-info\">\n",
    "\n",
    "**Class Answer**\n",
    "    \n",
    "</div>"
   ]
  },
  {
   "cell_type": "code",
   "execution_count": null,
   "id": "5151fdcb",
   "metadata": {},
   "outputs": [],
   "source": [
    "normal_car = mpg[mpg['class'] != 'compact']\n",
    "normal_car_combined_mileage = (normal_car['cty']) + (normal_car['hwy']/2)\n",
    "\n",
    "average_car_combined_mileage = ((mpg['cty']) + (mpg['hwy']/2))\n",
    "average_car_combined_mileage_mean=average_car_combined_mileage.mean()"
   ]
  },
  {
   "cell_type": "code",
   "execution_count": null,
   "id": "89c509d8",
   "metadata": {
    "scrolled": false
   },
   "outputs": [],
   "source": [
    "t3, p3 = stats.ttest_1samp(manual_car_combined_mileage, average_car_combined_mileage_mean)\n",
    "t3,p3"
   ]
  },
  {
   "cell_type": "code",
   "execution_count": null,
   "id": "ae89b675",
   "metadata": {},
   "outputs": [],
   "source": [
    "if t3>0 and p3/2 <=alpha:\n",
    "    #print(\"reject\")\n",
    "    display(Latex(f'Reject $H_{0}$'))\n",
    "else:\n",
    "    #print(\"failed to reject\")\n",
    "    display(Latex(f'Failed Reject $H_{0}$'))"
   ]
  },
  {
   "cell_type": "markdown",
   "id": "4b550c70",
   "metadata": {},
   "source": [
    "Takeway :reject $H_{0}$ compact carss are sig mre eff than avg"
   ]
  },
  {
   "cell_type": "markdown",
   "id": "c697b0cf",
   "metadata": {},
   "source": [
    "<div class=\"alert alert-block alert-info\">\n",
    "\n",
    "**My Answer**\n",
    "    \n",
    "</div>"
   ]
  },
  {
   "cell_type": "code",
   "execution_count": null,
   "id": "1cc5b1c0",
   "metadata": {},
   "outputs": [],
   "source": [
    "alpha = 0.05"
   ]
  },
  {
   "cell_type": "code",
   "execution_count": null,
   "id": "b201b257",
   "metadata": {},
   "outputs": [],
   "source": [
    "compact_test = mpg[mpg['class'] == 'compact']"
   ]
  },
  {
   "cell_type": "code",
   "execution_count": null,
   "id": "6ab30ed2",
   "metadata": {},
   "outputs": [],
   "source": [
    "test = (compact_test['cty']) + (compact_test['hwy']/2)"
   ]
  },
  {
   "cell_type": "code",
   "execution_count": null,
   "id": "e05aa058",
   "metadata": {},
   "outputs": [],
   "source": [
    "# Assumptions Tests"
   ]
  },
  {
   "cell_type": "code",
   "execution_count": null,
   "id": "2a038efc",
   "metadata": {},
   "outputs": [],
   "source": [
    "print(len(test))"
   ]
  },
  {
   "cell_type": "code",
   "execution_count": null,
   "id": "8882ad44",
   "metadata": {},
   "outputs": [],
   "source": [
    "if len(test)<30:\n",
    "    print(\"Failed Length Assumption Test\")\n",
    "else:\n",
    "    print(\"Passed Length Assumption Test\")"
   ]
  },
  {
   "cell_type": "code",
   "execution_count": null,
   "id": "b08f7c5c",
   "metadata": {},
   "outputs": [],
   "source": [
    "# Right Tailed Distribution\n",
    "# Right Skewed"
   ]
  },
  {
   "cell_type": "code",
   "execution_count": null,
   "id": "daebcaf0",
   "metadata": {},
   "outputs": [],
   "source": [
    "plt.figure(figsize=(9,6))\n",
    "test.hist()"
   ]
  },
  {
   "cell_type": "markdown",
   "id": "931885d2",
   "metadata": {},
   "source": [
    "### $H_{0}$ = compact cars have **<=** fuel-efficient as average car\n",
    "\n",
    "### $H_{A}$ = compact cars **>** fuel-efficient than the average car"
   ]
  },
  {
   "cell_type": "markdown",
   "id": "29ea94a1",
   "metadata": {},
   "source": [
    "#### Reject Null Hypthesis ($H_{0}$)\n",
    "\n",
    "#### 1 Sample Test = p/2 < alpha   &   t > 0"
   ]
  },
  {
   "cell_type": "code",
   "execution_count": null,
   "id": "af7cd812",
   "metadata": {
    "scrolled": true
   },
   "outputs": [],
   "source": [
    "average_car_combined_mileage = ((mpg['cty']) + (mpg['hwy']/2))\n",
    "print(average_car_combined_mileage.mean())"
   ]
  },
  {
   "cell_type": "markdown",
   "id": "e4b2eb63",
   "metadata": {},
   "source": [
    "#### Compacts?"
   ]
  },
  {
   "cell_type": "code",
   "execution_count": null,
   "id": "38dba493",
   "metadata": {},
   "outputs": [],
   "source": [
    "compacts_car = mpg[mpg['class'] == 'compact']\n",
    "compacts_car_combined_mileage=compacts_car['cty']+compacts_car['hwy']/2\n",
    "compacts_car_combined_mileage_mean=compacts_combined_mileage.mean()\n",
    "print(compacts_car_combined_mileage_mean)"
   ]
  },
  {
   "cell_type": "markdown",
   "id": "782d0567",
   "metadata": {},
   "source": [
    "#### Except Compacts?"
   ]
  },
  {
   "cell_type": "code",
   "execution_count": null,
   "id": "9746be41",
   "metadata": {
    "scrolled": true
   },
   "outputs": [],
   "source": [
    "normal_car = mpg[mpg['class'] != 'compact']\n",
    "normal_car_combined_mileage = (normal_car['cty']) + (normal_car['hwy']/2)\n",
    "normal_car_combined_mileage_mean = normal_car_combined_mileage.mean()\n",
    "print(normal_car_combined_mileage_mean)"
   ]
  },
  {
   "cell_type": "code",
   "execution_count": null,
   "id": "99415f7c",
   "metadata": {},
   "outputs": [],
   "source": [
    "t, p = stats.ttest_ind(manual_car_combined_mileage, average_car_combined_mileage, equal_var=False)\n",
    "\n",
    "print(\"Is t < 0? \", t > 0)\n",
    "print(\"is p/2 < alpha? \", p / 2 < alpha)"
   ]
  },
  {
   "cell_type": "code",
   "execution_count": null,
   "id": "bebdc64c",
   "metadata": {},
   "outputs": [],
   "source": [
    "print(f'''Because p/2 ({p/2:.11f}) < alpha (.05) and t > 0, we reject the null hypothesis.''')\n"
   ]
  },
  {
   "cell_type": "markdown",
   "id": "9ccff2a1",
   "metadata": {},
   "source": [
    "# Reject $H_{0}$"
   ]
  },
  {
   "cell_type": "code",
   "execution_count": null,
   "id": "3a46602d",
   "metadata": {},
   "outputs": [],
   "source": [
    "quantum_digit = qrandom.randint(0, 20)\n",
    "print(quantum_digit)"
   ]
  },
  {
   "cell_type": "code",
   "execution_count": null,
   "id": "69e7d849",
   "metadata": {},
   "outputs": [],
   "source": [
    "quantum_digit_2=qrandom.get_data()\n",
    "quantum_digit_2"
   ]
  },
  {
   "cell_type": "markdown",
   "id": "aa114ae8",
   "metadata": {},
   "source": [
    "# Exercises 3"
   ]
  },
  {
   "cell_type": "markdown",
   "id": "903baaf4",
   "metadata": {},
   "source": [
    "Answer with the type of stats test you would use (assume normal distribution):\n",
    "- Is there a relationship between the length of your arm and the length of your foot?\n",
    "- Do guys and gals quit their jobs at the same rate?\n",
    "- Does the length of time of the lecture correlate with a students grade?"
   ]
  },
  {
   "cell_type": "markdown",
   "id": "06828c11",
   "metadata": {},
   "source": [
    "# 1.A DONE"
   ]
  },
  {
   "cell_type": "code",
   "execution_count": null,
   "id": "f7a853ff",
   "metadata": {},
   "outputs": [],
   "source": [
    "# arm_length **difference** foot_length"
   ]
  },
  {
   "cell_type": "markdown",
   "id": "27ebf2f2",
   "metadata": {},
   "source": [
    "# 1.B DONE"
   ]
  },
  {
   "cell_type": "code",
   "execution_count": null,
   "id": "d81e91c0",
   "metadata": {},
   "outputs": [],
   "source": [
    "# guy_rate **same** gal_rate"
   ]
  },
  {
   "cell_type": "markdown",
   "id": "07051b2c",
   "metadata": {},
   "source": [
    "# 1.C DONE"
   ]
  },
  {
   "cell_type": "code",
   "execution_count": null,
   "id": "f9b7c8b0",
   "metadata": {},
   "outputs": [],
   "source": [
    "# lecture_time **relationship** student_grade"
   ]
  },
  {
   "cell_type": "markdown",
   "id": "3afbc880",
   "metadata": {},
   "source": [
    "Use the telco_churn data.\n",
    "- Does tenure correlate with monthly charges?\n",
    "- Total charges?\n",
    "- What happens if you control for phone and internet service?"
   ]
  },
  {
   "cell_type": "markdown",
   "id": "bc635a13",
   "metadata": {},
   "source": [
    "# 2.A DONE"
   ]
  },
  {
   "cell_type": "markdown",
   "id": "8cbdbd6d",
   "metadata": {},
   "source": [
    "# Tenure vs. Monthly"
   ]
  },
  {
   "cell_type": "code",
   "execution_count": null,
   "id": "d204abeb",
   "metadata": {},
   "outputs": [],
   "source": [
    "url = env.get_db_url('telco_churn')\n",
    "\n",
    "sql_query = '''SELECT *\n",
    "               FROM customers\n",
    "               \n",
    "               JOIN internet_service_types USING (internet_service_type_id)'''"
   ]
  },
  {
   "cell_type": "code",
   "execution_count": null,
   "id": "d0b6d45d",
   "metadata": {},
   "outputs": [],
   "source": [
    "telco = pd.read_sql(sql_query, url)"
   ]
  },
  {
   "cell_type": "code",
   "execution_count": null,
   "id": "e7765c21",
   "metadata": {},
   "outputs": [],
   "source": [
    "telco.head(1)"
   ]
  },
  {
   "cell_type": "code",
   "execution_count": null,
   "id": "3eeecf26",
   "metadata": {},
   "outputs": [],
   "source": [
    "telco.info()"
   ]
  },
  {
   "cell_type": "code",
   "execution_count": null,
   "id": "0a76eab6",
   "metadata": {},
   "outputs": [],
   "source": [
    "telco.tenure[0]"
   ]
  },
  {
   "cell_type": "code",
   "execution_count": null,
   "id": "c2102690",
   "metadata": {},
   "outputs": [],
   "source": [
    "type(telco['total_charges'][0])"
   ]
  },
  {
   "cell_type": "code",
   "execution_count": null,
   "id": "a276388f",
   "metadata": {},
   "outputs": [],
   "source": [
    "telco[[\"tenure\", \"monthly_charges\", \"total_charges\"]].dtypes"
   ]
  },
  {
   "cell_type": "code",
   "execution_count": null,
   "id": "140613fd",
   "metadata": {},
   "outputs": [],
   "source": [
    "alpha = .05\n",
    "r, p = stats.pearsonr(telco['tenure'], telco['monthly_charges'])"
   ]
  },
  {
   "cell_type": "code",
   "execution_count": null,
   "id": "2838f390",
   "metadata": {},
   "outputs": [],
   "source": [
    "r,p"
   ]
  },
  {
   "cell_type": "code",
   "execution_count": null,
   "id": "9cd5b035",
   "metadata": {},
   "outputs": [],
   "source": [
    "if p < alpha:\n",
    "    #print(\"Reject Null\")\n",
    "    display(Latex('Reject $H_{0}$'))\n",
    "else:\n",
    "    #print(\"Fail to Reject Null\")\n",
    "    display(Latex('Fail to Reject $H_{0}$'))\n"
   ]
  },
  {
   "cell_type": "code",
   "execution_count": null,
   "id": "ad2e52cb",
   "metadata": {},
   "outputs": [],
   "source": [
    "plt.title(\"Tenure & Monthly Charges\")\n",
    "plt.xlabel(\"Tenure @ Months\")\n",
    "plt.ylabel(\"Monthly @ $\")\n",
    "plt.scatter(telco.tenure, telco.monthly_charges)\n",
    "plt.show()"
   ]
  },
  {
   "cell_type": "markdown",
   "id": "18a13dda",
   "metadata": {},
   "source": [
    "# 2.B DONE"
   ]
  },
  {
   "cell_type": "markdown",
   "id": "c0f5ebbf",
   "metadata": {},
   "source": [
    "# Tenure vs. Total Charges"
   ]
  },
  {
   "cell_type": "markdown",
   "id": "65b15c6a",
   "metadata": {},
   "source": [
    "$H_{0}$: There is a linear relationship between tenure and total charges.\n",
    "\n",
    "$H_{A}$: There is no linear relationship between tenure and total charges."
   ]
  },
  {
   "cell_type": "code",
   "execution_count": null,
   "id": "4ffa8aa7",
   "metadata": {},
   "outputs": [],
   "source": [
    "telco['total_charges'].value_counts()"
   ]
  },
  {
   "cell_type": "code",
   "execution_count": null,
   "id": "f09bc69f",
   "metadata": {},
   "outputs": [],
   "source": [
    "telco['total_charges'].value_counts().index"
   ]
  },
  {
   "cell_type": "code",
   "execution_count": null,
   "id": "8531d85b",
   "metadata": {},
   "outputs": [],
   "source": [
    "telco = telco[telco['total_charges'] != ' ']"
   ]
  },
  {
   "cell_type": "code",
   "execution_count": 362,
   "id": "670489cd",
   "metadata": {},
   "outputs": [],
   "source": [
    "telco['total_charges'] = telco['total_charges'].astype(float)"
   ]
  },
  {
   "cell_type": "code",
   "execution_count": 363,
   "id": "18de7a64",
   "metadata": {},
   "outputs": [
    {
     "data": {
      "text/plain": [
       "0        593.30\n",
       "1        542.40\n",
       "2        280.85\n",
       "3       1237.85\n",
       "4        267.40\n",
       "         ...   \n",
       "7038     742.90\n",
       "7039    1873.70\n",
       "7040      92.75\n",
       "7041    4627.65\n",
       "7042    3707.60\n",
       "Name: total_charges, Length: 7032, dtype: float64"
      ]
     },
     "execution_count": 363,
     "metadata": {},
     "output_type": "execute_result"
    }
   ],
   "source": [
    "telco['total_charges']"
   ]
  },
  {
   "cell_type": "code",
   "execution_count": 364,
   "id": "81509325",
   "metadata": {},
   "outputs": [
    {
     "data": {
      "text/plain": [
       "20.20      11\n",
       "19.75       9\n",
       "19.90       8\n",
       "19.65       8\n",
       "20.05       8\n",
       "           ..\n",
       "2387.75     1\n",
       "6302.80     1\n",
       "2058.50     1\n",
       "829.55      1\n",
       "3707.60     1\n",
       "Name: total_charges, Length: 6530, dtype: int64"
      ]
     },
     "execution_count": 364,
     "metadata": {},
     "output_type": "execute_result"
    }
   ],
   "source": [
    "telco['total_charges'].value_counts()"
   ]
  },
  {
   "cell_type": "code",
   "execution_count": 365,
   "id": "bcbaf4df",
   "metadata": {},
   "outputs": [
    {
     "data": {
      "text/plain": [
       "<AxesSubplot:xlabel='tenure', ylabel='total_charges'>"
      ]
     },
     "execution_count": 365,
     "metadata": {},
     "output_type": "execute_result"
    },
    {
     "data": {
      "image/png": "[encoded data removed]",
      "text/plain": [
       "<Figure size 640x480 with 1 Axes>"
      ]
     },
     "metadata": {},
     "output_type": "display_data"
    }
   ],
   "source": [
    "telco.plot.scatter(y='total_charges', x='tenure')\n"
   ]
  },
  {
   "cell_type": "code",
   "execution_count": 366,
   "id": "aeb0e88a",
   "metadata": {},
   "outputs": [
    {
     "data": {
      "image/png": "[encoded data removed]",
      "text/plain": [
       "<Figure size 500x500 with 1 Axes>"
      ]
     },
     "metadata": {},
     "output_type": "display_data"
    }
   ],
   "source": [
    "sns.relplot(data=telco, x=telco['tenure'], y=telco['total_charges'])\n",
    "\n",
    "plt.title('Tenure = Total Charges?')\n",
    "plt.show()"
   ]
  },
  {
   "cell_type": "code",
   "execution_count": 367,
   "id": "742ea530",
   "metadata": {},
   "outputs": [
    {
     "data": {
      "text/plain": [
       "(0.8258804609332071, 0.0)"
      ]
     },
     "execution_count": 367,
     "metadata": {},
     "output_type": "execute_result"
    }
   ],
   "source": [
    "r,p = stats.pearsonr(telco['tenure'], telco['total_charges'])\n",
    "r,p"
   ]
  },
  {
   "cell_type": "code",
   "execution_count": 368,
   "id": "310799fb",
   "metadata": {},
   "outputs": [
    {
     "data": {
      "text/latex": [
       "Reject $H_{0}$"
      ],
      "text/plain": [
       "<IPython.core.display.Latex object>"
      ]
     },
     "metadata": {},
     "output_type": "display_data"
    }
   ],
   "source": [
    "if p < alpha:\n",
    "    #print(\"Reject Null\")\n",
    "    display(Latex('Reject $H_{0}$'))\n",
    "else:\n",
    "    #print(\"Fail Reject NULL\")\n",
    "    display(Latex('Fail to Reject $H_{0}$'))"
   ]
  },
  {
   "cell_type": "markdown",
   "id": "dfb174bb",
   "metadata": {},
   "source": [
    "> We reject the null hypothesis. There is a strong correlation between tenure and total charges. Significant heteroscedasticity is present on visual observation. Thus, a linear relationship, though technically present, may be limited in its ability to predict total charges at high tenure.\n",
    "\n",
    "> The relationship is reasonable, given that a customer will always pay the company more in total charges over time.\n",
    "\n"
   ]
  },
  {
   "cell_type": "code",
   "execution_count": null,
   "id": "4e34f284",
   "metadata": {},
   "outputs": [],
   "source": []
  },
  {
   "cell_type": "markdown",
   "id": "54bf07f9",
   "metadata": {},
   "source": [
    "# 2.C DONE"
   ]
  },
  {
   "cell_type": "markdown",
   "id": "eeaff7a9",
   "metadata": {},
   "source": [
    "# Phone & Internet Service"
   ]
  },
  {
   "cell_type": "markdown",
   "id": "5f82dbad",
   "metadata": {},
   "source": [
    "Try Later\n",
    ">\n",
    ">```python\n",
    ">df.phoneservice.value_counts()\n",
    ">df.internetservice.value_counts()\n",
    ">sns.relplot(data=df, x=df.tenure, y=df.monthlycharges, \n",
    ">            col=df.phoneservice, hue=df.internetservice)\n",
    ">\n",
    ">plt.show()\n",
    ">df.groupby(['internetservice','phoneservice']).count()\n",
    ">def corr_fun(df):\n",
    ">    return pd.Series(stats.pearsonr(df.tenure, df.totalcharges),\n",
    ">                    index=['r','p'])\n",
    ">df.groupby(['internetservice','phoneservice']).apply(corr_fun)\n",
    ">```"
   ]
  },
  {
   "cell_type": "code",
   "execution_count": 369,
   "id": "781660ec",
   "metadata": {},
   "outputs": [],
   "source": [
    "def contro_isp(df):\n",
    "    # returns the results of a pearson's r corr test run on the dataframe\n",
    "    return pd.Series(stats.pearsonr(df.tenure, df.monthly_charges), index = ['r', 'p'])"
   ]
  },
  {
   "cell_type": "code",
   "execution_count": 370,
   "id": "4e5d0dd9",
   "metadata": {},
   "outputs": [
    {
     "data": {
      "text/html": [
       "<div>\n",
       "<style scoped>\n",
       "    .dataframe tbody tr th:only-of-type {\n",
       "        vertical-align: middle;\n",
       "    }\n",
       "\n",
       "    .dataframe tbody tr th {\n",
       "        vertical-align: top;\n",
       "    }\n",
       "\n",
       "    .dataframe thead th {\n",
       "        text-align: right;\n",
       "    }\n",
       "</style>\n",
       "<table border=\"1\" class=\"dataframe\">\n",
       "  <thead>\n",
       "    <tr style=\"text-align: right;\">\n",
       "      <th></th>\n",
       "      <th></th>\n",
       "      <th>r</th>\n",
       "      <th>p</th>\n",
       "    </tr>\n",
       "    <tr>\n",
       "      <th>internet_service_type</th>\n",
       "      <th>phone_service</th>\n",
       "      <th></th>\n",
       "      <th></th>\n",
       "    </tr>\n",
       "  </thead>\n",
       "  <tbody>\n",
       "    <tr>\n",
       "      <th rowspan=\"2\" valign=\"top\">DSL</th>\n",
       "      <th>No</th>\n",
       "      <td>0.592430</td>\n",
       "      <td>1.173274e-65</td>\n",
       "    </tr>\n",
       "    <tr>\n",
       "      <th>Yes</th>\n",
       "      <td>0.658094</td>\n",
       "      <td>5.781402e-216</td>\n",
       "    </tr>\n",
       "    <tr>\n",
       "      <th>Fiber optic</th>\n",
       "      <th>Yes</th>\n",
       "      <td>0.624621</td>\n",
       "      <td>0.000000e+00</td>\n",
       "    </tr>\n",
       "    <tr>\n",
       "      <th>None</th>\n",
       "      <th>Yes</th>\n",
       "      <td>0.346188</td>\n",
       "      <td>4.896605e-44</td>\n",
       "    </tr>\n",
       "  </tbody>\n",
       "</table>\n",
       "</div>"
      ],
      "text/plain": [
       "                                            r              p\n",
       "internet_service_type phone_service                         \n",
       "DSL                   No             0.592430   1.173274e-65\n",
       "                      Yes            0.658094  5.781402e-216\n",
       "Fiber optic           Yes            0.624621   0.000000e+00\n",
       "None                  Yes            0.346188   4.896605e-44"
      ]
     },
     "execution_count": 370,
     "metadata": {},
     "output_type": "execute_result"
    }
   ],
   "source": [
    "telco.groupby(['internet_service_type', 'phone_service']).apply(contro_isp)"
   ]
  },
  {
   "cell_type": "code",
   "execution_count": 371,
   "id": "0ccfdc72",
   "metadata": {},
   "outputs": [
    {
     "data": {
      "text/html": [
       "<div>\n",
       "<style scoped>\n",
       "    .dataframe tbody tr th:only-of-type {\n",
       "        vertical-align: middle;\n",
       "    }\n",
       "\n",
       "    .dataframe tbody tr th {\n",
       "        vertical-align: top;\n",
       "    }\n",
       "\n",
       "    .dataframe thead th {\n",
       "        text-align: right;\n",
       "    }\n",
       "</style>\n",
       "<table border=\"1\" class=\"dataframe\">\n",
       "  <thead>\n",
       "    <tr style=\"text-align: right;\">\n",
       "      <th></th>\n",
       "      <th>r</th>\n",
       "      <th>p</th>\n",
       "    </tr>\n",
       "    <tr>\n",
       "      <th>phone_service</th>\n",
       "      <th></th>\n",
       "      <th></th>\n",
       "    </tr>\n",
       "  </thead>\n",
       "  <tbody>\n",
       "    <tr>\n",
       "      <th>No</th>\n",
       "      <td>0.592430</td>\n",
       "      <td>1.173274e-65</td>\n",
       "    </tr>\n",
       "    <tr>\n",
       "      <th>Yes</th>\n",
       "      <td>0.244194</td>\n",
       "      <td>6.828016e-87</td>\n",
       "    </tr>\n",
       "  </tbody>\n",
       "</table>\n",
       "</div>"
      ],
      "text/plain": [
       "                      r             p\n",
       "phone_service                        \n",
       "No             0.592430  1.173274e-65\n",
       "Yes            0.244194  6.828016e-87"
      ]
     },
     "execution_count": 371,
     "metadata": {},
     "output_type": "execute_result"
    }
   ],
   "source": [
    "telco.groupby(['phone_service']).apply(contro_isp)"
   ]
  },
  {
   "cell_type": "code",
   "execution_count": 372,
   "id": "d9461ec9",
   "metadata": {},
   "outputs": [],
   "source": [
    "#sns.relplot(data=telco, y='monthly_charges', x='tenure', col='internet_service_type', row='phone_service')\n",
    "#sns.relplot(data=telco, y='monthly_charges', x='tenure', hue='internet_service_type', style='phone_service')\n",
    "#sns.relplot(data=telco, y='monthly_charges', x='tenure', hue='phone_service')"
   ]
  },
  {
   "cell_type": "code",
   "execution_count": 373,
   "id": "27ceb465",
   "metadata": {},
   "outputs": [],
   "source": [
    "def corr_tenure_and_total(df):\n",
    "    return pd.Series(stats.pearsonr(telco['tenure'], telco['total_charges']), index=['r', 'p'])"
   ]
  },
  {
   "cell_type": "code",
   "execution_count": 374,
   "id": "3974927c",
   "metadata": {},
   "outputs": [],
   "source": [
    "#convert total charges"
   ]
  },
  {
   "cell_type": "code",
   "execution_count": 375,
   "id": "6a5ec1a8",
   "metadata": {},
   "outputs": [
    {
     "data": {
      "text/html": [
       "<div>\n",
       "<style scoped>\n",
       "    .dataframe tbody tr th:only-of-type {\n",
       "        vertical-align: middle;\n",
       "    }\n",
       "\n",
       "    .dataframe tbody tr th {\n",
       "        vertical-align: top;\n",
       "    }\n",
       "\n",
       "    .dataframe thead th {\n",
       "        text-align: right;\n",
       "    }\n",
       "</style>\n",
       "<table border=\"1\" class=\"dataframe\">\n",
       "  <thead>\n",
       "    <tr style=\"text-align: right;\">\n",
       "      <th></th>\n",
       "      <th></th>\n",
       "      <th>r</th>\n",
       "      <th>p</th>\n",
       "    </tr>\n",
       "    <tr>\n",
       "      <th>internet_service_type</th>\n",
       "      <th>phone_service</th>\n",
       "      <th></th>\n",
       "      <th></th>\n",
       "    </tr>\n",
       "  </thead>\n",
       "  <tbody>\n",
       "    <tr>\n",
       "      <th rowspan=\"2\" valign=\"top\">DSL</th>\n",
       "      <th>No</th>\n",
       "      <td>0.82588</td>\n",
       "      <td>0.0</td>\n",
       "    </tr>\n",
       "    <tr>\n",
       "      <th>Yes</th>\n",
       "      <td>0.82588</td>\n",
       "      <td>0.0</td>\n",
       "    </tr>\n",
       "    <tr>\n",
       "      <th>Fiber optic</th>\n",
       "      <th>Yes</th>\n",
       "      <td>0.82588</td>\n",
       "      <td>0.0</td>\n",
       "    </tr>\n",
       "    <tr>\n",
       "      <th>None</th>\n",
       "      <th>Yes</th>\n",
       "      <td>0.82588</td>\n",
       "      <td>0.0</td>\n",
       "    </tr>\n",
       "  </tbody>\n",
       "</table>\n",
       "</div>"
      ],
      "text/plain": [
       "                                           r    p\n",
       "internet_service_type phone_service              \n",
       "DSL                   No             0.82588  0.0\n",
       "                      Yes            0.82588  0.0\n",
       "Fiber optic           Yes            0.82588  0.0\n",
       "None                  Yes            0.82588  0.0"
      ]
     },
     "execution_count": 375,
     "metadata": {},
     "output_type": "execute_result"
    }
   ],
   "source": [
    "telco.groupby(['internet_service_type', 'phone_service']).apply(corr_tenure_and_total)"
   ]
  },
  {
   "cell_type": "markdown",
   "id": "2a35a3c9",
   "metadata": {},
   "source": [
    "Use the employees database.\n",
    "- Is there a relationship between how long an employee has been with the company and their salary?\n",
    "- Is there a relationship between how long an employee has been with the company and the number of titles they have had?"
   ]
  },
  {
   "cell_type": "markdown",
   "id": "e92a5280",
   "metadata": {},
   "source": [
    "# 3.A DONE"
   ]
  },
  {
   "cell_type": "markdown",
   "id": "66ad6603",
   "metadata": {},
   "source": [
    "# Tenure vs. Salary"
   ]
  },
  {
   "cell_type": "code",
   "execution_count": 377,
   "id": "5bba357f",
   "metadata": {},
   "outputs": [],
   "source": [
    "url = env.get_db_url('employees')\n",
    "\n",
    "query = '''\n",
    "SELECT\n",
    "    DATEDIFF((SELECT MAX(hire_date) FROM employees), e.hire_date) AS tenure,\n",
    "    s.salary AS salary\n",
    "FROM employees e\n",
    "JOIN salaries s USING (emp_no)\n",
    "WHERE s.to_date > NOW()\n",
    "'''"
   ]
  },
  {
   "cell_type": "code",
   "execution_count": 378,
   "id": "402d4c0d",
   "metadata": {},
   "outputs": [],
   "source": [
    "employees_with_salaries = pd.read_sql(query, url)"
   ]
  },
  {
   "cell_type": "code",
   "execution_count": 381,
   "id": "60fc0221",
   "metadata": {},
   "outputs": [
    {
     "data": {
      "text/html": [
       "<div>\n",
       "<style scoped>\n",
       "    .dataframe tbody tr th:only-of-type {\n",
       "        vertical-align: middle;\n",
       "    }\n",
       "\n",
       "    .dataframe tbody tr th {\n",
       "        vertical-align: top;\n",
       "    }\n",
       "\n",
       "    .dataframe thead th {\n",
       "        text-align: right;\n",
       "    }\n",
       "</style>\n",
       "<table border=\"1\" class=\"dataframe\">\n",
       "  <thead>\n",
       "    <tr style=\"text-align: right;\">\n",
       "      <th></th>\n",
       "      <th>tenure</th>\n",
       "      <th>salary</th>\n",
       "    </tr>\n",
       "  </thead>\n",
       "  <tbody>\n",
       "    <tr>\n",
       "      <th>0</th>\n",
       "      <td>4964</td>\n",
       "      <td>88958</td>\n",
       "    </tr>\n",
       "    <tr>\n",
       "      <th>1</th>\n",
       "      <td>5181</td>\n",
       "      <td>72527</td>\n",
       "    </tr>\n",
       "  </tbody>\n",
       "</table>\n",
       "</div>"
      ],
      "text/plain": [
       "   tenure  salary\n",
       "0    4964   88958\n",
       "1    5181   72527"
      ]
     },
     "execution_count": 381,
     "metadata": {},
     "output_type": "execute_result"
    }
   ],
   "source": [
    "employees_with_salaries.head(2)"
   ]
  },
  {
   "cell_type": "markdown",
   "id": "c0024083",
   "metadata": {},
   "source": [
    "${H_0}$: There is no linear relationship between employee tenure and their salary\n",
    "\n",
    "${H_a}$: There is a linear relationship between employee tenure and their salary"
   ]
  },
  {
   "cell_type": "code",
   "execution_count": 382,
   "id": "299acd49",
   "metadata": {},
   "outputs": [
    {
     "data": {
      "text/plain": [
       "PearsonRResult(statistic=0.3064625613186014, pvalue=0.0)"
      ]
     },
     "execution_count": 382,
     "metadata": {},
     "output_type": "execute_result"
    }
   ],
   "source": [
    "stats.pearsonr(employees_with_salaries.tenure, employees_with_salaries.salary)"
   ]
  },
  {
   "cell_type": "code",
   "execution_count": 383,
   "id": "2487fd21",
   "metadata": {},
   "outputs": [
    {
     "data": {
      "text/plain": [
       "<seaborn.axisgrid.FacetGrid at 0x29729fdf0>"
      ]
     },
     "execution_count": 383,
     "metadata": {},
     "output_type": "execute_result"
    },
    {
     "data": {
      "image/png": "[encoded data removed]",
      "text/plain": [
       "<Figure size 500x500 with 1 Axes>"
      ]
     },
     "metadata": {},
     "output_type": "display_data"
    }
   ],
   "source": [
    "sns.relplot(data=employees_with_salaries, y='salary', x='tenure')"
   ]
  },
  {
   "cell_type": "markdown",
   "id": "d65b9a11",
   "metadata": {},
   "source": [
    "# 3. B DONE"
   ]
  },
  {
   "cell_type": "markdown",
   "id": "19cb908d",
   "metadata": {},
   "source": [
    "# Tenure vs. Titles"
   ]
  },
  {
   "cell_type": "code",
   "execution_count": null,
   "id": "5369e252",
   "metadata": {},
   "outputs": [],
   "source": [
    "query = '''\n",
    "SELECT\n",
    "    e.emp_no,\n",
    "    DATEDIFF((SELECT MAX(hire_date) FROM employees), e.hire_date) AS tenure,\n",
    "    n_titles\n",
    "FROM employees e\n",
    "JOIN (\n",
    "    SELECT emp_no, COUNT(*) as n_titles\n",
    "    FROM employees e\n",
    "    JOIN titles t USING (emp_no)\n",
    "    GROUP BY emp_no\n",
    ") emp_title_count USING (emp_no)\n",
    "'''"
   ]
  },
  {
   "cell_type": "code",
   "execution_count": null,
   "id": "aab7acd5",
   "metadata": {},
   "outputs": [],
   "source": [
    "employees_with_titles = pd.read_sql(query, url)"
   ]
  },
  {
   "cell_type": "code",
   "execution_count": null,
   "id": "767a0405",
   "metadata": {},
   "outputs": [],
   "source": [
    "employees_with_titles.shape"
   ]
  },
  {
   "cell_type": "code",
   "execution_count": null,
   "id": "ca59463a",
   "metadata": {},
   "outputs": [],
   "source": [
    "employees_with_titles.head()"
   ]
  },
  {
   "cell_type": "markdown",
   "id": "131431da",
   "metadata": {},
   "source": [
    "$H_0$: There's no linear relationship between employee tenure and number of titles\n",
    "\n",
    "$H_a$: There's a linear relationship between employee tenure and number of titles"
   ]
  },
  {
   "cell_type": "code",
   "execution_count": null,
   "id": "a598cbaa",
   "metadata": {},
   "outputs": [],
   "source": [
    "stats.pearsonr(employees_with_titles.tenure, employees_with_titles.n_titles)"
   ]
  },
  {
   "cell_type": "markdown",
   "id": "7c89ebe0",
   "metadata": {},
   "source": [
    "We reject the $H_{0}$ Null Hypothesis\n",
    "\n"
   ]
  },
  {
   "cell_type": "markdown",
   "id": "63d5bc8e",
   "metadata": {},
   "source": [
    "# 4.A DONE"
   ]
  },
  {
   "cell_type": "markdown",
   "id": "8ea7c636",
   "metadata": {},
   "source": [
    "Use the sleepstudy data.\n",
    "- Is there a relationship between days and reaction time?"
   ]
  },
  {
   "cell_type": "code",
   "execution_count": null,
   "id": "10d9760c",
   "metadata": {},
   "outputs": [],
   "source": [
    "data('sleepstudy', show_doc=True)"
   ]
  },
  {
   "cell_type": "code",
   "execution_count": null,
   "id": "9b2e90e2",
   "metadata": {},
   "outputs": [],
   "source": [
    "sleep = data('sleepstudy')\n",
    "sleep.head()"
   ]
  },
  {
   "cell_type": "code",
   "execution_count": null,
   "id": "6ea726fe",
   "metadata": {},
   "outputs": [],
   "source": [
    "stats.pearsonr(sleep['Reaction'], sleep['Days'])"
   ]
  },
  {
   "cell_type": "code",
   "execution_count": null,
   "id": "cdcf88c5",
   "metadata": {},
   "outputs": [],
   "source": [
    "#sns.lmplot(data=sleep, y='Reaction', x='Days')"
   ]
  },
  {
   "cell_type": "code",
   "execution_count": null,
   "id": "d5f2e632",
   "metadata": {},
   "outputs": [],
   "source": [
    "if p < alpha:\n",
    "    print(\"Reject the null hypothesis\")\n",
    "else:\n",
    "    print(\"Fail to reject the null\")"
   ]
  }
 ],
 "metadata": {
  "kernelspec": {
   "display_name": "Python 3 (ipykernel)",
   "language": "python",
   "name": "python3"
  },
  "language_info": {
   "codemirror_mode": {
    "name": "ipython",
    "version": 3
   },
   "file_extension": ".py",
   "mimetype": "text/x-python",
   "name": "python",
   "nbconvert_exporter": "python",
   "pygments_lexer": "ipython3",
   "version": "3.9.13"
  }
 },
 "nbformat": 4,
 "nbformat_minor": 5
}
