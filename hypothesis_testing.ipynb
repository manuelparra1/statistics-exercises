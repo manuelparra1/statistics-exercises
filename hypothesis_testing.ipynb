{
 "cells": [
  {
   "cell_type": "code",
   "execution_count": 1,
   "id": "78faba24",
   "metadata": {},
   "outputs": [],
   "source": [
    "import numpy as np\n",
    "import seaborn as sns\n",
    "import scipy.stats as stats\n",
    "import pandas as pd\n",
    "import matplotlib.pyplot as plt\n",
    "\n",
    "np.random.seed(123)"
   ]
  },
  {
   "cell_type": "markdown",
   "id": "7719210e",
   "metadata": {},
   "source": [
    "|             | $H_{0}$ is True   | $H_{0}$ is False   |\n",
    "| ----------- | :---              |           ---:     |\n",
    "| Accept H(0) | True Negative     | False Positive     |\n",
    "| Reject H(0) | False Negative    | True Positive      |"
   ]
  },
  {
   "cell_type": "markdown",
   "id": "6af8b00e",
   "metadata": {},
   "source": [
    "Null:                     $H_{0}$\n",
    "\n",
    "Alternative Hypothesis:   $H_{A}$\n",
    "    \n",
    "True Positive:            $H_{0} = TRUE$\n",
    "\n",
    "True Negative:            $H_{0} = TRUE$\n",
    "\n",
    "Type I(False Positive):   $H(FP)$\n",
    "\n",
    "Type II(False Negative):  $H(FN)$"
   ]
  },
  {
   "cell_type": "markdown",
   "id": "34eb87ab",
   "metadata": {},
   "source": [
    "<div class=\"alert alert-block alert-info\">\n",
    "\n",
    "# **Hypothesis**\n",
    "\n",
    "### Cases\n",
    "- No Change\n",
    "- Increased\n",
    "- Decreased\n",
    "</div>"
   ]
  },
  {
   "cell_type": "markdown",
   "id": "7ddfe196",
   "metadata": {},
   "source": [
    "# For each of the following questions,\n",
    "- formulate a null and \n",
    "- alternative hypothesis (be as specific as you can be),\n",
    "- then give an example of what a true positive, \n",
    "- true negative, \n",
    "- type I and \n",
    "- type II errors would look like.\n",
    "\n",
    "Note that some of the questions are intentionally phrased in a vague way.\n",
    "It is your job to reword these as more precise questions that could be tested."
   ]
  },
  {
   "cell_type": "markdown",
   "id": "9679159d",
   "metadata": {},
   "source": [
    "Has the network latency gone up since we switched internet service providers?"
   ]
  },
  {
   "cell_type": "code",
   "execution_count": 1,
   "id": "2b198380",
   "metadata": {},
   "outputs": [],
   "source": [
    "# Null = Latency has remained the same or worse\n",
    "# Alt  = Latency has increased.\n",
    "\n",
    "# True Positive = Rejected Null & Null = False\n",
    "# True Negative = \n",
    "# Type I\n",
    "# Type II"
   ]
  },
  {
   "cell_type": "markdown",
   "id": "50423b33",
   "metadata": {},
   "source": [
    "Is the website redesign any good?"
   ]
  },
  {
   "cell_type": "code",
   "execution_count": 4,
   "id": "437bf314",
   "metadata": {},
   "outputs": [],
   "source": [
    "# Null = Traffic is the same or lower\n",
    "# Null = Traffic increased\n",
    "\n",
    "# True Positive =\n",
    "# True Negative = \n",
    "# False Positive = H(0) Higher Click Rate but there was not\n",
    "# Flase Neg = H(0) No increase but actually there was\n",
    "# Type I\n",
    "# Type II"
   ]
  },
  {
   "cell_type": "markdown",
   "id": "a837b509",
   "metadata": {},
   "source": [
    "Is our television ad driving more sales?"
   ]
  },
  {
   "cell_type": "code",
   "execution_count": null,
   "id": "f201e6f5",
   "metadata": {},
   "outputs": [],
   "source": [
    "# H(0) = Sales stayed the same or lower\n",
    "# H(A) = Sales increased\n",
    "\n",
    "# True Positive =\n",
    "# True Negative = \n",
    "# Type I\n",
    "# Type II"
   ]
  },
  {
   "cell_type": "markdown",
   "id": "85fef1d5",
   "metadata": {},
   "source": [
    "---"
   ]
  },
  {
   "cell_type": "markdown",
   "id": "92a617c8",
   "metadata": {},
   "source": [
    "# Exercises II"
   ]
  },
  {
   "cell_type": "markdown",
   "id": "14404e4f",
   "metadata": {},
   "source": [
    "#### Answer with the type of test you would use (assume normal distribution):"
   ]
  },
  {
   "cell_type": "markdown",
   "id": "b7d07c12",
   "metadata": {},
   "source": [
    "- Is there a difference in grades of students on the second floor compared to grades of all students?"
   ]
  },
  {
   "cell_type": "code",
   "execution_count": null,
   "id": "0af730f9",
   "metadata": {},
   "outputs": [],
   "source": [
    "students_grades_first != stundents_grades_second"
   ]
  },
  {
   "cell_type": "markdown",
   "id": "eba4cac8",
   "metadata": {},
   "source": [
    "- Are adults who drink milk taller than adults who dont drink milk?"
   ]
  },
  {
   "cell_type": "code",
   "execution_count": null,
   "id": "51f9dd8f",
   "metadata": {},
   "outputs": [],
   "source": [
    "adult_milk_height > adult_no_milk_height"
   ]
  },
  {
   "cell_type": "markdown",
   "id": "1df61b86",
   "metadata": {},
   "source": [
    "- Is the the price of gas higher in texas or in new mexico?"
   ]
  },
  {
   "cell_type": "code",
   "execution_count": null,
   "id": "46828018",
   "metadata": {},
   "outputs": [],
   "source": [
    "gas_price < tx_gas  |  gas_price < nm_gas"
   ]
  },
  {
   "cell_type": "markdown",
   "id": "b8b2977e",
   "metadata": {},
   "source": [
    "- Are there differences in stress levels between students who take data science vs students who take web development vs students who take cloud academy?"
   ]
  },
  {
   "cell_type": "code",
   "execution_count": null,
   "id": "b3e5adee",
   "metadata": {},
   "outputs": [],
   "source": [
    "students_ds_stress != students_wd_stress != students_ca_stress"
   ]
  },
  {
   "cell_type": "markdown",
   "id": "c6460015",
   "metadata": {},
   "source": [
    "#### Ace Realty wants to determine whether the average time it takes to sell homes is different for its two offices. A sample of 40 sales from office #1 revealed a mean of 90 days and a standard deviation of 15 days. A sample of 50 sales from office #2 revealed a mean of 100 days and a standard deviation of 20 days. Use a .05 level of significance."
   ]
  },
  {
   "cell_type": "code",
   "execution_count": null,
   "id": "5a3cc067",
   "metadata": {},
   "outputs": [],
   "source": [
    "ace_realty_office_1_sells_mean != ace_realty_office_2_sells_mean"
   ]
  },
  {
   "cell_type": "code",
   "execution_count": null,
   "id": "84365425",
   "metadata": {},
   "outputs": [],
   "source": [
    "ace_realty_office_1_sells_mean = 90\n",
    "ace_realty_office_1_sells_std = 15\n",
    "ace_realty_office_1_sells_size = 40\n",
    "ace_realty_office_2_sells_mean = 100\n",
    "ace_realty_office_2_sells_std = 20\n",
    "ace_realty_office_2_sells_size = 50"
   ]
  },
  {
   "cell_type": "markdown",
   "id": "7dd8a750",
   "metadata": {},
   "source": [
    "#### Load the mpg dataset and use it to answer the following questions:"
   ]
  },
  {
   "cell_type": "code",
   "execution_count": 61,
   "id": "5a42fc5a",
   "metadata": {},
   "outputs": [
    {
     "data": {
      "text/html": [
       "<div>\n",
       "<style scoped>\n",
       "    .dataframe tbody tr th:only-of-type {\n",
       "        vertical-align: middle;\n",
       "    }\n",
       "\n",
       "    .dataframe tbody tr th {\n",
       "        vertical-align: top;\n",
       "    }\n",
       "\n",
       "    .dataframe thead th {\n",
       "        text-align: right;\n",
       "    }\n",
       "</style>\n",
       "<table border=\"1\" class=\"dataframe\">\n",
       "  <thead>\n",
       "    <tr style=\"text-align: right;\">\n",
       "      <th></th>\n",
       "      <th>manufacturer</th>\n",
       "      <th>model</th>\n",
       "      <th>displ</th>\n",
       "      <th>year</th>\n",
       "      <th>cyl</th>\n",
       "      <th>trans</th>\n",
       "      <th>drv</th>\n",
       "      <th>cty</th>\n",
       "      <th>hwy</th>\n",
       "      <th>fl</th>\n",
       "      <th>class</th>\n",
       "    </tr>\n",
       "  </thead>\n",
       "  <tbody>\n",
       "    <tr>\n",
       "      <th>1</th>\n",
       "      <td>audi</td>\n",
       "      <td>a4</td>\n",
       "      <td>1.8</td>\n",
       "      <td>1999</td>\n",
       "      <td>4</td>\n",
       "      <td>auto(l5)</td>\n",
       "      <td>f</td>\n",
       "      <td>18</td>\n",
       "      <td>29</td>\n",
       "      <td>p</td>\n",
       "      <td>compact</td>\n",
       "    </tr>\n",
       "  </tbody>\n",
       "</table>\n",
       "</div>"
      ],
      "text/plain": [
       "  manufacturer model  displ  year  cyl     trans drv  cty  hwy fl    class\n",
       "1         audi    a4    1.8  1999    4  auto(l5)   f   18   29  p  compact"
      ]
     },
     "execution_count": 61,
     "metadata": {},
     "output_type": "execute_result"
    }
   ],
   "source": [
    "from pydataset import data\n",
    "mpg = data('mpg')\n",
    "mpg.head(1)"
   ]
  },
  {
   "cell_type": "code",
   "execution_count": 86,
   "id": "60ed3823",
   "metadata": {},
   "outputs": [
    {
     "name": "stdout",
     "output_type": "stream",
     "text": [
      "<class 'pandas.core.frame.DataFrame'>\n",
      "Int64Index: 234 entries, 1 to 234\n",
      "Data columns (total 11 columns):\n",
      " #   Column        Non-Null Count  Dtype  \n",
      "---  ------        --------------  -----  \n",
      " 0   manufacturer  234 non-null    object \n",
      " 1   model         234 non-null    object \n",
      " 2   displ         234 non-null    float64\n",
      " 3   year          234 non-null    int64  \n",
      " 4   cyl           234 non-null    int64  \n",
      " 5   trans         234 non-null    object \n",
      " 6   drv           234 non-null    object \n",
      " 7   cty           234 non-null    int64  \n",
      " 8   hwy           234 non-null    int64  \n",
      " 9   fl            234 non-null    object \n",
      " 10  class         234 non-null    object \n",
      "dtypes: float64(1), int64(4), object(6)\n",
      "memory usage: 21.9+ KB\n"
     ]
    }
   ],
   "source": [
    "mpg.info()"
   ]
  },
  {
   "cell_type": "code",
   "execution_count": 30,
   "id": "22a7ca76",
   "metadata": {},
   "outputs": [
    {
     "data": {
      "text/plain": [
       "manufacturer    0\n",
       "model           0\n",
       "displ           0\n",
       "year            0\n",
       "cyl             0\n",
       "trans           0\n",
       "drv             0\n",
       "cty             0\n",
       "hwy             0\n",
       "fl              0\n",
       "class           0\n",
       "dtype: int64"
      ]
     },
     "execution_count": 30,
     "metadata": {},
     "output_type": "execute_result"
    }
   ],
   "source": [
    "mpg.isna().sum()"
   ]
  },
  {
   "cell_type": "markdown",
   "id": "1ef40410",
   "metadata": {},
   "source": [
    "- Is there a difference in fuel-efficiency in cars from 2008 vs 1999?"
   ]
  },
  {
   "cell_type": "code",
   "execution_count": 84,
   "id": "70c29baa",
   "metadata": {},
   "outputs": [
    {
     "data": {
      "text/html": [
       "<div>\n",
       "<style scoped>\n",
       "    .dataframe tbody tr th:only-of-type {\n",
       "        vertical-align: middle;\n",
       "    }\n",
       "\n",
       "    .dataframe tbody tr th {\n",
       "        vertical-align: top;\n",
       "    }\n",
       "\n",
       "    .dataframe thead th {\n",
       "        text-align: right;\n",
       "    }\n",
       "</style>\n",
       "<table border=\"1\" class=\"dataframe\">\n",
       "  <thead>\n",
       "    <tr style=\"text-align: right;\">\n",
       "      <th></th>\n",
       "      <th>manufacturer</th>\n",
       "      <th>model</th>\n",
       "      <th>displ</th>\n",
       "      <th>year</th>\n",
       "      <th>cyl</th>\n",
       "      <th>trans</th>\n",
       "      <th>drv</th>\n",
       "      <th>cty</th>\n",
       "      <th>hwy</th>\n",
       "      <th>fl</th>\n",
       "      <th>class</th>\n",
       "    </tr>\n",
       "  </thead>\n",
       "  <tbody>\n",
       "    <tr>\n",
       "      <th>1</th>\n",
       "      <td>audi</td>\n",
       "      <td>a4</td>\n",
       "      <td>1.8</td>\n",
       "      <td>1999</td>\n",
       "      <td>4</td>\n",
       "      <td>auto(l5)</td>\n",
       "      <td>f</td>\n",
       "      <td>18</td>\n",
       "      <td>29</td>\n",
       "      <td>p</td>\n",
       "      <td>compact</td>\n",
       "    </tr>\n",
       "  </tbody>\n",
       "</table>\n",
       "</div>"
      ],
      "text/plain": [
       "  manufacturer model  displ  year  cyl     trans drv  cty  hwy fl    class\n",
       "1         audi    a4    1.8  1999    4  auto(l5)   f   18   29  p  compact"
      ]
     },
     "execution_count": 84,
     "metadata": {},
     "output_type": "execute_result"
    }
   ],
   "source": [
    "mpg.head(1)"
   ]
  },
  {
   "cell_type": "code",
   "execution_count": 89,
   "id": "d87fc926",
   "metadata": {},
   "outputs": [
    {
     "name": "stdout",
     "output_type": "stream",
     "text": [
      "28.427350427350426\n",
      "28.73076923076923\n"
     ]
    }
   ],
   "source": [
    "car_efficiency_2008 = mpg[mpg['year'] == 2008]\n",
    "car_efficiency_1999 = mpg[mpg['year'] == 1999]\n",
    "\n",
    "car_efficiency_2008 = (car_efficiency_2008['cty']) + (car_efficiency_2008['hwy']/2)\n",
    "car_efficiency_2008_mean = car_efficiency_2008.mean()\n",
    "print(car_efficiency_2008_mean)\n",
    "\n",
    "car_efficiency_1999 = (car_efficiency_1999['cty']) + (car_efficiency_1999['hwy']/2)\n",
    "car_efficiency_1999_mean = car_efficiency_1999.mean()\n",
    "print(car_efficiency_1999_mean)"
   ]
  },
  {
   "cell_type": "markdown",
   "id": "5445658a",
   "metadata": {},
   "source": [
    "- Do manual cars get better gas mileage than automatic cars?"
   ]
  },
  {
   "cell_type": "code",
   "execution_count": 59,
   "id": "e7b1cf6f",
   "metadata": {
    "scrolled": true
   },
   "outputs": [
    {
     "data": {
      "text/plain": [
       "31.564935064935064"
      ]
     },
     "execution_count": 59,
     "metadata": {},
     "output_type": "execute_result"
    }
   ],
   "source": [
    "manual_car = mpg[mpg['trans'].str.contains('manual')]\n",
    "\n",
    "manual_car_combined_mileage = (manual_car['cty']) + (manual_car['hwy']/2)\n",
    "manual_car_combined_mileage_mean = manual_car_combined_mileage.mean()\n",
    "manual_car_combined_mileage_mean"
   ]
  },
  {
   "cell_type": "code",
   "execution_count": 60,
   "id": "9788ada5",
   "metadata": {},
   "outputs": [
    {
     "data": {
      "text/plain": [
       "27.11464968152866"
      ]
     },
     "execution_count": 60,
     "metadata": {},
     "output_type": "execute_result"
    }
   ],
   "source": [
    "automatic_car = mpg[mpg['trans'].str.contains('auto')]\n",
    "\n",
    "automatic_car_combined_mileage = (automatic_car['cty']) + (automatic_car['hwy']/2)\n",
    "automatic_car_combined_mileage_mean = automatic_car_combined_mileage.mean()\n",
    "automatic_car_combined_mileage_mean"
   ]
  },
  {
   "cell_type": "markdown",
   "id": "f4e72244",
   "metadata": {},
   "source": [
    "- Are compact cars more fuel-efficient than the average car?"
   ]
  },
  {
   "cell_type": "markdown",
   "id": "129da72c",
   "metadata": {},
   "source": [
    "α = .05"
   ]
  },
  {
   "cell_type": "code",
   "execution_count": 105,
   "id": "8c1b29ba",
   "metadata": {},
   "outputs": [],
   "source": [
    "alpha = 0.05"
   ]
  },
  {
   "cell_type": "code",
   "execution_count": 94,
   "id": "063c3ea6",
   "metadata": {},
   "outputs": [],
   "source": [
    "compact_test = mpg[mpg['class'] == 'compact']"
   ]
  },
  {
   "cell_type": "code",
   "execution_count": 95,
   "id": "4d78a8db",
   "metadata": {},
   "outputs": [],
   "source": [
    "test = (compact_test['cty']) + (compact_test['hwy']/2)"
   ]
  },
  {
   "cell_type": "code",
   "execution_count": null,
   "id": "cc1e82c8",
   "metadata": {},
   "outputs": [],
   "source": [
    "# Assumptions Tests"
   ]
  },
  {
   "cell_type": "code",
   "execution_count": 99,
   "id": "a3637121",
   "metadata": {},
   "outputs": [
    {
     "name": "stdout",
     "output_type": "stream",
     "text": [
      "47\n"
     ]
    }
   ],
   "source": [
    "print(len(test))"
   ]
  },
  {
   "cell_type": "code",
   "execution_count": 102,
   "id": "7bf61f6d",
   "metadata": {},
   "outputs": [
    {
     "name": "stdout",
     "output_type": "stream",
     "text": [
      "Passed Length Assumption Test\n"
     ]
    }
   ],
   "source": [
    "if len(test)<30:\n",
    "    print(\"Failed Length Assumption Test\")\n",
    "else:\n",
    "    print(\"Passed Length Assumption Test\")"
   ]
  },
  {
   "cell_type": "code",
   "execution_count": null,
   "id": "7a90c2cd",
   "metadata": {},
   "outputs": [],
   "source": [
    "# Right Tailed Distribution\n",
    "# Right Skewed"
   ]
  },
  {
   "cell_type": "code",
   "execution_count": 98,
   "id": "7132f7c2",
   "metadata": {},
   "outputs": [
    {
     "data": {
      "text/plain": [
       "<AxesSubplot:>"
      ]
     },
     "execution_count": 98,
     "metadata": {},
     "output_type": "execute_result"
    },
    {
     "data": {
      "image/png": "[encoded data removed]",
      "text/plain": [
       "<Figure size 640x480 with 1 Axes>"
      ]
     },
     "metadata": {},
     "output_type": "display_data"
    }
   ],
   "source": [
    "test.hist()"
   ]
  },
  {
   "cell_type": "markdown",
   "id": "e5faa16d",
   "metadata": {},
   "source": [
    "$H_{0}$ = compact cars have same fuel-efficient as average car\n",
    "\n",
    "$H_{A}$ = compact cars not more fuel-efficient than the average car"
   ]
  },
  {
   "cell_type": "code",
   "execution_count": 103,
   "id": "407e28c1",
   "metadata": {},
   "outputs": [],
   "source": [
    "t, p = stats.ttest_ind(manual_car_combined_mileage, automatic_car_combined_mileage, equal_var=False)"
   ]
  },
  {
   "cell_type": "code",
   "execution_count": 104,
   "id": "58380f7b",
   "metadata": {},
   "outputs": [
    {
     "name": "stdout",
     "output_type": "stream",
     "text": [
      "Is t < 0?  False\n",
      "is p/2 < alpha?  True\n"
     ]
    }
   ],
   "source": [
    "print(\"Is t < 0? \", t < 0)\n",
    "\n",
    "print(\"is p/2 < alpha? \", p / 2 < alpha)"
   ]
  },
  {
   "cell_type": "code",
   "execution_count": 91,
   "id": "38dba493",
   "metadata": {},
   "outputs": [
    {
     "data": {
      "text/plain": [
       "34.276595744680854"
      ]
     },
     "execution_count": 91,
     "metadata": {},
     "output_type": "execute_result"
    }
   ],
   "source": [
    "compacts_car = mpg[mpg['class'] == 'compact']\n",
    "compacts_car_combined_mileage=compacts_car['cty']+compacts_car['hwy']/2\n",
    "compacts_car_combined_mileage_mean=compacts_combined_mileage.mean()\n",
    "compacts_car_combined_mileage_mean"
   ]
  },
  {
   "cell_type": "code",
   "execution_count": 49,
   "id": "2554b4e8",
   "metadata": {},
   "outputs": [
    {
     "data": {
      "text/plain": [
       "27.147058823529413"
      ]
     },
     "execution_count": 49,
     "metadata": {},
     "output_type": "execute_result"
    }
   ],
   "source": [
    "normal_car = mpg[mpg['class'] != 'compact']\n",
    "normal_car_combined_mileage = (normal_car['cty']) + (normal_car['hwy']/2)\n",
    "normal_car_combined_mileage_mean = normal_car_combined_mileage.mean()\n",
    "normal_car_combined_mileage_mean"
   ]
  }
 ],
 "metadata": {
  "kernelspec": {
   "display_name": "Python 3 (ipykernel)",
   "language": "python",
   "name": "python3"
  },
  "language_info": {
   "codemirror_mode": {
    "name": "ipython",
    "version": 3
   },
   "file_extension": ".py",
   "mimetype": "text/x-python",
   "name": "python",
   "nbconvert_exporter": "python",
   "pygments_lexer": "ipython3",
   "version": "3.9.13"
  }
 },
 "nbformat": 4,
 "nbformat_minor": 5
}
